{
 "cells": [
  {
   "cell_type": "code",
   "execution_count": null,
   "metadata": {},
   "outputs": [],
   "source": [
    "%load_ext autoreload\n",
    "%autoreload 2"
   ]
  },
  {
   "cell_type": "code",
   "execution_count": null,
   "metadata": {},
   "outputs": [],
   "source": [
    "from nb_007a import *"
   ]
  },
  {
   "cell_type": "markdown",
   "metadata": {},
   "source": [
    "# Movie Lens"
   ]
  },
  {
   "cell_type": "markdown",
   "metadata": {},
   "source": [
    "Data available from http://files.grouplens.org/datasets/movielens/ml-latest-small.zip"
   ]
  },
  {
   "cell_type": "code",
   "execution_count": null,
   "metadata": {},
   "outputs": [],
   "source": [
    "PATH = Path('data/ml-latest-small/')"
   ]
  },
  {
   "cell_type": "markdown",
   "metadata": {},
   "source": [
    "Table user/movie -> rating"
   ]
  },
  {
   "cell_type": "code",
   "execution_count": null,
   "metadata": {},
   "outputs": [],
   "source": [
    "ratings = pd.read_csv(PATH/'ratings.csv')\n",
    "ratings.head()"
   ]
  },
  {
   "cell_type": "markdown",
   "metadata": {},
   "source": [
    "Table to get the titles of the movies."
   ]
  },
  {
   "cell_type": "code",
   "execution_count": null,
   "metadata": {},
   "outputs": [],
   "source": [
    "movies = pd.read_csv(PATH/'movies.csv')\n",
    "movies.head()"
   ]
  },
  {
   "cell_type": "code",
   "execution_count": null,
   "metadata": {},
   "outputs": [],
   "source": [
    "ratings.columns"
   ]
  },
  {
   "cell_type": "code",
   "execution_count": null,
   "metadata": {},
   "outputs": [],
   "source": [
    "type(movies)"
   ]
  },
  {
   "cell_type": "code",
   "execution_count": null,
   "metadata": {},
   "outputs": [],
   "source": [
    "#export\n",
    "def categorify(col):\n",
    "    \"Transform a colum of a dataframe in categories.\"\n",
    "    uniq = col.unique()\n",
    "    name2idx = {o:i for i,o in enumerate(uniq)}\n",
    "    return uniq, name2idx, np.array([name2idx[n] for n in col], dtype=np.int64)"
   ]
  },
  {
   "cell_type": "code",
   "execution_count": null,
   "metadata": {},
   "outputs": [],
   "source": [
    "#export\n",
    "@dataclass\n",
    "class ColabFilteringDataset():\n",
    "    user:Collection\n",
    "    user_dict:dict\n",
    "    user_ids:Collection\n",
    "    item:Collection\n",
    "    item_dict:dict\n",
    "    item_ids:Collection    \n",
    "    ratings:pd.DataFrame\n",
    "    \n",
    "    def __len__(self): return len(self.ratings)\n",
    "    def __getitem__(self, idx): return (self.user_ids[idx], self.item_ids[idx]), self.ratings[idx]\n",
    "    \n",
    "    @classmethod\n",
    "    def from_df(cls, rating_df, pct_val=0.2, user_name=None, item_name=None, rating_name=None):\n",
    "        if user_name is None:   user_name = rating_df.columns[0]\n",
    "        if item_name is None:   item_name = rating_df.columns[1]\n",
    "        if rating_name is None: rating_name = rating_df.columns[2]\n",
    "        user,user_dict,user_ids = categorify(rating_df[user_name])\n",
    "        item,item_dict,item_ids = categorify(rating_df[item_name])\n",
    "        ratings = np.array(rating_df[rating_name], dtype=np.float32)\n",
    "        idx = np.random.permutation(len(ratings))\n",
    "        cut = int(pct_val * len(ratings))\n",
    "        return (cls(user, user_dict, user_ids[idx[cut:]], item, item_dict, item_ids[idx[cut:]], ratings[idx[cut:]]),\n",
    "                cls(user, user_dict, user_ids[idx[:cut]], item, item_dict, item_ids[idx[:cut]], ratings[idx[:cut]]))\n",
    "    \n",
    "    @classmethod\n",
    "    def from_csv(cls, csv_name, pct_val=0.2, user_name=None, item_name=None, rating_name=None):\n",
    "        df = pd.read_csv(csv_name)\n",
    "        return cls.from_df(df, user_name, pct_val, item_name, rating_name)"
   ]
  },
  {
   "cell_type": "code",
   "execution_count": null,
   "metadata": {},
   "outputs": [],
   "source": [
    "train_ds, valid_ds = ColabFilteringDataset.from_df(ratings)"
   ]
  },
  {
   "cell_type": "code",
   "execution_count": null,
   "metadata": {},
   "outputs": [],
   "source": [
    "len(ratings), len(train_ds), len(valid_ds)"
   ]
  },
  {
   "cell_type": "code",
   "execution_count": null,
   "metadata": {},
   "outputs": [],
   "source": [
    "bs = 64\n",
    "data = DataBunch.create(train_ds, valid_ds, bs=bs, num_workers=0)"
   ]
  },
  {
   "cell_type": "code",
   "execution_count": null,
   "metadata": {},
   "outputs": [],
   "source": [
    "#export\n",
    "def get_embedding(ni,nf):\n",
    "    emb = nn.Embedding(ni, nf)\n",
    "    emb.weight.data.uniform_(-0.05,0.05)\n",
    "    return emb"
   ]
  },
  {
   "cell_type": "code",
   "execution_count": null,
   "metadata": {},
   "outputs": [],
   "source": [
    "#export\n",
    "class EmbeddingDotBias(nn.Module):\n",
    "    def __init__(self, n_factors, n_users, n_items, min_score, max_score):\n",
    "        super().__init__()\n",
    "        self.min_score,self.max_score = min_score,max_score\n",
    "        (self.u_weight, self.i_weight, self.u_bias, self.i_bias) = [get_embedding(*o) for o in [\n",
    "            (n_users, n_factors), (n_items, n_factors), (n_users,1), (n_items,1)\n",
    "        ]]\n",
    "\n",
    "    def forward(self, users, items):\n",
    "        dot = self.u_weight(users)* self.i_weight(items)\n",
    "        res = dot.sum(1) + self.u_bias(users).squeeze() + self.i_bias(items).squeeze()\n",
    "        return torch.sigmoid(res) * (self.max_score-self.min_score) + self.min_score"
   ]
  },
  {
   "cell_type": "code",
   "execution_count": null,
   "metadata": {},
   "outputs": [],
   "source": [
    "n_factors = 50\n",
    "model = EmbeddingDotBias(n_factors, len(train_ds.user), len(train_ds.item), 0, 5) "
   ]
  },
  {
   "cell_type": "code",
   "execution_count": null,
   "metadata": {},
   "outputs": [],
   "source": [
    "learn = Learner(data, model)\n",
    "learn.loss_fn = F.mse_loss"
   ]
  },
  {
   "cell_type": "code",
   "execution_count": null,
   "metadata": {},
   "outputs": [],
   "source": [
    "learn.lr_find()"
   ]
  },
  {
   "cell_type": "code",
   "execution_count": null,
   "metadata": {},
   "outputs": [],
   "source": [
    "learn.recorder.plot()"
   ]
  },
  {
   "cell_type": "code",
   "execution_count": null,
   "metadata": {},
   "outputs": [],
   "source": [
    "learn.fit_one_cycle(5, 1e-2, wd=0.1)"
   ]
  },
  {
   "cell_type": "code",
   "execution_count": null,
   "metadata": {},
   "outputs": [],
   "source": [
    "math.sqrt(0.77)"
   ]
  },
  {
   "cell_type": "code",
   "execution_count": null,
   "metadata": {},
   "outputs": [],
   "source": []
  }
 ],
 "metadata": {
  "kernelspec": {
   "display_name": "Python 3",
   "language": "python",
   "name": "python3"
  }
 },
 "nbformat": 4,
 "nbformat_minor": 2
}
