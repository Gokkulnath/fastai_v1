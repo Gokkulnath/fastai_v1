{
 "cells": [
  {
   "cell_type": "markdown",
   "metadata": {},
   "source": [
    "# Rectangular data loader"
   ]
  },
  {
   "cell_type": "code",
   "execution_count": null,
   "metadata": {},
   "outputs": [],
   "source": [
    "%load_ext autoreload\n",
    "%autoreload 2"
   ]
  },
  {
   "cell_type": "code",
   "execution_count": null,
   "metadata": {},
   "outputs": [],
   "source": [
    "#export\n",
    "from nb_003a import *"
   ]
  },
  {
   "cell_type": "code",
   "execution_count": null,
   "metadata": {},
   "outputs": [],
   "source": [
    "DATA_PATH = Path('data')\n",
    "PATH = DATA_PATH/'caltech101'\n",
    "\n",
    "np.random.seed(42)\n",
    "train_ds,valid_ds = FilesDataset.from_folder(PATH, test_pct=0.2)\n",
    "\n",
    "x = train_ds[-1][0]\n",
    "classes = train_ds.classes\n",
    "c = len(classes)\n",
    "\n",
    "len(train_ds),len(valid_ds),c"
   ]
  },
  {
   "cell_type": "markdown",
   "metadata": {},
   "source": [
    "## Closest ntile"
   ]
  },
  {
   "cell_type": "code",
   "execution_count": null,
   "metadata": {},
   "outputs": [],
   "source": [
    "show_image(train_ds[1][0], figsize=(6,3))\n",
    "x.shape"
   ]
  },
  {
   "cell_type": "code",
   "execution_count": null,
   "metadata": {},
   "outputs": [],
   "source": [
    "asp_ratios = [operator.truediv(*Image.open(fn).size) for fn in train_ds.fns]\n",
    "asp_ratios[:4]"
   ]
  },
  {
   "cell_type": "code",
   "execution_count": null,
   "metadata": {},
   "outputs": [],
   "source": [
    "asp_ntiles = np.percentile(asp_ratios, [2,20,50,80,98])\n",
    "asp_ntiles"
   ]
  },
  {
   "cell_type": "code",
   "execution_count": null,
   "metadata": {},
   "outputs": [],
   "source": [
    "def closest_ntile(aspect, ntiles):\n",
    "    return ntiles[np.argmin(abs(log(aspect)-log(ntiles)))]"
   ]
  },
  {
   "cell_type": "code",
   "execution_count": null,
   "metadata": {},
   "outputs": [],
   "source": [
    "aspect = x.shape[2]/x.shape[1]\n",
    "nearest_aspect = closest_ntile(aspect, asp_ntiles)\n",
    "aspect,nearest_aspect"
   ]
  },
  {
   "cell_type": "code",
   "execution_count": null,
   "metadata": {},
   "outputs": [],
   "source": [
    "get_crop_target(128, nearest_aspect)"
   ]
  },
  {
   "cell_type": "markdown",
   "metadata": {},
   "source": [
    "## SortAspectBatchSampler"
   ]
  },
  {
   "cell_type": "code",
   "execution_count": null,
   "metadata": {},
   "outputs": [],
   "source": [
    "asp_nearests = [closest_ntile(o, asp_ntiles) for o in asp_ratios]\n",
    "asp_nearests[:10]"
   ]
  },
  {
   "cell_type": "code",
   "execution_count": null,
   "metadata": {},
   "outputs": [],
   "source": [
    "bs=32"
   ]
  },
  {
   "cell_type": "code",
   "execution_count": null,
   "metadata": {},
   "outputs": [],
   "source": [
    "from itertools import groupby"
   ]
  },
  {
   "cell_type": "code",
   "execution_count": null,
   "metadata": {},
   "outputs": [],
   "source": [
    "sort_nearest = sorted(enumerate(asp_nearests), key=itemgetter(1))\n",
    "groups = [list(b) for a,b in groupby(sort_nearest, key=itemgetter(1))]\n",
    "len(groups)"
   ]
  },
  {
   "cell_type": "code",
   "execution_count": null,
   "metadata": {},
   "outputs": [],
   "source": [
    "groups[0][:4]"
   ]
  },
  {
   "cell_type": "code",
   "execution_count": null,
   "metadata": {},
   "outputs": [],
   "source": [
    "sum(math.ceil(len(g)/bs) for g in groups)"
   ]
  },
  {
   "cell_type": "code",
   "execution_count": null,
   "metadata": {},
   "outputs": [],
   "source": [
    "@dataclass\n",
    "class SortAspectBatchSampler(Sampler):\n",
    "    ds:Dataset; bs:int; shuffle:bool = False\n",
    "\n",
    "    def __post_init__(self):\n",
    "        asp_ratios = [operator.truediv(*Image.open(img).size) for img in self.ds.fns]\n",
    "        asp_ntiles = np.percentile(asp_ratios, [2,20,50,80,98])\n",
    "        asp_nearests = [closest_ntile(o, asp_ntiles) for o in asp_ratios]\n",
    "        sort_nearest = sorted(enumerate(asp_nearests), key=itemgetter(1))\n",
    "        self.groups = [list(b) for a,b in groupby(sort_nearest, key=itemgetter(1))]\n",
    "        self.n = sum(math.ceil(len(g)/bs) for g in self.groups)\n",
    "\n",
    "    def __len__(self): return self.n\n",
    "    \n",
    "    def __iter__(self):\n",
    "        if self.shuffle: self.groups = sample(self.groups, len(self.groups))\n",
    "        for group in self.groups:\n",
    "            group = [(a,{'aspect':b}) for a,b in group]\n",
    "            if self.shuffle: group = sample(group, len(group))\n",
    "            for i in range(0, len(group), self.bs): yield group[i:i+self.bs]"
   ]
  },
  {
   "cell_type": "code",
   "execution_count": null,
   "metadata": {},
   "outputs": [],
   "source": [
    "next(iter(SortAspectBatchSampler(train_ds, 4)))"
   ]
  },
  {
   "cell_type": "code",
   "execution_count": null,
   "metadata": {},
   "outputs": [],
   "source": [
    "it = iter(SortAspectBatchSampler(train_ds, 4, True))\n",
    "next(it),next(it)"
   ]
  },
  {
   "cell_type": "markdown",
   "metadata": {},
   "source": [
    "## Rectangular dataset"
   ]
  },
  {
   "cell_type": "code",
   "execution_count": null,
   "metadata": {},
   "outputs": [],
   "source": [
    "class TfmDataset(Dataset):\n",
    "    def __init__(self, ds: Dataset, tfms: Collection[Callable] = None, **kwargs):\n",
    "        self.ds,self.tfms,self.kwargs = ds,tfms,kwargs\n",
    "        \n",
    "    def __len__(self): return len(self.ds)\n",
    "    def __getattr__(self, k): return getattr(self.ds, k)\n",
    "#     def fns(self): return self.ds.fns\n",
    "    \n",
    "    def __getitem__(self,idx):\n",
    "        if isinstance(idx, tuple): idx,xtra = idx\n",
    "        else: xtra={}\n",
    "        x,y = self.ds[idx]\n",
    "        return apply_tfms(self.tfms)(x, **self.kwargs, **xtra), y"
   ]
  },
  {
   "cell_type": "code",
   "execution_count": null,
   "metadata": {},
   "outputs": [],
   "source": [
    "tfms = [\n",
    "    rotate_tfm(degrees=(-20,20.)),\n",
    "    zoom_tfm(scale=(1.,2.))\n",
    "]\n",
    "\n",
    "train_tds = TfmDataset(train_ds, tfms)"
   ]
  },
  {
   "cell_type": "code",
   "execution_count": null,
   "metadata": {},
   "outputs": [],
   "source": [
    "_,axes = plt.subplots(2,2, figsize=(8,6))\n",
    "for ax in axes.flat: show_image(train_tds[1][0], ax, hide_axis=False)"
   ]
  },
  {
   "cell_type": "code",
   "execution_count": null,
   "metadata": {},
   "outputs": [],
   "source": [
    "train_tfms = [\n",
    "    rotate_tfm(degrees=(-20,20.)),\n",
    "    zoom_tfm(scale=(1.,2.), row_pct=(0,1.), col_pct=(0,1.)),\n",
    "    crop_pad_tfm(row_pct=(0,1.), col_pct=(0,1.))\n",
    "]\n",
    "valid_tfms = [\n",
    "    zoom_tfm(),\n",
    "    crop_pad_tfm()\n",
    "]"
   ]
  },
  {
   "cell_type": "code",
   "execution_count": null,
   "metadata": {},
   "outputs": [],
   "source": [
    "train_tds = TfmDataset(train_ds, train_tfms)\n",
    "valid_tds = TfmDataset(valid_ds, valid_tfms)\n",
    "\n",
    "xtra = {'size':100}\n",
    "train_tds[(1,xtra)][0].shape"
   ]
  },
  {
   "cell_type": "code",
   "execution_count": null,
   "metadata": {},
   "outputs": [],
   "source": [
    "_,axes = plt.subplots(2,2, figsize=(8,6))\n",
    "for i,ax in enumerate(axes.flat):\n",
    "    im = train_tds[(i, xtra)][0]\n",
    "    print(im.shape)\n",
    "    show_image(im, ax, hide_axis=False)"
   ]
  },
  {
   "cell_type": "code",
   "execution_count": null,
   "metadata": {},
   "outputs": [],
   "source": [
    "class DataBunch():\n",
    "    def __init__(self, train_dl, valid_dl, device=None):\n",
    "        self.device = default_device if device is None else device\n",
    "        self.train_dl = DeviceDataLoader(train_dl, device=self.device)\n",
    "        self.valid_dl = DeviceDataLoader(valid_dl, device=self.device)\n",
    "\n",
    "    @classmethod\n",
    "    def create(cls, train_ds, valid_ds, bs=64, device=None, num_workers=4,\n",
    "               train_tfm=None, valid_tfm=None, sample_func=None):\n",
    "        if train_tfm is not None: train_tfm = TfmDataset(train_ds, train_tfm)\n",
    "        if valid_tfm is not None: valid_tfm = TfmDataset(valid_ds, valid_tfm)\n",
    "        if sample_func is None:\n",
    "            train_dl = DataLoader(train_ds, bs, shuffle=True, num_workers=num_workers)\n",
    "            valid_dl = DataLoader(valid_ds, bs*2, shuffle=False, num_workers=num_workers)\n",
    "        else:\n",
    "            train_samp = sample_func(train_ds, bs, True)\n",
    "            valid_samp = sample_func(valid_ds, bs*2, False)\n",
    "            train_dl = DataLoader(train_ds, num_workers=num_workers, batch_sampler=train_samp)\n",
    "            valid_dl = DataLoader(valid_ds, num_workers=num_workers, batch_sampler=valid_samp)\n",
    "        return cls(train_dl, valid_dl, device)\n",
    "        \n",
    "    @property\n",
    "    def train_ds(self): return self.train_dl.dl.dataset\n",
    "    @property\n",
    "    def valid_ds(self): return self.valid_dl.dl.dataset"
   ]
  },
  {
   "cell_type": "code",
   "execution_count": null,
   "metadata": {},
   "outputs": [],
   "source": [
    "train_tds = TfmDataset(train_ds, train_tfms, size=100, padding_mode='zeros')\n",
    "valid_tds = TfmDataset(valid_ds, valid_tfms, size=100, padding_mode='zeros')"
   ]
  },
  {
   "cell_type": "code",
   "execution_count": null,
   "metadata": {},
   "outputs": [],
   "source": [
    "len(train_tds), len(valid_tds)"
   ]
  },
  {
   "cell_type": "code",
   "execution_count": null,
   "metadata": {},
   "outputs": [],
   "source": [
    "_,axes = plt.subplots(2,2, figsize=(8,6))\n",
    "for i,ax in enumerate(axes.flat):\n",
    "    im = train_tds[(i)][0]\n",
    "    print(im.shape)\n",
    "    show_image(im, ax, hide_axis=False)"
   ]
  },
  {
   "cell_type": "code",
   "execution_count": null,
   "metadata": {},
   "outputs": [],
   "source": [
    "data = DataBunch.create(train_tds, valid_tds, bs, num_workers=0)"
   ]
  },
  {
   "cell_type": "code",
   "execution_count": null,
   "metadata": {},
   "outputs": [],
   "source": [
    "x,y = next(iter(data.train_dl))\n",
    "\n",
    "_,axes = plt.subplots(2,4, figsize=(9,3))\n",
    "for i,ax in enumerate(axes.flat): show_image(x[i], ax)"
   ]
  },
  {
   "cell_type": "code",
   "execution_count": null,
   "metadata": {},
   "outputs": [],
   "source": [
    "data = DataBunch.create(train_tds, valid_tds, bs, sample_func=SortAspectBatchSampler, num_workers=0)"
   ]
  },
  {
   "cell_type": "code",
   "execution_count": null,
   "metadata": {},
   "outputs": [],
   "source": [
    "print(x[0].shape)\n",
    "_,axes = plt.subplots(2,4, figsize=(12,4))\n",
    "for i,ax in enumerate(axes.flat): show_image(x[i], ax, hide_axis=False)"
   ]
  },
  {
   "cell_type": "markdown",
   "metadata": {},
   "source": [
    "## fin"
   ]
  },
  {
   "cell_type": "code",
   "execution_count": null,
   "metadata": {},
   "outputs": [],
   "source": []
  }
 ],
 "metadata": {
  "kernelspec": {
   "display_name": "Python 3",
   "language": "python",
   "name": "python3"
  }
 },
 "nbformat": 4,
 "nbformat_minor": 2
}
