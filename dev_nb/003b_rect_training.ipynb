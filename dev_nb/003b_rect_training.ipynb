{
 "cells": [
  {
   "cell_type": "markdown",
   "metadata": {},
   "source": [
    "# Rectangular data loader"
   ]
  },
  {
   "cell_type": "markdown",
   "metadata": {},
   "source": [
    "## Closest ntile"
   ]
  },
  {
   "cell_type": "code",
   "execution_count": null,
   "metadata": {},
   "outputs": [],
   "source": [
    "show_image(train_ds[3][0], figsize=(6,3))\n",
    "x.shape"
   ]
  },
  {
   "cell_type": "code",
   "execution_count": null,
   "metadata": {},
   "outputs": [],
   "source": [
    "asp_ratios = [operator.truediv(*Image.open(fn).size) for fn in train_ds.fns]\n",
    "asp_ratios[:4]"
   ]
  },
  {
   "cell_type": "code",
   "execution_count": null,
   "metadata": {},
   "outputs": [],
   "source": [
    "asp_ntiles = np.percentile(asp_ratios, [2,20,50,80,98])\n",
    "asp_ntiles"
   ]
  },
  {
   "cell_type": "code",
   "execution_count": null,
   "metadata": {},
   "outputs": [],
   "source": [
    "def closest_ntile(aspect, ntiles):\n",
    "    return ntiles[np.argmin(abs(log(aspect)-log(ntiles)))]"
   ]
  },
  {
   "cell_type": "code",
   "execution_count": null,
   "metadata": {},
   "outputs": [],
   "source": [
    "aspect = x.shape[2]/x.shape[1]\n",
    "nearest_aspect = closest_ntile(aspect, asp_ntiles)\n",
    "aspect,nearest_aspect"
   ]
  },
  {
   "cell_type": "code",
   "execution_count": null,
   "metadata": {},
   "outputs": [],
   "source": [
    "target_px = 128*128; target_px"
   ]
  },
  {
   "cell_type": "code",
   "execution_count": null,
   "metadata": {},
   "outputs": [],
   "source": [
    "target_r = int(math.sqrt(target_px/nearest_aspect))\n",
    "target_c = int(target_r*nearest_aspect)\n",
    "target_r,target_c,target_r*target_c"
   ]
  },
  {
   "cell_type": "markdown",
   "metadata": {},
   "source": [
    "## SortAspectBatchSampler"
   ]
  },
  {
   "cell_type": "code",
   "execution_count": null,
   "metadata": {},
   "outputs": [],
   "source": [
    "asp_nearests = [closest_ntile(o, asp_ntiles) for o in asp_ratios]\n",
    "asp_nearests[:10]"
   ]
  },
  {
   "cell_type": "code",
   "execution_count": null,
   "metadata": {},
   "outputs": [],
   "source": [
    "bs=32"
   ]
  },
  {
   "cell_type": "code",
   "execution_count": null,
   "metadata": {},
   "outputs": [],
   "source": [
    "from itertools import groupby"
   ]
  },
  {
   "cell_type": "code",
   "execution_count": null,
   "metadata": {},
   "outputs": [],
   "source": [
    "sort_nearest = sorted(enumerate(asp_nearests), key=itemgetter(1))\n",
    "groups = [list(b) for a,b in groupby(sort_nearest, key=itemgetter(1))]\n",
    "len(groups)"
   ]
  },
  {
   "cell_type": "code",
   "execution_count": null,
   "metadata": {},
   "outputs": [],
   "source": [
    "groups[0][:5]"
   ]
  },
  {
   "cell_type": "code",
   "execution_count": null,
   "metadata": {},
   "outputs": [],
   "source": [
    "sum(math.ceil(len(g)/bs) for g in groups)"
   ]
  },
  {
   "cell_type": "code",
   "execution_count": null,
   "metadata": {},
   "outputs": [],
   "source": [
    "@dataclass\n",
    "class SortAspectBatchSampler(Sampler):\n",
    "    ds:Dataset; bs:int; shuffle:bool = False\n",
    "\n",
    "    def __post_init__(self):\n",
    "        asp_ratios = [operator.truediv(*Image.open(img).size) for img in self.ds.fns]\n",
    "        asp_ntiles = np.percentile(asp_ratios, [2,20,50,80,98])\n",
    "        asp_nearests = [closest_ntile(o, asp_ntiles) for o in asp_ratios]\n",
    "        sort_nearest = sorted(enumerate(asp_nearests), key=itemgetter(1))\n",
    "        self.groups = [list(b) for a,b in groupby(sort_nearest, key=itemgetter(1))]\n",
    "        self.n = sum(math.ceil(len(g)/bs) for g in self.groups)\n",
    "\n",
    "    def __len__(self): return self.n\n",
    "    \n",
    "    def __iter__(self):\n",
    "        if self.shuffle: self.groups = sample(self.groups, len(self.groups))\n",
    "        for group in self.groups:\n",
    "            group = [(a,{'aspect':b}) for a,b in group]\n",
    "            if self.shuffle: group = sample(group, len(group))\n",
    "            for i in range(0, len(group), self.bs): yield group[i:i+self.bs]"
   ]
  },
  {
   "cell_type": "code",
   "execution_count": null,
   "metadata": {},
   "outputs": [],
   "source": [
    "next(iter(SortAspectBatchSampler(train_ds, 4)))"
   ]
  },
  {
   "cell_type": "code",
   "execution_count": null,
   "metadata": {},
   "outputs": [],
   "source": [
    "next(iter(SortAspectBatchSampler(train_ds, 4, True)))"
   ]
  },
  {
   "cell_type": "markdown",
   "metadata": {},
   "source": [
    "## Rectangular dataset"
   ]
  },
  {
   "cell_type": "code",
   "execution_count": null,
   "metadata": {},
   "outputs": [],
   "source": [
    "@dataclass\n",
    "class TfmDataset(Dataset):\n",
    "    ds: Dataset\n",
    "    tfms: Collection[Callable]\n",
    "        \n",
    "    def __len__(self): return len(self.ds)\n",
    "    \n",
    "    def __getitem__(self,idx):\n",
    "        if isinstance(idx, tuple): idx,kwargs = idx\n",
    "        else: kwargs={}\n",
    "        x,y = self.ds[idx]\n",
    "        return apply_tfms(tfms)(x, **kwargs),y"
   ]
  },
  {
   "cell_type": "code",
   "execution_count": null,
   "metadata": {},
   "outputs": [],
   "source": [
    "tfms = [\n",
    "    rotate_tfm(degrees=(-20,20.), p=0.75),\n",
    "    zoom_tfm(scale=(1.,1.5), p=1.)\n",
    "]"
   ]
  },
  {
   "cell_type": "code",
   "execution_count": null,
   "metadata": {},
   "outputs": [],
   "source": [
    "train_tds = TfmDataset(train_ds, tfms)"
   ]
  },
  {
   "cell_type": "code",
   "execution_count": null,
   "metadata": {},
   "outputs": [],
   "source": [
    "_,axes = plt.subplots(2,2, figsize=(12,6))\n",
    "for ax in axes.flat: show_image(train_tds[3][0], ax)"
   ]
  },
  {
   "cell_type": "code",
   "execution_count": null,
   "metadata": {},
   "outputs": [],
   "source": []
  }
 ],
 "metadata": {
  "kernelspec": {
   "display_name": "Python 3",
   "language": "python",
   "name": "python3"
  }
 },
 "nbformat": 4,
 "nbformat_minor": 2
}
