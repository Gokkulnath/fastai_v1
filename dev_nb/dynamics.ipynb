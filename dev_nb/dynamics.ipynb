{
 "cells": [
  {
   "cell_type": "code",
   "execution_count": 274,
   "metadata": {},
   "outputs": [],
   "source": [
    "from functools import wraps, partial\n",
    "from dataclasses import dataclass, field\n",
    "import inspect\n",
    "import random\n",
    "from copy import copy, deepcopy\n",
    "from typing import Sequence, TypeVar, cast, Iterable, Dict\n",
    "import torch\n",
    "from numpy import cos, sin, tan, tanh, log, exp\n",
    "from pdb import set_trace\n",
    "\n",
    "def uniform(low, high, size=None):\n",
    "    return random.uniform(low,high) if size is None else torch.FloatTensor(size).uniform_(low,high)\n",
    "\n",
    "def log_uniform(low, high, size=None):\n",
    "    res = uniform(log(low), log(high), size)\n",
    "    return exp(res) if size is None else res.exp_()\n",
    "\n",
    "def rand_bool(p, size=None): return uniform(0,1,size)<p\n",
    "\n",
    "\n",
    "def get_default_args(func):\n",
    "    return {k: v.default\n",
    "            for k, v in inspect.signature(func).parameters.items()\n",
    "            if v.default is not inspect.Parameter.empty}\n",
    "\n",
    "def get_arg_names(func):\n",
    "    return list(inspect.signature(func).parameters)\n",
    "\n",
    "def get_dynamic_var_args(func):\n",
    "    return {k: v.default\n",
    "            for k, v in inspect.signature(func).parameters.items()}\n",
    "\n",
    "def listify(p=None, q=None):\n",
    "    if p is None: p=[]\n",
    "    elif not isinstance(p, Iterable): p=[p]\n",
    "    n = q if type(q)==int else 1 if q is None else len(q)\n",
    "    if len(p)==1: p = p * n\n",
    "    return p\n",
    "\n",
    "def bind_args(func, v):\n",
    "    arg_names = get_arg_names(func)\n",
    "    bound_args = { arg_names[i]: vi for i, vi in enumerate(v)}\n",
    "    return bound_args\n",
    "        \n",
    "\n",
    "def resolve_fun_annotations(func, kwargs):\n",
    "    params = copy(func.__annotations__)\n",
    "    resolved = {}\n",
    "    for k, v in kwargs.items():\n",
    "        if k in params and not isinstance(v, DynamicVar):\n",
    "            rand_func = params[k]\n",
    "            if isinstance(v, Dict): resolved[k] = rand_func(**v)\n",
    "            elif isinstance(v, Iterable):\n",
    "                arg_names = get_arg_names(rand_func)\n",
    "                bound_args = bind_args(rand_func, v)\n",
    "                resolved[k] = rand_func(**bound_args)\n",
    "            else: resolved[k] = v\n",
    "        else: resolved[k] = v\n",
    "    return resolved\n",
    "\n",
    "\n",
    "def dynamic_resolve(a):\n",
    "    if isinstance(a, DynamicVar): return a()\n",
    "    elif isinstance(a, Iterable): return [dynamic_resolve(ai) for ai in a]\n",
    "    elif isinstance(a, Dict): return {k:dynamic_resolve(vi) for k,vi in a.items()}\n",
    "    else: return a\n",
    "\n",
    "def dynamic_release(a):\n",
    "    if isinstance(a, DynamicVar): return a.release()\n",
    "    elif isinstance(a, list):\n",
    "        for ai in a:\n",
    "            dynamic_release(ai)\n",
    "    elif isinstance(a, dict):\n",
    "        for vi in a.values():\n",
    "            dynamic_release(vi)\n",
    "    \n",
    "def clone_var(v):\n",
    "    if isinstance(v, DynamicVar): return v.clone()\n",
    "    else: return copy(v)\n",
    "    \n",
    "    \n",
    "class DynamicVar(object):\n",
    "    def __init__(self, calc_func, args=None, kwargs=None):\n",
    "        print('init')\n",
    "        self.value_ = None\n",
    "        self.func = calc_func       \n",
    "        self.def_args = get_default_args(self.func)   \n",
    "        self.bound_args = bind_args(self.func, args) if args else {}\n",
    "        self.kwargs = resolve_fun_annotations(self.func, kwargs) if kwargs else {}\n",
    "            \n",
    "    def clone(self, **kwargs):\n",
    "        copy_kwargs = {k:clone_var(v) for k,v in self.kwargs.items()}\n",
    "        copy_bound = {k:clone_var(v) for k,v in self.bound_args.items()}\n",
    "        kwargs = {**copy_kwargs, **copy_bound, **kwargs}\n",
    "        return DynamicVar(self.func, args=None, kwargs=kwargs)\n",
    "    \n",
    "    def override(self, **kwargs):\n",
    "        #kwargs = resolve_fun_annotations(self.func, kwargs)\n",
    "        kwargs = {**self.kwargs, **self.bound_args, **kwargs}\n",
    "        return DynamicVar(self.func, args=None, kwargs=kwargs)\n",
    "    \n",
    "    def resolve(self, *args, **kwargs):\n",
    "        args = [dynamic_resolve(a) for a in args]\n",
    "        kwargs = resolve_fun_annotations(self.func, kwargs) \n",
    "        kwargs = {**self.def_args, **self.kwargs, **self.bound_args, **kwargs}\n",
    "        kwargs = {k:dynamic_resolve(v) for k,v in kwargs.items()}\n",
    "        self.value_ = self.func(*args, **kwargs)\n",
    "\n",
    "    def release(self):\n",
    "        dynamic_release(self.kwargs)\n",
    "        dynamic_release(self.func)\n",
    "        self.value_ = None\n",
    "    \n",
    "    def __repr__(self):\n",
    "        return f'{self.func.__name__}:{self.kwargs}:{self.value_}'\n",
    "    \n",
    "    def __call__(self, *args, **kwargs):\n",
    "        if self.value_ is None:\n",
    "            self.resolve(*args, **kwargs)\n",
    "        return self.value_\n",
    "\n",
    "\n",
    "def dynamic_var(func):\n",
    "    @wraps(func)\n",
    "    def wrapper(*args, **kwargs):\n",
    "        return DynamicVar(func, args=args, kwargs=kwargs) \n",
    "    return wrapper\n",
    "\n",
    "def dynamic_func(func):\n",
    "    @wraps(func)\n",
    "    def wrapper(*args, **kwargs):\n",
    "        f = DynamicVar(func, kwargs=kwargs)\n",
    "        if args: return f(*args)\n",
    "        else: return f\n",
    "    return wrapper\n",
    "\n",
    "@dynamic_var\n",
    "def Uniform(low, high, size=None):\n",
    "    if size is None: value = random.uniform(low,high)\n",
    "    else: value = torch.FloatTensor(size).uniform_(low, high)\n",
    "    return value\n",
    "\n",
    "@dynamic_var\n",
    "def LogUniform(low, high, size=None):\n",
    "    res = uniform(log(low), log(high), size)\n",
    "    value = exp(res) if size is None else res.exp_()\n",
    "    return value\n",
    "\n",
    "@dynamic_var\n",
    "def Bool(p, size=None):\n",
    "    return uniform(0,1,size)<p\n",
    "\n",
    "@dynamic_var\n",
    "def Constant(c):\n",
    "    return c\n",
    "\n",
    "@dynamic_var\n",
    "def Choice(choices):\n",
    "    return random.choice(choices)\n",
    "\n",
    "\n",
    "\n",
    "@dynamic_func\n",
    "def mult(x, by1:UniformVar=1, by2:UniformVar=1, do_mult:BoolVar=True):\n",
    "    print('calc mult:', x, by1, by2, do_mult)\n",
    "    if do_mult: return x * by1 * by2\n",
    "    else: return x\n",
    "\n"
   ]
  },
  {
   "cell_type": "code",
   "execution_count": 279,
   "metadata": {},
   "outputs": [
    {
     "name": "stdout",
     "output_type": "stream",
     "text": [
      "init\n",
      "init\n",
      "init\n",
      "init\n",
      "calc mult: 5 1 1 True\n",
      "calc mult: 5 3.033929049173557 5 True\n"
     ]
    },
    {
     "data": {
      "text/plain": [
       "(5, 75.84822622933892)"
      ]
     },
     "execution_count": 279,
     "metadata": {},
     "output_type": "execute_result"
    }
   ],
   "source": [
    "m = mult()\n",
    "m2 = m.clone(by2=Choice([5,6,7]), by1=(3.,3.1))\n",
    "m(5), m2(5)"
   ]
  },
  {
   "cell_type": "code",
   "execution_count": 204,
   "metadata": {},
   "outputs": [
    {
     "name": "stdout",
     "output_type": "stream",
     "text": [
      "init\n"
     ]
    }
   ],
   "source": [
    "c = Choice(choices=[1,2,3])"
   ]
  },
  {
   "cell_type": "code",
   "execution_count": 205,
   "metadata": {},
   "outputs": [
    {
     "data": {
      "text/plain": [
       "(1, 1)"
      ]
     },
     "execution_count": 205,
     "metadata": {},
     "output_type": "execute_result"
    }
   ],
   "source": [
    "c.release()\n",
    "c(), c()"
   ]
  },
  {
   "cell_type": "code",
   "execution_count": 206,
   "metadata": {},
   "outputs": [
    {
     "name": "stdout",
     "output_type": "stream",
     "text": [
      "init\n",
      "calc mult: 2 1 1 True\n",
      "2\n",
      "init\n",
      "calc mult: 2 1 1 True\n",
      "2\n",
      "init\n",
      "calc mult: 2 1 1 True\n",
      "2\n",
      "init\n",
      "calc mult: 2 1 1 True\n",
      "2\n",
      "init\n",
      "calc mult: 2 1 1 True\n",
      "2\n"
     ]
    }
   ],
   "source": [
    "for i in range(5):\n",
    "    print(mult(2))"
   ]
  },
  {
   "cell_type": "code",
   "execution_count": 207,
   "metadata": {},
   "outputs": [
    {
     "name": "stdout",
     "output_type": "stream",
     "text": [
      "init\n",
      "init\n",
      "init\n",
      "mult:{'by1': Choice:{}:None, 'do_mult': BoolVar:{'p': 0.5}:None}:None\n",
      "calc mult: 5 6 1 True\n",
      "30\n",
      "30\n",
      "30\n",
      "30\n",
      "30\n"
     ]
    }
   ],
   "source": [
    "m1 = mult(by1=Choice([2,4,6]), do_mult=0.5)\n",
    "print(m1)\n",
    "for i in range(5):\n",
    "    print(m1(5))"
   ]
  },
  {
   "cell_type": "code",
   "execution_count": 208,
   "metadata": {},
   "outputs": [
    {
     "name": "stdout",
     "output_type": "stream",
     "text": [
      "calc mult: 5 6 1 True\n",
      "30\n",
      "calc mult: 5 4 1 True\n",
      "20\n",
      "calc mult: 5 2 1 False\n",
      "5\n",
      "calc mult: 5 6 1 False\n",
      "5\n",
      "calc mult: 5 2 1 True\n",
      "10\n"
     ]
    }
   ],
   "source": [
    "for i in range(5):\n",
    "    m1.release()\n",
    "    print(m1(5))"
   ]
  },
  {
   "cell_type": "code",
   "execution_count": 209,
   "metadata": {},
   "outputs": [
    {
     "name": "stdout",
     "output_type": "stream",
     "text": [
      "init\n",
      "init\n",
      "init\n",
      "init\n",
      "init\n",
      "init\n",
      "calc mult: 5 6 1 True\n",
      "calc mult: 5 3.0081518382378283 1 False\n",
      "calc mult: 5 6 8 True\n",
      "30 5 240\n",
      "30 5 240\n",
      "30 5 240\n",
      "30 5 240\n",
      "30 5 240\n"
     ]
    }
   ],
   "source": [
    "# uses all params\n",
    "m2 = m1.clone(by1=(3.,3.3))\n",
    "m3 = m1.override(by2=Choice([7,8]))\n",
    "m1.release()\n",
    "m2.release()\n",
    "m3.release()\n",
    "for i in range(5):\n",
    "    print(m1(5), m2(5), m3(5))"
   ]
  },
  {
   "cell_type": "code",
   "execution_count": null,
   "metadata": {},
   "outputs": [],
   "source": []
  },
  {
   "cell_type": "code",
   "execution_count": null,
   "metadata": {},
   "outputs": [],
   "source": []
  },
  {
   "cell_type": "code",
   "execution_count": null,
   "metadata": {},
   "outputs": [],
   "source": []
  },
  {
   "cell_type": "code",
   "execution_count": null,
   "metadata": {},
   "outputs": [],
   "source": []
  },
  {
   "cell_type": "code",
   "execution_count": null,
   "metadata": {},
   "outputs": [],
   "source": []
  }
 ],
 "metadata": {
  "kernelspec": {
   "display_name": "Python 3",
   "language": "python",
   "name": "python3"
  },
  "language_info": {
   "codemirror_mode": {
    "name": "ipython",
    "version": 3
   },
   "file_extension": ".py",
   "mimetype": "text/x-python",
   "name": "python",
   "nbconvert_exporter": "python",
   "pygments_lexer": "ipython3",
   "version": "3.6.5"
  }
 },
 "nbformat": 4,
 "nbformat_minor": 2
}
