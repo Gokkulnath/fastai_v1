{
 "cells": [
  {
   "cell_type": "code",
   "execution_count": null,
   "metadata": {},
   "outputs": [],
   "source": [
    "%load_ext autoreload\n",
    "%autoreload 2"
   ]
  },
  {
   "cell_type": "code",
   "execution_count": null,
   "metadata": {},
   "outputs": [],
   "source": [
    "from nb_002 import *"
   ]
  },
  {
   "cell_type": "code",
   "execution_count": null,
   "metadata": {},
   "outputs": [],
   "source": [
    "DATA_PATH = Path('data')\n",
    "PATH = DATA_PATH/'cifar10_dog_air'\n",
    "TRAIN_PATH = PATH/'train'"
   ]
  },
  {
   "cell_type": "code",
   "execution_count": null,
   "metadata": {},
   "outputs": [],
   "source": [
    "default_device = torch.device('cuda', 0)"
   ]
  },
  {
   "cell_type": "markdown",
   "metadata": {},
   "source": [
    "# Initial model"
   ]
  },
  {
   "cell_type": "code",
   "execution_count": null,
   "metadata": {},
   "outputs": [],
   "source": [
    "# NB: validation or training may not have all classes\n",
    "classes = [cls.name for cls in find_classes(PATH/'train')]\n",
    "\n",
    "train_ds = FilesDataset(PATH/'train', classes)\n",
    "valid_ds = FilesDataset(PATH/'test', classes)"
   ]
  },
  {
   "cell_type": "code",
   "execution_count": null,
   "metadata": {},
   "outputs": [],
   "source": [
    "len(train_ds), len(valid_ds)"
   ]
  },
  {
   "cell_type": "code",
   "execution_count": null,
   "metadata": {},
   "outputs": [],
   "source": [
    "data_mean,data_std = get_batch_stats(data.train_dl)\n",
    "data_mean,data_std"
   ]
  },
  {
   "cell_type": "code",
   "execution_count": null,
   "metadata": {},
   "outputs": [],
   "source": [
    "cifar_transforms = [\n",
    "    partial(normalize, data_mean, data_std)\n",
    "]\n",
    "\n",
    "cifar_xy_transforms = xy_transforms(cifar_transforms)"
   ]
  },
  {
   "cell_type": "code",
   "execution_count": null,
   "metadata": {},
   "outputs": [],
   "source": [
    "data = DataBunch(train_ds, valid_ds, bs=bs, train_tfms=cifar_xy_transforms, valid_tfms=cifar_xy_transforms)\n",
    "len(data.train_dl), len(data.valid_dl)"
   ]
  },
  {
   "cell_type": "markdown",
   "metadata": {},
   "source": [
    "# Data augmentation"
   ]
  },
  {
   "cell_type": "markdown",
   "metadata": {},
   "source": [
    "## Adding more advanced transformations"
   ]
  },
  {
   "cell_type": "markdown",
   "metadata": {},
   "source": [
    "Create a Transform class that will have an attribute tfm_type: it can affine, applied to coordinates or applied to the batch of images directly. Grouping the transforms by type when applying them will be more efficient (only one affine multiplication, only one interpolation)."
   ]
  },
  {
   "cell_type": "code",
   "execution_count": null,
   "metadata": {},
   "outputs": [],
   "source": [
    "from enum import IntEnum\n",
    "\n",
    "class TfmType(IntEnum):\n",
    "    AFFINE = 1\n",
    "    COORDS = 2\n",
    "    PIXEL = 3"
   ]
  },
  {
   "cell_type": "code",
   "execution_count": null,
   "metadata": {},
   "outputs": [],
   "source": [
    "class Transform():\n",
    "    \n",
    "    def __init__(self, tfm_type, func=None):\n",
    "        if func is None: func = noop\n",
    "        self.tfm_type, self.func = tfm_type, func\n",
    "    \n",
    "    def __call__(self, x):\n",
    "        return self.func(x)"
   ]
  },
  {
   "cell_type": "markdown",
   "metadata": {},
   "source": [
    "Helper function that does an affine transformation."
   ]
  },
  {
   "cell_type": "code",
   "execution_count": null,
   "metadata": {},
   "outputs": [],
   "source": [
    "def do_affine(x, matrix, interpol = True, padding='reflect'):\n",
    "    \"\"\"\n",
    "    Applies an affine transformation to a batch of images.\n",
    "    \n",
    "    Optional: only computes the new coordinates without doing the interpolation to create the new images.\n",
    "    Args:\n",
    "    x: a batch of images\n",
    "    matrix: a matrix of size 2 by 3 describing the transformation.\n",
    "            if the transformation is Ax + b, the matrix is (A|b)\n",
    "    interpol: if False, returns only the new coordinates\n",
    "    padding: padding to apply during the interpolation. Supports zeros, border, reflect\n",
    "    \n",
    "    \"\"\"\n",
    "    coords = F.affine_grid(matrix[None].expand(x.size(0), 2, 3), x.size())\n",
    "    return interpolate(x,coords,padding) if interpol else coords"
   ]
  },
  {
   "cell_type": "code",
   "execution_count": null,
   "metadata": {},
   "outputs": [],
   "source": [
    "def interpolate(x, coords, padding='reflect'):\n",
    "    if padding=='reflect':#Reflect padding isn't implemented in grid_sample yet\n",
    "        coords[coords < -1] = coords[coords < -1].mul_(-1).add_(-2)\n",
    "        coords[coords > 1] = coords[coords > 1].mul_(-1).add_(2)\n",
    "        padding='zeros'\n",
    "    return F.grid_sample(x, coords, padding_mode=padding)"
   ]
  },
  {
   "cell_type": "markdown",
   "metadata": {},
   "source": [
    "Creating an affine transform is done by giving the matrix of the transformation."
   ]
  },
  {
   "cell_type": "code",
   "execution_count": null,
   "metadata": {},
   "outputs": [],
   "source": [
    "class RandomRotate(Transform):\n",
    "    \n",
    "    def __init__(self, degrees, p=0.75):\n",
    "        super().__init__(TfmType.AFFINE)\n",
    "        self.degrees, self.p = degrees, p\n",
    "        \n",
    "    def __call__(self, x):\n",
    "        matrix = self.get_matrix(x)[:2,:]\n",
    "        return do_affine(x, matrix)\n",
    "        \n",
    "    def get_matrix(self, x):\n",
    "        device = x.device if hasattr(x,'device') else default_device\n",
    "        angle = np.random.uniform(-self.degrees, self.degrees) * math.pi / 180\n",
    "        return torch.tensor([[math.cos(angle), -math.sin(angle), 0],\n",
    "                             [math.sin(angle),  math.cos(angle), 0],\n",
    "                             [0,                0,               1]], device=device) "
   ]
  },
  {
   "cell_type": "code",
   "execution_count": null,
   "metadata": {},
   "outputs": [],
   "source": [
    "def denorm(x):\n",
    "    x = x.permute([0,2,3,1])\n",
    "    return x * data_std + data_mean"
   ]
  },
  {
   "cell_type": "code",
   "execution_count": null,
   "metadata": {},
   "outputs": [],
   "source": [
    "x,y = next(iter(data2.train_dl))[:16]\n",
    "img = denorm(x)\n",
    "show_images(img,y,4, classes)"
   ]
  },
  {
   "cell_type": "code",
   "execution_count": null,
   "metadata": {},
   "outputs": [],
   "source": [
    "x1 = RandomRotate(30)(x)\n",
    "img = denorm(x1)"
   ]
  },
  {
   "cell_type": "code",
   "execution_count": null,
   "metadata": {},
   "outputs": [],
   "source": [
    "show_images(img,y,4, classes)"
   ]
  },
  {
   "cell_type": "markdown",
   "metadata": {},
   "source": [
    "Zooming is antoher type of affine transformation."
   ]
  },
  {
   "cell_type": "code",
   "execution_count": null,
   "metadata": {},
   "outputs": [],
   "source": [
    "class RandomZoom(Transform):\n",
    "    \n",
    "    def __init__(self, zoom_max, zoom_min=0):\n",
    "        super().__init__(TfmType.AFFINE)\n",
    "        self.zoom_range = (zoom_min, zoom_max)\n",
    "        \n",
    "    def __call__(self, x):\n",
    "        matrix = self.get_matrix(x)[:2]\n",
    "        return do_affine(x, matrix)\n",
    "        \n",
    "    def get_matrix(self, x):\n",
    "        device = x.device if hasattr(x,'device') else default_device\n",
    "        zoom = np.random.uniform(*self.zoom_range)\n",
    "        return torch.tensor([[zoom, 0,    0],\n",
    "                             [0,    zoom, 0],\n",
    "                             [0,    0,    1]], device=device) "
   ]
  },
  {
   "cell_type": "code",
   "execution_count": null,
   "metadata": {},
   "outputs": [],
   "source": [
    "x1 = RandomZoom(1,0.5)(x)\n",
    "img = denorm(x1)\n",
    "show_images(img,y,4, classes)"
   ]
  },
  {
   "cell_type": "markdown",
   "metadata": {},
   "source": [
    "A coord transform is done by creating the function that changes the coordinates. Here we randomly move the pixels."
   ]
  },
  {
   "cell_type": "code",
   "execution_count": null,
   "metadata": {},
   "outputs": [],
   "source": [
    "def get_coords(x):\n",
    "    matrix = torch.tensor([[1., 0., 0.], [0., 1., 0.]], device=x.device)\n",
    "    return F.affine_grid(matrix[None].expand(x.size(0), 2, 3), x.size())"
   ]
  },
  {
   "cell_type": "code",
   "execution_count": null,
   "metadata": {},
   "outputs": [],
   "source": [
    "class RandomJitter(Transform):\n",
    "    \n",
    "    def __init__(self, magnitude):\n",
    "        super().__init__(TfmType.COORDS)\n",
    "        self.magnitude = magnitude\n",
    "        \n",
    "    def __call__(self, x):\n",
    "        coords = get_coords(x)\n",
    "        coords = self.tfm_coord(coords)\n",
    "        return interpolate(x, coords)\n",
    "        \n",
    "    def tfm_coord(self, coords):\n",
    "        noise = torch.from_numpy(np.random.uniform(-self.magnitude, self.magnitude, coords.size()).astype(np.float32)).to(coords.device)\n",
    "        return coords.add_(noise)"
   ]
  },
  {
   "cell_type": "code",
   "execution_count": null,
   "metadata": {},
   "outputs": [],
   "source": [
    "x1 = RandomJitter(0.05)(x)\n",
    "img = denorm(x1)\n",
    "show_images(img,y,4, classes)"
   ]
  },
  {
   "cell_type": "markdown",
   "metadata": {},
   "source": [
    "## Compose the transforms"
   ]
  },
  {
   "cell_type": "code",
   "execution_count": null,
   "metadata": {},
   "outputs": [],
   "source": [
    "def compose_tfms(tfms, x):\n",
    "    i, first_tfms = 0, []\n",
    "    #First applies the global transforms at the beginning\n",
    "    while i < len(tfms) and tfms[i].tfm_type == TfmType.PIXEL: i+=1\n",
    "    first_tfms = tfms[:i]\n",
    "    x = compose(first_tfms)(x)\n",
    "    if i >= len(tfms): return x\n",
    "    \n",
    "    #Then we group in the following order: affines, coords, pixels\n",
    "    affine_tfms = [tfm for tfm in tfms[i:] if tfm.tfm_type == TfmType.AFFINE]\n",
    "    coord_tfms = [tfm for tfm in tfms[i:] if tfm.tfm_type == TfmType.COORDS]\n",
    "    last_tfms = [tfm for tfm in tfms[i:] if tfm.tfm_type == TfmType.PIXEL]\n",
    "    \n",
    "    #Starting with the identity matrix, we multiply all the affine matrices before applying one affine transformation\n",
    "    matrix = torch.eye(3, device=x.device)\n",
    "    for tfm in affine_tfms: matrix = matrix.mm(tfm.get_matrix(x))\n",
    "    matrix = matrix[:2,:]\n",
    "    coords = F.affine_grid(matrix[None].expand(x.size(0), 2, 3), x.size())\n",
    "    \n",
    "    #Then we apply all the transformations on the coordinates before doing one interpolation\n",
    "    for tfm in coord_tfms: coords = tfm.tfm_coord(coords)\n",
    "    x = interpolate(x, coords)\n",
    "    \n",
    "    #Lastly, we apply the remaining pixel transforms\n",
    "    return compose(last_tfms)(x)"
   ]
  },
  {
   "cell_type": "code",
   "execution_count": null,
   "metadata": {},
   "outputs": [],
   "source": [
    "Channel_first = Transform(TfmType.PIXEL, channel_first)\n",
    "Normalize = Transform(TfmType.PIXEL, partial(normalize, data_mean[None,:,None,None], data_std[None,:,None,None]))"
   ]
  },
  {
   "cell_type": "code",
   "execution_count": null,
   "metadata": {},
   "outputs": [],
   "source": [
    "def denorm(x):\n",
    "    x = x.permute([0,2,3,1])\n",
    "    return x *  data_std[None,None,None,:] + data_mean[None,None,None,:]"
   ]
  },
  {
   "cell_type": "code",
   "execution_count": null,
   "metadata": {},
   "outputs": [],
   "source": [
    "tfms = [Channel_first, RandomRotate(10), RandomZoom(1.1,0.9), RandomJitter(0.05), Normalize]"
   ]
  },
  {
   "cell_type": "code",
   "execution_count": null,
   "metadata": {},
   "outputs": [],
   "source": [
    "x,y = next(iter(data.train_dl))\n",
    "show_images(x,y,4, classes)"
   ]
  },
  {
   "cell_type": "code",
   "execution_count": null,
   "metadata": {},
   "outputs": [],
   "source": [
    "x1 = compose_tfms(tfms,x)\n",
    "img = denorm(x1)\n",
    "show_images(img,y,4, classes)"
   ]
  },
  {
   "cell_type": "code",
   "execution_count": null,
   "metadata": {},
   "outputs": [],
   "source": []
  }
 ],
 "metadata": {
  "kernelspec": {
   "display_name": "Python 3",
   "language": "python",
   "name": "python3"
  }
 },
 "nbformat": 4,
 "nbformat_minor": 2
}
