{
 "cells": [
  {
   "cell_type": "code",
   "execution_count": 1,
   "metadata": {},
   "outputs": [],
   "source": [
    "%load_ext autoreload\n",
    "%autoreload 2"
   ]
  },
  {
   "cell_type": "code",
   "execution_count": 2,
   "metadata": {},
   "outputs": [],
   "source": [
    "#export\n",
    "from nb_003b import *\n",
    "from torch import Tensor\n",
    "\n",
    "Floats = Union[float, Collection[float]]\n",
    "Rank0Tensor = typing.NewType('Rank0Tensor', Tensor)"
   ]
  },
  {
   "cell_type": "markdown",
   "metadata": {},
   "source": [
    "# Hyperparameters and callbacks"
   ]
  },
  {
   "cell_type": "markdown",
   "metadata": {},
   "source": [
    "## Setup"
   ]
  },
  {
   "cell_type": "code",
   "execution_count": 3,
   "metadata": {},
   "outputs": [],
   "source": [
    "DATA_PATH = Path('data')\n",
    "PATH = DATA_PATH/'cifar10'\n",
    "\n",
    "data_mean,data_std = map(tensor, ([0.491, 0.482, 0.447], [0.247, 0.243, 0.261]))\n",
    "cifar_norm,cifar_denorm = normalize_funcs(data_mean,data_std)\n",
    "\n",
    "tfms = [flip_lr_tfm(p=0.5),\n",
    "        pad_tfm(padding=4),\n",
    "        crop_tfm(size=32, row_pct=(0,1.), col_pct=(0,1.))]\n",
    "\n",
    "bs = 64"
   ]
  },
  {
   "cell_type": "code",
   "execution_count": 4,
   "metadata": {},
   "outputs": [
    {
     "data": {
      "text/plain": [
       "(157, 16)"
      ]
     },
     "execution_count": 4,
     "metadata": {},
     "output_type": "execute_result"
    }
   ],
   "source": [
    "train_ds = FilesDataset.from_folder(PATH/'train', classes=['airplane','dog'])\n",
    "valid_ds = FilesDataset.from_folder(PATH/'test', classes=['airplane','dog'])\n",
    "data = DataBunch.create(train_ds, valid_ds, bs=bs, train_tfm=tfms, num_workers=4, dl_tfms=cifar_norm)\n",
    "len(data.train_dl), len(data.valid_dl)"
   ]
  },
  {
   "cell_type": "code",
   "execution_count": 5,
   "metadata": {},
   "outputs": [],
   "source": [
    "model = Darknet([1, 2, 4, 6, 3], num_classes=10, nf=16)"
   ]
  },
  {
   "cell_type": "markdown",
   "metadata": {},
   "source": [
    "## Setting hyperparameters easily"
   ]
  },
  {
   "cell_type": "markdown",
   "metadata": {},
   "source": [
    "We want an optimizer with an easy way to set hyperparameters: they're all properties and we define custom setters to handle the different names in pytorch optimizers."
   ]
  },
  {
   "cell_type": "code",
   "execution_count": 6,
   "metadata": {},
   "outputs": [],
   "source": [
    "#export\n",
    "class OptimWrapper():\n",
    "    def __init__(self, opt, wd=0., true_wd=False):\n",
    "        self.opt,self.true_wd = opt,true_wd\n",
    "        self.opt_keys = list(self.opt.param_groups[0].keys())\n",
    "        self.opt_keys.remove('params')\n",
    "        self.read_defaults()\n",
    "        self._wd = wd\n",
    "    \n",
    "    #Pytorch optimizer methods\n",
    "    def step(self):\n",
    "        # weight decay outside of optimizer step (AdamW)\n",
    "        if self.true_wd:\n",
    "            for pg in self.opt.param_groups:\n",
    "                for p in pg['params']: p.data.mul_(1 - self._wd*pg['lr'])\n",
    "            self.set_val('weight_decay', 0)\n",
    "        self.opt.step()\n",
    "    \n",
    "    def zero_grad(self): self.opt.zero_grad()\n",
    "    \n",
    "    #Hyperparameters as properties\n",
    "    @property\n",
    "    def lr(self): return self._lr\n",
    "\n",
    "    @lr.setter\n",
    "    def lr(self, val): self._lr = self.set_val('lr', val)\n",
    "    \n",
    "    @property\n",
    "    def mom(self): return self._mom\n",
    "\n",
    "    @mom.setter\n",
    "    def mom(self, val):\n",
    "        if 'momentum' in self.opt_keys: self.set_val('momentum', val)\n",
    "        elif 'betas' in self.opt_keys:  self.set_val('betas', (val, self._beta))\n",
    "        self._mom = val\n",
    "    \n",
    "    @property\n",
    "    def beta(self): return self._beta\n",
    "\n",
    "    @beta.setter\n",
    "    def beta(self, val):\n",
    "        if 'betas' in self.opt_keys:    self.set_val('betas', (self._mom,val))\n",
    "        elif 'alpha' in self.opt_keys:  self.set_val('alpha', val)\n",
    "        self._beta = val\n",
    "    \n",
    "    @property\n",
    "    def wd(self): return self._wd\n",
    "\n",
    "    @wd.setter\n",
    "    def wd(self, val):\n",
    "        if not self.true_wd: self.set_val('weight_decay', val)\n",
    "        self._wd = val\n",
    "    \n",
    "    #Helper functions\n",
    "    def read_defaults(self):\n",
    "        self._beta = None\n",
    "        if 'lr' in self.opt_keys: self._lr = self.opt.param_groups[0]['lr']\n",
    "        if 'momentum' in self.opt_keys: self._mom = self.opt.param_groups[0]['momentum']\n",
    "        if 'alpha' in self.opt_keys: self._beta = self.opt.param_groups[0]['alpha']\n",
    "        if 'betas' in self.opt_keys: self._mom,self._beta = self.opt.param_groups[0]['betas']\n",
    "        if 'weight_decay' in self.opt_keys: self._wd = self.opt.param_groups[0]['weight_decay']\n",
    "    \n",
    "    def set_val(self, key, val):\n",
    "        for pg in self.opt.param_groups: pg[key] = val\n",
    "        return val"
   ]
  },
  {
   "cell_type": "code",
   "execution_count": 7,
   "metadata": {},
   "outputs": [
    {
     "data": {
      "text/plain": [
       "(0.01, 0.95, 0.0, 0.99)"
      ]
     },
     "execution_count": 7,
     "metadata": {},
     "output_type": "execute_result"
    }
   ],
   "source": [
    "opt_fn = partial(optim.Adam, betas=(0.95,0.99))\n",
    "opt = OptimWrapper(opt_fn(model.parameters(), 1e-2))\n",
    "opt.lr, opt.mom, opt.wd, opt.beta"
   ]
  },
  {
   "cell_type": "code",
   "execution_count": 8,
   "metadata": {},
   "outputs": [
    {
     "data": {
      "text/plain": [
       "(0.2, 0.95, 0.0, 0.99)"
      ]
     },
     "execution_count": 8,
     "metadata": {},
     "output_type": "execute_result"
    }
   ],
   "source": [
    "opt.lr=0.2\n",
    "opt.lr, opt.mom, opt.wd, opt.beta"
   ]
  },
  {
   "cell_type": "markdown",
   "metadata": {},
   "source": [
    "## Callbacks"
   ]
  },
  {
   "cell_type": "markdown",
   "metadata": {},
   "source": [
    "Now that it's easy to set and change the HP in the optimizer, we need a scheduler to change it. To keep the training loop as readable as possible we don't want to handle all of this stuff inside it so we'll use callbacks. "
   ]
  },
  {
   "cell_type": "code",
   "execution_count": 9,
   "metadata": {},
   "outputs": [],
   "source": [
    "#export\n",
    "class Callback():\n",
    "    def on_train_begin(self, **kwargs): pass         \n",
    "        #To initiliaze constants in the callback.\n",
    "    def on_epoch_begin(self, **kwargs): pass\n",
    "        #At the beginning of each epoch\n",
    "    def on_batch_begin(self, **kwargs): pass \n",
    "        #To set HP before the step is done. \n",
    "        #Returns xb, yb (which can allow us to modify the input at that step if needed)\n",
    "    def on_loss_begin(self, **kwargs): pass\n",
    "        #Called after the forward pass but before the loss has been computed.\n",
    "        #Returns the output (which can allow us to modify it)\n",
    "    def on_backward_begin(self, **kwargs): pass\n",
    "        #Called after the forward pass and the loss has been computed, but before the back propagation.\n",
    "        #Returns the loss (which can allow us to modify it, for instance for reg functions)\n",
    "    def on_backward_end(self, **kwargs): pass\n",
    "        #Called after the back propagation had been done (and the gradients computed) but before the step of the optimizer.\n",
    "        #Useful for true weight decay in AdamW\n",
    "    def on_step_end(self, **kwargs): pass\n",
    "        #Called after the step of the optimizer but before the gradients are zeroed (not sure this one is useful)\n",
    "    def on_batch_end(self, **kwargs): pass\n",
    "        #Called at the end of the batch\n",
    "    def on_epoch_end(self, **kwargs): pass\n",
    "        #Called at the end of an epoch\n",
    "    def on_train_end(self, **kwargs): pass\n",
    "        #Useful for cleaning up things and saving files/models"
   ]
  },
  {
   "cell_type": "markdown",
   "metadata": {},
   "source": [
    "To be more convenient and make the code of the training loop cleaner, we'll create a class to handle the callbacks. It will keep track of everything the training loop sends it, then pack it in the kwargs of each callback. This way, all the callbacks can access things like the epoch number, the last loss etc...\n",
    "\n",
    "Helper class that computes a moving average of the values sent to it. Will be useful for the smooth_loss but can smoothen anything."
   ]
  },
  {
   "cell_type": "code",
   "execution_count": 10,
   "metadata": {},
   "outputs": [],
   "source": [
    "#export\n",
    "class SmoothenValue():\n",
    "    def __init__(self, beta):\n",
    "        self.beta,self.n,self.mov_avg = beta,0,0\n",
    "    \n",
    "    def add_value(self, val):\n",
    "        self.n += 1\n",
    "        self.mov_avg = self.beta * self.mov_avg + (1 - self.beta) * val\n",
    "        self.smooth = self.mov_avg / (1 - self.beta ** self.n)"
   ]
  },
  {
   "cell_type": "code",
   "execution_count": 11,
   "metadata": {},
   "outputs": [],
   "source": [
    "#export\n",
    "def _get_init_state(): return {'epoch':0, 'iteration':0, 'num_batch':0}\n",
    "\n",
    "@dataclass\n",
    "class CallbackHandler():\n",
    "    callbacks:Collection[Callable]\n",
    "    beta:float=0.98\n",
    "        \n",
    "    def __post_init__(self):\n",
    "        self.smoothener = SmoothenValue(self.beta)\n",
    "        self.state_dict:Dict[str,Union[int,float,Tensor]]=_get_init_state()\n",
    "    \n",
    "    def __call__(self, cb_name):\n",
    "        return [getattr(cb, f'on_{cb_name}')(**self.state_dict) for cb in self.callbacks]\n",
    "    \n",
    "    def on_train_begin(self): \n",
    "        self.state_dict = _get_init_state()\n",
    "        self('train_begin')\n",
    "        \n",
    "    def on_epoch_begin(self): \n",
    "        self.state_dict['num_batch'] = 0\n",
    "        self('epoch_begin')\n",
    "        \n",
    "    def on_batch_begin(self, xb, yb):\n",
    "        self.state_dict['last_input'], self.state_dict['last_target'] = xb, yb\n",
    "        for cb in self.callbacks:\n",
    "            a = cb.on_batch_begin(**self.state_dict)\n",
    "            if a is not None: self.state_dict['last_input'], self.state_dict['last_target'] = a\n",
    "        return self.state_dict['last_input'], self.state_dict['last_target']\n",
    "    \n",
    "    def on_loss_begin(self, out):\n",
    "        self.state_dict['last_output'] = out\n",
    "        for cb in self.callbacks:\n",
    "            a = cb.on_loss_begin(**self.state_dict)\n",
    "            if a is not None: self.state_dict['last_output'] = a\n",
    "        return self.state_dict['last_output']\n",
    "    \n",
    "    def on_backward_begin(self, loss):\n",
    "        self.smoothener.add_value(loss.item())\n",
    "        self.state_dict['last_loss'], self.state_dict['smooth_loss'] = loss, self.smoothener.smooth\n",
    "        for cb in self.callbacks:\n",
    "            a = cb.on_backward_begin(**self.state_dict)\n",
    "            if a is not None: self.state_dict['last_loss'] = a\n",
    "        return self.state_dict['last_loss']\n",
    "    \n",
    "    def on_backward_end(self):        self('backward_end')\n",
    "    def on_step_end(self):            self('step_end')\n",
    "        \n",
    "    def on_batch_end(self, loss):     \n",
    "        self.state_dict['last_loss'] = loss\n",
    "        stop = np.any(self('batch_end'))\n",
    "        self.state_dict['iteration'] += 1\n",
    "        self.state_dict['num_batch'] += 1\n",
    "        return stop\n",
    "    \n",
    "    def on_epoch_end(self, val_metrics):\n",
    "        self.state_dict['last_metrics'] = val_metrics\n",
    "        stop = np.any(self('epoch_end'))\n",
    "        self.state_dict['epoch'] += 1\n",
    "        return stop\n",
    "    \n",
    "    def on_train_end(self): self('train_end')"
   ]
  },
  {
   "cell_type": "markdown",
   "metadata": {},
   "source": [
    "The idea is to have a callback between every line of the training loop, that way everything we need to add will be treated there and not inside. We also add metrics."
   ]
  },
  {
   "cell_type": "code",
   "execution_count": 12,
   "metadata": {},
   "outputs": [],
   "source": [
    "#export\n",
    "def loss_batch(model, xb, yb, loss_fn, opt=None, cb_handler=None, metrics=None):\n",
    "    if cb_handler is None: cb_handler = CallbackHandler([])\n",
    "    out = model(xb)\n",
    "    out = cb_handler.on_loss_begin(out)\n",
    "    loss = loss_fn(out, yb)\n",
    "    mets = [f(out,yb).item() for f in metrics] if metrics is not None else []\n",
    "    \n",
    "    if opt is not None:\n",
    "        loss = cb_handler.on_backward_begin(loss)\n",
    "        loss.backward()\n",
    "        cb_handler.on_backward_end()\n",
    "        opt.step()\n",
    "        cb_handler.on_step_end()\n",
    "        opt.zero_grad()\n",
    "        \n",
    "    return (loss.item(),) + tuple(mets) + (len(xb),)"
   ]
  },
  {
   "cell_type": "code",
   "execution_count": 13,
   "metadata": {},
   "outputs": [],
   "source": [
    "#export\n",
    "def fit(epochs, model, loss_fn, opt, data, callbacks=None, metrics=None):\n",
    "    cb_handler = CallbackHandler(callbacks)\n",
    "    cb_handler.on_train_begin()\n",
    "    \n",
    "    for epoch in tnrange(epochs):\n",
    "        model.train()\n",
    "        cb_handler.on_epoch_begin()\n",
    "        \n",
    "        for xb,yb in data.train_dl:\n",
    "            xb, yb = cb_handler.on_batch_begin(xb, yb)\n",
    "            loss,_ = loss_batch(model, xb, yb, loss_fn, opt, cb_handler)\n",
    "            if cb_handler.on_batch_end(loss): break\n",
    "        \n",
    "        if hasattr(data,'valid_dl') and data.valid_dl is not None:\n",
    "            model.eval()\n",
    "            with torch.no_grad():\n",
    "                *val_metrics,nums = zip(*[loss_batch(model, xb, yb, loss_fn, cb_handler=cb_handler, metrics=metrics)\n",
    "                                for xb,yb in data.valid_dl])\n",
    "            val_metrics = [np.sum(np.multiply(val,nums)) / np.sum(nums) for val in val_metrics]\n",
    "            \n",
    "        else: val_metrics=None\n",
    "        if cb_handler.on_epoch_end(val_metrics): break\n",
    "        \n",
    "    cb_handler.on_train_end()"
   ]
  },
  {
   "cell_type": "markdown",
   "metadata": {},
   "source": [
    "First callback: updating the progress bar can be done and printing the validation loss in one. We'll also keep track of the losses and hyper-parameters during training for future plots (lr_finder, plot of the LR/mom schedule)."
   ]
  },
  {
   "cell_type": "code",
   "execution_count": 14,
   "metadata": {},
   "outputs": [],
   "source": [
    "@dataclass\n",
    "class Recorder(Callback):\n",
    "    opt: torch.optim\n",
    "    train_dl: DeviceDataLoader = None\n",
    "    \n",
    "    def on_train_begin(self, **kwargs):\n",
    "        self.losses,self.val_losses,self.metrics,self.lrs,self.moms = [],[],[],[],[]\n",
    "    \n",
    "    def on_batch_begin(self, **kwargs):\n",
    "        self.lrs.append(self.opt.lr)\n",
    "        self.moms.append(self.opt.mom)\n",
    "    \n",
    "    def on_batch_end(self, last_loss, **kwargs):\n",
    "        self.losses.append(last_loss)\n",
    "        if self.train_dl is not None and self.train_dl.progress_func is not None: \n",
    "            self.train_dl.gen.set_postfix_str(last_loss)\n",
    "    \n",
    "    def on_epoch_end(self, epoch, last_loss, last_metrics, **kwargs):\n",
    "        if last_metrics is not None:\n",
    "            self.val_losses.append(last_metrics[0])\n",
    "            if len(last_metrics) > 1: self.metrics.append(last_metrics[1:])\n",
    "            print(epoch, last_loss, *last_metrics)\n",
    "        else:  print(epoch, last_loss)"
   ]
  },
  {
   "cell_type": "code",
   "execution_count": 15,
   "metadata": {},
   "outputs": [],
   "source": [
    "#export\n",
    "def accuracy(out, yb):\n",
    "    preds = torch.max(out, dim=1)[1]\n",
    "    return (preds==yb).float().mean()"
   ]
  },
  {
   "cell_type": "code",
   "execution_count": 16,
   "metadata": {},
   "outputs": [],
   "source": [
    "class Learner():\n",
    "    def __init__(self, data, model):\n",
    "        self.data,self.model = data,model.to(data.device)\n",
    "        self.loss_fn, self.opt_fn, self.metrics = F.cross_entropy, optim.SGD, [accuracy]\n",
    "        \n",
    "    @property\n",
    "    def train_dl(self): return self.data.train_dl\n",
    "    @property\n",
    "    def valid_dl(self): return self.data.train_dl if hasattr(self.data, 'valid_dl') else None\n",
    "\n",
    "    def fit(self, epochs, lr, callbacks=None):\n",
    "        if callbacks is None: callbacks=[]\n",
    "        self.opt = OptimWrapper(self.opt_fn(self.model.parameters(),lr))\n",
    "        self.recorder = Recorder(self.opt, self.train_dl)\n",
    "        callbacks = [self.recorder] + callbacks\n",
    "        fit(epochs, self.model, self.loss_fn, self.opt, self.data, callbacks=callbacks, metrics=self.metrics)"
   ]
  },
  {
   "cell_type": "code",
   "execution_count": 17,
   "metadata": {},
   "outputs": [],
   "source": [
    "model = Darknet([1, 2, 2, 2, 2], num_classes=2, nf=16)\n",
    "learn = Learner(data, model)"
   ]
  },
  {
   "cell_type": "code",
   "execution_count": 18,
   "metadata": {},
   "outputs": [
    {
     "data": {
      "application/vnd.jupyter.widget-view+json": {
       "model_id": "4cefea0d27fa42039435638934fc9f71",
       "version_major": 2,
       "version_minor": 0
      },
      "text/plain": [
       "HBox(children=(IntProgress(value=0, max=2), HTML(value='')))"
      ]
     },
     "metadata": {},
     "output_type": "display_data"
    },
    {
     "data": {
      "application/vnd.jupyter.widget-view+json": {
       "model_id": "",
       "version_major": 2,
       "version_minor": 0
      },
      "text/plain": [
       "HBox(children=(IntProgress(value=0, max=157), HTML(value='')))"
      ]
     },
     "metadata": {},
     "output_type": "display_data"
    },
    {
     "data": {
      "application/vnd.jupyter.widget-view+json": {
       "model_id": "",
       "version_major": 2,
       "version_minor": 0
      },
      "text/plain": [
       "HBox(children=(IntProgress(value=0, max=16), HTML(value='')))"
      ]
     },
     "metadata": {},
     "output_type": "display_data"
    },
    {
     "name": "stdout",
     "output_type": "stream",
     "text": [
      "0 0.2686610221862793 0.6916530467271805 0.7559999995231629\n"
     ]
    },
    {
     "data": {
      "application/vnd.jupyter.widget-view+json": {
       "model_id": "",
       "version_major": 2,
       "version_minor": 0
      },
      "text/plain": [
       "HBox(children=(IntProgress(value=0, max=157), HTML(value='')))"
      ]
     },
     "metadata": {},
     "output_type": "display_data"
    },
    {
     "data": {
      "application/vnd.jupyter.widget-view+json": {
       "model_id": "",
       "version_major": 2,
       "version_minor": 0
      },
      "text/plain": [
       "HBox(children=(IntProgress(value=0, max=16), HTML(value='')))"
      ]
     },
     "metadata": {},
     "output_type": "display_data"
    },
    {
     "name": "stdout",
     "output_type": "stream",
     "text": [
      "1 0.07620438933372498 0.1623351254463196 0.9355\n",
      "\n"
     ]
    }
   ],
   "source": [
    "learn.fit(2,0.01)"
   ]
  },
  {
   "cell_type": "code",
   "execution_count": 19,
   "metadata": {},
   "outputs": [
    {
     "data": {
      "image/png": "[encoded data removed]",
      "text/plain": [
       "<Figure size 432x288 with 1 Axes>"
      ]
     },
     "metadata": {},
     "output_type": "display_data"
    }
   ],
   "source": [
    "plt.plot(learn.recorder.losses);"
   ]
  },
  {
   "cell_type": "markdown",
   "metadata": {},
   "source": [
    "## 1cycle"
   ]
  },
  {
   "cell_type": "markdown",
   "metadata": {},
   "source": [
    "Now we can do a 1cycle scheduler pretty easily."
   ]
  },
  {
   "cell_type": "code",
   "execution_count": 20,
   "metadata": {},
   "outputs": [],
   "source": [
    "#export\n",
    "def annealing_no(start, end, pct): return start\n",
    "def annealing_linear(start, end, pct): return start + pct * (end-start)\n",
    "def annealing_exp(start, end, pct): return start * (end/start) ** pct\n",
    "def annealing_cos(start, end, pct):\n",
    "    cos_out = np.cos(np.pi * pct) + 1\n",
    "    return end + (start-end)/2 * cos_out\n",
    "    \n",
    "def do_annealing_poly(start, end, pct, degree): return end + (start-end) * (1-pct)**degree\n",
    "def annealing_poly(degree): return functools.partial(do_annealing_poly, degree=degree)"
   ]
  },
  {
   "cell_type": "code",
   "execution_count": 21,
   "metadata": {},
   "outputs": [],
   "source": [
    "import functools"
   ]
  },
  {
   "cell_type": "code",
   "execution_count": 22,
   "metadata": {},
   "outputs": [],
   "source": [
    "annealings = \"NO LINEAR COS EXP POLY\".split()"
   ]
  },
  {
   "cell_type": "code",
   "execution_count": 23,
   "metadata": {},
   "outputs": [],
   "source": [
    "a = np.arange(0, 100)\n",
    "p = np.linspace(0.01,1,100)"
   ]
  },
  {
   "cell_type": "code",
   "execution_count": 24,
   "metadata": {},
   "outputs": [
    {
     "data": {
      "image/png": "[encoded data removed]",
      "text/plain": [
       "<Figure size 432x288 with 1 Axes>"
      ]
     },
     "metadata": {},
     "output_type": "display_data"
    }
   ],
   "source": [
    "fns = [annealing_no, annealing_linear, annealing_cos, annealing_exp, annealing_poly(0.8)]\n",
    "for fn, t in zip(fns, annealings):\n",
    "    plt.plot(a, [fn(2, 1e-2, o) for o in p], label=t)\n",
    "plt.legend();"
   ]
  },
  {
   "cell_type": "code",
   "execution_count": 25,
   "metadata": {},
   "outputs": [],
   "source": [
    "#export\n",
    "def is_tuple(x): return isinstance(x, tuple)\n",
    "\n",
    "class Stepper():\n",
    "    def __init__(self, vals, num_it, ft=None):\n",
    "        self.start,self.end = (vals[0],vals[1]) if is_tuple(vals) else (vals,0)\n",
    "        self.num_it = num_it\n",
    "        if ft is None: self.ft = annealing_linear if is_tuple(vals) else annealing_no\n",
    "        else:          self.ft = ft\n",
    "        self.n = 0\n",
    "    \n",
    "    def step(self):\n",
    "        self.n += 1\n",
    "        return self.ft(self.start, self.end, self.n/self.num_it)\n",
    "    \n",
    "    @property\n",
    "    def is_done(self):  return self.n >= self.num_it"
   ]
  },
  {
   "cell_type": "code",
   "execution_count": 26,
   "metadata": {},
   "outputs": [],
   "source": [
    "#export\n",
    "class OneCycleScheduler(Callback):\n",
    "    def __init__(self, learn, lr_max, epochs, moms=(0.95,0.85), div_factor=10, pct_end=0.1):\n",
    "        self.learn = learn\n",
    "        a = int(len(learn.data.train_dl) * epochs * (1 - pct_end) / 2)\n",
    "        b = len(learn.data.train_dl) * epochs - 2*a\n",
    "        self.lr_scheds = [Stepper((lr_max/div_factor, lr_max), a),\n",
    "                          Stepper((lr_max, lr_max/div_factor), a),\n",
    "                          Stepper((lr_max/div_factor, lr_max/(div_factor*100)), b)]\n",
    "        self.mom_scheds = [Stepper(moms, a), Stepper((moms[1], moms[0]), a), Stepper(moms[0], b)]\n",
    "    \n",
    "    def on_train_begin(self, **kwargs):\n",
    "        self.opt = self.learn.opt\n",
    "        self.opt.lr, self.opt.mom = self.lr_scheds[0].start, self.mom_scheds[0].start\n",
    "        self.idx_s = 0\n",
    "    \n",
    "    def on_batch_end(self, **kwargs):\n",
    "        if self.idx_s >= len(self.lr_scheds): return True\n",
    "        self.opt.lr = self.lr_scheds[self.idx_s].step()\n",
    "        self.opt.mom = self.mom_scheds[self.idx_s].step()\n",
    "        if self.lr_scheds[self.idx_s].is_done:\n",
    "            self.idx_s += 1"
   ]
  },
  {
   "cell_type": "code",
   "execution_count": 27,
   "metadata": {},
   "outputs": [],
   "source": [
    "model = Darknet([1, 2, 2, 2, 2], num_classes=2, nf=16)\n",
    "learn = Learner(data, model)\n",
    "sched = OneCycleScheduler(learn, 0.1, 5)"
   ]
  },
  {
   "cell_type": "code",
   "execution_count": null,
   "metadata": {},
   "outputs": [],
   "source": [
    "learn.fit(3,0.1,callbacks=[sched])"
   ]
  },
  {
   "cell_type": "code",
   "execution_count": null,
   "metadata": {},
   "outputs": [],
   "source": [
    "iterations = list(range(len(learn.recorder.lrs)))\n",
    "fig, axs = plt.subplots(1,2, figsize=(12,4))\n",
    "axs[0].plot(iterations, learn.recorder.lrs)\n",
    "axs[1].plot(iterations, learn.recorder.moms)"
   ]
  },
  {
   "cell_type": "markdown",
   "metadata": {},
   "source": [
    "## LR Finder"
   ]
  },
  {
   "cell_type": "code",
   "execution_count": 28,
   "metadata": {},
   "outputs": [],
   "source": [
    "#export\n",
    "@dataclass\n",
    "class Learner():\n",
    "    data: DataBunch\n",
    "    model: nn.Module\n",
    "    opt_fn: Callable = optim.SGD\n",
    "#     loss_fn: LossType = F.cross_entropy\n",
    "    loss_fn: Callable = F.cross_entropy\n",
    "    metrics: Collection[Callable] = None\n",
    "    true_wd: bool = False\n",
    "    def __post_init__(self): self.model = self.model.to(self.data.device)\n",
    "\n",
    "    def fit(self, epochs, lr, wd=0., callbacks=None):\n",
    "        if not hasattr(self, 'opt'): self.create_opt(lr, wd)\n",
    "        self.recorder = Recorder(self.opt, self.data.train_dl)\n",
    "        if callbacks is None: callbacks = []\n",
    "        callbacks = [self.recorder]+callbacks\n",
    "        fit(epochs, self.model, self.loss_fn, self.opt, self.data, callbacks=callbacks, metrics=self.metrics)\n",
    "    \n",
    "    def create_opt(self, lr, wd=0.):\n",
    "        self.opt = OptimWrapper(self.opt_fn(self.model.parameters(), lr), wd=wd, true_wd=self.true_wd)"
   ]
  },
  {
   "cell_type": "code",
   "execution_count": 29,
   "metadata": {},
   "outputs": [],
   "source": [
    "#export\n",
    "class LRFinder(Callback):\n",
    "    def __init__(self, opt, data, start_lr=1e-5, end_lr=10, num_it=200):\n",
    "        self.opt,self.data = opt,data\n",
    "        self.sched = Stepper((start_lr, end_lr), num_it, annealing_exp)\n",
    "        #To avoid validating if the train_dl has less than num_it batches, we put aside the valid_dl and remove it\n",
    "        #during the call to fit.\n",
    "        self.valid_dl = data.valid_dl\n",
    "        self.data.valid_dl = None\n",
    "    \n",
    "    def on_train_begin(self, **kwargs):\n",
    "        self.opt.lr = self.sched.start\n",
    "        self.stop,self.best_loss = False,0.\n",
    "    \n",
    "    def on_batch_end(self, iteration, smooth_loss, **kwargs):\n",
    "        if iteration==0 or smooth_loss < self.best_loss: self.best_loss = smooth_loss\n",
    "        self.opt.lr = self.sched.step()\n",
    "        if self.sched.is_done or smooth_loss > 4*self.best_loss:\n",
    "            #We use the smoothed loss to decide on the stopping since it's less shaky.\n",
    "            self.stop=True\n",
    "            return True\n",
    "    \n",
    "    def on_epoch_end(self, **kwargs): return self.stop\n",
    "    \n",
    "    def on_train_end(self, **kwargs):\n",
    "        #Clean up and put back the valid_dl in its place.\n",
    "        self.data.valid_dl = self.valid_dl"
   ]
  },
  {
   "cell_type": "code",
   "execution_count": 30,
   "metadata": {},
   "outputs": [],
   "source": [
    "#export\n",
    "def lr_find(learn, start_lr=1e-5, end_lr=10, num_it=100):\n",
    "    #TODO: add model.save and model.load.\n",
    "    learn.create_opt(start_lr)\n",
    "    cb = LRFinder(learn.opt, learn.data, start_lr, end_lr, num_it)\n",
    "    a = int(np.ceil(num_it/len(learn.data.train_dl)))\n",
    "    learn.fit(a, start_lr, callbacks=[cb])"
   ]
  },
  {
   "cell_type": "markdown",
   "metadata": {},
   "source": [
    "We add a few more plotting tools in the recorder."
   ]
  },
  {
   "cell_type": "code",
   "execution_count": 31,
   "metadata": {},
   "outputs": [],
   "source": [
    "#export\n",
    "@dataclass\n",
    "class Recorder(Callback):\n",
    "    opt: torch.optim\n",
    "    train_dl: DeviceDataLoader = None\n",
    "\n",
    "    def on_train_begin(self, **kwargs):\n",
    "        self.losses,self.val_losses,self.lrs,self.moms,self.metrics,self.nb_batches = [],[],[],[],[],[]\n",
    "    \n",
    "    def on_batch_begin(self, **kwargs):\n",
    "        self.lrs.append(self.opt.lr)\n",
    "        self.moms.append(self.opt.mom)\n",
    "    \n",
    "    def on_backward_begin(self, smooth_loss, **kwargs):\n",
    "        #We record the loss here before any other callback has a chance to modify it.\n",
    "        self.losses.append(smooth_loss)\n",
    "        if self.train_dl is not None and self.train_dl.progress_func is not None: \n",
    "            self.train_dl.gen.set_postfix_str(smooth_loss)\n",
    "    \n",
    "    def on_epoch_end(self, epoch, num_batch, smooth_loss, last_metrics, **kwargs):\n",
    "        self.nb_batches.append(num_batch)\n",
    "        if last_metrics is not None:\n",
    "            self.val_losses.append(last_metrics[0])\n",
    "            if len(last_metrics) > 1: self.metrics.append(last_metrics[1:])\n",
    "            print(epoch, smooth_loss, *last_metrics)\n",
    "        else:  print(epoch, smooth_loss)\n",
    "    \n",
    "    def plot_lr(self, show_moms=False):\n",
    "        iterations = list(range(len(self.lrs)))\n",
    "        if show_moms:\n",
    "            _, axs = plt.subplots(1,2, figsize=(12,4))\n",
    "            axs[0].plot(iterations, self.lrs)\n",
    "            axs[1].plot(iterations, self.moms)\n",
    "        else: plt.plot(iterations, self.lrs)\n",
    "    \n",
    "    def plot(self, skip_start=10, skip_end=5):\n",
    "        lrs = self.lrs[skip_start:-skip_end] if skip_end > 0 else self.lrs[skip_start:]\n",
    "        losses = self.losses[skip_start:-skip_end] if skip_end > 0 else self.losses[skip_start:]\n",
    "        _, ax = plt.subplots(1,1)\n",
    "        ax.plot(lrs, losses)\n",
    "        ax.set_xscale('log')\n",
    "    \n",
    "    def plot_losses(self):\n",
    "        _, ax = plt.subplots(1,1)\n",
    "        iterations = list(range(len(self.losses)))\n",
    "        ax.plot(iterations, self.losses)\n",
    "        val_iter = self.nb_batches\n",
    "        val_iter = np.cumsum(val_iter)\n",
    "        ax.plot(val_iter, self.val_losses)\n",
    "    \n",
    "    def plot_metrics(self):\n",
    "        assert len(self.metrics) != 0, \"There is no metrics to plot.\"\n",
    "        _, axes = plt.subplots(len(self.metrics[0]),1,figsize=(6, 4*len(self.metrics[0])))\n",
    "        val_iter = self.nb_batches\n",
    "        val_iter = np.cumsum(val_iter)\n",
    "        axes = axes.flatten() if len(self.metrics[0]) != 1 else [axes]\n",
    "        for i, ax in enumerate(axes):\n",
    "            values = [met[i] for met in self.metrics]\n",
    "            ax.plot(val_iter, values)"
   ]
  },
  {
   "cell_type": "code",
   "execution_count": null,
   "metadata": {},
   "outputs": [],
   "source": [
    "model = Darknet([1, 2, 2, 2, 2], num_classes=2, nf=16)\n",
    "learn = Learner(data, model)"
   ]
  },
  {
   "cell_type": "code",
   "execution_count": null,
   "metadata": {},
   "outputs": [],
   "source": [
    "lr_find(learn)"
   ]
  },
  {
   "cell_type": "code",
   "execution_count": null,
   "metadata": {},
   "outputs": [],
   "source": [
    "learn.recorder.plot()"
   ]
  },
  {
   "cell_type": "code",
   "execution_count": null,
   "metadata": {},
   "outputs": [],
   "source": [
    "model = Darknet([1, 2, 2, 2, 2], num_classes=2, nf=16)\n",
    "learn = Learner(data, model)\n",
    "learn.metrics = [accuracy]\n",
    "sched = OneCycleScheduler(learn, 0.1, 5)"
   ]
  },
  {
   "cell_type": "code",
   "execution_count": null,
   "metadata": {},
   "outputs": [],
   "source": [
    "learn.fit(5, 5e-3, callbacks=[sched])"
   ]
  },
  {
   "cell_type": "code",
   "execution_count": null,
   "metadata": {},
   "outputs": [],
   "source": [
    "learn.recorder.plot_losses()"
   ]
  },
  {
   "cell_type": "code",
   "execution_count": null,
   "metadata": {},
   "outputs": [],
   "source": [
    "learn.recorder.plot_metrics()"
   ]
  },
  {
   "cell_type": "markdown",
   "metadata": {},
   "source": [
    "## Eye of Sauron"
   ]
  },
  {
   "cell_type": "markdown",
   "metadata": {},
   "source": [
    "To grasp the potential of callbacks, here's a full example:"
   ]
  },
  {
   "cell_type": "code",
   "execution_count": null,
   "metadata": {},
   "outputs": [],
   "source": [
    "class EyeOfSauron(Callback):\n",
    "    \n",
    "    def __init__(self, learn):\n",
    "        #By passing the learner, this callback will have access to everything:\n",
    "        #All the inputs/outputs as they go, the losses, but also the data loaders, the optimizer.\n",
    "        self.learn = learn\n",
    "        \n",
    "        #At any time:\n",
    "        #Changing self.learn.data.train_dl or self.data.valid_dl will change them inside the fit function\n",
    "        #(we just need to pass the data object to the fit function and not data.train_dl/data.valid_dl)\n",
    "        #Changing self.learn.opt.opt (We have an HPOptimizer on top of the actual optimizer) will change it \n",
    "        #inside the fit function.\n",
    "        #Changing self.learn.data or self.learn.opt directly WILL NOT change the data or the optimizer inside the fit function.\n",
    "        \n",
    "        #In any of the callbacks you can unpack in the kwargs:\n",
    "        #- epoch, contains the number of the current\n",
    "        #- iteration, contains the number of iterations done since the beginning of training\n",
    "        #- num_batch, contains the number of the batch we're at in the dataloader\n",
    "        #- last_input, contains the last input that got through the model (eventually updated by a callback)\n",
    "        #- last_target, contains the last target that gor through the model (eventually updated by a callback)\n",
    "        #- last_output, contains the last output spitted by the model (eventually updated by a callback)\n",
    "        #- last_loss, contains the last loss computed (eventually updated by a callback)\n",
    "        #- smooth_loss, contains the smoothed version of the loss\n",
    "        #- last_metrics, contains the last validation loss and emtrics computed\n",
    "\n",
    "    def on_train_begin(self, **kwargs):\n",
    "        #Here we can initiliaze anything we need. \n",
    "        self.opt = self.learn.opt\n",
    "        #The optimizer has now been initialized. We can change any hyper-parameters by typing\n",
    "        #self.opt.lr = new_lr, self.opt.mom = new_mom, self.opt.wd = new_wd or self.opt.beta = new_beta\n",
    "        \n",
    "    def on_epoch_begin(self, **kwargs):  pass\n",
    "        #This is not technically useful since we have on_train_begin for epoch 0 and on_epoch_end for all the other epochs\n",
    "        #yet it makes writing code that needs to be done at the beginning of every epoch easy and more readable.\n",
    "        \n",
    "    def on_batch_begin(self, **kwargs): pass\n",
    "        #Here is the perfect place to prepare everything before the model is called.\n",
    "        #Example: change the values of the hyperparameters (if we don't do it on_batch_end instead)\n",
    "        \n",
    "        #If we return something, that will be the new value for xb,yb. \n",
    "    \n",
    "    def on_loss_begin(self, **kwargs): pass\n",
    "        #Here is the place to run some code that needs to be executed after the output has been computed but before the\n",
    "        #loss computation.\n",
    "        #Example: putting the output back in FP32 when training in mixed precision.\n",
    "        \n",
    "        #If we return something, that will be the new value for the output.\n",
    "    \n",
    "    def on_backward_begin(self, **kwargs): pass\n",
    "        #Here is the place to run some code that needs to be executed after the loss has been computed but before the\n",
    "        #gradient computation.\n",
    "        #Example: reg_fn in RNNs.\n",
    "        \n",
    "        #If we return something, that will be the new value for loss. Since the recorder is always called first,\n",
    "        #it will have the raw loss.\n",
    "        \n",
    "    def on_backward_end(self, **kwargs): pass\n",
    "        #Here is the place to run some code that needs to be executed after the gradients have been computed but\n",
    "        #before the optimizer is called.\n",
    "        #Example: deal with weight_decay in AdamW\n",
    "        \n",
    "    def on_step_end(self, **kwargs): pass\n",
    "        #Here is the place to run some code that needs to be executed after the optimizer step but before the gradients\n",
    "        #are zeroed\n",
    "        #Example: can't think of any that couldn't be done in on_batch_end but maybe someone will need this one day.\n",
    "        \n",
    "    def on_batch_end(self, **kwargs): pass\n",
    "        #Here is the place to run some code that needs to be executed after a batch is fully done.\n",
    "        #Example: change the values of the hyperparameters (if we don't do it on_batch_begin instead)\n",
    "        \n",
    "        #If we return true, the current epoch is interrupted (example: lr_finder stops the training when the loss explodes)\n",
    "        \n",
    "    def on_epoch_end(self, **kwargs): pass\n",
    "        #Here is the place to run some code that needs to be executed at the end of an epoch.\n",
    "        #Example: Save the model if we have a new best validation loss/metric.\n",
    "        \n",
    "        #If we return true, the training stops (example: early stopping)\n",
    "        \n",
    "    def on_train_end(self): pass\n",
    "        #Here is the place to tidy everything.\n",
    "        #Examples: save log_files, load best model found during training"
   ]
  },
  {
   "cell_type": "markdown",
   "metadata": {},
   "source": [
    "The idea is that one thing is entirely done in a callback so that it's easily read. For instance in the last LRFinder callback, on top of running the fit function with exponentially growing lrs, it needs to handle the fact some preparation and clean-up, and all this code should be in the callback, not the lr_find function."
   ]
  },
  {
   "cell_type": "markdown",
   "metadata": {},
   "source": [
    "## Tests for change of optimizers/dataloaders"
   ]
  },
  {
   "cell_type": "markdown",
   "metadata": {},
   "source": [
    "Changing directly opt.opt or data.train_dl/data.valid_dl changes the corresponding item in the fit function."
   ]
  },
  {
   "cell_type": "code",
   "execution_count": 32,
   "metadata": {},
   "outputs": [],
   "source": [
    "data = DataBunch.create(train_ds, valid_ds, bs=bs, train_tfm=tfms, dl_tfms=cifar_norm)\n",
    "data1 = DataBunch.create(train_ds, valid_ds, bs=32, train_tfm=tfms, dl_tfms=cifar_norm)"
   ]
  },
  {
   "cell_type": "code",
   "execution_count": 33,
   "metadata": {},
   "outputs": [],
   "source": [
    "class CbTest():\n",
    "    def __init__(self, learn, new_data):\n",
    "        self.learn,self.new_data = learn,new_data\n",
    "        \n",
    "    def call_me(self):\n",
    "        self.learn.data.train_dl = self.new_data.train_dl\n",
    "        self.learn.data.valid_dl = self.new_data.valid_dl"
   ]
  },
  {
   "cell_type": "code",
   "execution_count": 34,
   "metadata": {},
   "outputs": [],
   "source": [
    "learn.data = data"
   ]
  },
  {
   "cell_type": "code",
   "execution_count": 35,
   "metadata": {},
   "outputs": [],
   "source": [
    "cb = CbTest(learn, data1)"
   ]
  },
  {
   "cell_type": "code",
   "execution_count": 36,
   "metadata": {},
   "outputs": [],
   "source": [
    "def test(data, cb):\n",
    "    x,y = next(iter(data.train_dl))\n",
    "    print(x.size())\n",
    "    cb.call_me()\n",
    "    x,y = next(iter(data.train_dl))\n",
    "    print(x.size())"
   ]
  },
  {
   "cell_type": "code",
   "execution_count": 37,
   "metadata": {},
   "outputs": [
    {
     "data": {
      "application/vnd.jupyter.widget-view+json": {
       "model_id": "0446a29639be4788b24ecbc94554fe69",
       "version_major": 2,
       "version_minor": 0
      },
      "text/plain": [
       "HBox(children=(IntProgress(value=0, max=157), HTML(value='')))"
      ]
     },
     "metadata": {},
     "output_type": "display_data"
    },
    {
     "name": "stdout",
     "output_type": "stream",
     "text": [
      "torch.Size([64, 3, 32, 32])\n"
     ]
    },
    {
     "data": {
      "application/vnd.jupyter.widget-view+json": {
       "model_id": "2460dec619a34ec0b40b6c3bb77e08dc",
       "version_major": 2,
       "version_minor": 0
      },
      "text/plain": [
       "HBox(children=(IntProgress(value=0, max=313), HTML(value='')))"
      ]
     },
     "metadata": {},
     "output_type": "display_data"
    },
    {
     "name": "stdout",
     "output_type": "stream",
     "text": [
      "torch.Size([32, 3, 32, 32])\n"
     ]
    }
   ],
   "source": [
    "test(learn.data, cb)"
   ]
  },
  {
   "cell_type": "code",
   "execution_count": 39,
   "metadata": {},
   "outputs": [],
   "source": [
    "learn.opt = OptimWrapper(optim.SGD(model.parameters(), 1e-2))"
   ]
  },
  {
   "cell_type": "code",
   "execution_count": 40,
   "metadata": {},
   "outputs": [],
   "source": [
    "class CbTest():\n",
    "    def __init__(self, learn, new_opt): self.learn,self.new_opt = learn,new_opt\n",
    "    def call_me(self): self.learn.opt.opt = self.new_opt"
   ]
  },
  {
   "cell_type": "code",
   "execution_count": 41,
   "metadata": {},
   "outputs": [],
   "source": [
    "cb = CbTest(learn, optim.Adam)"
   ]
  },
  {
   "cell_type": "code",
   "execution_count": 42,
   "metadata": {},
   "outputs": [],
   "source": [
    "def test(opt, cb):\n",
    "    print(opt.opt)\n",
    "    cb.call_me()\n",
    "    print(opt.opt)"
   ]
  },
  {
   "cell_type": "code",
   "execution_count": 43,
   "metadata": {},
   "outputs": [
    {
     "name": "stdout",
     "output_type": "stream",
     "text": [
      "SGD (\n",
      "Parameter Group 0\n",
      "    dampening: 0\n",
      "    lr: 0.01\n",
      "    momentum: 0\n",
      "    nesterov: False\n",
      "    weight_decay: 0\n",
      ")\n",
      "<class 'torch.optim.adam.Adam'>\n"
     ]
    }
   ],
   "source": [
    "test(learn.opt,cb)"
   ]
  },
  {
   "cell_type": "markdown",
   "metadata": {},
   "source": [
    "Changing directly opt or data doesn't change anything inside the fit function."
   ]
  },
  {
   "cell_type": "code",
   "execution_count": 44,
   "metadata": {},
   "outputs": [],
   "source": [
    "data = DataBunch.create(train_ds, valid_ds, bs=bs, train_tfm=tfms, dl_tfms=cifar_norm)\n",
    "data1 = DataBunch.create(train_ds, valid_ds, bs=32, train_tfm=tfms, dl_tfms=cifar_norm)"
   ]
  },
  {
   "cell_type": "code",
   "execution_count": 45,
   "metadata": {},
   "outputs": [],
   "source": [
    "class CbTest():\n",
    "    def __init__(self, learn, new_data): self.learn,self.new_data = learn,new_data\n",
    "    def call_me(self): self.learn.data = self.new_data"
   ]
  },
  {
   "cell_type": "code",
   "execution_count": 46,
   "metadata": {},
   "outputs": [],
   "source": [
    "learn.data = data"
   ]
  },
  {
   "cell_type": "code",
   "execution_count": 47,
   "metadata": {},
   "outputs": [],
   "source": [
    "cb = CbTest(learn, data1)"
   ]
  },
  {
   "cell_type": "code",
   "execution_count": 48,
   "metadata": {},
   "outputs": [],
   "source": [
    "def test(data, cb):\n",
    "    x,y = next(iter(data.train_dl))\n",
    "    print(x.size())\n",
    "    cb.call_me()\n",
    "    x,y = next(iter(data.train_dl))\n",
    "    print(x.size())"
   ]
  },
  {
   "cell_type": "code",
   "execution_count": 49,
   "metadata": {},
   "outputs": [
    {
     "data": {
      "application/vnd.jupyter.widget-view+json": {
       "model_id": "6eec4cf4fac1456e9d08726a58cf0855",
       "version_major": 2,
       "version_minor": 0
      },
      "text/plain": [
       "HBox(children=(IntProgress(value=0, max=157), HTML(value='')))"
      ]
     },
     "metadata": {},
     "output_type": "display_data"
    },
    {
     "name": "stdout",
     "output_type": "stream",
     "text": [
      "torch.Size([64, 3, 32, 32])\n"
     ]
    },
    {
     "data": {
      "application/vnd.jupyter.widget-view+json": {
       "model_id": "ab0250d43d984fe6b373a92af80c3822",
       "version_major": 2,
       "version_minor": 0
      },
      "text/plain": [
       "HBox(children=(IntProgress(value=0, max=157), HTML(value='')))"
      ]
     },
     "metadata": {},
     "output_type": "display_data"
    },
    {
     "name": "stdout",
     "output_type": "stream",
     "text": [
      "torch.Size([64, 3, 32, 32])\n"
     ]
    }
   ],
   "source": [
    "test(learn.data, cb)"
   ]
  },
  {
   "cell_type": "code",
   "execution_count": 50,
   "metadata": {},
   "outputs": [],
   "source": [
    "learn.opt = optim.SGD"
   ]
  },
  {
   "cell_type": "code",
   "execution_count": 51,
   "metadata": {},
   "outputs": [],
   "source": [
    "class CbTest():\n",
    "    def __init__(self, learn, new_opt): self.learn,self.new_opt = learn,new_opt\n",
    "    def call_me(self): self.learn.opt = self.new_opt"
   ]
  },
  {
   "cell_type": "code",
   "execution_count": 52,
   "metadata": {},
   "outputs": [],
   "source": [
    "cb = CbTest(learn, optim.Adam)"
   ]
  },
  {
   "cell_type": "code",
   "execution_count": 53,
   "metadata": {},
   "outputs": [],
   "source": [
    "def test(opt, cb):\n",
    "    print(opt)\n",
    "    cb.call_me()\n",
    "    print(opt)"
   ]
  },
  {
   "cell_type": "code",
   "execution_count": 54,
   "metadata": {},
   "outputs": [
    {
     "name": "stdout",
     "output_type": "stream",
     "text": [
      "<class 'torch.optim.sgd.SGD'>\n",
      "<class 'torch.optim.sgd.SGD'>\n"
     ]
    }
   ],
   "source": [
    "test(learn.opt,cb)"
   ]
  },
  {
   "cell_type": "markdown",
   "metadata": {},
   "source": [
    "## Fin"
   ]
  },
  {
   "cell_type": "code",
   "execution_count": null,
   "metadata": {},
   "outputs": [],
   "source": []
  }
 ],
 "metadata": {
  "kernelspec": {
   "display_name": "Python 3",
   "language": "python",
   "name": "python3"
  },
  "language_info": {
   "codemirror_mode": {
    "name": "ipython",
    "version": 3
   },
   "file_extension": ".py",
   "mimetype": "text/x-python",
   "name": "python",
   "nbconvert_exporter": "python",
   "pygments_lexer": "ipython3",
   "version": "3.6.6"
  }
 },
 "nbformat": 4,
 "nbformat_minor": 2
}
