{
 "cells": [
  {
   "cell_type": "code",
   "execution_count": null,
   "metadata": {},
   "outputs": [],
   "source": [
    "%load_ext autoreload\n",
    "%autoreload 2"
   ]
  },
  {
   "cell_type": "code",
   "execution_count": null,
   "metadata": {},
   "outputs": [],
   "source": [
    "#export\n",
    "from nb_007 import *\n",
    "import pandas as pd, re, spacy, html, os\n",
    "from spacy.symbols import ORTH\n",
    "from concurrent.futures import ThreadPoolExecutor, ProcessPoolExecutor"
   ]
  },
  {
   "cell_type": "markdown",
   "metadata": {},
   "source": [
    "# IMDB"
   ]
  },
  {
   "cell_type": "markdown",
   "metadata": {},
   "source": [
    "## Data"
   ]
  },
  {
   "cell_type": "markdown",
   "metadata": {},
   "source": [
    "### Reading the texts"
   ]
  },
  {
   "cell_type": "code",
   "execution_count": null,
   "metadata": {},
   "outputs": [],
   "source": [
    "PATH = Path('data/aclImdb/')\n",
    "CLAS_PATH = PATH/'clas'\n",
    "LM_PATH = PATH/'lm'\n",
    "os.makedirs(CLAS_PATH, exist_ok=True)\n",
    "os.makedirs(LM_PATH, exist_ok=True)"
   ]
  },
  {
   "cell_type": "code",
   "execution_count": null,
   "metadata": {},
   "outputs": [],
   "source": [
    "BOS,FLD,UNK,PAD = 'xxbos','xxfld','xxunk','xxpad'\n",
    "TOK_UP,TK_REP,TK_WREP = 'xxup','xxrep','xxwrep'"
   ]
  },
  {
   "cell_type": "code",
   "execution_count": null,
   "metadata": {},
   "outputs": [],
   "source": [
    "CLASSES = ['neg', 'pos', 'unsup']\n",
    "\n",
    "def get_texts(path):\n",
    "    texts,labels = [],[]\n",
    "    for idx,label in enumerate(CLASSES):\n",
    "        for fname in (path/label).glob('*.*'):\n",
    "            texts.append(fname.open('r', encoding='utf8').read())\n",
    "            labels.append(idx)\n",
    "    return np.array(texts),np.array(labels)\n",
    "\n",
    "train_texts,train_labels = get_texts(PATH/'train')\n",
    "valid_texts,valid_labels = get_texts(PATH/'test')"
   ]
  },
  {
   "cell_type": "code",
   "execution_count": null,
   "metadata": {},
   "outputs": [],
   "source": [
    "train_idx = np.random.permutation(len(train_texts))\n",
    "valid_idx = np.random.permutation(len(valid_texts))"
   ]
  },
  {
   "cell_type": "code",
   "execution_count": null,
   "metadata": {},
   "outputs": [],
   "source": [
    "train_texts,train_labels = train_texts[train_idx],train_labels[train_idx]\n",
    "valid_texts,valid_labels = valid_texts[valid_idx],valid_labels[valid_idx]"
   ]
  },
  {
   "cell_type": "code",
   "execution_count": null,
   "metadata": {},
   "outputs": [],
   "source": [
    "train_df = pd.DataFrame({'text':train_texts, 'labels':train_labels}, columns=['labels','text'])\n",
    "valid_df = pd.DataFrame({'text':valid_texts, 'labels':valid_labels}, columns=['labels','text'])"
   ]
  },
  {
   "cell_type": "markdown",
   "metadata": {},
   "source": [
    "We put aside the unsup labels for the classification but keep them to finetune the language model."
   ]
  },
  {
   "cell_type": "code",
   "execution_count": null,
   "metadata": {},
   "outputs": [],
   "source": [
    "train_df[train_df['labels']!=2].to_csv(CLAS_PATH/'train.csv', header=False, index=False)\n",
    "valid_df.to_csv(CLAS_PATH/'valid.csv', header=False, index=False)"
   ]
  },
  {
   "cell_type": "code",
   "execution_count": null,
   "metadata": {},
   "outputs": [],
   "source": [
    "all_texts = np.concatenate([train_texts,valid_texts])\n",
    "idx = np.random.permutation(len(all_texts))\n",
    "cut = int(0.1 * len(idx))\n",
    "train_df = pd.DataFrame({'text':all_texts[idx[cut:]], 'labels':[0] * (len(all_texts)-cut)}, columns=['labels','text'])\n",
    "valid_df = pd.DataFrame({'text':all_texts[idx[:cut]], 'labels':[0] * cut}, columns=['labels','text'])"
   ]
  },
  {
   "cell_type": "code",
   "execution_count": null,
   "metadata": {},
   "outputs": [],
   "source": [
    "train_df.to_csv(LM_PATH/'train.csv', header=False, index=False)\n",
    "valid_df.to_csv(LM_PATH/'valid.csv', header=False, index=False)"
   ]
  },
  {
   "cell_type": "markdown",
   "metadata": {},
   "source": [
    "### Tokenization + Numericalization"
   ]
  },
  {
   "cell_type": "code",
   "execution_count": null,
   "metadata": {},
   "outputs": [],
   "source": [
    "def partition(a, sz): \n",
    "    \"\"\"splits iterables a in equal parts of size sz\"\"\"\n",
    "    return [a[i:i+sz] for i in range(0, len(a), sz)]\n",
    "\n",
    "def partition_by_cores(a, n_cpus):\n",
    "    return partition(a, len(a)//n_cpus + 1)\n",
    "\n",
    "def num_cpus():\n",
    "    try:\n",
    "        return len(os.sched_getaffinity(0))\n",
    "    except AttributeError:\n",
    "        return os.cpu_count()"
   ]
  },
  {
   "cell_type": "code",
   "execution_count": null,
   "metadata": {},
   "outputs": [],
   "source": [
    "class SpacyTokenizer():\n",
    "    \"Little wrapper around a spacy tokenizer\"\n",
    "    \n",
    "    def __init__(self, lang):\n",
    "        self.tok = spacy.load(lang)\n",
    "    \n",
    "    def tokenizer(self, t):\n",
    "        return [t.text for t in self.tok.tokenizer(t)]\n",
    "    \n",
    "    def add_special_cases(self, toks):\n",
    "        for w in toks:\n",
    "            self.tok.tokenizer.add_special_case(w, [{ORTH: w}])"
   ]
  },
  {
   "cell_type": "code",
   "execution_count": null,
   "metadata": {},
   "outputs": [],
   "source": [
    "train_df = pd.read_csv(LM_PATH/'train.csv', header=None, chunksize=10)\n",
    "trn_df = next(train_df)\n",
    "test_tok = SpacyTokenizer('en')\n",
    "test_txt = trn_df.iloc[0][1]\n",
    "test_tok.tokenizer(test_txt)"
   ]
  },
  {
   "cell_type": "code",
   "execution_count": null,
   "metadata": {},
   "outputs": [],
   "source": [
    "class Tokenizer():\n",
    "    def __init__(self, tok_fn=SpacyTokenizer, lang:str='en', rules:Collection[Callable[[str],str]]=None, \n",
    "                 special_cases:Collection[str]=None, n_cpus = None):\n",
    "        self.tok_fn,self.lang,self.special_cases = tok_fn,lang,special_cases\n",
    "        self.rules = rules if rules else []\n",
    "        for rule in self.rules:\n",
    "            if hasattr(rule, 'compile'): rule.compile()\n",
    "        self.n_cpus = n_cpus or num_cpus()//2\n",
    "    \n",
    "    def __repr__(self):\n",
    "        res = f'Tokenizer {self.tok_fn.__name__} in {self.lang} with the following rules:\\n'\n",
    "        for rule in self.rules: res += f' - {rule.__name__}\\n'\n",
    "        return res\n",
    "    \n",
    "    def proc_text(self, t, tok):\n",
    "        for rule in self.rules: t = rule(t)\n",
    "        return tok.tokenizer(t)\n",
    "    \n",
    "    def process_all_1thread(self, texts):\n",
    "        tok = self.tok_fn(self.lang)\n",
    "        if self.special_cases: tok.add_special_cases(self.special_cases)\n",
    "        return [self.proc_text(t, tok) for t in texts]\n",
    "\n",
    "    def process_all(self, texts):\n",
    "        if self.n_cpus <= 1: return self.process_all_1thread(texts)\n",
    "        with ProcessPoolExecutor(self.n_cpus) as e:\n",
    "            return sum(e.map(self.process_all_1thread, partition_by_cores(texts, self.n_cpus)), [])"
   ]
  },
  {
   "cell_type": "code",
   "execution_count": null,
   "metadata": {},
   "outputs": [],
   "source": [
    "def sub_br(t):\n",
    "    \"Replaces the <br /> by \\n\"\n",
    "    re_br = re.compile(r'<\\s*br\\s*/?>', re.IGNORECASE)\n",
    "    return re_br.sub(\"\\n\", t)\n",
    "\n",
    "def spec_add_spaces(t):\n",
    "    return re.sub(r'([/#])', r' \\1 ', t)\n",
    "\n",
    "def rm_useless_spaces(t):\n",
    "    return re.sub(' {2,}', ' ', t)\n",
    "\n",
    "def replace_rep(t):\n",
    "    def _replace_rep(m):\n",
    "        c,cc = m.groups()\n",
    "        return f' {TK_REP} {len(cc)+1} {c} '\n",
    "    re_rep = re.compile(r'(\\S)(\\1{3,})')\n",
    "    return re_rep.sub(_replace_rep, t)\n",
    "    \n",
    "def replace_wrep(t):\n",
    "    def _replace_wrep(m):\n",
    "        c,cc = m.groups()\n",
    "        return f' {TK_WREP} {len(cc.split())+1} {c} '\n",
    "    re_wrep = re.compile(r'(\\b\\w+\\W+)(\\1{3,})')\n",
    "    return re_wrep.sub(_replace_wrep, t)\n",
    "\n",
    "def deal_caps(t):\n",
    "    res = []\n",
    "    for s in re.findall(r'\\w+|\\W+', t):\n",
    "        res += ([TOK_UP,s.lower()] if (s.isupper() and (len(s)>2)) else [s.lower()])\n",
    "    return ' '.join(res)\n",
    "\n",
    "def fixup(x):\n",
    "    re1 = re.compile(r'  +')\n",
    "    x = x.replace('#39;', \"'\").replace('amp;', '&').replace('#146;', \"'\").replace(\n",
    "        'nbsp;', ' ').replace('#36;', '$').replace('\\\\n', \"\\n\").replace('quot;', \"'\").replace(\n",
    "        '<br />', \"\\n\").replace('\\\\\"', '\"').replace('<unk>',UNK).replace(' @.@ ','.').replace(\n",
    "        ' @-@ ','-').replace('\\\\', ' \\\\ ')\n",
    "    return re1.sub(' ', html.unescape(x))\n",
    "    \n",
    "rules = [sub_br, spec_add_spaces, rm_useless_spaces, replace_rep, replace_wrep, deal_caps, fixup]"
   ]
  },
  {
   "cell_type": "code",
   "execution_count": null,
   "metadata": {},
   "outputs": [],
   "source": [
    "tokenizer = Tokenizer(rules=rules, special_cases=[BOS, FLD, 'xxunk', 'xxpad'], n_cpus=1)"
   ]
  },
  {
   "cell_type": "code",
   "execution_count": null,
   "metadata": {},
   "outputs": [],
   "source": [
    "tokenizer"
   ]
  },
  {
   "cell_type": "code",
   "execution_count": null,
   "metadata": {},
   "outputs": [],
   "source": [
    "assert sub_br('end <br /><br /> begins again')=='end \\n\\n begins again'"
   ]
  },
  {
   "cell_type": "code",
   "execution_count": null,
   "metadata": {},
   "outputs": [],
   "source": [
    "assert spec_add_spaces('\\#%') == '\\\\ # %'"
   ]
  },
  {
   "cell_type": "code",
   "execution_count": null,
   "metadata": {},
   "outputs": [],
   "source": [
    "assert rm_useless_spaces('this             is') == 'this is'"
   ]
  },
  {
   "cell_type": "code",
   "execution_count": null,
   "metadata": {},
   "outputs": [],
   "source": [
    "assert replace_rep('ffffffive .') == ' xxrep 6 f ive .'"
   ]
  },
  {
   "cell_type": "code",
   "execution_count": null,
   "metadata": {},
   "outputs": [],
   "source": [
    "assert replace_wrep('five five five five .') == ' xxwrep 4 five  .'"
   ]
  },
  {
   "cell_type": "code",
   "execution_count": null,
   "metadata": {},
   "outputs": [],
   "source": [
    "assert deal_caps('ANGRY') == 'xxup angry'"
   ]
  },
  {
   "cell_type": "code",
   "execution_count": null,
   "metadata": {},
   "outputs": [],
   "source": [
    "def get_chunk_length(csv_name, chunksize):\n",
    "    dfs = pd.read_csv(csv_name, header=None, chunksize=chunksize)\n",
    "    l = 0\n",
    "    for _ in dfs: l+=1\n",
    "    return l\n",
    "\n",
    "def get_total_length(csv_name, chunksize):\n",
    "    dfs = pd.read_csv(csv_name, header=None, chunksize=chunksize)\n",
    "    l = 0\n",
    "    for df in dfs: l+=len(df)\n",
    "    return l"
   ]
  },
  {
   "cell_type": "code",
   "execution_count": null,
   "metadata": {},
   "outputs": [],
   "source": [
    "def maybe_copy(old_fname, new_fname):\n",
    "        if not os.path.isfile(new_fname) or os.path.getmtime(new_fname) < os.path.getmtime(old_fname):\n",
    "            shutil.copyfile(old_fname, new_fname)"
   ]
  },
  {
   "cell_type": "code",
   "execution_count": null,
   "metadata": {},
   "outputs": [],
   "source": [
    "TextMtd = IntEnum('TextMtd', 'CSV TOK IDS')\n",
    "\n",
    "import shutil\n",
    "\n",
    "class TextDataset():\n",
    "    \"Put a train.csv and valid.csv files in a folder and this will take care of the rest.\"\n",
    "    \n",
    "    def __init__(self, path, tokenizer, max_vocab=30000, chunksize=10000, train_name='train', valid_name='valid',\n",
    "                 min_freq=2, n_labels=1, create_mtd=TextMtd.CSV):\n",
    "        self.path,self.tokenizer,self.max_vocab,self.min_freq = Path(path/'tmp'),tokenizer,max_vocab,min_freq\n",
    "        self.chunksize,self.train_name,self.valid_name,self.n_labels = chunksize,train_name,valid_name,n_labels\n",
    "        self.create_mtd = create_mtd\n",
    "        os.makedirs(self.path, exist_ok=True)\n",
    "        if not self.check_toks(): self.tokenize()\n",
    "        if not self.check_ids():  self.numericalize()\n",
    "        \n",
    "        self.itos = pickle.load(open(self.path/'itos.pkl', 'rb'))\n",
    "        self.train_ids = np.load(self.path/'train_ids.npy')\n",
    "        self.valid_ids = np.load(self.path/'valid_ids.npy')\n",
    "        self.train_lbl = np.load(self.path/'train_lbl.npy')\n",
    "        self.valid_lbl = np.load(self.path/'valid_lbl.npy')\n",
    "    \n",
    "    def check_ids(self):\n",
    "        if self.create_mtd >= TextMtd.IDS: return True\n",
    "        if not np.all([os.path.isfile(fname) for fname in self.id_files]): return False\n",
    "        itos = pickle.load(open(self.path/'itos.pkl', 'rb'))\n",
    "        with open(self.path/'numericalize.log') as f:\n",
    "            if len(itos) != int(f.read()) or len(itos) > self.max_vocab + 2: return False\n",
    "        for tok_file,id_file in zip(self.tok_files[:-1], self.id_files[:-2]):\n",
    "            if os.path.getmtime(tok_file) > os.path.getmtime(id_file): return False\n",
    "            if os.path.getmtime(id_file[-2]) > os.path.getmtime(id_file): return False\n",
    "            toks,ids = np.load(tok_file),np.load(id_file)\n",
    "            if len(toks) != len(ids): return False\n",
    "        return True\n",
    "        \n",
    "    def check_toks(self):\n",
    "        if self.create_mtd >= TextMtd.TOK: return True\n",
    "        if not np.all([os.path.isfile(fname) for fname in self.tok_files]): return False\n",
    "        with open(self.path/'tokenize.log') as f:\n",
    "            if repr(self.tokenizer) != f.read(): return False\n",
    "        for csv_file,tok_file in zip(self.csv_files, self.tok_files[:-1]):\n",
    "            if os.path.getmtime(csv_file) > os.path.getmtime(tok_file): return False\n",
    "        return True\n",
    "    \n",
    "    def tokenize(self):\n",
    "        print('Tokenizing the texts. This might take a while so you should grab a coffee.')\n",
    "        for name in [self.train_name, self.valid_name]:\n",
    "            print(f'Tokenizing {name}')\n",
    "            curr_len = get_chunk_length(self.path/f'{name}.csv', self.chunksize)\n",
    "            dfs = pd.read_csv(self.path/f'{name}.csv', header=None, chunksize=self.chunksize)\n",
    "            tokens,labels = [],[]\n",
    "            for _ in progress_bar(range(curr_len), leave=False):\n",
    "                df = next(dfs)\n",
    "                lbls = df.iloc[:,range(self.n_labels)].values.astype(np.int64)\n",
    "                texts = f'\\n{BOS} {FLD} 1 ' + df[self.n_labels].astype(str)\n",
    "                for i in range(self.n_labels+1, len(df.columns)): \n",
    "                    texts += f' {FLD} {i-n_lbls} ' + df[i].astype(str)\n",
    "                toks = self.tokenizer.process_all(texts)\n",
    "                tokens += toks\n",
    "                labels += labels\n",
    "            np.save(self.path/f'{name}_tok.npy', np.array(tokens))\n",
    "            np.save(self.path/f'{name}_lbl.npy', np.array(labels))\n",
    "        with open(self.path/'tokenize.log','w') as f: f.write(repr(self.tokenizer))\n",
    "        \n",
    "    def numericalize(self):\n",
    "        print('Changing tokens to numbers.')\n",
    "        train_tokens = np.load(self.path/f'{self.train_name}_tok.npy')\n",
    "        freq = Counter(p for o in train_tokens for p in o)\n",
    "        itos = [o for o,c in freq.most_common(self.max_vocab) if c > self.min_freq]\n",
    "        itos.insert(0, 'xxpad')\n",
    "        itos.insert(0, 'xxunk')\n",
    "        stoi = collections.defaultdict(lambda:0, {v:k for k,v in enumerate(itos)})\n",
    "        pickle.dump(itos, open(self.path/'itos.pkl', 'wb'))\n",
    "        with open(self.path/'numericalize.log','w') as f: f.write(str(len(itos)))\n",
    "        for name in [self.train_name, self.valid_name]:\n",
    "            toks = np.load(self.path/f'{name}_tok.npy')\n",
    "            ids = np.array([([stoi[w] for w in s]) for s in toks])\n",
    "            np.save(self.path/f'{name}_ids.npy', ids)\n",
    "    \n",
    "    def clear(self):\n",
    "        files = [self.path/f'{name}_ids.npy' for name in [self.train_name,self.valid_name]] \n",
    "        files += [self.path/'itos.pkl']\n",
    "        files += [self.path/f'{name}_tok.npy' for name in [self.train_name,self.valid_name]]\n",
    "        for file in files:\n",
    "            if os.path.isfile(file): os.remove(file)\n",
    "    \n",
    "    @property\n",
    "    def csv_files(self): return [self.path/f'{name}.csv' for name in [self.train_name,self.valid_name]]\n",
    "    @property\n",
    "    def tok_files(self): \n",
    "        tok_files = [self.path/f'{name}_tok.npy' for name in [self.train_name,self.valid_name]]\n",
    "        return tok_files + [self.path/'tokenize.log']\n",
    "    @property\n",
    "    def id_files(self):\n",
    "        id_files = [self.path/f'{name}_ids.npy' for name in [self.train_name,self.valid_name]] \n",
    "        return id_files + [self.path/'itos.pkl', self.path/'numericalize.log']\n",
    "    \n",
    "    @classmethod\n",
    "    def from_ids(cls, folder, train_ids='train_tok.npy', valid_ids='valid_tok.npy', itos = 'itos.pkl',\n",
    "                 train_lbl='train_lbl.npy', valid_lbl='train_lbl.npy', **kwargs):\n",
    "        train_name,valid_name = train_ids[:-8],valid_ids[:-8]\n",
    "        maybe_copy(Path(folder)/itos, Path(folder)/'tmp'/'itos.pkl')\n",
    "        for ids, name in zip([train_ids,valid_ids], [train_name,valid_name]):\n",
    "            maybe_copy(Path(folder)/ids, Path(folder)/'tmp'/f'{name}_ids.npy')\n",
    "        for lbl, name in zip([train_lbl,valid_lbl], [train_name,valid_name]):\n",
    "            maybe_copy(Path(folder)/lbl, Path(folder)/'tmp'/f'{name}_lbl.npy')\n",
    "        return cls(folder, None, train_name=train_name, valid_name=valid_name, create_mtd=TextMtd.IDS, **kwargs)\n",
    "    \n",
    "    @classmethod\n",
    "    def from_tokens(cls, folder, train_tok='train_tok.npy', valid_tok='valid_tok.npy', \n",
    "                    train_lbl='train_lbl.npy', valid_lbl='train_lbl.npy', **kwargs):\n",
    "        train_name,valid_name = train_tok[:-8],valid_tok[:-8]\n",
    "        for tok, name in zip([train_tok,valid_tok], [train_name,valid_name]):\n",
    "            maybe_copy(Path(folder)/tok, Path(folder)/'tmp'/f'{name}_tok.npy')\n",
    "        for lbl, name in zip([train_lbl,valid_lbl], [train_name,valid_name]):\n",
    "            maybe_copy(Path(folder)/lbl, Path(folder)/'tmp'/f'{name}_lbl.npy')\n",
    "        return cls(folder, None, train_name=train_name, valid_name=valid_name, create_mtd=TextMtd.TOK, **kwargs)\n",
    "    \n",
    "    @classmethod\n",
    "    def from_csv(cls, folder, tokenizer, train_csv='train.csv', valid_csv='valid.csv', **kwargs):\n",
    "        train_name,valid_name = train_csv[:-4],valid_csv[:-4]\n",
    "        for csv, name in zip([train_csv,valid_csv], [train_name,valid_name]):\n",
    "            maybe_copy(Path(folder)/csv, Path(folder)/'tmp'/f'{name}.csv')\n",
    "        return cls(folder, tokenizer, train_name=train_name, valid_name=valid_name, **kwargs)\n",
    "    \n",
    "    @classmethod\n",
    "    def from_folder(cls, folder, tokenizer, classes=None, train_name='train', valid_name='valid', **kwargs):\n",
    "        path = Path(folder)/'tmp'\n",
    "        os.makedirs(path, exist_ok=True)\n",
    "        if classes is None: classes = [cls.name for cls in find_classes(Path(folder/train_name))]\n",
    "        for name in [train_name, valid_name]:\n",
    "            texts,labels = [],[]\n",
    "            for idx,label in enumerate(classes):\n",
    "                for fname in (Path(folder)/name/label).glob('*.*'):\n",
    "                    texts.append(fname.open('r', encoding='utf8').read())\n",
    "                    labels.append(idx)\n",
    "            texts,labels = np.array(texts),np.array(labels)\n",
    "            idx = np.random.permutation(len(texts))\n",
    "            texts,labels = texts[idx],labels[idx]\n",
    "            df = pd.DataFrame({'text':texts, 'labels':labels}, columns=['labels','text'])\n",
    "            if os.path.isfile(path/f'{name}.csv'):\n",
    "                if get_total_length(path/f'{name}.csv', 10000) != len(df):\n",
    "                    df.to_csv(path/f'{name}.csv', index=False, header=False)\n",
    "            else: df.to_csv(path/f'{name}.csv', index=False, header=False)\n",
    "        return cls(folder, tokenizer, train_name=train_name, valid_name=valid_name, **kwargs)"
   ]
  },
  {
   "cell_type": "code",
   "execution_count": null,
   "metadata": {},
   "outputs": [],
   "source": [
    "tokenizer = Tokenizer(rules=rules, special_cases=[BOS, FLD, 'xxunk', 'xxpad'], n_cpus=1)"
   ]
  },
  {
   "cell_type": "code",
   "execution_count": null,
   "metadata": {},
   "outputs": [],
   "source": [
    "data = TextDataset.from_csv(LM_PATH, tokenizer, chunksize=1000)"
   ]
  },
  {
   "cell_type": "code",
   "execution_count": null,
   "metadata": {},
   "outputs": [],
   "source": [
    "data = TextDataset.from_ids(LM_PATH)"
   ]
  },
  {
   "cell_type": "code",
   "execution_count": null,
   "metadata": {},
   "outputs": [],
   "source": [
    "#data.clear()"
   ]
  },
  {
   "cell_type": "code",
   "execution_count": null,
   "metadata": {},
   "outputs": [],
   "source": [
    "def make_sample(dir_name='tst_folders'):\n",
    "    os.makedirs(PATH/dir_name, exist_ok=True)\n",
    "    PATH1 = PATH/dir_name\n",
    "    for name,name1 in zip(['train', 'valid'],['train', 'test']):\n",
    "        os.makedirs(PATH1/name, exist_ok=True)\n",
    "        for clas in ['neg', 'pos']:\n",
    "            os.makedirs(PATH1/name/clas, exist_ok=True)\n",
    "            fnames = list((PATH/name1/clas).glob('*.txt'))\n",
    "            for i in range(2000):\n",
    "                shutil.copy(fnames[i], PATH1/name/clas/fnames[i].name)"
   ]
  },
  {
   "cell_type": "code",
   "execution_count": null,
   "metadata": {},
   "outputs": [],
   "source": [
    "#make_sample()"
   ]
  },
  {
   "cell_type": "code",
   "execution_count": null,
   "metadata": {},
   "outputs": [],
   "source": [
    "data = TextDataset.from_folder(PATH/'tst_folders', tokenizer, chunksize=1000)"
   ]
  },
  {
   "cell_type": "code",
   "execution_count": null,
   "metadata": {},
   "outputs": [],
   "source": []
  }
 ],
 "metadata": {
  "kernelspec": {
   "display_name": "Python 3",
   "language": "python",
   "name": "python3"
  }
 },
 "nbformat": 4,
 "nbformat_minor": 2
}
