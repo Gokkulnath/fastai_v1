{
 "cells": [
  {
   "cell_type": "code",
   "execution_count": null,
   "metadata": {},
   "outputs": [],
   "source": [
    "%load_ext autoreload\n",
    "%autoreload 2"
   ]
  },
  {
   "cell_type": "code",
   "execution_count": null,
   "metadata": {},
   "outputs": [],
   "source": [
    "#export\n",
    "from nb_007 import *\n",
    "import pandas as pd, re, spacy, html, os\n",
    "from spacy.symbols import ORTH\n",
    "from concurrent.futures import ThreadPoolExecutor, ProcessPoolExecutor"
   ]
  },
  {
   "cell_type": "markdown",
   "metadata": {},
   "source": [
    "# IMDB"
   ]
  },
  {
   "cell_type": "markdown",
   "metadata": {},
   "source": [
    "## Data"
   ]
  },
  {
   "cell_type": "markdown",
   "metadata": {},
   "source": [
    "### Reading the texts"
   ]
  },
  {
   "cell_type": "code",
   "execution_count": null,
   "metadata": {},
   "outputs": [],
   "source": [
    "PATH = Path('../data/aclImdb/')\n",
    "CLAS_PATH = PATH/'clas'\n",
    "LM_PATH = PATH/'lm'\n",
    "os.makedirs(CLAS_PATH, exist_ok=True)\n",
    "os.makedirs(LM_PATH, exist_ok=True)"
   ]
  },
  {
   "cell_type": "code",
   "execution_count": null,
   "metadata": {},
   "outputs": [],
   "source": [
    "BOS = 'xxbos'\n",
    "FLD = 'xxfld'"
   ]
  },
  {
   "cell_type": "code",
   "execution_count": null,
   "metadata": {},
   "outputs": [],
   "source": [
    "CLASSES = ['neg', 'pos', 'unsup']\n",
    "\n",
    "def get_texts(path):\n",
    "    texts,labels = [],[]\n",
    "    for idx,label in enumerate(CLASSES):\n",
    "        for fname in (path/label).glob('*.*'):\n",
    "            texts.append(fname.open('r', encoding='utf8').read())\n",
    "            labels.append(idx)\n",
    "    return np.array(texts),np.array(labels)\n",
    "\n",
    "train_texts,train_labels = get_texts(PATH/'train')\n",
    "valid_texts,valid_labels = get_texts(PATH/'test')"
   ]
  },
  {
   "cell_type": "code",
   "execution_count": null,
   "metadata": {},
   "outputs": [],
   "source": [
    "train_idx = np.random.permutation(len(train_texts))\n",
    "valid_idx = np.random.permutation(len(valid_texts))"
   ]
  },
  {
   "cell_type": "code",
   "execution_count": null,
   "metadata": {},
   "outputs": [],
   "source": [
    "train_texts,train_labels = train_texts[train_idx],train_labels[train_idx]\n",
    "valid_texts,valid_labels = valid_texts[valid_idx],valid_labels[valid_idx]"
   ]
  },
  {
   "cell_type": "code",
   "execution_count": null,
   "metadata": {},
   "outputs": [],
   "source": [
    "train_df = pd.DataFrame({'text':train_texts, 'labels':train_labels}, columns=['labels','text'])\n",
    "valid_df = pd.DataFrame({'text':valid_texts, 'labels':valid_labels}, columns=['labels','text'])"
   ]
  },
  {
   "cell_type": "markdown",
   "metadata": {},
   "source": [
    "We put aside the unsup labels for the classification but keep them to finetune the language model."
   ]
  },
  {
   "cell_type": "code",
   "execution_count": null,
   "metadata": {},
   "outputs": [],
   "source": [
    "train_df[train_df['labels']!=2].to_csv(CLAS_PATH/'train.csv', header=False, index=False)\n",
    "valid_df.to_csv(CLAS_PATH/'valid.csv', header=False, index=False)"
   ]
  },
  {
   "cell_type": "code",
   "execution_count": null,
   "metadata": {},
   "outputs": [],
   "source": [
    "all_texts = np.concatenate([train_texts,valid_texts])\n",
    "idx = np.random.permutation(len(all_texts))\n",
    "cut = int(0.1 * len(idx))\n",
    "train_df = pd.DataFrame({'text':all_texts[idx[cut:]], 'labels':[0] * (len(all_texts)-cut)}, columns=['labels','text'])\n",
    "valid_df = pd.DataFrame({'text':all_texts[idx[:cut]], 'labels':[0] * cut}, columns=['labels','text'])"
   ]
  },
  {
   "cell_type": "code",
   "execution_count": null,
   "metadata": {},
   "outputs": [],
   "source": [
    "train_df.to_csv(LM_PATH/'train.csv', header=False, index=False)\n",
    "valid_df.to_csv(LM_PATH/'valid.csv', header=False, index=False)"
   ]
  },
  {
   "cell_type": "markdown",
   "metadata": {},
   "source": [
    "### Tokenization + Numericalization"
   ]
  },
  {
   "cell_type": "code",
   "execution_count": null,
   "metadata": {},
   "outputs": [],
   "source": [
    "def partition(a, sz): \n",
    "    \"\"\"splits iterables a in equal parts of size sz\"\"\"\n",
    "    return [a[i:i+sz] for i in range(0, len(a), sz)]\n",
    "\n",
    "def partition_by_cores(a, n_cpus):\n",
    "    return partition(a, len(a)//n_cpus + 1)\n",
    "\n",
    "def num_cpus():\n",
    "    try:\n",
    "        return len(os.sched_getaffinity(0))\n",
    "    except AttributeError:\n",
    "        return os.cpu_count()"
   ]
  },
  {
   "cell_type": "code",
   "execution_count": null,
   "metadata": {},
   "outputs": [],
   "source": [
    "class SpacyTokenizer():\n",
    "    \"Little wrapper around a spacy tokenizer\"\n",
    "    \n",
    "    def __init__(self, lang):\n",
    "        self.tok = spacy.load(lang)\n",
    "    \n",
    "    def tokenizer(self, t):\n",
    "        return [t.text for t in self.tok.tokenizer(t)]\n",
    "    \n",
    "    def add_special_cases(self, toks):\n",
    "        for w in toks:\n",
    "            self.tok.tokenizer.add_special_case(w, [{ORTH: w}])"
   ]
  },
  {
   "cell_type": "code",
   "execution_count": null,
   "metadata": {},
   "outputs": [],
   "source": [
    "train_df = pd.read_csv(LM_PATH/'train.csv', header=None, chunksize=10)\n",
    "trn_df = next(train_df)\n",
    "test_tok = SpacyTokenizer('en')\n",
    "test_txt = trn_df.iloc[0][1]\n",
    "test_tok.tokenizer(test_txt)"
   ]
  },
  {
   "cell_type": "code",
   "execution_count": null,
   "metadata": {},
   "outputs": [],
   "source": [
    "class Tokenizer():\n",
    "    def __init__(self, tok_fn=SpacyTokenizer, lang:str='en', rules:Collection[Callable[[str],str]]=None, \n",
    "                 special_cases:Collection[str]=None, n_cpus = None):\n",
    "        self.tok_fn,self.lang,self.special_cases = tok_fn,lang,special_cases\n",
    "        self.rules = rules if rules else []\n",
    "        for rule in self.rules:\n",
    "            if hasattr(rule, 'compile'): rule.compile()\n",
    "        self.n_cpus = n_cpus or num_cpus()//2\n",
    "    \n",
    "    def proc_text(self, t, tok):\n",
    "        for rule in self.rules: t = rule(t)\n",
    "        return tok.tokenizer(t)\n",
    "    \n",
    "    def process_all_1thread(self, texts):\n",
    "        tok = self.tok_fn(self.lang)\n",
    "        if self.special_cases: tok.add_special_cases(self.special_cases)\n",
    "        return [self.proc_text(t, tok) for t in texts]\n",
    "\n",
    "    def process_all(self, texts):\n",
    "        if self.n_cpus <= 1: return self.process_all_1thread(texts)\n",
    "        with ProcessPoolExecutor(self.n_cpus) as e:\n",
    "            return sum(e.map(self.process_all_1thread, partition_by_cores(texts, self.n_cpus)), [])"
   ]
  },
  {
   "cell_type": "code",
   "execution_count": null,
   "metadata": {},
   "outputs": [],
   "source": [
    "def sub_br(t):\n",
    "    \"Replaces the <br /> by \\n\"\n",
    "    re_br = re.compile(r'<\\s*br\\s*/?>', re.IGNORECASE)\n",
    "    return re_br.sub(\"\\n\", t)\n",
    "\n",
    "def spec_add_spaces(t):\n",
    "    return re.sub(r'([/#])', r' \\1 ', t)\n",
    "\n",
    "def rm_useless_spaces(t):\n",
    "    return re.sub(' {2,}', ' ', t)\n",
    "\n",
    "def replace_rep(t):\n",
    "    def _replace_rep(m):\n",
    "        TK_REP = 'xxrep'\n",
    "        c,cc = m.groups()\n",
    "        return f' {TK_REP} {len(cc)+1} {c} '\n",
    "    re_rep = re.compile(r'(\\S)(\\1{3,})')\n",
    "    return re_rep.sub(_replace_rep, t)\n",
    "    \n",
    "def replace_wrep(t):\n",
    "    def _replace_wrep(m):\n",
    "        TK_WREP = 'xxwrep'\n",
    "        c,cc = m.groups()\n",
    "        return f' {TK_WREP} {len(cc.split())+1} {c} '\n",
    "    re_wrep = re.compile(r'(\\b\\w+\\W+)(\\1{3,})')\n",
    "    return re_wrep.sub(_replace_wrep, t)\n",
    "\n",
    "def deal_caps(t):\n",
    "        TOK_UP = 'xxup'\n",
    "        res = []\n",
    "        for s in re.findall(r'\\w+|\\W+', t):\n",
    "            res += ([TOK_UP,s.lower()] if (s.isupper() and (len(s)>2)) else [s.lower()])\n",
    "        return ' '.join(res)\n",
    "\n",
    "def fixup(x):\n",
    "    re1 = re.compile(r'  +')\n",
    "    x = x.replace('#39;', \"'\").replace('amp;', '&').replace('#146;', \"'\").replace(\n",
    "        'nbsp;', ' ').replace('#36;', '$').replace('\\\\n', \"\\n\").replace('quot;', \"'\").replace(\n",
    "        '<br />', \"\\n\").replace('\\\\\"', '\"').replace('<unk>','u_n').replace(' @.@ ','.').replace(\n",
    "        ' @-@ ','-').replace('\\\\', ' \\\\ ')\n",
    "    return re1.sub(' ', html.unescape(x))\n",
    "    \n",
    "rules = [sub_br, spec_add_spaces, rm_useless_spaces, replace_rep, replace_wrep, deal_caps, fixup]"
   ]
  },
  {
   "cell_type": "code",
   "execution_count": null,
   "metadata": {},
   "outputs": [],
   "source": [
    "sub_br('end <br /><br /> begins again')"
   ]
  },
  {
   "cell_type": "code",
   "execution_count": null,
   "metadata": {},
   "outputs": [],
   "source": [
    "spec_add_spaces('\\#%')"
   ]
  },
  {
   "cell_type": "code",
   "execution_count": null,
   "metadata": {},
   "outputs": [],
   "source": [
    "rm_useless_spaces('this             is')"
   ]
  },
  {
   "cell_type": "code",
   "execution_count": null,
   "metadata": {},
   "outputs": [],
   "source": [
    "replace_rep('ffffffive .')"
   ]
  },
  {
   "cell_type": "code",
   "execution_count": null,
   "metadata": {},
   "outputs": [],
   "source": [
    "replace_wrep('five five five five .')"
   ]
  },
  {
   "cell_type": "code",
   "execution_count": null,
   "metadata": {},
   "outputs": [],
   "source": [
    "deal_caps('ANGRY')"
   ]
  },
  {
   "cell_type": "code",
   "execution_count": null,
   "metadata": {},
   "outputs": [],
   "source": [
    "def get_total_length(csv_name, chunksize):\n",
    "    df = pd.read_csv(csv_name, header=None, chunksize=chunksize)\n",
    "    l = 0\n",
    "    for _ in df: l+=1\n",
    "    return l"
   ]
  },
  {
   "cell_type": "code",
   "execution_count": null,
   "metadata": {},
   "outputs": [],
   "source": [
    "class TextDataset():\n",
    "    \"Put a train.csv and valid.csv files in a folder and this will take care of the rest.\"\n",
    "    \n",
    "    def __init__(self, path, tokenizer, max_vocab=30000, chunksize=10000, train_name='train', valid_name='valid',\n",
    "                 min_freq=2, n_labels=1):\n",
    "        self.path,self.tokenizer,self.max_vocab,self.min_freq = Path(path),tokenizer,max_vocab,min_freq\n",
    "        self.chunksize,self.train_name,self.valid_name,self.n_labels = chunksize,train_name,valid_name,n_labels\n",
    "        os.makedirs(self.path/'tmp', exist_ok=True)\n",
    "        id_files = [self.path/f'{name}_ids.npy' for name in [train_name,valid_name]] + [self.path/'itos.pkl']\n",
    "        if not np.all([os.path.isfile(fname) for fname in id_files]):\n",
    "            tok_files = [self.path/f'{name}_tok.npy' for name in [train_name,valid_name]]\n",
    "            if not np.all([os.path.isfile(fname) for fname in tok_files]):\n",
    "                self.tokenize()\n",
    "            self.numericalize()\n",
    "        self.itos = pickle.load(open(self.path/'itos.pkl', 'rb'))\n",
    "        self.train_ids = np.load(self.path/'train_ids.npy')\n",
    "        self.valid_ids = np.load(self.path/'valid_ids.npy')\n",
    "    \n",
    "    def tokenize(self):\n",
    "        print('Tokenizing the texts. This might take a while so you should grab a coffee.')\n",
    "        for name in [self.train_name, self.valid_name]:\n",
    "            print(f'Tokenizing {name}')\n",
    "            curr_len = get_total_length(self.path/f'{name}.csv', self.chunksize)\n",
    "            dfs = pd.read_csv(self.path/f'{name}.csv', header=None, chunksize=self.chunksize)\n",
    "            tokens,labels = [],[]\n",
    "            for _ in progress_bar(range(curr_len), leave=False):\n",
    "                df = next(dfs)\n",
    "                lbls = df.iloc[:,range(self.n_labels)].values.astype(np.int64)\n",
    "                texts = f'\\n{BOS} {FLD} 1 ' + df[self.n_labels].astype(str)\n",
    "                for i in range(self.n_labels+1, len(df.columns)): \n",
    "                    texts += f' {FLD} {i-n_lbls} ' + df[i].astype(str)\n",
    "                toks = tokenizer.process_all(texts)\n",
    "                tokens += toks\n",
    "                labels += labels\n",
    "            np.save(self.path/f'{name}_tok.npy', np.array(tokens))\n",
    "            np.save(self.path/f'{name}_lbl.npy', np.array(labels))\n",
    "        \n",
    "    def numericalize(self):\n",
    "        print('Changing tokens to numbers.')\n",
    "        train_tokens = np.load(self.path/f'{self.train_name}_tok.npy')\n",
    "        freq = Counter(p for o in train_tokens for p in o)\n",
    "        itos = [o for o,c in freq.most_common(self.max_vocab) if c > self.min_freq]\n",
    "        itos.insert(0, 'xxpad')\n",
    "        itos.insert(0, 'xxunk')\n",
    "        stoi = collections.defaultdict(lambda:0, {v:k for k,v in enumerate(itos)})\n",
    "        pickle.dump(itos, open(self.path/'itos.pkl', 'wb'))\n",
    "        for name in [self.train_name, self.valid_name]:\n",
    "            toks = np.load(self.path/f'{name}_tok.npy')\n",
    "            ids = np.array([([stoi[w] for w in s]) for s in toks])\n",
    "            np.save(self.path/f'{name}_ids.npy', ids)"
   ]
  },
  {
   "cell_type": "code",
   "execution_count": null,
   "metadata": {},
   "outputs": [],
   "source": [
    "tokenizer = Tokenizer(rules=rules, special_cases=[BOS, FLD, 'xxunk', 'xxpad'])"
   ]
  },
  {
   "cell_type": "code",
   "execution_count": null,
   "metadata": {},
   "outputs": [],
   "source": [
    "data = TextDataset(LM_PATH, tokenizer, chunksize=10000)"
   ]
  },
  {
   "cell_type": "code",
   "execution_count": null,
   "metadata": {},
   "outputs": [],
   "source": []
  }
 ],
 "metadata": {
  "kernelspec": {
   "display_name": "Python 3",
   "language": "python",
   "name": "python3"
  }
 },
 "nbformat": 4,
 "nbformat_minor": 2
}
