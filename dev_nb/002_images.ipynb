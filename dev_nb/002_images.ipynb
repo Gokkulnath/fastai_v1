{
 "cells": [
  {
   "cell_type": "code",
   "execution_count": null,
   "metadata": {},
   "outputs": [],
   "source": [
    "%load_ext autoreload\n",
    "%autoreload 2"
   ]
  },
  {
   "cell_type": "code",
   "execution_count": null,
   "metadata": {},
   "outputs": [],
   "source": [
    "#export\n",
    "from nb_001b import *\n",
    "import sys, PIL, matplotlib.pyplot as plt, itertools, math, random, collections, torch\n",
    "import scipy.stats, scipy.special\n",
    "\n",
    "from enum import Enum, IntEnum\n",
    "from torch import tensor, Tensor, FloatTensor, LongTensor, ByteTensor, DoubleTensor, HalfTensor, ShortTensor\n",
    "from operator import itemgetter, attrgetter\n",
    "from numpy import cos, sin, tan, tanh, log, exp\n",
    "\n",
    "from functools import reduce\n",
    "from collections import defaultdict, abc, namedtuple, Iterable\n",
    "from PIL import Image"
   ]
  },
  {
   "cell_type": "markdown",
   "metadata": {},
   "source": [
    "# CIFAR subset data"
   ]
  },
  {
   "cell_type": "markdown",
   "metadata": {},
   "source": [
    "First we want to view our data to check if everything is how we expect it to be."
   ]
  },
  {
   "cell_type": "markdown",
   "metadata": {},
   "source": [
    "## Setup"
   ]
  },
  {
   "cell_type": "code",
   "execution_count": null,
   "metadata": {},
   "outputs": [],
   "source": [
    "DATA_PATH = Path('data')\n",
    "PATH = DATA_PATH/'cifar10_dog_air'\n",
    "TRAIN_PATH = PATH/'train'"
   ]
  },
  {
   "cell_type": "code",
   "execution_count": null,
   "metadata": {},
   "outputs": [],
   "source": [
    "dog_fn = list((TRAIN_PATH/'dog').iterdir())[0]\n",
    "dog_image = Image.open(dog_fn)\n",
    "dog_image.resize((256,256))"
   ]
  },
  {
   "cell_type": "code",
   "execution_count": null,
   "metadata": {},
   "outputs": [],
   "source": [
    "air_fn = list((TRAIN_PATH/'airplane').iterdir())[0]\n",
    "air_image = Image.open(air_fn)\n",
    "air_image.resize((256,256))"
   ]
  },
  {
   "cell_type": "markdown",
   "metadata": {},
   "source": [
    "## Simple Dataset/Dataloader"
   ]
  },
  {
   "cell_type": "markdown",
   "metadata": {},
   "source": [
    "We will build a Dataset class for our image files. A Dataset class needs to have two functions: length and get-item. Our FilesDataset additionally gets the image files from their respective directories and transforms them to tensors."
   ]
  },
  {
   "cell_type": "code",
   "execution_count": null,
   "metadata": {},
   "outputs": [],
   "source": [
    "#export\n",
    "def find_classes(folder):\n",
    "    classes = [d for d in folder.iterdir()\n",
    "               if d.is_dir() and not d.name.startswith('.')]\n",
    "    assert(len(classes)>0)\n",
    "    return sorted(classes, key=lambda d: d.name)\n",
    "\n",
    "def get_image_files(c):\n",
    "    return [o for o in list(c.iterdir())\n",
    "            if not o.name.startswith('.') and not o.is_dir()]\n",
    "\n",
    "def pil2tensor(image):\n",
    "    arr = torch.ByteTensor(torch.ByteStorage.from_buffer(image.tobytes()))\n",
    "    arr = arr.view(image.size[1], image.size[0], -1)\n",
    "    arr = arr.permute(2,0,1)\n",
    "    return arr.float().div_(255)\n",
    "\n",
    "def open_image(fn):\n",
    "    x = PIL.Image.open(fn).convert('RGB')\n",
    "    return pil2tensor(x)"
   ]
  },
  {
   "cell_type": "code",
   "execution_count": null,
   "metadata": {},
   "outputs": [],
   "source": [
    "#export\n",
    "class FilesDataset(Dataset):\n",
    "    def __init__(self, folder, classes=None):\n",
    "        self.fns, self.y = [], []\n",
    "        if classes is None: classes = [cls.name for cls in find_classes(folder)]\n",
    "        self.classes = classes\n",
    "        for i, cls in enumerate(classes):\n",
    "            fnames = get_image_files(folder/cls)\n",
    "            self.fns += fnames\n",
    "            self.y += [i] * len(fnames)\n",
    "        \n",
    "    def __len__(self): return len(self.fns)\n",
    "    def __getitem__(self,i): return open_image(self.fns[i]),self.y[i]"
   ]
  },
  {
   "cell_type": "code",
   "execution_count": null,
   "metadata": {},
   "outputs": [],
   "source": [
    "train_ds = FilesDataset(PATH/'train')\n",
    "valid_ds = FilesDataset(PATH/'test')"
   ]
  },
  {
   "cell_type": "code",
   "execution_count": null,
   "metadata": {},
   "outputs": [],
   "source": [
    "len(train_ds), len(valid_ds)"
   ]
  },
  {
   "cell_type": "code",
   "execution_count": null,
   "metadata": {},
   "outputs": [],
   "source": [
    "#export\n",
    "def image2np(image): return image.cpu().permute(1,2,0).numpy()"
   ]
  },
  {
   "cell_type": "code",
   "execution_count": null,
   "metadata": {},
   "outputs": [],
   "source": [
    "x,y = train_ds[0]\n",
    "plt.imshow(image2np(x))\n",
    "print(train_ds.classes[y])"
   ]
  },
  {
   "cell_type": "code",
   "execution_count": null,
   "metadata": {},
   "outputs": [],
   "source": [
    "bs=64"
   ]
  },
  {
   "cell_type": "code",
   "execution_count": null,
   "metadata": {},
   "outputs": [],
   "source": [
    "data = DataBunch(train_ds, valid_ds, bs=bs)\n",
    "len(data.train_dl), len(data.valid_dl)"
   ]
  },
  {
   "cell_type": "code",
   "execution_count": null,
   "metadata": {},
   "outputs": [],
   "source": [
    "#export\n",
    "def show_image(img, ax=None, figsize=(3,3), hide_axis=True):\n",
    "    if ax is None: fig,ax = plt.subplots(figsize=figsize)\n",
    "    ax.imshow(image2np(img))\n",
    "    if hide_axis: ax.axis('off')\n",
    "\n",
    "def show_image_batch(dl, classes, rows=None, figsize=(12,15)):\n",
    "    x,y = next(iter(dl))\n",
    "    if rows is None: rows = int(math.sqrt(len(x)))\n",
    "    show_images(x[:rows*rows],y[:rows*rows],rows, classes)\n",
    "\n",
    "def show_images(x,y,rows, classes, figsize=(9,9)):\n",
    "    fig, axs = plt.subplots(rows,rows,figsize=figsize)\n",
    "    for i, ax in enumerate(axs.flatten()):\n",
    "        show_image(x[i], ax)\n",
    "        ax.set_title(classes[y[i]])\n",
    "    plt.tight_layout()"
   ]
  },
  {
   "cell_type": "code",
   "execution_count": null,
   "metadata": {},
   "outputs": [],
   "source": [
    "show_image_batch(data.train_dl, train_ds.classes, 6)"
   ]
  },
  {
   "cell_type": "markdown",
   "metadata": {},
   "source": [
    "# Data augmentation"
   ]
  },
  {
   "cell_type": "markdown",
   "metadata": {},
   "source": [
    "We are going augment our data to increase our training set with artificial images. These new images are basically \"free\" data that we can use in our training to help our model generalize better (reduce overfitting)."
   ]
  },
  {
   "cell_type": "markdown",
   "metadata": {},
   "source": [
    "## Lighting"
   ]
  },
  {
   "cell_type": "markdown",
   "metadata": {},
   "source": [
    "We will start by changing the **brightness** and **contrast** of our images."
   ]
  },
  {
   "cell_type": "markdown",
   "metadata": {},
   "source": [
    "### Method"
   ]
  },
  {
   "cell_type": "markdown",
   "metadata": {},
   "source": [
    "**Brightness**\n",
    "\n",
    "Brightness refers to where does our image stand on the dark-light spectrum. Brightness is applied by adding a positive constant to each of the image's channels. This works because each of the channels in an image goes from 0 (darkest) to 255 (brightest) in a dark-light continum. (0, 0, 0) is black (total abscence of light) and (255, 255, 255) is white (pure light). You can check how this works by experimenting by yourself [here](https://www.w3schools.com/colors/colors_rgb.asp).\n",
    "\n",
    "_Parameters_\n",
    "\n",
    "1. **Change** How much brightness do we want to add to (or take from) the image.\n",
    "\n",
    "    Domain: Real numbers\n",
    "    \n",
    "**Contrast**\n",
    "\n",
    "Contrast refers to how sharp a distinction there is between brighter and darker sections of our image. To increase contrast we need darker pixels to be darker and lighter pixels to be lighter. In other words, we would like channels with a value smaller than 128 to decrease and channels with a value of greater than 128 to increase.\n",
    "\n",
    "_Parameters_\n",
    "\n",
    "1. **Scale** How much contrast do we want to add to (or remove from) the image.\n",
    "\n",
    "    Domain: [0, +inf]\n",
    "    \n",
    "***On logit and sigmoid***\n",
    "\n",
    "Notice that for both transformations we first apply the logit to our tensor, then apply the transformation and finally take the sigmoid. This is important for two reasons. \n",
    "\n",
    "First, we don't want to overflow our tensor values. In other words, we need our final tensor values to be between [0,1].  Imagine, for instance, a tensor value at 0.99. We want to increase its brightness, but we can’t go over 1.0. By doing logit first, which first moves our space to -inf to +inf, this works fine. The same applies to contrast if we have a scale S > 1 (might make some of our tensor values greater than one).\n",
    "\n",
    "Second, when we apply contrast, we need to affect the dispersion of values around the middle value. Say we want to increase contrast. Then we need the bright values (>0.5) to get brighter and dark values (<0.5) to get darker. We must first transform our tensor values so our values which were originally <0.5 are now negative and our values which were originally >0.5 are positive. This way, when we multiply by a constant, the dispersion around 0 will increase. The logit function does exactly this and allows us to increase or decrease dispersion around a mid value."
   ]
  },
  {
   "cell_type": "markdown",
   "metadata": {},
   "source": [
    "### Implementation"
   ]
  },
  {
   "cell_type": "code",
   "execution_count": null,
   "metadata": {},
   "outputs": [],
   "source": [
    "# class Grid():\n",
    "#     affine:FloatTensor=None\n",
    "#     def apply_affine(mat):\n",
    "#         if affine is None: affine=torch.eye(3,3)\n",
    "#         affine = affine_mat(affine,mat)\n",
    "        \n",
    "# class Image(Grid):\n",
    "#     flow:FloatTensor=None\n",
    "#     _pixels:FloatTensor\n",
    "#     def dirty(): return flow is not None or affine is not None\n",
    "#     def apply_flow(func, size=None):\n",
    "#         if flow is None: flow=create_flow()\n",
    "#         flow = func(flow, size)\n",
    "#     @property def pixels():\n",
    "#         if dirty():\n",
    "#             _pixels = calc_pixels()\n",
    "#             flow=None; affine=None\n",
    "#         return _pixels\n",
    "#     def calc_pixels():\n",
    "\n",
    "# class ImagePoints(Grid):\n",
    "#     points:FloatTensor\n",
    "        \n",
    "# class BoundingBoxes(Grid):\n",
    "#     boxes:List[FloatTensor]"
   ]
  },
  {
   "cell_type": "code",
   "execution_count": null,
   "metadata": {},
   "outputs": [],
   "source": [
    "#export\n",
    "def logit(x):  return -(1/x-1).log()\n",
    "def logit_(x): return (x.reciprocal_().sub_(1)).log_().neg_()"
   ]
  },
  {
   "cell_type": "code",
   "execution_count": null,
   "metadata": {},
   "outputs": [],
   "source": [
    "def contrast(x, scale): return x.mul_(scale)"
   ]
  },
  {
   "cell_type": "code",
   "execution_count": null,
   "metadata": {},
   "outputs": [],
   "source": [
    "class Image():\n",
    "    def __init__(self, px):\n",
    "        self._px = px\n",
    "        self._logit_px=None\n",
    "    \n",
    "    @property\n",
    "    def px(self):\n",
    "        if self._logit_px is not None:\n",
    "            self._px = self._logit_px.sigmoid_()\n",
    "            self._logit_px=None\n",
    "        return self._px\n",
    "\n",
    "    @property\n",
    "    def logit_px(self):\n",
    "        if self._logit_px is None: self._logit_px = logit_(self.px)\n",
    "        return self._logit_px\n",
    "    @logit_px.setter\n",
    "    def logit_px(self,v): self._logit_px=v\n",
    "    \n",
    "    def show(self, ax=None, **kwargs):\n",
    "        show_image(self.px, ax=ax, **kwargs)\n",
    "        \n",
    "    def clone(self): return self.__class__(self.px.clone())"
   ]
  },
  {
   "cell_type": "code",
   "execution_count": null,
   "metadata": {},
   "outputs": [],
   "source": [
    "def open_image(fn):\n",
    "    x = PIL.Image.open(fn).convert('RGB')\n",
    "    return Image(pil2tensor(x))"
   ]
  },
  {
   "cell_type": "code",
   "execution_count": null,
   "metadata": {},
   "outputs": [],
   "source": [
    "train_ds = FilesDataset(PATH/'train')\n",
    "valid_ds = FilesDataset(PATH/'test')"
   ]
  },
  {
   "cell_type": "code",
   "execution_count": null,
   "metadata": {},
   "outputs": [],
   "source": [
    "x = lambda: train_ds[1][0]"
   ]
  },
  {
   "cell_type": "code",
   "execution_count": null,
   "metadata": {},
   "outputs": [],
   "source": [
    "img = x()\n",
    "img.logit_px = contrast(img.logit_px, 0.5)\n",
    "img.show()"
   ]
  },
  {
   "cell_type": "markdown",
   "metadata": {},
   "source": [
    "## Transform class"
   ]
  },
  {
   "cell_type": "code",
   "execution_count": null,
   "metadata": {},
   "outputs": [],
   "source": [
    "class Transform():\n",
    "    _attr=None\n",
    "    def __init__(self, func): self.func=func\n",
    "    def __call__(self, x, *args, **kwargs):\n",
    "        if self._attr:\n",
    "            setattr(x,self._attr, self.func(getattr(x,self._attr), *args, **kwargs))\n",
    "        else: self.func(x, *args, **kwargs)\n",
    "        return x\n",
    "    \n",
    "class TfmLighting(Transform): _attr='logit_px'"
   ]
  },
  {
   "cell_type": "code",
   "execution_count": null,
   "metadata": {},
   "outputs": [],
   "source": [
    "@TfmLighting\n",
    "def brightness(x, change): return x.add_(scipy.special.logit(change))\n",
    "@TfmLighting\n",
    "def contrast(x, scale): return x.mul_(scale)"
   ]
  },
  {
   "cell_type": "code",
   "execution_count": null,
   "metadata": {},
   "outputs": [],
   "source": [
    "_,axes = plt.subplots(1,4, figsize=(12,3))\n",
    "\n",
    "x().show(axes[0])\n",
    "contrast(x(), 1.0).show(axes[1])\n",
    "contrast(x(), 0.5).show(axes[2])\n",
    "contrast(x(), 2.0).show(axes[3])"
   ]
  },
  {
   "cell_type": "code",
   "execution_count": null,
   "metadata": {},
   "outputs": [],
   "source": [
    "_,axes = plt.subplots(1,4, figsize=(12,3))\n",
    "\n",
    "x().show(axes[0])\n",
    "brightness(x(), 0.8).show(axes[1])\n",
    "brightness(x(), 0.5).show(axes[2])\n",
    "brightness(x(), 0.2).show(axes[3])"
   ]
  },
  {
   "cell_type": "code",
   "execution_count": null,
   "metadata": {},
   "outputs": [],
   "source": [
    "def brightness_contrast(x, scale_contrast, change_brightness):\n",
    "    contrast(x, scale=scale_contrast)\n",
    "    return brightness(x, change=change_brightness)"
   ]
  },
  {
   "cell_type": "code",
   "execution_count": null,
   "metadata": {},
   "outputs": [],
   "source": [
    "_,axes = plt.subplots(1,4, figsize=(12,3))\n",
    "\n",
    "brightness_contrast(x(), 0.75, 0.7).show(axes[0])\n",
    "brightness_contrast(x(), 2.0,  0.3).show(axes[1])\n",
    "brightness_contrast(x(), 2.0,  0.7).show(axes[2])\n",
    "brightness_contrast(x(), 0.75,  0.3).show(axes[3])"
   ]
  },
  {
   "cell_type": "markdown",
   "metadata": {},
   "source": [
    "## Random lighting"
   ]
  },
  {
   "cell_type": "markdown",
   "metadata": {},
   "source": [
    "Next, we will make our previous transforms random since we are interested in automatizing the pipeline. We will achieve this by making our parameters stochastic with a specific distribution. \n",
    "\n",
    "We will use a <a href=\"https://en.wikipedia.org/wiki/Uniform_distribution_(continuous)\"> uniform</a> distribution for brightness change since its domain is the real numbers and the impact varies linearly with the scale. For contrast we use [log_uniform](https://www.vosesoftware.com/riskwiki/LogUniformdistribution.php) for two reasons. First, contrast scale has a domain of [0, inf]. Second, the impact of the scale in the transformation is non-linear (i.e. 0.5 is as extreme as 2.0, 0.2 is as extreme as 5). The log_uniform function is appropriate because it has the same domain and correctly represents the non-linearity of the transform, P(0.5) = P(2)."
   ]
  },
  {
   "cell_type": "code",
   "execution_count": null,
   "metadata": {},
   "outputs": [],
   "source": [
    "#export\n",
    "def uniform(low, high, size=None):\n",
    "    return random.uniform(low,high) if size is None else torch.FloatTensor(size).uniform_(low,high)\n",
    "\n",
    "def log_uniform(low, high, size=None):\n",
    "    res = uniform(log(low), log(high), size)\n",
    "    return exp(res) if size is None else res.exp_()\n",
    "\n",
    "def rand_bool(p, size=None): return uniform(0,1,size)<p"
   ]
  },
  {
   "cell_type": "code",
   "execution_count": null,
   "metadata": {},
   "outputs": [],
   "source": [
    "scipy.stats.gmean([log_uniform(0.5,2.0) for _ in range(1000)])"
   ]
  },
  {
   "cell_type": "code",
   "execution_count": null,
   "metadata": {},
   "outputs": [],
   "source": [
    "#export\n",
    "import inspect\n",
    "from copy import copy,deepcopy\n",
    "\n",
    "def get_default_args(func):\n",
    "    return {k: v.default\n",
    "            for k, v in inspect.signature(func).parameters.items()\n",
    "            if v.default is not inspect.Parameter.empty}\n",
    "\n",
    "def listify(p=None, q=None):\n",
    "    if p is None: p=[]\n",
    "    elif not isinstance(p, Iterable): p=[p]\n",
    "    n = q if type(q)==int else 1 if q is None else len(q)\n",
    "    if len(p)==1: p = p * n\n",
    "    return p"
   ]
  },
  {
   "cell_type": "code",
   "execution_count": null,
   "metadata": {},
   "outputs": [],
   "source": [
    "from dataclasses import field"
   ]
  },
  {
   "cell_type": "code",
   "execution_count": null,
   "metadata": {},
   "outputs": [],
   "source": [
    "class Transform():\n",
    "    _attr='px'\n",
    "    order=0\n",
    "    def __init__(self, func):\n",
    "        self.func=func\n",
    "        self.params = copy(func.__annotations__)\n",
    "        self.def_args = get_default_args(func)\n",
    "        \n",
    "    def __call__(self, *args, p=1., **kwargs):\n",
    "        if args: return self.calc(*args, **kwargs)\n",
    "        else: return RandTransform(self, rand_args=kwargs, p=p)\n",
    "    \n",
    "    def calc(self, x, *args, **kwargs):\n",
    "        if self._attr:\n",
    "            setattr(x,self._attr, self.func(getattr(x,self._attr), *args, **kwargs))\n",
    "        else: self.func(x, *args, **kwargs)\n",
    "        return x\n",
    "        \n",
    "    @property\n",
    "    def name(self): return self.__class__.__name__\n",
    "    \n",
    "    def __repr__(self): return f'{self.name} ({self.func.__name__})'\n",
    "\n",
    "class TfmPixel(Transform):\n",
    "    order=10\n",
    "    _attr='px'\n",
    "class TfmLighting(Transform):\n",
    "    order=8\n",
    "    _attr='logit_px'"
   ]
  },
  {
   "cell_type": "code",
   "execution_count": null,
   "metadata": {},
   "outputs": [],
   "source": [
    "@dataclass\n",
    "class RandTransform():\n",
    "    tfm:Transform\n",
    "    rand_args:dict\n",
    "    p:int=1.0\n",
    "    resolved:dict = field(default_factory=dict)\n",
    "    do_run:bool = True\n",
    "    \n",
    "    def resolve(self):\n",
    "        self.resolved = {}\n",
    "        for k,v in self.tfm.params.items():\n",
    "            if k in self.rand_args: self.resolved[k] = v(*listify(self.rand_args[k]))\n",
    "            elif k in self.tfm.def_args: self.resolved[k] = self.tfm.def_args[k]\n",
    "            else: raise Exception(f'Missing param {k}')\n",
    "        self.do_run = rand_bool(self.p)\n",
    "\n",
    "    @property\n",
    "    def order(self): return self.tfm.order\n",
    "\n",
    "    def __call__(self, x, *args, **kwargs):\n",
    "        return self.tfm(x, *args, **self.resolved, **kwargs) if self.do_run else x"
   ]
  },
  {
   "cell_type": "code",
   "execution_count": null,
   "metadata": {},
   "outputs": [],
   "source": [
    "@TfmLighting\n",
    "def brightness(x, change:uniform): return x.add_(scipy.special.logit(change))\n",
    "\n",
    "@TfmLighting\n",
    "def contrast(x, scale:log_uniform): return x.mul_(scale)"
   ]
  },
  {
   "cell_type": "code",
   "execution_count": null,
   "metadata": {},
   "outputs": [],
   "source": [
    "tfm = contrast(scale=(0.3,3))\n",
    "tfm.resolve()\n",
    "tfm,tfm.resolved,tfm.do_run"
   ]
  },
  {
   "cell_type": "code",
   "execution_count": null,
   "metadata": {},
   "outputs": [],
   "source": [
    "# all the same\n",
    "tfm.resolve()\n",
    "\n",
    "_,axes = plt.subplots(1,4, figsize=(12,3))\n",
    "for ax in axes: tfm(x()).show(ax)"
   ]
  },
  {
   "cell_type": "code",
   "execution_count": null,
   "metadata": {},
   "outputs": [],
   "source": [
    "tfm = contrast(scale=(0.3,3), p=0.5)\n",
    "\n",
    "# different\n",
    "_,axes = plt.subplots(1,4, figsize=(12,3))\n",
    "for ax in axes:\n",
    "    tfm.resolve()\n",
    "    tfm(x()).show(ax)"
   ]
  },
  {
   "cell_type": "markdown",
   "metadata": {},
   "source": [
    "## Composition"
   ]
  },
  {
   "cell_type": "markdown",
   "metadata": {},
   "source": [
    "We are interested in composing the transform functions so as to apply them all at once. We will try to feed a list of transforms to our pipeline for it to apply all of them.\n",
    "\n",
    "Applying a function to our transforms before calling them in Python is easiest if we use a decorator. You can find more about decorators [here](https://www.thecodeship.com/patterns/guide-to-python-function-decorators/)."
   ]
  },
  {
   "cell_type": "code",
   "execution_count": null,
   "metadata": {},
   "outputs": [],
   "source": [
    "def resolve_tfms(tfms):\n",
    "    for f in listify(tfms): f.resolve()\n",
    "\n",
    "def apply_tfms(tfms, x, do_resolve=True):\n",
    "    if not tfms: return x\n",
    "    tfms = listify(tfms)\n",
    "    if do_resolve: resolve_tfms(tfms)\n",
    "    x = x.clone()\n",
    "    for tfm in tfms: x = tfm(x)\n",
    "    return x"
   ]
  },
  {
   "cell_type": "code",
   "execution_count": null,
   "metadata": {},
   "outputs": [],
   "source": [
    "x = train_ds[1][0]"
   ]
  },
  {
   "cell_type": "code",
   "execution_count": null,
   "metadata": {},
   "outputs": [],
   "source": [
    "tfms = [contrast(scale=(0.3,3.0), p=0.75),\n",
    "        brightness(change=(0.35,0.65), p=0.75)]\n",
    "\n",
    "_,axes = plt.subplots(1,4, figsize=(12,3))\n",
    "for ax in axes: apply_tfms(tfms,x).show(ax)"
   ]
  },
  {
   "cell_type": "code",
   "execution_count": null,
   "metadata": {},
   "outputs": [],
   "source": [
    "_,axes = plt.subplots(2,4, figsize=(12,6))\n",
    "for i in range(4):\n",
    "    apply_tfms(tfms,x).show(axes[0,i])\n",
    "    apply_tfms(tfms,x,do_resolve=False).show(axes[1,i])"
   ]
  },
  {
   "cell_type": "code",
   "execution_count": null,
   "metadata": {},
   "outputs": [],
   "source": [
    "apply_tfms([],x).show()"
   ]
  },
  {
   "cell_type": "markdown",
   "metadata": {},
   "source": [
    "# Affine"
   ]
  },
  {
   "cell_type": "markdown",
   "metadata": {},
   "source": [
    "We will now add affine transforms that operate on the coordinates instead of pixels like the lighting transforms we just saw. An [affine transformation](https://en.wikipedia.org/wiki/Affine_transformation) is a function \"(...) between affine spaces which preserves points, straight lines and planes.\" "
   ]
  },
  {
   "cell_type": "markdown",
   "metadata": {},
   "source": [
    "## Details"
   ]
  },
  {
   "cell_type": "markdown",
   "metadata": {},
   "source": [
    "Our implementation first creates a grid of coordinates for the original image. The grid is normalized to a [-1, 1] range with (-1, -1) representing the top left corner, (1, 1) the bottom right corner and (0, 0) the center. Next, we build an affine matrix representing our desired transform and we multiply it by our original grid coordinates. The result will be a set of x, y coordinates which references where in the input image will each of the pixels in the output image be mapped. It has a size of w \\* h \\* 2 since it needs two coordinates for each of the h * w pixels of the output image. \n",
    "\n",
    "This is clearest if we see it graphically. We will build an affine matrix of the following form:\n",
    "\n",
    "`[[a, b, e],\n",
    " [c, d, f]]`\n",
    "\n",
    "\n",
    "with which we will transform each pair of x, y coordinates in our original grid into our transformation grid:\n",
    "\n",
    "\n",
    "`[[a, b],       [[x],       [[e],       [[x'],\n",
    "  [c, d]]   x    [y]]    +   [f]]    =   [y']]`   \n",
    "\n",
    "So after the transform we will get a new grid with which to map our input image into our output image. This will be our **map of where from exactly does our transformation source each pixel in the output image**.\n",
    "\n",
    "**Enter problems**\n",
    "\n",
    "Affine transforms face two problems that must be solved independently:\n",
    "1. **The interpolation problem**: The result of our transformation gives us float coordinates, and we need to decide, for each (i,j), how to assign these coordinates to pixels in the input image.\n",
    "2. **The missing pixel problem**: The result of our transformation may have coordinates which exceed the [-1, 1] range of our original grid and thus fall outside of our original grid.\n",
    "\n",
    "**Solutions to problems**\n",
    "\n",
    "1.  **The interpolation problem**: We will perform a [bilinear interpolation](https://en.wikipedia.org/wiki/Bilinear_interpolation). This takes an average of the values of the pixels corresponding to the four points in the grid surrounding the result of our transformation, with weights depending on how close we are to each of those points. \n",
    "2. **The missing pixel problem**: For these values we need padding, and we face a few options:\n",
    "\n",
    "    1. Adding zeros on the side (so the pixels that fall out will be black)\n",
    "    2. Replacing them by the value at the border\n",
    "    3. Mirroring the content of the picture on the other side (reflect padding).\n",
    "    \n",
    "    \n",
    "### Transformation Method\n",
    "\n",
    "**Zoom**\n",
    "\n",
    "Zoom changes the focus of the image according to a scale. If a scale of >1 is applied, grid pixels will be mapped to coordinates that are more central than the pixel's coordinates (closer to 0,0) while if a scale of <1 is applied, grid pixels will be mapped to more perispheric coordinates (closer to the borders) in the input image.\n",
    "\n",
    "We can also translate our transform to zoom into a non-centrical area of the image. For this we use $col_c$ which displaces the x axis and $row_c$ which displaces the y axis.\n",
    "\n",
    "_Parameters_\n",
    "\n",
    "1. **Scale** How much do we want to zoom in or out to our image.\n",
    "\n",
    "    Domain:  Real numbers\n",
    "        \n",
    "2. **Col_pct** How much do we want to displace our zoom along the x axis.\n",
    "\n",
    "    Domain: Real numbers between 0 and 1\n",
    "    \n",
    "    \n",
    "3. **Row_pct** How much do we want to displace our zoom along the y axis.\n",
    "\n",
    "    Domain: Real numbers between 0 and 1\n",
    "    \n",
    "\n",
    "<u>Affine matrix</u>\n",
    "\n",
    "`[[1/scale, 0,       col_c],\n",
    "  [0,       1/scale, row_c]]`\n",
    "\n",
    "\n",
    "**Rotate**\n",
    "\n",
    "Rotate shifts the image around its center in a given angle theta. The rotation is counterclockwise if theta is positive and clockwise if theta is negative. If you are curious about the derivation of the rotation matrix you can find it [here](https://matthew-brett.github.io/teaching/rotation_2d.html).\n",
    "\n",
    "_Parameters_\n",
    "\n",
    "1. **Degrees** By which angle do we want to rotate our image.\n",
    "\n",
    "    Domain: Real numbers\n",
    "        \n",
    "<u>Affine matrix</u>\n",
    "\n",
    "`[[cos(theta), -sin(theta), 0],\n",
    "  [sin(theta),  cos(theta), 0]]`"
   ]
  },
  {
   "cell_type": "markdown",
   "metadata": {},
   "source": [
    "## Deterministic affine"
   ]
  },
  {
   "cell_type": "code",
   "execution_count": null,
   "metadata": {},
   "outputs": [],
   "source": [
    "#export\n",
    "def grid_sample_nearest(input, coords, padding_mode='zeros'):\n",
    "    if padding_mode=='border': coords.clamp(-1,1)\n",
    "    bs,ch,h,w = input.size()\n",
    "    sz = torch.tensor([w,h]).float()[None,None]\n",
    "    coords.add_(1).mul_(sz/2)\n",
    "    coords = coords[0].round_().long()\n",
    "    if padding_mode=='zeros':\n",
    "        mask = (coords[...,0] < 0) + (coords[...,1] < 0) + (coords[...,0] >= w) + (coords[...,1] >= h)\n",
    "        mask.clamp_(0,1)\n",
    "    coords[...,0].clamp_(0,w-1)\n",
    "    coords[...,1].clamp_(0,h-1)\n",
    "    result = input[...,coords[...,1],coords[...,0]]\n",
    "    if padding_mode=='zeros': result[...,mask] = result[...,mask].zero_()\n",
    "    return result"
   ]
  },
  {
   "cell_type": "code",
   "execution_count": null,
   "metadata": {},
   "outputs": [],
   "source": [
    "#export\n",
    "def grid_sample(x, coords, mode='bilinear', padding_mode='reflect'):\n",
    "    if padding_mode=='reflect': padding_mode='reflection'\n",
    "    if mode=='nearest': return grid_sample_nearest(x[None], coords, padding_mode)[0]\n",
    "    return F.grid_sample(x[None], coords, mode=mode, padding_mode=padding_mode)[0]\n",
    "\n",
    "def affine_grid(size):\n",
    "    size = ((1,)+size)\n",
    "    N, C, H, W = size\n",
    "    grid = FloatTensor(N, H, W, 2)\n",
    "    linear_points = torch.linspace(-1, 1, W) if W > 1 else torch.Tensor([-1])\n",
    "    grid[:, :, :, 0] = torch.ger(torch.ones(H), linear_points).expand_as(grid[:, :, :, 0])\n",
    "    linear_points = torch.linspace(-1, 1, H) if H > 1 else torch.Tensor([-1])\n",
    "    grid[:, :, :, 1] = torch.ger(linear_points, torch.ones(W)).expand_as(grid[:, :, :, 1])\n",
    "    return grid\n",
    "\n",
    "def affine_mult(c,m):\n",
    "    if m is None: return c\n",
    "    size = c.size()\n",
    "    c = c.view(-1,2)\n",
    "    c = torch.addmm(m[:2,2], c,  m[:2,:2].t()) \n",
    "    return c.view(size)"
   ]
  },
  {
   "cell_type": "code",
   "execution_count": null,
   "metadata": {},
   "outputs": [],
   "source": [
    "def rotate(degrees):\n",
    "    angle = degrees * math.pi / 180\n",
    "    return [[cos(angle), -sin(angle), 0.],\n",
    "            [sin(angle),  cos(angle), 0.],\n",
    "            [0.        ,  0.        , 1.]]"
   ]
  },
  {
   "cell_type": "code",
   "execution_count": null,
   "metadata": {},
   "outputs": [],
   "source": [
    "c = affine_grid(x.px.shape)"
   ]
  },
  {
   "cell_type": "code",
   "execution_count": null,
   "metadata": {},
   "outputs": [],
   "source": [
    "m = rotate(30)\n",
    "m = x.px.new_tensor(m)"
   ]
  },
  {
   "cell_type": "code",
   "execution_count": null,
   "metadata": {},
   "outputs": [],
   "source": [
    "c[0,...,0]"
   ]
  },
  {
   "cell_type": "code",
   "execution_count": null,
   "metadata": {},
   "outputs": [],
   "source": [
    "c[0,...,1]"
   ]
  },
  {
   "cell_type": "code",
   "execution_count": null,
   "metadata": {},
   "outputs": [],
   "source": [
    "m"
   ]
  },
  {
   "cell_type": "code",
   "execution_count": null,
   "metadata": {},
   "outputs": [],
   "source": [
    "c = affine_mult(c,m)"
   ]
  },
  {
   "cell_type": "code",
   "execution_count": null,
   "metadata": {},
   "outputs": [],
   "source": [
    "c[0,...,0]"
   ]
  },
  {
   "cell_type": "code",
   "execution_count": null,
   "metadata": {},
   "outputs": [],
   "source": [
    "c[0,...,1]"
   ]
  },
  {
   "cell_type": "code",
   "execution_count": null,
   "metadata": {},
   "outputs": [],
   "source": [
    "img2 = grid_sample(x.px, c, padding_mode='zeros')\n",
    "show_image(img2)"
   ]
  },
  {
   "cell_type": "code",
   "execution_count": null,
   "metadata": {},
   "outputs": [],
   "source": [
    "class Image():\n",
    "    def __init__(self, px):\n",
    "        self._px = px\n",
    "        self._logit_px=None\n",
    "        self._flow=None\n",
    "        self._affine_mat=None\n",
    "        self.sample_kwargs = {}\n",
    "\n",
    "    @property\n",
    "    def shape(self): return self._px.shape\n",
    "    \n",
    "    def __repr__(self): return self.px\n",
    "\n",
    "    def refresh(self):\n",
    "        if self._logit_px is not None:\n",
    "            self._px = self._logit_px.sigmoid_()\n",
    "            self._logit_px = None\n",
    "        if self._affine_mat is not None or self._flow is not None:\n",
    "            self._px = grid_sample(self._px, self.flow, **self.sample_kwargs)\n",
    "            self.sample_kwargs = {}\n",
    "            self._flow = None\n",
    "        return self\n",
    "\n",
    "    @property\n",
    "    def px(self):\n",
    "        self.refresh()\n",
    "        return self._px\n",
    "    @px.setter\n",
    "    def px(self,v): self._px=v\n",
    "\n",
    "    @property\n",
    "    def flow(self):\n",
    "        if self._flow is None:\n",
    "            self._flow = affine_grid(self.shape)\n",
    "        if self._affine_mat is not None:\n",
    "            self._flow = affine_mult(self._flow,self._affine_mat)\n",
    "            self._affine_mat = None\n",
    "        return self._flow\n",
    "    @flow.setter\n",
    "    def flow(self,v): self._flow=v\n",
    "\n",
    "    def set_sample(self, **kwargs):\n",
    "        self.sample_kwargs = kwargs\n",
    "        return self\n",
    "\n",
    "    def resize(self, size):\n",
    "        assert self._flow is None\n",
    "        if isinstance(size, int): size=(self.shape[0], size, size)\n",
    "        self._flow = affine_grid(size)\n",
    "        return self\n",
    "\n",
    "    def affine(self,m):\n",
    "        self._affine_mat = self.affine_mat @ self._px.new(m)\n",
    "        return self\n",
    "\n",
    "    @property\n",
    "    def affine_mat(self):\n",
    "        if self._affine_mat is None: self._affine_mat = self._px.new(torch.eye(3))\n",
    "        return self._affine_mat\n",
    "    @affine_mat.setter\n",
    "    def affine_mat(self,v): self._affine_mat=v\n",
    "\n",
    "    @property\n",
    "    def logit_px(self):\n",
    "        if self._logit_px is None: self._logit_px = logit_(self.px)\n",
    "        return self._logit_px\n",
    "    @logit_px.setter\n",
    "    def logit_px(self,v): self._logit_px=v\n",
    "    \n",
    "    def show(self, ax=None, **kwargs): show_image(self.px, ax=ax, **kwargs)\n",
    "    def clone(self): return self.__class__(self.px.clone())"
   ]
  },
  {
   "cell_type": "code",
   "execution_count": null,
   "metadata": {},
   "outputs": [],
   "source": [
    "x = train_ds[1][0]"
   ]
  },
  {
   "cell_type": "code",
   "execution_count": null,
   "metadata": {},
   "outputs": [],
   "source": [
    "x.clone().affine(rotate(30)).show()"
   ]
  },
  {
   "cell_type": "code",
   "execution_count": null,
   "metadata": {},
   "outputs": [],
   "source": [
    "#export\n",
    "class TfmAffine(Transform):\n",
    "    order=5\n",
    "    def calc(self, x, *args, **kwargs): return x.affine(self.func(*args, **kwargs))\n",
    "\n",
    "@TfmAffine\n",
    "def rotate(degrees:uniform):\n",
    "    angle = degrees * math.pi / 180\n",
    "    return [[cos(angle), -sin(angle), 0.],\n",
    "            [sin(angle),  cos(angle), 0.],\n",
    "            [0.        ,  0.        , 1.]]\n",
    "\n",
    "def get_zoom_mat(sw, sh, c, r):\n",
    "    return [[sw, 0,  c],\n",
    "            [0, sh,  r],\n",
    "            [0,  0, 1.]]\n",
    "\n",
    "@TfmAffine\n",
    "def zoom(scale:uniform=1.0, row_pct:uniform=0.5, col_pct:uniform=0.5):\n",
    "    s = 1-1/scale\n",
    "    col_c = s * (2*col_pct - 1)\n",
    "    row_c = s * (2*row_pct - 1)\n",
    "    return get_zoom_mat(1/scale, 1/scale, col_c, row_c)\n",
    "\n",
    "@TfmAffine\n",
    "def squish(scale:uniform=1.0, row_pct:uniform=0.5, col_pct:uniform=0.5):\n",
    "    if scale <= 1: \n",
    "        col_c = (1-scale) * (2*col_pct - 1)\n",
    "        return get_zoom_mat(scale, 1, col_c, 0.)\n",
    "    else:          \n",
    "        row_c = (1-1/scale) * (2*row_pct - 1)\n",
    "        return get_zoom_mat(1, 1/scale, 0., row_c)"
   ]
  },
  {
   "cell_type": "code",
   "execution_count": null,
   "metadata": {},
   "outputs": [],
   "source": [
    "rotate(x.clone(), 30).show()"
   ]
  },
  {
   "cell_type": "code",
   "execution_count": null,
   "metadata": {},
   "outputs": [],
   "source": [
    "zoom(x.clone(), 0.6).show()"
   ]
  },
  {
   "cell_type": "code",
   "execution_count": null,
   "metadata": {},
   "outputs": [],
   "source": [
    "zoom(x.clone(), 0.6).set_sample(padding_mode='zeros').show()"
   ]
  },
  {
   "cell_type": "code",
   "execution_count": null,
   "metadata": {},
   "outputs": [],
   "source": [
    "zoom(x.clone(), 2, 0.2, 0.2).show()"
   ]
  },
  {
   "cell_type": "code",
   "execution_count": null,
   "metadata": {},
   "outputs": [],
   "source": [
    "scales = [0.75,0.9,1.1,1.33]\n",
    "\n",
    "_,axes = plt.subplots(1,4, figsize=(12,3))\n",
    "for i, ax in enumerate(axes): squish(x.clone(), scales[i]).show(ax)"
   ]
  },
  {
   "cell_type": "code",
   "execution_count": null,
   "metadata": {},
   "outputs": [],
   "source": [
    "img2 = rotate(x.clone(), 30).refresh()\n",
    "img2 = zoom(img2, 1.6)\n",
    "img2.show()"
   ]
  },
  {
   "cell_type": "code",
   "execution_count": null,
   "metadata": {},
   "outputs": [],
   "source": [
    "img2 = rotate(x.clone(), 30)\n",
    "zoom(img2, 1.6).show()"
   ]
  },
  {
   "cell_type": "code",
   "execution_count": null,
   "metadata": {},
   "outputs": [],
   "source": [
    "x.show()"
   ]
  },
  {
   "cell_type": "code",
   "execution_count": null,
   "metadata": {},
   "outputs": [],
   "source": [
    "img2 = zoom(x.clone().resize(48), 1.6, 0.8, 0.2)\n",
    "rotate(img2, 30).show()"
   ]
  },
  {
   "cell_type": "code",
   "execution_count": null,
   "metadata": {},
   "outputs": [],
   "source": [
    "img2 = zoom(x.clone().resize(24), 1.6, 0.8, 0.2)\n",
    "rotate(img2, 30).show(hide_axis=False)"
   ]
  },
  {
   "cell_type": "code",
   "execution_count": null,
   "metadata": {},
   "outputs": [],
   "source": [
    "img2 = zoom(x.clone().resize(48), 1.6, 0.8, 0.2)\n",
    "rotate(img2, 30).set_sample(mode='nearest').show()"
   ]
  },
  {
   "cell_type": "markdown",
   "metadata": {},
   "source": [
    "## Random affine"
   ]
  },
  {
   "cell_type": "markdown",
   "metadata": {},
   "source": [
    "As we did with the Lighting transform, we now want to build randomness into our pipeline so we can increase the automatization of the transform process. \n",
    "\n",
    "We will use a uniform distribution for both our transforms since their impact is linear and their domain is the real numbers."
   ]
  },
  {
   "cell_type": "markdown",
   "metadata": {},
   "source": [
    "**Apply all transforms**\n",
    "\n",
    "We will make all transforms try to do as little calculations as possible.\n",
    "\n",
    "We do only one affine transformation by multiplying all the affine matrices of the transforms, then we apply to the coords any non-affine transformation we might want (jitter, elastic distorsion). Next, we crop the coordinates we want to keep and, by doing it before the interpolation, we don't need to compute pixel values that won't be used afterwards. Finally we perform the interpolation and we apply all the transforms that operate pixelwise (brightness, contrast)."
   ]
  },
  {
   "cell_type": "code",
   "execution_count": null,
   "metadata": {},
   "outputs": [],
   "source": [
    "tfm = rotate(degrees=(-45,45.), p=0.75); tfm"
   ]
  },
  {
   "cell_type": "code",
   "execution_count": null,
   "metadata": {},
   "outputs": [],
   "source": [
    "tfm.resolve(); tfm"
   ]
  },
  {
   "cell_type": "code",
   "execution_count": null,
   "metadata": {},
   "outputs": [],
   "source": [
    "_,axes = plt.subplots(1,4, figsize=(12,3))\n",
    "for ax in axes: apply_tfms(tfm, x).show(ax)"
   ]
  },
  {
   "cell_type": "code",
   "execution_count": null,
   "metadata": {},
   "outputs": [],
   "source": [
    "tfms = [rotate(degrees=(-45,45.), p=0.75),\n",
    "        zoom(scale=(0.5,2.0), p=0.75)]\n",
    "\n",
    "_,axes = plt.subplots(1,4, figsize=(12,3))\n",
    "for ax in axes: apply_tfms(tfms,x).show(ax)"
   ]
  },
  {
   "cell_type": "code",
   "execution_count": null,
   "metadata": {},
   "outputs": [],
   "source": [
    "def apply_tfms(tfms, x, do_resolve=True, size=None, **kwargs):\n",
    "    if not tfms: return x\n",
    "    tfms = sorted(listify(tfms), key=lambda o: o.tfm.order)\n",
    "    if do_resolve: resolve_tfms(tfms)\n",
    "    x = x.clone()\n",
    "    if size is not None: x.resize(size)\n",
    "    if kwargs: x.set_sample(**kwargs)\n",
    "    for tfm in tfms: x = tfm(x)\n",
    "    return x"
   ]
  },
  {
   "cell_type": "code",
   "execution_count": null,
   "metadata": {},
   "outputs": [],
   "source": [
    "tfms = [rotate(degrees=(-45,45.), p=0.75),\n",
    "        zoom(scale=(1.0,2.0), row_pct=(0,1.), col_pct=(0,1.))]\n",
    "\n",
    "_,axes = plt.subplots(1,4, figsize=(12,3))\n",
    "for ax in axes: apply_tfms(tfms,x, size=64, padding_mode='zeros').show(ax)"
   ]
  },
  {
   "cell_type": "code",
   "execution_count": null,
   "metadata": {},
   "outputs": [],
   "source": [
    "tfms = [squish(scale=(0.5,2), row_pct=(0,1.), col_pct=(0,1.))]\n",
    "\n",
    "_,axes = plt.subplots(1,4, figsize=(12,3))\n",
    "for ax in axes: apply_tfms(tfms,x).show(ax)"
   ]
  },
  {
   "cell_type": "markdown",
   "metadata": {},
   "source": [
    "# Coord and pixel"
   ]
  },
  {
   "cell_type": "markdown",
   "metadata": {},
   "source": [
    "## Jitter / flip"
   ]
  },
  {
   "cell_type": "markdown",
   "metadata": {},
   "source": [
    "The last two transforms we will use are **jitter** and **flip**. \n",
    "\n",
    "**Jitter**\n",
    "\n",
    "Jitter is a transform which adds a random value to each of the pixels to make them somewhat different than the original ones. In our implementation we first get a random number between (-1, 1) and we multiply it by a constant M which scales it.\n",
    "\n",
    "_Parameters_\n",
    "\n",
    "1. **Magnitude** How much random noise do we want to add to each of the pixels in our image.\n",
    "\n",
    "    Domain: Real numbers between 0 and 1.\n",
    "    \n",
    "**Flip**\n",
    "\n",
    "Flip is a transform that reflects the image on a given axis.\n",
    "\n",
    "_Parameters_\n",
    "\n",
    "1. **P** Probability of applying the transformation to an input.\n",
    "\n",
    "    Domain: Real numbers between 0 and 1."
   ]
  },
  {
   "cell_type": "code",
   "execution_count": null,
   "metadata": {},
   "outputs": [],
   "source": [
    "#export\n",
    "class TfmCoord(Transform):\n",
    "    def calc(self, x, *args, **kwargs):\n",
    "        x.flow = self.func(x.flow, x.shape, *args, **kwargs)\n",
    "        return x"
   ]
  },
  {
   "cell_type": "code",
   "execution_count": null,
   "metadata": {},
   "outputs": [],
   "source": [
    "#export\n",
    "@TfmCoord\n",
    "def jitter(c, size, magnitude:uniform):\n",
    "    return c.add_((torch.rand_like(x)-0.5)*magnitude*2)\n",
    "\n",
    "@TfmPixel\n",
    "def flip_lr(x): return x.flip(2)"
   ]
  },
  {
   "cell_type": "code",
   "execution_count": null,
   "metadata": {},
   "outputs": [],
   "source": [
    "tfm = jitter(magnitude=(0,0.1))\n",
    "\n",
    "_,axes = plt.subplots(1,4, figsize=(12,3))\n",
    "for ax in axes:\n",
    "    tfm.resolve()\n",
    "    tfm(x.clone()).show(ax)"
   ]
  },
  {
   "cell_type": "code",
   "execution_count": null,
   "metadata": {},
   "outputs": [],
   "source": [
    "tfm = flip_lr(p=0.5)\n",
    "\n",
    "_,axes = plt.subplots(1,4, figsize=(12,3))\n",
    "for ax in axes:\n",
    "    tfm.resolve()\n",
    "    tfm(x.clone()).show(ax)"
   ]
  },
  {
   "cell_type": "markdown",
   "metadata": {},
   "source": [
    "## Combine"
   ]
  },
  {
   "cell_type": "code",
   "execution_count": null,
   "metadata": {},
   "outputs": [],
   "source": [
    "tfms = [\n",
    "    flip_lr(p=0.5),\n",
    "    contrast(scale=(0.5,2.0)),\n",
    "    brightness(change=(0.3,0.7)),\n",
    "    rotate(degrees=(-45,45.), p=0.5),\n",
    "    zoom(scale=(0.5,1.2), p=0.8)\n",
    "]"
   ]
  },
  {
   "cell_type": "code",
   "execution_count": null,
   "metadata": {},
   "outputs": [],
   "source": [
    "_,axes = plt.subplots(1,4, figsize=(12,3))\n",
    "for ax in axes: apply_tfms(tfms, x).show(ax)"
   ]
  },
  {
   "cell_type": "code",
   "execution_count": null,
   "metadata": {},
   "outputs": [],
   "source": [
    "x = train_ds[1][0]"
   ]
  },
  {
   "cell_type": "code",
   "execution_count": null,
   "metadata": {},
   "outputs": [],
   "source": [
    "_,axes = plt.subplots(2,4, figsize=(12,6))\n",
    "for i in range(4):\n",
    "    apply_tfms(tfms, x, padding_mode='zeros', size=48).show(axes[0][i], hide_axis=False)\n",
    "    apply_tfms(tfms, x, mode='nearest', do_resolve=False).show(axes[1][i], hide_axis=False)"
   ]
  },
  {
   "cell_type": "markdown",
   "metadata": {},
   "source": [
    "## RandomResizedCrop (Torchvision version)"
   ]
  },
  {
   "cell_type": "code",
   "execution_count": null,
   "metadata": {},
   "outputs": [],
   "source": [
    "#export\n",
    "def compute_zs_mat(sz, scale, squish, invert, row_pct, col_pct):\n",
    "    orig_ratio = math.sqrt(sz[2]/sz[1])\n",
    "    for s,r,i in zip(scale,squish, invert):\n",
    "        s,r = math.sqrt(s),math.sqrt(r)\n",
    "        if s * r <= 1 and s / r <= 1: #Test if we are completely inside the picture\n",
    "            w,h = (s/r, s*r) if i else (s*r,s/r)\n",
    "            w /= orig_ratio\n",
    "            h *= orig_ratio\n",
    "            col_c = (1-w) * (2*col_pct - 1)\n",
    "            row_c = (1-h) * (2*row_pct - 1)\n",
    "            return get_zoom_mat(w, h, col_c, row_c)\n",
    "        \n",
    "    #Fallback, hack to emulate a center crop without cropping anything yet.\n",
    "    if orig_ratio > 1: return get_zoom_mat(1/orig_ratio**2, 1, 0, 0.)\n",
    "    else:              return get_zoom_mat(1, orig_ratio**2, 0, 0.)\n",
    "\n",
    "@TfmCoord\n",
    "def zoom_squish(c, size, scale:uniform=1.0, squish:uniform=1.0, invert:rand_bool=False, \n",
    "                row_pct:uniform=0.5, col_pct:uniform=0.5):\n",
    "    #This is intended for scale, squish and invert to be of size 10 (or whatever) so that the transform\n",
    "    #can try a few zoom/squishes before falling back to center crop (like torchvision.RandomResizedCrop)\n",
    "    m = compute_zs_mat(size, scale, squish, invert, row_pct, col_pct)\n",
    "    return affine_mult(c, FloatTensor(m))"
   ]
  },
  {
   "cell_type": "code",
   "execution_count": null,
   "metadata": {},
   "outputs": [],
   "source": [
    "rrc = zoom_squish(scale=(0.25,1.0,10), squish=(0.5,1.0,10), invert=(0.5,10),\n",
    "                                  row_pct=(0,1.), col_pct=(0,1.))"
   ]
  },
  {
   "cell_type": "code",
   "execution_count": null,
   "metadata": {},
   "outputs": [],
   "source": [
    "_,axes = plt.subplots(2,4, figsize=(12,6))\n",
    "for i in range(4):\n",
    "    apply_tfms(rrc, x, size=48).show(axes[0][i])\n",
    "    apply_tfms(rrc, x, do_resolve=False, mode='nearest').show(axes[1][i])"
   ]
  },
  {
   "cell_type": "code",
   "execution_count": null,
   "metadata": {},
   "outputs": [],
   "source": [
    "#export\n",
    "@reg_transform\n",
    "def pad(x, padding, mode='reflect') -> TfmType.Start:\n",
    "    return F.pad(x[None], (padding,)*4, mode=mode)[0]\n",
    "\n",
    "@reg_transform\n",
    "def crop(x, size, row_pct:uniform=0.5, col_pct:uniform=0.5) -> TfmType.Pixel:\n",
    "    size = listify(size,2)\n",
    "    rows,cols = size\n",
    "    row = int((x.size(1)-rows+1) * row_pct)\n",
    "    col = int((x.size(2)-cols+1) * col_pct)\n",
    "    return x[:, row:row+rows, col:col+cols].contiguous()"
   ]
  }
 ],
 "metadata": {
  "kernelspec": {
   "display_name": "Python 3",
   "language": "python",
   "name": "python3"
  }
 },
 "nbformat": 4,
 "nbformat_minor": 2
}
