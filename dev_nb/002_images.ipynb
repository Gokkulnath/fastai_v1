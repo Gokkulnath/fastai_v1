{
 "cells": [
  {
   "cell_type": "code",
   "execution_count": null,
   "metadata": {},
   "outputs": [],
   "source": [
    "%load_ext autoreload\n",
    "%autoreload 2"
   ]
  },
  {
   "cell_type": "code",
   "execution_count": null,
   "metadata": {},
   "outputs": [],
   "source": [
    "#export\n",
    "from nb_001b import *\n",
    "import sys, PIL, matplotlib.pyplot as plt, itertools, math, random, collections, torch\n",
    "import scipy.stats, scipy.special\n",
    "\n",
    "from enum import Enum, IntEnum\n",
    "from torch import tensor, FloatTensor, LongTensor, ByteTensor, DoubleTensor, HalfTensor, ShortTensor\n",
    "from operator import itemgetter, attrgetter\n",
    "from numpy import cos, sin, tan, tanh, log, exp\n",
    "\n",
    "from functools import reduce\n",
    "from collections import defaultdict, abc, namedtuple, Iterable\n",
    "from PIL import Image"
   ]
  },
  {
   "cell_type": "markdown",
   "metadata": {},
   "source": [
    "# CIFAR subset data"
   ]
  },
  {
   "cell_type": "markdown",
   "metadata": {},
   "source": [
    "First we want to view our data to check if everything is how we expect it to be."
   ]
  },
  {
   "cell_type": "markdown",
   "metadata": {},
   "source": [
    "## Setup"
   ]
  },
  {
   "cell_type": "code",
   "execution_count": null,
   "metadata": {},
   "outputs": [],
   "source": [
    "DATA_PATH = Path('data')\n",
    "PATH = DATA_PATH/'cifar10_dog_air'\n",
    "TRAIN_PATH = PATH/'train'"
   ]
  },
  {
   "cell_type": "code",
   "execution_count": null,
   "metadata": {},
   "outputs": [],
   "source": [
    "dog_fn = list((TRAIN_PATH/'dog').iterdir())[0]\n",
    "dog_image = Image.open(dog_fn)\n",
    "dog_image.resize((256,256))"
   ]
  },
  {
   "cell_type": "code",
   "execution_count": null,
   "metadata": {},
   "outputs": [],
   "source": [
    "air_fn = list((TRAIN_PATH/'airplane').iterdir())[0]\n",
    "air_image = Image.open(air_fn)\n",
    "air_image.resize((256,256))"
   ]
  },
  {
   "cell_type": "markdown",
   "metadata": {},
   "source": [
    "## Simple Dataset/Dataloader"
   ]
  },
  {
   "cell_type": "markdown",
   "metadata": {},
   "source": [
    "We will build a Dataset class for our image files. A Dataset class needs to have two functions: length and get-item. Our FilesDataset additionally gets the image files from their respective directories and transforms them to tensors."
   ]
  },
  {
   "cell_type": "code",
   "execution_count": null,
   "metadata": {},
   "outputs": [],
   "source": [
    "#export\n",
    "def find_classes(folder):\n",
    "    classes = [d for d in folder.iterdir()\n",
    "               if d.is_dir() and not d.name.startswith('.')]\n",
    "    assert(len(classes)>0)\n",
    "    return sorted(classes, key=lambda d: d.name)\n",
    "\n",
    "def get_image_files(c):\n",
    "    return [o for o in list(c.iterdir())\n",
    "            if not o.name.startswith('.') and not o.is_dir()]\n",
    "\n",
    "def pil2tensor(image):\n",
    "    arr = torch.ByteTensor(torch.ByteStorage.from_buffer(image.tobytes()))\n",
    "    arr = arr.view(image.size[1], image.size[0], -1)\n",
    "    arr = arr.permute(2,0,1)\n",
    "    return arr.float().div_(255)\n",
    "\n",
    "def open_image(fn):\n",
    "    x = PIL.Image.open(fn).convert('RGB')\n",
    "    return pil2tensor(x)"
   ]
  },
  {
   "cell_type": "code",
   "execution_count": null,
   "metadata": {},
   "outputs": [],
   "source": [
    "#export\n",
    "class FilesDataset(Dataset):\n",
    "    def __init__(self, folder, classes=None):\n",
    "        self.fns, self.y = [], []\n",
    "        if classes is None: classes = [cls.name for cls in find_classes(folder)]\n",
    "        self.classes = classes\n",
    "        for i, cls in enumerate(classes):\n",
    "            fnames = get_image_files(folder/cls)\n",
    "            self.fns += fnames\n",
    "            self.y += [i] * len(fnames)\n",
    "        \n",
    "    def __len__(self): return len(self.fns)\n",
    "    def __getitem__(self,i): return open_image(self.fns[i]),self.y[i]"
   ]
  },
  {
   "cell_type": "code",
   "execution_count": null,
   "metadata": {},
   "outputs": [],
   "source": [
    "train_ds = FilesDataset(PATH/'train')\n",
    "valid_ds = FilesDataset(PATH/'test')"
   ]
  },
  {
   "cell_type": "code",
   "execution_count": null,
   "metadata": {},
   "outputs": [],
   "source": [
    "len(train_ds), len(valid_ds)"
   ]
  },
  {
   "cell_type": "code",
   "execution_count": null,
   "metadata": {},
   "outputs": [],
   "source": [
    "#export\n",
    "def image2np(image): return image.cpu().permute(1,2,0).numpy()"
   ]
  },
  {
   "cell_type": "code",
   "execution_count": null,
   "metadata": {},
   "outputs": [],
   "source": [
    "x,y = train_ds[0]\n",
    "plt.imshow(image2np(x))\n",
    "print(train_ds.classes[y])"
   ]
  },
  {
   "cell_type": "code",
   "execution_count": null,
   "metadata": {},
   "outputs": [],
   "source": [
    "bs=64"
   ]
  },
  {
   "cell_type": "code",
   "execution_count": null,
   "metadata": {},
   "outputs": [],
   "source": [
    "data = DataBunch(train_ds, valid_ds, bs=bs)\n",
    "len(data.train_dl), len(data.valid_dl)"
   ]
  },
  {
   "cell_type": "code",
   "execution_count": null,
   "metadata": {},
   "outputs": [],
   "source": [
    "#export\n",
    "def show_image(img, ax=None, figsize=(3,3), hide_axis=True):\n",
    "    if ax is None: fig,ax = plt.subplots(figsize=figsize)\n",
    "    ax.imshow(image2np(img))\n",
    "    if hide_axis: ax.axis('off')\n",
    "\n",
    "def show_image_batch(dl, classes, rows=None, figsize=(12,15)):\n",
    "    x,y = next(iter(dl))\n",
    "    if rows is None: rows = int(math.sqrt(len(x)))\n",
    "    show_images(x[:rows*rows],y[:rows*rows],rows, classes)\n",
    "\n",
    "def show_images(x,y,rows, classes, figsize=(9,9)):\n",
    "    fig, axs = plt.subplots(rows,rows,figsize=figsize)\n",
    "    for i, ax in enumerate(axs.flatten()):\n",
    "        show_image(x[i], ax)\n",
    "        ax.set_title(classes[y[i]])\n",
    "    plt.tight_layout()"
   ]
  },
  {
   "cell_type": "code",
   "execution_count": null,
   "metadata": {},
   "outputs": [],
   "source": [
    "show_image_batch(data.train_dl, train_ds.classes, 6)"
   ]
  },
  {
   "cell_type": "markdown",
   "metadata": {},
   "source": [
    "# Data augmentation"
   ]
  },
  {
   "cell_type": "markdown",
   "metadata": {},
   "source": [
    "We are going augment our data to increase our training set with artificial images. These new images are basically \"free\" data that we can use in our training to help our model generalize better (reduce overfitting)."
   ]
  },
  {
   "cell_type": "markdown",
   "metadata": {},
   "source": [
    "## Lighting"
   ]
  },
  {
   "cell_type": "markdown",
   "metadata": {},
   "source": [
    "We will start by changing the **brightness** and **contrast** of our images."
   ]
  },
  {
   "cell_type": "markdown",
   "metadata": {},
   "source": [
    "### Method"
   ]
  },
  {
   "cell_type": "markdown",
   "metadata": {},
   "source": [
    "**Brightness**\n",
    "\n",
    "Brightness refers to where does our image stand on the dark-light spectrum. Brightness is applied by adding a positive constant to each of the image's channels. This works because each of the channels in an image goes from 0 (darkest) to 255 (brightest) in a dark-light continum. (0, 0, 0) is black (total abscence of light) and (255, 255, 255) is white (pure light). You can check how this works by experimenting by yourself [here](https://www.w3schools.com/colors/colors_rgb.asp).\n",
    "\n",
    "_Parameters_\n",
    "\n",
    "1. **Change** How much brightness do we want to add to (or take from) the image.\n",
    "\n",
    "    Domain: Real numbers\n",
    "    \n",
    "**Contrast**\n",
    "\n",
    "Contrast refers to how sharp a distinction there is between birghter and darker sections of our image. To increase contrast we need darker pixels to be darker and lighter pixels to be lighter. In other words, we would like channels with a value smaller than 128 to decrease and channels with a value of greater than 128 to increase.\n",
    "\n",
    "_Parameters_\n",
    "\n",
    "1. **Scale** How much contrast do we want to add to (or remove from) the image.\n",
    "\n",
    "    Domain: [0, +inf]\n",
    "    \n",
    "***On logit and sigmoid***\n",
    "\n",
    "Notice that for both transformations we first apply the logit to our tensor, then apply the transformation and finally take the sigmoid. This is important for two reasons. \n",
    "\n",
    "First, we don't want to overflow our tensor values. In other words, we need our final tensor values to be between [0,1].  Imagine, for instance, a tensor value at 0.99. We want to increase its brightness, but we can’t go over 1.0. By doing logit first, which first moves our space to -inf to +inf, this works fine. The same applies to contrast if we have a scale S > 1 (might make some of our tensor values greater than one).\n",
    "\n",
    "Second, when we apply contrast, we need to affect the dispersion of values around the middle value. Say we want to increase contrast. Then we need the bright values (>0.5) to get brighter and dark values (<0.5) to get darker. We must first transform our tensor values so our values which were originally <0.5 are now negative and our values which were originally >0.5 are positive. This way, when we multiply by a constant, the dispersion around 0 will increase. The logit function does exactly this and allows us to increase or decrease dispersion around a mid value."
   ]
  },
  {
   "cell_type": "markdown",
   "metadata": {},
   "source": [
    "### Implementation"
   ]
  },
  {
   "cell_type": "code",
   "execution_count": null,
   "metadata": {},
   "outputs": [],
   "source": [
    "#export\n",
    "def logit(x):  return -(1/x-1).log()\n",
    "def logit_(x): return (x.reciprocal_().sub_(1)).log_().neg_()\n",
    "\n",
    "def brightness(x, change): return x.add_(scipy.special.logit(change))\n",
    "def contrast(x, scale): return x.mul_(scale)\n",
    "\n",
    "def _apply_lighting(x, func):\n",
    "    if func is None: return x\n",
    "    return func(logit_(x)).sigmoid()\n",
    "\n",
    "def apply_lighting(func): return partial(_apply_lighting, func=func)"
   ]
  },
  {
   "cell_type": "code",
   "execution_count": null,
   "metadata": {},
   "outputs": [],
   "source": [
    "def apply_contrast(scale): return apply_lighting(partial(contrast, scale=scale))"
   ]
  },
  {
   "cell_type": "code",
   "execution_count": null,
   "metadata": {},
   "outputs": [],
   "source": [
    "x = lambda: train_ds[1][0]"
   ]
  },
  {
   "cell_type": "code",
   "execution_count": null,
   "metadata": {},
   "outputs": [],
   "source": [
    "_,axes = plt.subplots(1,4, figsize=(12,3))\n",
    "\n",
    "show_image(x(), axes[0])\n",
    "show_image(apply_contrast(1.0)(x()), axes[1])\n",
    "show_image(apply_contrast(0.5)(x()), axes[2])\n",
    "show_image(apply_contrast(2.0)(x()), axes[3])"
   ]
  },
  {
   "cell_type": "code",
   "execution_count": null,
   "metadata": {},
   "outputs": [],
   "source": [
    "def apply_brightness(change):\n",
    "    return apply_lighting(partial(brightness, change=change))"
   ]
  },
  {
   "cell_type": "code",
   "execution_count": null,
   "metadata": {},
   "outputs": [],
   "source": [
    "_,axes = plt.subplots(1,4, figsize=(12,3))\n",
    "\n",
    "show_image(x(), axes[0])\n",
    "show_image(apply_brightness(0.5)(x()), axes[1])\n",
    "show_image(apply_brightness(0.8)(x()), axes[2])\n",
    "show_image(apply_brightness(0.2)(x()), axes[3])"
   ]
  },
  {
   "cell_type": "code",
   "execution_count": null,
   "metadata": {},
   "outputs": [],
   "source": [
    "#export\n",
    "def listify(p=None, q=None):\n",
    "    if p is None: p=[]\n",
    "    elif not isinstance(p, Iterable): p=[p]\n",
    "    n = q if type(q)==int else 1 if q is None else len(q)\n",
    "    if len(p)==1: p = p * n\n",
    "    return p\n",
    "\n",
    "def compose(funcs):\n",
    "    def _inner(x, *args, **kwargs):\n",
    "        for f in listify(funcs): x = f(x, *args, **kwargs)\n",
    "        return x\n",
    "    return _inner if funcs else None"
   ]
  },
  {
   "cell_type": "code",
   "execution_count": null,
   "metadata": {},
   "outputs": [],
   "source": [
    "def apply_brightness_contrast(scale_contrast, change_brightness):\n",
    "    return apply_lighting(compose([\n",
    "        partial(contrast, scale=scale_contrast),\n",
    "        partial(brightness, change=change_brightness)\n",
    "    ]))"
   ]
  },
  {
   "cell_type": "code",
   "execution_count": null,
   "metadata": {},
   "outputs": [],
   "source": [
    "_,axes = plt.subplots(1,4, figsize=(12,3))\n",
    "\n",
    "show_image(apply_brightness_contrast(0.75, 0.7)(x()), axes[0])\n",
    "show_image(apply_brightness_contrast(1.3,  0.3)(x()), axes[1])\n",
    "show_image(apply_brightness_contrast(1.3,  0.7)(x()), axes[2])\n",
    "show_image(apply_brightness_contrast(0.75, 0.3)(x()), axes[3])"
   ]
  },
  {
   "cell_type": "markdown",
   "metadata": {},
   "source": [
    "## Random lighting"
   ]
  },
  {
   "cell_type": "markdown",
   "metadata": {},
   "source": [
    "Next, we will make our previous transforms random since we are interested in automatizing the pipeline. We will achieve this by making our parameters stochastic with a specific distribution. \n",
    "\n",
    "We will use a <a href=\"https://en.wikipedia.org/wiki/Uniform_distribution_(continuous)\"> uniform</a> distribution for brightness change since its domain is the real numbers and the impact varies linearly with the scale. For contrast we use [log_uniform](https://www.vosesoftware.com/riskwiki/LogUniformdistribution.php) for two reasons. First, contrast scale has a domain of [0, inf]. Second, the impact of the scale in the transformation is non-linear (i.e. 0.5 is as extreme as 2.0, 0.2 is as extreme as 5). The log_uniform function is appropriate because it has the same domain and correctly represents the non-linearity of the transform, P(0.5) = P(2)."
   ]
  },
  {
   "cell_type": "code",
   "execution_count": null,
   "metadata": {},
   "outputs": [],
   "source": [
    "#export\n",
    "def uniform(low, high, size=None):\n",
    "    return random.uniform(low,high) if size is None else torch.FloatTensor(size).uniform_(low,high)\n",
    "\n",
    "def log_uniform(low, high, size=None):\n",
    "    res = uniform(log(low), log(high), size)\n",
    "    return exp(res) if size is None else res.exp_()\n",
    "\n",
    "def rand_bool(p, size=None): return uniform(0,1,size)<p"
   ]
  },
  {
   "cell_type": "code",
   "execution_count": null,
   "metadata": {},
   "outputs": [],
   "source": [
    "scipy.stats.gmean([log_uniform(0.5,2.0) for _ in range(1000)])"
   ]
  },
  {
   "cell_type": "code",
   "execution_count": null,
   "metadata": {},
   "outputs": [],
   "source": [
    "# TfmType = IntEnum('TfmType', 'Start Affine Coord Pixel Lighting')"
   ]
  },
  {
   "cell_type": "code",
   "execution_count": null,
   "metadata": {},
   "outputs": [],
   "source": [
    "#export\n",
    "import inspect\n",
    "from copy import copy,deepcopy\n",
    "\n",
    "def get_default_args(func):\n",
    "    return {k: v.default\n",
    "            for k, v in inspect.signature(func).parameters.items()\n",
    "            if v.default is not inspect.Parameter.empty}\n",
    "\n",
    "class Transform():\n",
    "    def __init__(self, func, p=1., **kwargs):\n",
    "        self.func,self.p,self.kw = func,p,kwargs\n",
    "        self.def_args = get_default_args(func)\n",
    "        self.params = copy(func.__annotations__)\n",
    "        self.params.pop('return')\n",
    "\n",
    "    @property\n",
    "    def name(self): return self.__class__.__name__\n",
    "    \n",
    "    def __repr__(self):\n",
    "        return f'{self.func.__name__}_tfm->{self.name}; {self.kw} (p={self.p})'\n",
    "\n",
    "    def resolve(self):\n",
    "        self.resolved = {}\n",
    "        for k,v in self.params.items():\n",
    "            if k not in self.kw and k in self.def_args: self.resolved[k] = self.def_args[k]\n",
    "            else: self.resolved[k] = v(*listify(self.kw[k]))\n",
    "        self.do_run = rand_bool(self.p)\n",
    "\n",
    "    def __call__(self, x, *args, **kwargs):\n",
    "        return self.func(x, *args, **self.resolved, **kwargs) if self.do_run else x\n",
    "    \n",
    "    def apply(self, tfms=None):\n",
    "        if tfms is None: tfms=self\n",
    "        return compose(tfms)\n",
    "\n",
    "class TfmLighting(Transform):\n",
    "    def apply(self, tfms=None): return apply_lighting(super().apply(tfms))"
   ]
  },
  {
   "cell_type": "code",
   "execution_count": null,
   "metadata": {},
   "outputs": [],
   "source": [
    "def brightness(x, change:uniform) -> TfmLighting:\n",
    "    return x.add_(scipy.special.logit(change))\n",
    "\n",
    "def contrast(x, scale:log_uniform) -> TfmLighting:\n",
    "    return x.mul_(scale)"
   ]
  },
  {
   "cell_type": "code",
   "execution_count": null,
   "metadata": {},
   "outputs": [],
   "source": [
    "brightness.__annotations__"
   ]
  },
  {
   "cell_type": "code",
   "execution_count": null,
   "metadata": {},
   "outputs": [],
   "source": [
    "contrast_tfm = partial(contrast.__annotations__['return'], contrast)\n",
    "tfm = contrast_tfm(scale=(0.3,3))\n",
    "tfm.resolve()\n",
    "tfm,tfm.resolved"
   ]
  },
  {
   "cell_type": "code",
   "execution_count": null,
   "metadata": {},
   "outputs": [],
   "source": [
    "# all the same\n",
    "tfm.resolve()\n",
    "\n",
    "_,axes = plt.subplots(1,4, figsize=(12,3))\n",
    "for ax in axes: show_image(tfm.apply()(x()), ax)"
   ]
  },
  {
   "cell_type": "code",
   "execution_count": null,
   "metadata": {},
   "outputs": [],
   "source": [
    "tfm = contrast_tfm(scale=(0.3,3), p=0.5)\n",
    "\n",
    "# different\n",
    "_,axes = plt.subplots(1,4, figsize=(12,3))\n",
    "for ax in axes:\n",
    "    tfm.resolve()\n",
    "    show_image(apply_lighting(tfm)(x()), ax)"
   ]
  },
  {
   "cell_type": "markdown",
   "metadata": {},
   "source": [
    "## Decorator and composition"
   ]
  },
  {
   "cell_type": "markdown",
   "metadata": {},
   "source": [
    "We are interested in composing the transform functions so as to apply them all at once. We will try to feed a list of transforms to our pipeline for it to apply all of them.\n",
    "\n",
    "Applying a function to our transforms before calling them in Python is easiest if we use a decorator. You can find more about decorators [here](https://www.thecodeship.com/patterns/guide-to-python-function-decorators/)."
   ]
  },
  {
   "cell_type": "code",
   "execution_count": null,
   "metadata": {},
   "outputs": [],
   "source": [
    "#export\n",
    "def reg_transform(func):\n",
    "    tfm = partial(func.__annotations__['return'], func)\n",
    "    setattr(sys.modules[func.__module__], f'{func.__name__}_tfm', tfm)\n",
    "    return func\n",
    "\n",
    "@reg_transform\n",
    "def brightness(x, change:uniform) ->TfmLighting: return x.add_(scipy.special.logit(change))\n",
    "\n",
    "@reg_transform\n",
    "def contrast(x, scale:log_uniform)->TfmLighting: return x.mul_(scale)\n",
    "\n",
    "def resolve_tfms(tfms):\n",
    "    for f in listify(tfms): f.resolve()"
   ]
  },
  {
   "cell_type": "code",
   "execution_count": null,
   "metadata": {},
   "outputs": [],
   "source": [
    "def _apply_tfms(tfms, x):\n",
    "    if not tfms: return x\n",
    "    resolve_tfms(tfms)\n",
    "    return tfms[0].apply(tfms)(x.clone())\n",
    "\n",
    "def apply_tfms(tfms): return partial(_apply_tfms, tfms)"
   ]
  },
  {
   "cell_type": "code",
   "execution_count": null,
   "metadata": {},
   "outputs": [],
   "source": [
    "x = train_ds[1][0]"
   ]
  },
  {
   "cell_type": "code",
   "execution_count": null,
   "metadata": {},
   "outputs": [],
   "source": [
    "tfms = [contrast_tfm(scale=(0.3,3.0), p=0.75),\n",
    "        brightness_tfm(change=(0.35,0.65), p=0.75)]\n",
    "\n",
    "_,axes = plt.subplots(1,4, figsize=(12,3))\n",
    "for ax in axes: show_image(apply_tfms(tfms)(x), ax)"
   ]
  },
  {
   "cell_type": "code",
   "execution_count": null,
   "metadata": {},
   "outputs": [],
   "source": [
    "_,axes = plt.subplots(2,4, figsize=(12,6))\n",
    "for i in range(4):\n",
    "    tfm = apply_tfms(tfms)\n",
    "    show_image(tfm(x), axes[0][i])\n",
    "    show_image(tfm(x), axes[1][i])"
   ]
  },
  {
   "cell_type": "code",
   "execution_count": null,
   "metadata": {},
   "outputs": [],
   "source": [
    "show_image(apply_tfms([])(x))"
   ]
  },
  {
   "cell_type": "markdown",
   "metadata": {},
   "source": [
    "# Affine"
   ]
  },
  {
   "cell_type": "markdown",
   "metadata": {},
   "source": [
    "We will now add affine transforms that operate on the coordinates instead of pixels like the lighting transforms we just saw. An [affine transformation](https://en.wikipedia.org/wiki/Affine_transformation) is a function \"(...) between affine spaces which preserves points, straight lines and planes.\" "
   ]
  },
  {
   "cell_type": "markdown",
   "metadata": {},
   "source": [
    "## Details"
   ]
  },
  {
   "cell_type": "markdown",
   "metadata": {},
   "source": [
    "Our implementation first creates a grid of coordinates for the original image. The grid is normalized to a [-1, 1] range with (-1, -1) representing the top left corner, (1, 1) the bottom right corner and (0, 0) the center. Next, we build an affine matrix representing our desired transform and we multiply it by our original grid coordinates. The result will be a set of x, y coordinates which references where in the input image will each of the pixels in the output image be mapped. It has a size of w \\* h \\* 2 since it needs two coordinates for each of the h * w pixels of the output image. \n",
    "\n",
    "This is clearest if we see it graphically. We will build an affine matrix of the following form:\n",
    "\n",
    "`[[a, b, e],\n",
    " [c, d, f]]`\n",
    "\n",
    "\n",
    "with which we will transform each pair of x, y coordinates in our original grid into our transformation grid:\n",
    "\n",
    "\n",
    "`[[a, b],       [[x],       [[e],       [[x'],\n",
    "  [c, d]]   x    [y]]    +   [f]]    =   [y']]`   \n",
    "\n",
    "So after the transform we will get a new grid with which to map our input image into our output image. This will be our **map of where from exactly does our transformation source each pixel in the output image**.\n",
    "\n",
    "**Enter problems**\n",
    "\n",
    "Affine transforms face two problems that must be solved independently:\n",
    "1. **The interpolation problem**: The result of our transformation gives us float coordinates, and we need to decide, for each (i,j), how to assign these coordinates to pixels in the input image.\n",
    "2. **The missing pixel problem**: The result of our transformation may have coordinates which exceed the [-1, 1] range of our original grid and thus fall outside of our original grid.\n",
    "\n",
    "**Solutions to problems**\n",
    "\n",
    "1.  **The interpolation problem**: We will perform a [bilinear interpolation](https://en.wikipedia.org/wiki/Bilinear_interpolation). This takes an average of the values of the pixels corresponding to the four points in the grid surrounding the result of our transformation, with weights depending on how close we are to each of those points. \n",
    "2. **The missing pixel problem**: For these values we need padding, and we face a few options:\n",
    "\n",
    "    1. Adding zeros on the side (so the pixels that fall out will be black)\n",
    "    2. Replacing them by the value at the border\n",
    "    3. Mirroring the content of the picture on the other side (reflect padding).\n",
    "    \n",
    "    \n",
    "### Transformation Method\n",
    "\n",
    "**Zoom**\n",
    "\n",
    "Zoom changes the focus of the image according to a scale. If a scale of >1 is applied, grid pixels will be mapped to coordinates that are more central than the pixel's coordinates (closer to 0,0) while if a scale of <1 is applied, grid pixels will be mapped to more perispheric coordinates (closer to the borders) in the input image.\n",
    "\n",
    "We can also translate our transform to zoom into a non-centrical area of the image. For this we use $col_c$ which displaces the x axis and $row_c$ which displaces the y axis.\n",
    "\n",
    "_Parameters_\n",
    "\n",
    "1. **Scale** How much do we want to zoom in or out to our image.\n",
    "\n",
    "    Domain:  Real numbers\n",
    "        \n",
    "2. **Col_pct** How much do we want to displace our zoom along the x axis.\n",
    "\n",
    "    Domain: Real numbers between 0 and 1\n",
    "    \n",
    "    \n",
    "3. **Row_pct** How much do we want to displace our zoom along the y axis.\n",
    "\n",
    "    Domain: Real numbers between 0 and 1\n",
    "    \n",
    "\n",
    "<u>Affine matrix</u>\n",
    "\n",
    "`[[1/scale, 0,       col_c],\n",
    "  [0,       1/scale, row_c]]`\n",
    "\n",
    "\n",
    "**Rotate**\n",
    "\n",
    "Rotate shifts the image around its center in a given angle theta. The rotation is counterclockwise if theta is positive and clockwise if theta is negative. If you are curious about the derivation of the rotation matrix you can find it [here](https://matthew-brett.github.io/teaching/rotation_2d.html).\n",
    "\n",
    "_Parameters_\n",
    "\n",
    "1. **Degrees** By which angle do we want to rotate our image.\n",
    "\n",
    "    Domain: Real numbers\n",
    "        \n",
    "<u>Affine matrix</u>\n",
    "\n",
    "`[[cos(theta), -sin(theta), 0],\n",
    "  [sin(theta),  cos(theta), 0]]`"
   ]
  },
  {
   "cell_type": "markdown",
   "metadata": {},
   "source": [
    "## Deterministic affine"
   ]
  },
  {
   "cell_type": "code",
   "execution_count": null,
   "metadata": {},
   "outputs": [],
   "source": [
    "#export\n",
    "def grid_sample_nearest(input, coords, padding_mode='zeros'):\n",
    "    if padding_mode=='border': coords.clamp(-1,1)\n",
    "    bs,ch,h,w = input.size()\n",
    "    sz = torch.tensor([w,h]).float()[None,None]\n",
    "    coords.add_(1).mul_(sz/2)\n",
    "    coords = coords[0].round_().long()\n",
    "    if padding_mode=='zeros':\n",
    "        mask = (coords[...,0] < 0) + (coords[...,1] < 0) + (coords[...,0] >= w) + (coords[...,1] >= h)\n",
    "        mask.clamp_(0,1)\n",
    "    coords[...,0].clamp_(0,w-1)\n",
    "    coords[...,1].clamp_(0,h-1)\n",
    "    result = input[...,coords[...,1],coords[...,0]]\n",
    "    if padding_mode=='zeros': result[...,mask] = result[...,mask].zero_()\n",
    "    return result"
   ]
  },
  {
   "cell_type": "code",
   "execution_count": null,
   "metadata": {},
   "outputs": [],
   "source": [
    "#export\n",
    "def grid_sample(x, coords, mode='bilinear', padding_mode='reflect'):\n",
    "    if padding_mode=='reflect': padding_mode='reflection'\n",
    "    if mode=='nearest': return grid_sample_nearest(x[None], coords, padding_mode)[0]\n",
    "    return F.grid_sample(x[None], coords, mode=mode, padding_mode=padding_mode)[0]\n",
    "\n",
    "def affine_grid(x, matrix, size=None):\n",
    "    if size is None: size = x.size()\n",
    "    elif isinstance(size, int): size=(x.size(0), size, size)\n",
    "    return F.affine_grid(matrix[None,:2], torch.Size((1,)+size))"
   ]
  },
  {
   "cell_type": "code",
   "execution_count": null,
   "metadata": {},
   "outputs": [],
   "source": [
    "def rotate(degrees):\n",
    "    angle = degrees * math.pi / 180\n",
    "    return [[cos(angle), -sin(angle), 0.],\n",
    "            [sin(angle),  cos(angle), 0.],\n",
    "            [0.        ,  0.        , 1.]]"
   ]
  },
  {
   "cell_type": "code",
   "execution_count": null,
   "metadata": {},
   "outputs": [],
   "source": [
    "m = rotate(30)\n",
    "m = x.new_tensor(m)\n",
    "c = affine_grid(x, m)\n",
    "img2 = grid_sample(x, c, padding_mode='zeros')\n",
    "show_image(img2)"
   ]
  },
  {
   "cell_type": "code",
   "execution_count": null,
   "metadata": {},
   "outputs": [],
   "source": [
    "#export\n",
    "def affines_mat(img, matrices=None):\n",
    "    matrices = [img.new_tensor(m) for m in matrices if m is not None]\n",
    "    if not matrices: return None\n",
    "    return reduce(torch.matmul, matrices, torch.eye(3))\n",
    "\n",
    "def affine_mult(c,m):\n",
    "    if m is None: return c\n",
    "    size = c.size()\n",
    "    c = c.view(-1,2)\n",
    "    c = torch.addmm(m[:2,2], c,  m[:2,:2].t()) \n",
    "    return c.view(size)\n",
    "\n",
    "def _apply_affine(c, size=None, mats=None, func=None, **kwargs):\n",
    "    return affine_mult(c, affines_mat(c, mats))\n",
    "\n",
    "def apply_affine(mats): return partial(_apply_affine, mats=mats)\n",
    "\n",
    "def affine_only(x, mats, size=None, **kwargs):\n",
    "    tfm = apply_affine(mats)\n",
    "    c = affine_grid(x, torch.eye(3), size=size)\n",
    "    c = tfm(c)\n",
    "    return grid_sample(x, c, **kwargs)"
   ]
  },
  {
   "cell_type": "code",
   "execution_count": null,
   "metadata": {},
   "outputs": [],
   "source": [
    "img2 = affine_only(x, [rotate(30)])\n",
    "show_image(img2)"
   ]
  },
  {
   "cell_type": "code",
   "execution_count": null,
   "metadata": {},
   "outputs": [],
   "source": [
    "def zoom(scale: uniform, row_pct=0.5, col_pct=0.5):\n",
    "    s = 1-1/scale\n",
    "    col_c = s * (2*col_pct - 1)\n",
    "    row_c = s * (2*row_pct - 1)\n",
    "    return [[1/scale, 0,       col_c],\n",
    "            [0,       1/scale, row_c],\n",
    "            [0,       0,       1.    ]]"
   ]
  },
  {
   "cell_type": "code",
   "execution_count": null,
   "metadata": {},
   "outputs": [],
   "source": [
    "show_image(affine_only(x, [zoom(0.6)]))"
   ]
  },
  {
   "cell_type": "code",
   "execution_count": null,
   "metadata": {},
   "outputs": [],
   "source": [
    "show_image(affine_only(x, [zoom(0.6)], padding_mode='zeros'))"
   ]
  },
  {
   "cell_type": "code",
   "execution_count": null,
   "metadata": {},
   "outputs": [],
   "source": [
    "show_image(affine_only(x, [zoom(2, 0.2, 0.2)]))"
   ]
  },
  {
   "cell_type": "code",
   "execution_count": null,
   "metadata": {},
   "outputs": [],
   "source": [
    "img2 = affine_only(x,    [rotate(30)])\n",
    "img2 = affine_only(img2, [zoom(1.6)])\n",
    "show_image(img2)"
   ]
  },
  {
   "cell_type": "code",
   "execution_count": null,
   "metadata": {},
   "outputs": [],
   "source": [
    "show_image(affine_only(x, [zoom(1.6), rotate(30)]))"
   ]
  },
  {
   "cell_type": "code",
   "execution_count": null,
   "metadata": {},
   "outputs": [],
   "source": [
    "show_image(x)"
   ]
  },
  {
   "cell_type": "code",
   "execution_count": null,
   "metadata": {},
   "outputs": [],
   "source": [
    "m = [zoom(1.6, 0.8, 0.2), rotate(30)]\n",
    "show_image(affine_only(x, m, size=48))"
   ]
  },
  {
   "cell_type": "code",
   "execution_count": null,
   "metadata": {},
   "outputs": [],
   "source": [
    "m = [zoom(1.6, 0.8, 0.2), rotate(30)]\n",
    "show_image(affine_only(x, m, size=24), hide_axis=False)"
   ]
  },
  {
   "cell_type": "code",
   "execution_count": null,
   "metadata": {},
   "outputs": [],
   "source": [
    "m = [zoom(1.6, 0.8, 0.2), rotate(30)]\n",
    "show_image(affine_only(x, m, size=48, mode='nearest'))"
   ]
  },
  {
   "cell_type": "code",
   "execution_count": null,
   "metadata": {},
   "outputs": [],
   "source": [
    "show_image(affine_only(x, [zoom(1.6)]))"
   ]
  },
  {
   "cell_type": "code",
   "execution_count": null,
   "metadata": {},
   "outputs": [],
   "source": [
    "show_image(affine_only(x, []))"
   ]
  },
  {
   "cell_type": "markdown",
   "metadata": {},
   "source": [
    "## Random affine"
   ]
  },
  {
   "cell_type": "markdown",
   "metadata": {},
   "source": [
    "As we did with the Lighting transform, we now want to build randomness into our pipeline so we can increase the automatization of the transform process. \n",
    "\n",
    "We will use a uniform distribution for both our transforms since their impact is linear and their domain is the real numbers."
   ]
  },
  {
   "cell_type": "markdown",
   "metadata": {},
   "source": [
    "**Apply all transforms**\n",
    "\n",
    "We will make all transforms try to do as little calculations as possible.\n",
    "\n",
    "We do only one affine transformation by multiplying all the affine matrices of the transforms, then we apply to the coords any non-affine transformation we might want (jitter, elastic distorsion). Next, we crop the coordinates we want to keep and, by doing it before the interpolation, we don't need to compute pixel values that won't be used afterwards. Finally we perform the interpolation and we apply all the transforms that operate pixelwise (brightness, contrast)."
   ]
  },
  {
   "cell_type": "code",
   "execution_count": null,
   "metadata": {},
   "outputs": [],
   "source": [
    "#export\n",
    "class TfmAffine(Transform):\n",
    "    def __call__(self, *args, **kwargs):\n",
    "        return self.func(*args, **self.resolved, **kwargs) if self.do_run else None\n",
    "    \n",
    "    def apply(self, tfms=None): return apply_affine([o() for o in tfms])\n",
    "\n",
    "class TfmCoord(Transform): pass\n",
    "class TfmStart(Transform): pass\n",
    "class TfmPixel(Transform): pass\n",
    "\n",
    "def _apply_tfms1(tfms, x, **kwargs):\n",
    "    return tfms[0].apply(tfms)(x, **kwargs) if tfms else x\n",
    "\n",
    "class Transforms():\n",
    "    def __init__(self, *tfms:Collection[Transform]):\n",
    "        self.tfms = tfms\n",
    "        self.grouped = {o: [t for t in tfms if isinstance(t,o)]\n",
    "                        for o in tfm_types}\n",
    "\n",
    "    def resolve(self): resolve_tfms(self.tfms)\n",
    "\n",
    "    def apply_group(self, k, x, **kwargs):\n",
    "        return _apply_tfms1(self.grouped[k], x, **kwargs)\n",
    "\n",
    "    def apply(self, x, size=None, **kwargs):\n",
    "        if not self.tfms: return x\n",
    "        x = x.clone()\n",
    "        x = self.apply_group(TfmStart, x)\n",
    "        if self.grouped[TfmAffine] or self.grouped[TfmCoord] or (size is not None):\n",
    "            c = affine_grid(x, torch.eye(3), size=size)\n",
    "            c = self.apply_group(TfmCoord, c, size=x.size())\n",
    "            c = self.apply_group(TfmAffine, c)\n",
    "            x = grid_sample(x, c, **kwargs)\n",
    "        x = self.apply_group(TfmLighting, x)\n",
    "        x = self.apply_group(TfmPixel, x)\n",
    "        return x"
   ]
  },
  {
   "cell_type": "code",
   "execution_count": null,
   "metadata": {},
   "outputs": [],
   "source": [
    "tfm_types = [TfmStart, TfmAffine, TfmCoord, TfmLighting, TfmPixel]"
   ]
  },
  {
   "cell_type": "code",
   "execution_count": null,
   "metadata": {},
   "outputs": [],
   "source": [
    "#export\n",
    "@reg_transform\n",
    "def rotate(degrees:uniform) -> TfmAffine:\n",
    "    angle = degrees * math.pi / 180\n",
    "    return [[cos(angle), -sin(angle), 0.],\n",
    "            [sin(angle),  cos(angle), 0.],\n",
    "            [0.        ,  0.        , 1.]]\n",
    "\n",
    "def get_zoom_mat(sw, sh, c, r):\n",
    "    return [[sw, 0,  c],\n",
    "            [0, sh,  r],\n",
    "            [0,  0, 1.]]\n",
    "\n",
    "@reg_transform\n",
    "def zoom(scale:uniform=1.0, row_pct:uniform=0.5, col_pct:uniform=0.5) -> TfmAffine:\n",
    "    s = 1-1/scale\n",
    "    col_c = s * (2*col_pct - 1)\n",
    "    row_c = s * (2*row_pct - 1)\n",
    "    return get_zoom_mat(1/scale, 1/scale, col_c, row_c)\n",
    "\n",
    "@reg_transform\n",
    "def squish(scale:uniform=1.0, row_pct:uniform=0.5, col_pct:uniform=0.5) -> TfmAffine:\n",
    "    if scale <= 1: \n",
    "        col_c = (1-scale) * (2*col_pct - 1)\n",
    "        return get_zoom_mat(scale, 1, col_c, 0.)\n",
    "    else:          \n",
    "        row_c = (1-1/scale) * (2*row_pct - 1)\n",
    "        return get_zoom_mat(1, 1/scale, 0., row_c)"
   ]
  },
  {
   "cell_type": "code",
   "execution_count": null,
   "metadata": {},
   "outputs": [],
   "source": [
    "tfms = Transforms(rotate_tfm(degrees=(-45,45.), p=0.75),\n",
    "        zoom_tfm(scale=(0.5,2.0), p=0.75))\n",
    "\n",
    "_,axes = plt.subplots(1,4, figsize=(12,3))\n",
    "for ax in axes:\n",
    "    tfms.resolve()\n",
    "    show_image(tfms.apply(x), ax)"
   ]
  },
  {
   "cell_type": "code",
   "execution_count": null,
   "metadata": {},
   "outputs": [],
   "source": [
    "tfms = Transforms(rotate_tfm(degrees=(-45,45.), p=0.75),\n",
    "        zoom_tfm(scale=(1.0,2.0), row_pct=(0,1.), col_pct=(0,1.)))\n",
    "\n",
    "_,axes = plt.subplots(1,4, figsize=(12,3))\n",
    "for ax in axes:\n",
    "    tfms.resolve()\n",
    "    show_image(tfms.apply(x, size=64, padding_mode='zeros'), ax)"
   ]
  },
  {
   "cell_type": "code",
   "execution_count": null,
   "metadata": {},
   "outputs": [],
   "source": [
    "scales = [0.75,0.9,1.1,1.33]\n",
    "\n",
    "_,axes = plt.subplots(1,4, figsize=(12,3))\n",
    "for i, ax in enumerate(axes): \n",
    "    show_image(affine_only(x, [squish(scales[i])], size=64, padding_mode='zeros'), ax)"
   ]
  },
  {
   "cell_type": "code",
   "execution_count": null,
   "metadata": {},
   "outputs": [],
   "source": [
    "tfms = Transforms(squish_tfm(scale=(0.5,2), row_pct=(0,1.), col_pct=(0,1.)))\n",
    "\n",
    "_,axes = plt.subplots(1,4, figsize=(12,3))\n",
    "for ax in axes:\n",
    "    tfms.resolve()\n",
    "    show_image(tfms.apply(x, size=64, padding_mode='zeros'), ax)"
   ]
  },
  {
   "cell_type": "markdown",
   "metadata": {},
   "source": [
    "# Coord and pixel"
   ]
  },
  {
   "cell_type": "markdown",
   "metadata": {},
   "source": [
    "## Jitter / flip"
   ]
  },
  {
   "cell_type": "markdown",
   "metadata": {},
   "source": [
    "The last two transforms we will use are **jitter** and **flip**. \n",
    "\n",
    "**Jitter**\n",
    "\n",
    "Jitter is a transform which adds a random value to each of the pixels to make them somewhat different than the original ones. In our implementation we first get a random number between (-1, 1) and we multiply it by a constant M which scales it.\n",
    "\n",
    "_Parameters_\n",
    "\n",
    "1. **Magnitude** How much random noise do we want to add to each of the pixels in our image.\n",
    "\n",
    "    Domain: Real numbers between 0 and 1.\n",
    "    \n",
    "**Flip**\n",
    "\n",
    "Flip is a transform that reflects the image on a given axis.\n",
    "\n",
    "_Parameters_\n",
    "\n",
    "1. **P** Probability of applying the transformation to an input.\n",
    "\n",
    "    Domain: Real numbers between 0 and 1."
   ]
  },
  {
   "cell_type": "code",
   "execution_count": null,
   "metadata": {},
   "outputs": [],
   "source": [
    "#export\n",
    "@reg_transform\n",
    "def jitter(x, size, magnitude: uniform) -> TfmCoord:\n",
    "    return x.add_((torch.rand_like(x)-0.5)*magnitude*2)\n",
    "\n",
    "@reg_transform\n",
    "def flip_lr(x) -> TfmPixel: return x.flip(2)"
   ]
  },
  {
   "cell_type": "code",
   "execution_count": null,
   "metadata": {},
   "outputs": [],
   "source": [
    "tfms = Transforms(jitter_tfm(magnitude=(0,0.1)))\n",
    "\n",
    "_,axes = plt.subplots(1,4, figsize=(12,3))\n",
    "for ax in axes:\n",
    "    tfms.resolve()\n",
    "    show_image(tfms.apply(x), ax)"
   ]
  },
  {
   "cell_type": "code",
   "execution_count": null,
   "metadata": {},
   "outputs": [],
   "source": [
    "tfms = Transforms(flip_lr_tfm(p=0.5))\n",
    "\n",
    "_,axes = plt.subplots(1,4, figsize=(12,3))\n",
    "for ax in axes:\n",
    "    tfms.resolve()\n",
    "    show_image(tfms.apply(x), ax)"
   ]
  },
  {
   "cell_type": "markdown",
   "metadata": {},
   "source": [
    "## Combine"
   ]
  },
  {
   "cell_type": "code",
   "execution_count": null,
   "metadata": {},
   "outputs": [],
   "source": [
    "tfms = Transforms(\n",
    "    flip_lr_tfm(p=0.5),\n",
    "    rotate_tfm(degrees=(-45,45.), p=0.5),\n",
    "    zoom_tfm(scale=(0.6,1.6), p=0.8),\n",
    "    contrast_tfm(scale=(0.5,2.0)),\n",
    "    brightness_tfm(change=(0.3,0.7))\n",
    ")"
   ]
  },
  {
   "cell_type": "code",
   "execution_count": null,
   "metadata": {},
   "outputs": [],
   "source": [
    "_,axes = plt.subplots(1,4, figsize=(12,3))\n",
    "for ax in axes:\n",
    "    tfms.resolve()\n",
    "    show_image(tfms.apply(x), ax)"
   ]
  },
  {
   "cell_type": "code",
   "execution_count": null,
   "metadata": {},
   "outputs": [],
   "source": [
    "_,axes = plt.subplots(2,4, figsize=(12,6))\n",
    "for i in range(4):\n",
    "    tfms.resolve()\n",
    "    show_image(tfms.apply(x, padding_mode='zeros', size=48), axes[0][i])\n",
    "    show_image(tfms.apply(x, mode='nearest'), axes[1][i])"
   ]
  },
  {
   "cell_type": "markdown",
   "metadata": {},
   "source": [
    "## RandomResizedCrop (Torchvision version)"
   ]
  },
  {
   "cell_type": "code",
   "execution_count": null,
   "metadata": {},
   "outputs": [],
   "source": [
    "#export\n",
    "def compute_zs_mat(sz, scale, squish, invert, row_pct, col_pct):\n",
    "    orig_ratio = math.sqrt(sz[2]/sz[1])\n",
    "    for s,r, i in zip(scale,squish, invert):\n",
    "        s,r = math.sqrt(s),math.sqrt(r)\n",
    "        if s * r <= 1 and s / r <= 1: #Test if we are completely inside the picture\n",
    "            w,h = (s/r, s*r) if i else (s*r,s/r)\n",
    "            w /= orig_ratio\n",
    "            h *= orig_ratio\n",
    "            col_c = (1-w) * (2*col_pct - 1)\n",
    "            row_c = (1-h) * (2*row_pct - 1)\n",
    "            return get_zoom_mat(w, h, col_c, row_c)\n",
    "        \n",
    "    #Fallback, hack to emulate a center crop without cropping anything yet.\n",
    "    if orig_ratio > 1: return get_zoom_mat(1/orig_ratio**2, 1, 0, 0.)\n",
    "    else:              return get_zoom_mat(1, orig_ratio**2, 0, 0.)\n",
    "\n",
    "@reg_transform\n",
    "def zoom_squish(c, size, scale: uniform = 1.0, squish: uniform=1.0, invert: rand_bool = False, \n",
    "                row_pct:uniform = 0.5, col_pct:uniform = 0.5) -> TfmCoord:\n",
    "    #This is intended for scale, squish and invert to be of size 10 (or whatever) so that the transform\n",
    "    #can try a few zoom/squishes before falling back to center crop (like torchvision.RandomResizedCrop)\n",
    "    m = compute_zs_mat(size, scale, squish, invert, row_pct, col_pct)\n",
    "    return affine_mult(c, FloatTensor(m))"
   ]
  },
  {
   "cell_type": "code",
   "execution_count": null,
   "metadata": {},
   "outputs": [],
   "source": [
    "random_resized_crop = zoom_squish_tfm(scale=(0.5,1,10), squish=(0.75,1.33,10), invert=(0.5,10),\n",
    "                                      row_pct=(0,1.), col_pct=(0,1.))\n",
    "tfms = Transforms(random_resized_crop)"
   ]
  },
  {
   "cell_type": "code",
   "execution_count": null,
   "metadata": {},
   "outputs": [],
   "source": [
    "_,axes = plt.subplots(2,4, figsize=(12,6))\n",
    "for i in range(4):\n",
    "    tfms.resolve()\n",
    "    show_image(tfms.apply(x, size=(3,48,48)), axes[0][i])\n",
    "    show_image(tfms.apply(x, mode='nearest', size=(3,32,32)), axes[1][i])"
   ]
  },
  {
   "cell_type": "code",
   "execution_count": null,
   "metadata": {},
   "outputs": [],
   "source": []
  }
 ],
 "metadata": {
  "kernelspec": {
   "display_name": "Python 3",
   "language": "python",
   "name": "python3"
  }
 },
 "nbformat": 4,
 "nbformat_minor": 2
}
