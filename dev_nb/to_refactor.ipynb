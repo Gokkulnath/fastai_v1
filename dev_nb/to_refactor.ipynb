{
 "cells": [
  {
   "cell_type": "code",
   "execution_count": 177,
   "metadata": {},
   "outputs": [
    {
     "name": "stdout",
     "output_type": "stream",
     "text": [
      "The autoreload extension is already loaded. To reload it, use:\n",
      "  %reload_ext autoreload\n"
     ]
    }
   ],
   "source": [
    "%load_ext autoreload\n",
    "%autoreload 2"
   ]
  },
  {
   "cell_type": "code",
   "execution_count": 178,
   "metadata": {},
   "outputs": [],
   "source": [
    "from nb_001b import *\n",
    "from PIL import Image\n",
    "import PIL, matplotlib.pyplot as plt\n",
    "from torch.utils.data import Dataset\n",
    "from operator import itemgetter, attrgetter"
   ]
  },
  {
   "cell_type": "markdown",
   "metadata": {},
   "source": [
    "# Temp storage"
   ]
  },
  {
   "cell_type": "code",
   "execution_count": null,
   "metadata": {},
   "outputs": [],
   "source": [
    "def is_listy(x): return isinstance(x, (list,tuple))"
   ]
  },
  {
   "cell_type": "markdown",
   "metadata": {},
   "source": [
    "# Extending the training loop"
   ]
  },
  {
   "cell_type": "markdown",
   "metadata": {
    "heading_collapsed": true
   },
   "source": [
    "## Annealing"
   ]
  },
  {
   "cell_type": "code",
   "execution_count": 76,
   "metadata": {
    "hidden": true
   },
   "outputs": [],
   "source": [
    "import functools\n",
    "\n",
    "def annealing_no(start, end, pct): return start\n",
    "def annealing_linear(start, end, pct): return start + pct * (end-start)\n",
    "def annealing_exp(start, end, pct): return start * ((end/start) ** pct)\n",
    "def annealing_cos(start, end, pct):\n",
    "    cos_out = np.cos(np.pi * pct) + 1\n",
    "    return end + (start-end)/2 * cos_out\n",
    "    \n",
    "def do_annealing_poly(start, end, pct, degree): return end + (start-end) * (1-pct)**degree\n",
    "def annealing_poly(degree): return functools.partial(do_annealing_poly, degree=degree)"
   ]
  },
  {
   "cell_type": "code",
   "execution_count": 77,
   "metadata": {
    "hidden": true
   },
   "outputs": [],
   "source": [
    "annealings = \"NO LINEAR COS EXP POLY\".split()"
   ]
  },
  {
   "cell_type": "code",
   "execution_count": 78,
   "metadata": {
    "hidden": true
   },
   "outputs": [],
   "source": [
    "a = np.arange(0, 100)\n",
    "p = np.linspace(0.01,1,100)"
   ]
  },
  {
   "cell_type": "code",
   "execution_count": 79,
   "metadata": {
    "hidden": true
   },
   "outputs": [],
   "source": [
    "import matplotlib.pyplot as plt\n",
    "\n",
    "fns = [annealing_no, annealing_linear, annealing_cos, annealing_exp, annealing_poly(0.8)]\n",
    "for fn, t in zip(fns, annealings):\n",
    "    plt.plot(a, [fn(2, 1e-2, o) for o in p], label=t)\n",
    "plt.legend();"
   ]
  },
  {
   "cell_type": "markdown",
   "metadata": {
    "heading_collapsed": true
   },
   "source": [
    "## Hyperparam scheduler"
   ]
  },
  {
   "cell_type": "code",
   "execution_count": 80,
   "metadata": {
    "hidden": true
   },
   "outputs": [],
   "source": [
    "def set_val_in_group(val, group, key):\n",
    "    if key == 'momentum' and 'betas' in group:  group['betas'] = (val, group['betas'][1])\n",
    "    elif key == 'beta' and 'betas' in group:    group['betas'] = (group['betas'][0], val)\n",
    "    elif key == 'beta' and 'alpha' in group:    group['alpha'] = val\n",
    "    else:                                       group[key] = val"
   ]
  },
  {
   "cell_type": "code",
   "execution_count": 82,
   "metadata": {
    "hidden": true
   },
   "outputs": [],
   "source": [
    "class HyperParamScheduler():\n",
    "    def __init__(self, opt, hyper_param, n_iter, annealing, start, end=None, extra=None):\n",
    "        self.opt,self.hyper_param,self.n_iter,self.annealing = opt,hyper_param,n_iter,annealing\n",
    "        self.start,self.end,self.extra = start,end,extra\n",
    "        # TODO: what's this?\n",
    "        #if None, default end is 0 (only useful for cosine annealing, so we can decide to remove this)\n",
    "        #at the same time, defaut arg can't be 0 since annealing_exp wouldn't like it. So this is\n",
    "        #is a messy way around.\n",
    "        if self.end is None and not (self.annealing in [annealing_no, annealing_exp]):\n",
    "            self.end = 0\n",
    "        self.reset()\n",
    "    \n",
    "    def reset(self):\n",
    "        self.n = 0\n",
    "        self.vals = []\n",
    "        self.set_val(self.start)\n",
    "        \n",
    "    def step(self):\n",
    "        self.n += 1\n",
    "        # TODO: what's this?\n",
    "        #This is the class telling anyone listening it's finished: useful for when you want to go the next phase.\n",
    "        if self.n >= self.n_iter: return True\n",
    "        lr = self.annealing(self.start, self.end, self.n/(self.n_iter-1))\n",
    "        self.set_val(lr)\n",
    "        return False\n",
    "    \n",
    "    def set_val(self, val):\n",
    "        if not is_iter(val): val = [val]\n",
    "        if len(val) == 1: val = val * len(self.opt.param_groups)\n",
    "        self.vals.append(val[-1])\n",
    "        for v, g in zip(val,self.opt.param_groups): set_val_in_group(v, g, self.hyper_param)"
   ]
  },
  {
   "cell_type": "code",
   "execution_count": 83,
   "metadata": {
    "hidden": true
   },
   "outputs": [],
   "source": [
    "model, opt = get_model()"
   ]
  },
  {
   "cell_type": "markdown",
   "metadata": {
    "heading_collapsed": true
   },
   "source": [
    "## lr_find"
   ]
  },
  {
   "cell_type": "code",
   "execution_count": 84,
   "metadata": {
    "hidden": true
   },
   "outputs": [],
   "source": [
    "import collections"
   ]
  },
  {
   "cell_type": "code",
   "execution_count": 85,
   "metadata": {
    "hidden": true
   },
   "outputs": [],
   "source": [
    "MODEL_PATH = PATH/'models'\n",
    "MODEL_PATH.mkdir(exist_ok=True)\n",
    "\n",
    "TEMP_MODEL_NAME = 'tmp.pt'"
   ]
  },
  {
   "cell_type": "code",
   "execution_count": 86,
   "metadata": {
    "hidden": true
   },
   "outputs": [],
   "source": [
    "def save_model(model, fname): torch.save(model.state_dict(), fname)\n",
    "def load_model(model, fname): model.load_state_dict(torch.load(fname))"
   ]
  },
  {
   "cell_type": "code",
   "execution_count": 87,
   "metadata": {
    "hidden": true
   },
   "outputs": [],
   "source": [
    "def lr_find(model, loss_fn, opt_fn, train_dl, n_iter=200, start_lr=1e-5, end_lr=10):\n",
    "    opt = opt_fn(model.parameters(), lr=start_lr)\n",
    "    \n",
    "    save_model(model, MODEL_PATH/'tmp.pt')\n",
    "    model.train()\n",
    "    lrs, losses= [], []\n",
    "    msa_loss, beta = 0, 0.98\n",
    "    min_loss = 0\n",
    "    lr_sched = HyperParamScheduler(opt, 'lr', n_iter, annealing_exp, start_lr, end_lr)\n",
    "    finished = False\n",
    "    while not finished:\n",
    "        for xb,yb in train_dl: \n",
    "            #pdb.set_trace()\n",
    "            raw_loss,_ = loss_batch(model, xb, yb, loss_fn, opt)\n",
    "            # smoothes the loss with a mean average\n",
    "            msa_loss = beta * msa_loss + (1-beta) * raw_loss\n",
    "            losses.append(msa_loss / (1 - beta ** (len(losses)+1)))\n",
    "            finished = lr_sched.step()\n",
    "            if len(losses) == 1 or msa_loss < min_loss: min_loss = msa_loss\n",
    "            if finished or msa_loss > 4 * min_loss: break\n",
    "\n",
    "    load_model(model, MDL_PATH/'tmp.pt')\n",
    "    return lr_sched.vals, losses"
   ]
  },
  {
   "cell_type": "code",
   "execution_count": 88,
   "metadata": {
    "hidden": true
   },
   "outputs": [],
   "source": [
    "def plot_lr(lrs, losses, skip_start=10, skip_end=5):\n",
    "    fig, ax = plt.subplots(1)\n",
    "    lrs = lrs[skip_start:-skip_end] if skip_end !=0 else lrs[skip_start:]\n",
    "    losses = losses[skip_start:-skip_end] if skip_end !=0 else losses[skip_start:]\n",
    "    ax.plot(lrs, losses)\n",
    "    ax.set_xscale('log')"
   ]
  },
  {
   "cell_type": "code",
   "execution_count": 89,
   "metadata": {
    "hidden": true
   },
   "outputs": [],
   "source": [
    "model, opt = get_model()"
   ]
  },
  {
   "cell_type": "code",
   "execution_count": 305,
   "metadata": {
    "hidden": true
   },
   "outputs": [
    {
     "ename": "NameError",
     "evalue": "name 'MDL_PATH' is not defined",
     "output_type": "error",
     "traceback": [
      "\u001b[1;31m---------------------------------------------------------------------------\u001b[0m",
      "\u001b[1;31mNameError\u001b[0m                                 Traceback (most recent call last)",
      "\u001b[1;32m<ipython-input-305-72ca6d2274d5>\u001b[0m in \u001b[0;36m<module>\u001b[1;34m()\u001b[0m\n\u001b[1;32m----> 1\u001b[1;33m \u001b[0mlrs\u001b[0m\u001b[1;33m,\u001b[0m \u001b[0mlosses\u001b[0m \u001b[1;33m=\u001b[0m \u001b[0mlr_find\u001b[0m\u001b[1;33m(\u001b[0m\u001b[0mmodel\u001b[0m\u001b[1;33m,\u001b[0m \u001b[0mloss_fn\u001b[0m\u001b[1;33m,\u001b[0m \u001b[0moptim\u001b[0m\u001b[1;33m.\u001b[0m\u001b[0mSGD\u001b[0m\u001b[1;33m,\u001b[0m \u001b[0mdata\u001b[0m\u001b[1;33m.\u001b[0m\u001b[0mtrain_dl\u001b[0m\u001b[1;33m,\u001b[0m \u001b[0mend_lr\u001b[0m\u001b[1;33m=\u001b[0m\u001b[1;36m100\u001b[0m\u001b[1;33m)\u001b[0m\u001b[1;33m\u001b[0m\u001b[0m\n\u001b[0m\u001b[0;32m      2\u001b[0m \u001b[0mplot_lr\u001b[0m\u001b[1;33m(\u001b[0m\u001b[0mlrs\u001b[0m\u001b[1;33m,\u001b[0m \u001b[0mlosses\u001b[0m\u001b[1;33m)\u001b[0m\u001b[1;33m\u001b[0m\u001b[0m\n",
      "\u001b[1;32m<ipython-input-302-365d663a23c9>\u001b[0m in \u001b[0;36mlr_find\u001b[1;34m(model, loss_fn, opt_fn, train_dl, n_iter, start_lr, end_lr)\u001b[0m\n\u001b[0;32m     20\u001b[0m             \u001b[1;32mif\u001b[0m \u001b[0mfinished\u001b[0m \u001b[1;32mor\u001b[0m \u001b[0mmsa_loss\u001b[0m \u001b[1;33m>\u001b[0m \u001b[1;36m4\u001b[0m \u001b[1;33m*\u001b[0m \u001b[0mmin_loss\u001b[0m\u001b[1;33m:\u001b[0m \u001b[1;32mbreak\u001b[0m\u001b[1;33m\u001b[0m\u001b[0m\n\u001b[0;32m     21\u001b[0m \u001b[1;33m\u001b[0m\u001b[0m\n\u001b[1;32m---> 22\u001b[1;33m     \u001b[0mload_model\u001b[0m\u001b[1;33m(\u001b[0m\u001b[0mmodel\u001b[0m\u001b[1;33m,\u001b[0m \u001b[0mMDL_PATH\u001b[0m\u001b[1;33m/\u001b[0m\u001b[1;34m'tmp.pt'\u001b[0m\u001b[1;33m)\u001b[0m\u001b[1;33m\u001b[0m\u001b[0m\n\u001b[0m\u001b[0;32m     23\u001b[0m     \u001b[1;32mreturn\u001b[0m \u001b[0mlr_sched\u001b[0m\u001b[1;33m.\u001b[0m\u001b[0mvals\u001b[0m\u001b[1;33m,\u001b[0m \u001b[0mlosses\u001b[0m\u001b[1;33m\u001b[0m\u001b[0m\n",
      "\u001b[1;31mNameError\u001b[0m: name 'MDL_PATH' is not defined"
     ]
    }
   ],
   "source": [
    "lrs, losses = lr_find(model, loss_fn, optim.SGD, data.train_dl, end_lr=100)\n",
    "plot_lr(lrs, losses)"
   ]
  },
  {
   "cell_type": "markdown",
   "metadata": {
    "heading_collapsed": true
   },
   "source": [
    "## Refactors inside to use the fit function"
   ]
  },
  {
   "cell_type": "code",
   "execution_count": 90,
   "metadata": {
    "hidden": true
   },
   "outputs": [],
   "source": [
    "class Callback():\n",
    "    def on_train_begin(self): pass\n",
    "    def on_train_end(self): pass\n",
    "    def on_batch_begin(self): pass\n",
    "    def on_batch_end(self, raw_loss): pass"
   ]
  },
  {
   "cell_type": "code",
   "execution_count": 91,
   "metadata": {
    "hidden": true
   },
   "outputs": [],
   "source": [
    "class LossRecorder(Callback):\n",
    "    beta = 0.98\n",
    "    \n",
    "    def on_train_begin(self):\n",
    "        self.msa_loss,self.losses = 0,[]\n",
    "        \n",
    "    def on_batch_end(self, raw_loss):\n",
    "        self.msa_loss = self.beta * self.msa_loss + (1-self.beta) * raw_loss\n",
    "        self.losses.append(self.msa_loss / (1 - self.beta ** (len(self.losses)+1)))\n",
    "        stop = False\n",
    "        return stop"
   ]
  },
  {
   "cell_type": "code",
   "execution_count": 92,
   "metadata": {
    "hidden": true
   },
   "outputs": [],
   "source": [
    "class LRFinderCallback(LossRecorder):\n",
    "    def __init__(self, opt, n_iter, start_lr, end_lr):\n",
    "        self.sched = HyperParamScheduler(opt, 'lr', n_iter, annealing_exp, start_lr, end_lr)\n",
    "        super().__init__()\n",
    "        \n",
    "    def on_train_begin(self):\n",
    "        self.min_loss = 0\n",
    "        super().on_train_begin()\n",
    "    \n",
    "    def on_batch_end(self, raw_loss):\n",
    "        super().on_batch_end(raw_loss)\n",
    "        loss = self.losses[-1]\n",
    "        if len(self.losses) == 1 or loss < self.min_loss: self.min_loss = loss\n",
    "        stop = self.sched.step()\n",
    "        if loss > 4 * self.min_loss: return True\n",
    "        return stop"
   ]
  },
  {
   "cell_type": "code",
   "execution_count": 93,
   "metadata": {
    "hidden": true
   },
   "outputs": [],
   "source": [
    "def loss_batch(model, xb, yb, loss_fn, opt=None):\n",
    "    loss = loss_fn(model(xb), yb)\n",
    "\n",
    "    if opt is not None:\n",
    "        loss.backward()\n",
    "        opt.step()\n",
    "        opt.zero_grad()\n",
    "        \n",
    "    return loss.item(), len(xb)"
   ]
  },
  {
   "cell_type": "code",
   "execution_count": 94,
   "metadata": {
    "hidden": true
   },
   "outputs": [],
   "source": [
    "def fit(epochs, model, loss_fn, opt, train_dl, valid_dl=None, callbacks=[]):\n",
    "    for cb in callbacks: cb.on_train_begin()\n",
    "    \n",
    "    for epoch in range(epochs):\n",
    "        model.train()\n",
    "        for xb,yb in train_dl:\n",
    "            for cb in callbacks: cb.on_batch_begin()\n",
    "            raw_loss,_ = loss_batch(model, xb, yb, loss_fn, opt)\n",
    "            if np.any([cb.on_batch_end(raw_loss) for cb in callbacks]): break  \n",
    "                \n",
    "        model.eval()\n",
    "        if valid_dl is not None:\n",
    "            with torch.no_grad():\n",
    "                losses,nums = zip(*[loss_batch(model, xb, yb, loss_fn)\n",
    "                                for xb,yb in valid_dl])\n",
    "            val_loss = np.sum(np.multiply(losses,nums)) / np.sum(nums)\n",
    "\n",
    "            print(epoch, val_loss)\n",
    "            \n",
    "    for cb in callbacks: cb.on_train_end()"
   ]
  },
  {
   "cell_type": "code",
   "execution_count": 95,
   "metadata": {
    "hidden": true
   },
   "outputs": [],
   "source": [
    "class Learner():\n",
    "    def __init__(self, data, model):\n",
    "        self.data,self.model = data,model.to(data.device)\n",
    "        self.loss_fn = F.nll_loss\n",
    "\n",
    "    def fit(self, epochs, lr, opt_fn=optim.SGD):\n",
    "        opt = opt_fn(self.model.parameters(), lr=lr)\n",
    "        fit(epochs, self.model, self.loss_fn, opt, self.data.train_dl, self.data.valid_dl)\n",
    "        \n",
    "    def lr_find(self, opt_fn=optim.SGD, n_iter=200, start_lr=1e-5, end_lr=10):\n",
    "        opt = opt_fn(self.model.parameters(), lr=start_lr)\n",
    "        save_model(self.model, MODEL_PATH/'tmp.pt')\n",
    "    \n",
    "        cb = LRFinderCallback(opt, n_iter, start_lr, end_lr)\n",
    "        epochs = int(np.ceil(n_iter/len(train_dl)))\n",
    "        fit(epochs, self.model, self.loss_fn, opt, self.data.train_dl, callbacks=[cb])\n",
    "    \n",
    "        load_model(self.model, MODEL_PATH/'tmp.pt')\n",
    "        return cb.sched.vals, cb.losses"
   ]
  },
  {
   "cell_type": "code",
   "execution_count": 96,
   "metadata": {
    "hidden": true
   },
   "outputs": [],
   "source": [
    "data = DataBunch.from_arrays(x_train,y_train,x_valid,y_valid, x_tfms=mnist2image)\n",
    "model = Simple_CNN([1,16,16,10], [3,3,3], [2,2,2])\n",
    "learner = Learner(data, model)"
   ]
  },
  {
   "cell_type": "code",
   "execution_count": 188,
   "metadata": {
    "hidden": true
   },
   "outputs": [
    {
     "data": {
      "image/png": "[encoded data removed]",
      "text/plain": [
       "<Figure size 432x288 with 1 Axes>"
      ]
     },
     "metadata": {},
     "output_type": "display_data"
    }
   ],
   "source": [
    "lrs, losses = learner.lr_find()\n",
    "plot_lr(lrs, losses)"
   ]
  },
  {
   "cell_type": "markdown",
   "metadata": {
    "heading_collapsed": true
   },
   "source": [
    "## Training phases and SGDR"
   ]
  },
  {
   "cell_type": "markdown",
   "metadata": {
    "hidden": true
   },
   "source": [
    "A few helper functions. The second one is there to map the names of the hyper-parameters in pytorch optimizers to 'momentum' and 'beta' (whether it's SGD, Adam, RMSProp)"
   ]
  },
  {
   "cell_type": "code",
   "execution_count": 97,
   "metadata": {
    "hidden": true
   },
   "outputs": [],
   "source": [
    "def is_tuple(x): return isinstance(x, tuple)"
   ]
  },
  {
   "cell_type": "code",
   "execution_count": 98,
   "metadata": {
    "hidden": true
   },
   "outputs": [],
   "source": [
    "def set_val_in_group(val, group, key):\n",
    "    if key == 'momentum' and 'betas' in group:  group['betas'] = (val, group['betas'][1])\n",
    "    elif key == 'beta' and 'betas' in group:    group['betas'] = (group['betas'][0], val)\n",
    "    elif key == 'beta' and 'alpha' in group:    group['alpha'] = val\n",
    "    else:                                       group[key] = val"
   ]
  },
  {
   "cell_type": "code",
   "execution_count": 99,
   "metadata": {
    "hidden": true
   },
   "outputs": [],
   "source": [
    "def set_val_in_groups(val, groups, key):\n",
    "    for g in groups: set_val_in_group(val, g, key)"
   ]
  },
  {
   "cell_type": "markdown",
   "metadata": {
    "hidden": true
   },
   "source": [
    "To simplify the use of training phase, the args lr and mom can either be:\n",
    "- a single value, then it's assumed to have it constant during the phase\n",
    "- a tuple (lr1, lr2), then the default is to go linearly from one to the other\n",
    "- a tuple (lr1, lr2, VarType), then we go from one to the other using the VarType given."
   ]
  },
  {
   "cell_type": "code",
   "execution_count": 100,
   "metadata": {
    "hidden": true
   },
   "outputs": [],
   "source": [
    "class TrainingPhase():\n",
    "    \n",
    "    def __init__(self, epochs, opt_fn, hp_dict):\n",
    "        self.epochs,self.opt_fn,self.beta,self.wds = epochs,opt_fn,beta,wds\n",
    "        self.start_lr, self.end_lr, self.lr_vType, self.extra_lr = self.decode(lr)\n",
    "        self.start_mom, self.end_mom, self.mom_vType, self.extra_mom = self.decode(mom)\n",
    "        \n",
    "    def decode(self, vals):\n",
    "        if is_tuple(vals):\n",
    "            if len(vals) == 2: return vals + (VarType.LINEAR, None)\n",
    "            elif len(vals) == 3: return vals + (None,)\n",
    "            else: return vals\n",
    "        else: return vals, None, VarType.NO, None\n",
    "    \n",
    "    def get_scheds(self, opt, n_batch):\n",
    "        if self.beta is not None: set_val_in_groups(self.beta, opt.param_groups, 'beta')\n",
    "        if self.wds is not None: set_val_in_groups(self.wds, opt.param_groups, 'weight_decay')\n",
    "        return [Scheduler(opt, 'lr', n_batch * self.epochs, self.lr_vType, self.start_lr, self.end_lr, self.extra_lr),\n",
    "               Scheduler(opt, 'momentum', n_batch * self.epochs, self.mom_vType, self.start_mom, self.end_mom, self.extra_mom)]"
   ]
  },
  {
   "cell_type": "code",
   "execution_count": 101,
   "metadata": {
    "hidden": true
   },
   "outputs": [],
   "source": [
    "LR = 'lr'\n",
    "MOM = 'momentum'\n",
    "WD = 'weight_decay'\n",
    "BETA = 'beta'"
   ]
  },
  {
   "cell_type": "code",
   "execution_count": 102,
   "metadata": {
    "hidden": true
   },
   "outputs": [],
   "source": [
    "class TrainingPhase1():\n",
    "    \n",
    "    def __init__(self, epochs, opt_fn, **kwargs):\n",
    "        self.epochs,self.opt_fn = epochs,opt_fn\n",
    "        assert 'LR' in kwargs, 'You need to set a learning rate.'\n",
    "        self.hp_behavior = {self.rename(n):self.decode(v) for n,v in kwargs.items()}\n",
    "        self.start_lr = self.hp_behavior[LR][0]\n",
    "        \n",
    "    def decode(self, vals):\n",
    "        if is_tuple(vals):\n",
    "            if len(vals) == 2: return vals + (annealing_linear, None)\n",
    "            elif len(vals) == 3: return vals + (None,)\n",
    "            else: return vals\n",
    "        else: return vals, None, annealing_no, None\n",
    "        \n",
    "    def rename(self, name):\n",
    "        match = {'LR':LR, 'MOM':MOM, 'WD':WD, 'BETA':BETA}\n",
    "        return match[name] if name in match else name\n",
    "    \n",
    "    def get_scheds(self, opt, n_batch):\n",
    "        return [HyperParamScheduler(opt, n, int(n_batch * self.epochs), v[2], v[0], v[1], v[3]) for n,v in self.hp_behavior.items()]"
   ]
  },
  {
   "cell_type": "code",
   "execution_count": 103,
   "metadata": {
    "hidden": true
   },
   "outputs": [],
   "source": [
    "phase = TrainingPhase1(2, optim.SGD, LR=0.1, MOM=0.9, WD=1e-4)"
   ]
  },
  {
   "cell_type": "markdown",
   "metadata": {
    "hidden": true
   },
   "source": [
    "The class that handles the phases and make sure we go from one to the next is another Callback."
   ]
  },
  {
   "cell_type": "code",
   "execution_count": 104,
   "metadata": {
    "hidden": true
   },
   "outputs": [],
   "source": [
    "class PhaseScheduler(LossRecorder):\n",
    "    \n",
    "    def __init__(self, model, phases, n_batches):\n",
    "        self.model, self.phases, self.n_batches = model, phases, n_batches\n",
    "        super().__init__()\n",
    "        self.phase = 0\n",
    "        self.opt = None\n",
    "        self.init_phase()\n",
    "    \n",
    "    def on_train_begin(self):\n",
    "        super().on_train_begin()\n",
    "        self.hp_vals = collections.defaultdict(list)\n",
    "    \n",
    "    def init_phase(self):\n",
    "        cur_phase = self.phases[self.phase]\n",
    "        #Updates the optimizer\n",
    "        #TODO: Replacing self.model.parameters() by a function that returns the trainable parameters will handle freezing.\n",
    "        new_opt = cur_phase.opt_fn(self.model.parameters(), lr=cur_phase.start_lr)\n",
    "        if self.opt is None or type(self.opt) != type(new_opt): self.opt = new_opt\n",
    "        #Creates the various schedulers\n",
    "        self.scheds = cur_phase.get_scheds(self.opt, self.n_batches)\n",
    "        \n",
    "    def on_batch_end(self, raw_loss):\n",
    "        super().on_batch_end(raw_loss)\n",
    "        finished = False\n",
    "        for sched in self.scheds: finished = finished or sched.step()\n",
    "        if finished:\n",
    "            for sched in self.scheds: self.hp_vals[sched.hyper_param] += sched.vals\n",
    "            self.phase += 1\n",
    "            if self.phase == len(self.phases): return True\n",
    "            self.init_phase()"
   ]
  },
  {
   "cell_type": "markdown",
   "metadata": {
    "hidden": true
   },
   "source": [
    "fitting with phases is then super easy"
   ]
  },
  {
   "cell_type": "code",
   "execution_count": 105,
   "metadata": {
    "hidden": true
   },
   "outputs": [],
   "source": [
    "def fit_phases(phases, model, loss_fn, train_dl, valid_dl=None, callbacks=[]):\n",
    "    epochs = int(np.ceil(sum([p.epochs for p in phases])))\n",
    "    cb = PhaseScheduler(model, phases, len(train_dl))\n",
    "    fit(epochs, model, loss_fn, cb.opt, train_dl, valid_dl, callbacks=[cb])"
   ]
  },
  {
   "cell_type": "markdown",
   "metadata": {
    "hidden": true
   },
   "source": [
    "An example of what a helper function could be."
   ]
  },
  {
   "cell_type": "code",
   "execution_count": 106,
   "metadata": {
    "hidden": true
   },
   "outputs": [],
   "source": [
    "def sgdr_phases(lr, opt_fn, n_cycle, cyc_len, cyc_mul, mom=0.9, wds=None):\n",
    "    phases = [TrainingPhase(0.05, opt_fn, lr/100, mom, wds)]\n",
    "    for i in range(n_cycle):\n",
    "        epochs = cyc_len - 0.05 if i==0 else cyc_len * (cyc_mul ** i)\n",
    "        phases.append(TrainingPhase(epochs, opt_fn, (lr,0,VarType.COSINE), mom, wds))\n",
    "    return phases"
   ]
  },
  {
   "cell_type": "code",
   "execution_count": 107,
   "metadata": {
    "hidden": true
   },
   "outputs": [],
   "source": [
    "def sgdr_phases1(lr, opt_fn, n_cycle, cyc_len, cyc_mul, mom=0.9, wds=None):\n",
    "    phases = [TrainingPhase1(0.05, opt_fn, LR=lr/100, MOM=mom, WD=wds)]\n",
    "    for i in range(n_cycle):\n",
    "        epochs = cyc_len - 0.05 if i==0 else cyc_len * (cyc_mul ** i)\n",
    "        phases.append(TrainingPhase1(epochs, opt_fn, LR=(lr,0,annealing_cos), MOM=mom, WD=wds))\n",
    "    return phases"
   ]
  },
  {
   "cell_type": "code",
   "execution_count": 108,
   "metadata": {
    "hidden": true
   },
   "outputs": [],
   "source": [
    "class Learner():\n",
    "    def __init__(self, data, model):\n",
    "        self.data,self.model = data,model.to(data.device)\n",
    "        self.loss_fn = F.nll_loss\n",
    "\n",
    "    def fit(self, epochs, lr, opt_fn=optim.SGD):\n",
    "        opt = opt_fn(self.model.parameters(), lr=lr)\n",
    "        fit(epochs, self.model, self.loss_fn, opt, self.data.train_dl, self.data.valid_dl)\n",
    "    \n",
    "    def fit_phases(self, phases, model, loss_fn, train_dl, valid_dl=None, callbacks=[]):\n",
    "        epochs = int(np.ceil(sum([p.epochs for p in phases])))\n",
    "        cb = PhaseScheduler(model, phases, len(train_dl))\n",
    "        fit(epochs, model, loss_fn, cb.opt, train_dl, valid_dl, callbacks=[cb])\n",
    "        self.hp_vals = cb.hp_vals\n",
    "        \n",
    "    def lr_find(self, opt_fn=optim.SGD, n_iter=200, start_lr=1e-5, end_lr=10):\n",
    "        opt = opt_fn(self.model.parameters(), lr=start_lr)\n",
    "        save_model(self.model, MODEL_PATH/'tmp.pt')\n",
    "    \n",
    "        cb = LRFinderCallback(opt, n_iter, start_lr, end_lr)\n",
    "        epochs = int(np.ceil(n_iter/len(train_dl)))\n",
    "        fit(epochs, self.model, self.loss_fn, opt, self.data.train_dl, callbacks=[cb])\n",
    "    \n",
    "        load_model(self.model, MODEL_PATH/'tmp.pt')\n",
    "        return cb.sched.vals, cb.losses"
   ]
  },
  {
   "cell_type": "code",
   "execution_count": 134,
   "metadata": {
    "hidden": true
   },
   "outputs": [],
   "source": [
    "data = DataBunch.from_arrays(x_train,y_train,x_valid,y_valid, x_tfms=mnist2image)\n",
    "model = Simple_CNN([1,16,16,10], [3,3,3], [2,2,2])\n",
    "learner = Learner(data, model)"
   ]
  },
  {
   "cell_type": "code",
   "execution_count": 135,
   "metadata": {
    "hidden": true
   },
   "outputs": [
    {
     "name": "stdout",
     "output_type": "stream",
     "text": [
      "0 0.7125297779083252\n",
      "1 0.5471610698223114\n",
      "2 0.45530813739299775\n",
      "3 0.5599840276241302\n",
      "4 0.4360611650466919\n",
      "5 0.40436797997951507\n",
      "6 0.3928226695775986\n"
     ]
    }
   ],
   "source": [
    "learner.fit_phases(sgdr_phases1(0.5, optim.SGD, 3, 1, 2, wds=1e-4), model, loss_fn, data.train_dl, data.valid_dl)"
   ]
  },
  {
   "cell_type": "code",
   "execution_count": 136,
   "metadata": {
    "hidden": true
   },
   "outputs": [],
   "source": [
    "def accuracy(model, val_dl):\n",
    "    n, c = 0, 0\n",
    "    for xb,yb in val_dl:\n",
    "        probs = model(xb)\n",
    "        preds = probs.argmax(1)\n",
    "        n += (preds==yb).long().sum().item()\n",
    "        c += yb.size(0)\n",
    "    return n / c"
   ]
  },
  {
   "cell_type": "code",
   "execution_count": 137,
   "metadata": {
    "hidden": true
   },
   "outputs": [
    {
     "data": {
      "text/plain": [
       "0.8636"
      ]
     },
     "execution_count": 137,
     "metadata": {},
     "output_type": "execute_result"
    }
   ],
   "source": [
    "accuracy(learner.model, learner.data.valid_dl)"
   ]
  },
  {
   "cell_type": "code",
   "execution_count": 138,
   "metadata": {
    "hidden": true
   },
   "outputs": [
    {
     "data": {
      "text/plain": [
       "[<matplotlib.lines.Line2D at 0x29f65def9e8>]"
      ]
     },
     "execution_count": 138,
     "metadata": {},
     "output_type": "execute_result"
    },
    {
     "data": {
      "image/png": "[encoded data removed]",
      "text/plain": [
       "<Figure size 432x288 with 1 Axes>"
      ]
     },
     "metadata": {},
     "output_type": "display_data"
    }
   ],
   "source": [
    "plt.plot(learner.hp_vals[LR])"
   ]
  },
  {
   "cell_type": "code",
   "execution_count": 338,
   "metadata": {
    "hidden": true
   },
   "outputs": [
    {
     "data": {
      "text/plain": [
       "[<matplotlib.lines.Line2D at 0x2a137bc2278>]"
      ]
     },
     "execution_count": 338,
     "metadata": {},
     "output_type": "execute_result"
    },
    {
     "data": {
      "image/png": "[encoded data removed]",
      "text/plain": [
       "<Figure size 432x288 with 1 Axes>"
      ]
     },
     "metadata": {},
     "output_type": "display_data"
    }
   ],
   "source": [
    "plt.plot(learner.hp_vals[MOM])"
   ]
  },
  {
   "cell_type": "code",
   "execution_count": 339,
   "metadata": {
    "hidden": true
   },
   "outputs": [
    {
     "data": {
      "text/plain": [
       "[<matplotlib.lines.Line2D at 0x2a137c51dd8>]"
      ]
     },
     "execution_count": 339,
     "metadata": {},
     "output_type": "execute_result"
    },
    {
     "data": {
      "image/png": "[encoded data removed]",
      "text/plain": [
       "<Figure size 432x288 with 1 Axes>"
      ]
     },
     "metadata": {},
     "output_type": "display_data"
    }
   ],
   "source": [
    "plt.plot(learner.hp_vals[WD])"
   ]
  },
  {
   "cell_type": "code",
   "execution_count": null,
   "metadata": {
    "hidden": true
   },
   "outputs": [],
   "source": []
  },
  {
   "cell_type": "markdown",
   "metadata": {
    "heading_collapsed": true
   },
   "source": [
    "# Darknet"
   ]
  },
  {
   "cell_type": "code",
   "execution_count": 29,
   "metadata": {
    "hidden": true
   },
   "outputs": [],
   "source": [
    "def conv_layer(ni, nf, ks=3, stride=1):\n",
    "    return nn.Sequential(\n",
    "        nn.Conv2d(ni, nf, kernel_size=ks, bias=False, stride=stride, padding=ks//2),\n",
    "        nn.BatchNorm2d(nf, momentum=0.01),\n",
    "        nn.LeakyReLU(negative_slope=0.1, inplace=True))\n",
    "\n",
    "class ResLayer(nn.Module):\n",
    "    def __init__(self, ni):\n",
    "        super().__init__()\n",
    "        self.conv1=conv_layer(ni, ni//2, ks=1)\n",
    "        self.conv2=conv_layer(ni//2, ni, ks=3)\n",
    "        \n",
    "    def forward(self, x): return x + self.conv2(self.conv1(x))"
   ]
  },
  {
   "cell_type": "code",
   "execution_count": 30,
   "metadata": {
    "hidden": true
   },
   "outputs": [],
   "source": [
    "class Darknet(nn.Module):\n",
    "    def make_group_layer(self, ch_in, num_blocks, stride=1):\n",
    "        return [conv_layer(ch_in, ch_in*2,stride=stride)\n",
    "               ] + [(ResLayer(ch_in*2)) for i in range(num_blocks)]\n",
    "\n",
    "    def __init__(self, num_blocks, num_classes, nf=32):\n",
    "        super().__init__()\n",
    "        layers = [conv_layer(3, nf, ks=3, stride=1)]\n",
    "        for i,nb in enumerate(num_blocks):\n",
    "            layers += self.make_group_layer(nf, nb, stride=2-(i==1))\n",
    "            nf *= 2\n",
    "        layers += [nn.AdaptiveAvgPool2d(1), Flatten(), nn.Linear(nf, num_classes)]\n",
    "        self.layers = nn.Sequential(*layers)\n",
    "    \n",
    "    def forward(self, x): return self.layers(x)"
   ]
  },
  {
   "cell_type": "code",
   "execution_count": 37,
   "metadata": {
    "hidden": true
   },
   "outputs": [],
   "source": [
    "model = Darknet([1, 2, 4, 6, 3], num_classes=2, nf=32)\n",
    "learner = Learner(data2, model)"
   ]
  },
  {
   "cell_type": "code",
   "execution_count": 38,
   "metadata": {
    "hidden": true
   },
   "outputs": [
    {
     "data": {
      "application/vnd.jupyter.widget-view+json": {
       "model_id": "6d74f8f86a024a53af1fa47e229b9bc9",
       "version_major": 2,
       "version_minor": 0
      },
      "text/plain": [
       "HBox(children=(IntProgress(value=0, max=1), HTML(value='')))"
      ]
     },
     "metadata": {},
     "output_type": "display_data"
    },
    {
     "data": {
      "application/vnd.jupyter.widget-view+json": {
       "model_id": "",
       "version_major": 2,
       "version_minor": 0
      },
      "text/plain": [
       "HBox(children=(IntProgress(value=0, max=157), HTML(value='')))"
      ]
     },
     "metadata": {},
     "output_type": "display_data"
    },
    {
     "name": "stdout",
     "output_type": "stream",
     "text": [
      "0 0.7355462017059327\n"
     ]
    }
   ],
   "source": [
    "learner.fit(1, 0.01, opt_fn=partial(optim.SGD, momentum=0.9))"
   ]
  },
  {
   "cell_type": "code",
   "execution_count": 39,
   "metadata": {
    "hidden": true
   },
   "outputs": [
    {
     "data": {
      "application/vnd.jupyter.widget-view+json": {
       "model_id": "",
       "version_major": 2,
       "version_minor": 0
      },
      "text/plain": [
       "HBox(children=(IntProgress(value=0, max=2), HTML(value='')))"
      ]
     },
     "metadata": {},
     "output_type": "display_data"
    },
    {
     "data": {
      "application/vnd.jupyter.widget-view+json": {
       "model_id": "",
       "version_major": 2,
       "version_minor": 0
      },
      "text/plain": [
       "HBox(children=(IntProgress(value=0, max=157), HTML(value='')))"
      ]
     },
     "metadata": {},
     "output_type": "display_data"
    },
    {
     "name": "stdout",
     "output_type": "stream",
     "text": [
      "0 0.469083972454071\n"
     ]
    },
    {
     "data": {
      "application/vnd.jupyter.widget-view+json": {
       "model_id": "",
       "version_major": 2,
       "version_minor": 0
      },
      "text/plain": [
       "HBox(children=(IntProgress(value=0, max=157), HTML(value='')))"
      ]
     },
     "metadata": {},
     "output_type": "display_data"
    },
    {
     "name": "stdout",
     "output_type": "stream",
     "text": [
      "1 0.16272257494926454\n"
     ]
    }
   ],
   "source": [
    "learner.fit(2, 0.05)"
   ]
  },
  {
   "cell_type": "code",
   "execution_count": 40,
   "metadata": {
    "hidden": true
   },
   "outputs": [
    {
     "data": {
      "application/vnd.jupyter.widget-view+json": {
       "model_id": "e432212db7114ce3b4779e23f748675d",
       "version_major": 2,
       "version_minor": 0
      },
      "text/plain": [
       "HBox(children=(IntProgress(value=0, max=2), HTML(value='')))"
      ]
     },
     "metadata": {},
     "output_type": "display_data"
    },
    {
     "data": {
      "application/vnd.jupyter.widget-view+json": {
       "model_id": "",
       "version_major": 2,
       "version_minor": 0
      },
      "text/plain": [
       "HBox(children=(IntProgress(value=0, max=157), HTML(value='')))"
      ]
     },
     "metadata": {},
     "output_type": "display_data"
    },
    {
     "name": "stdout",
     "output_type": "stream",
     "text": [
      "0 0.14141892766952516\n"
     ]
    },
    {
     "data": {
      "application/vnd.jupyter.widget-view+json": {
       "model_id": "",
       "version_major": 2,
       "version_minor": 0
      },
      "text/plain": [
       "HBox(children=(IntProgress(value=0, max=157), HTML(value='')))"
      ]
     },
     "metadata": {},
     "output_type": "display_data"
    },
    {
     "name": "stdout",
     "output_type": "stream",
     "text": [
      "1 0.14167725318670274\n"
     ]
    }
   ],
   "source": [
    "learner.fit(1, 0.01)"
   ]
  },
  {
   "cell_type": "markdown",
   "metadata": {
    "heading_collapsed": true
   },
   "source": [
    "# Sylvain's transforms"
   ]
  },
  {
   "cell_type": "markdown",
   "metadata": {
    "hidden": true
   },
   "source": [
    "## Add transforms"
   ]
  },
  {
   "cell_type": "code",
   "execution_count": 57,
   "metadata": {
    "hidden": true
   },
   "outputs": [],
   "source": [
    "from enum import IntEnum\n",
    "\n",
    "class TfmType(IntEnum):\n",
    "    NO = 1\n",
    "    PIXEL = 2\n",
    "    COORD = 3\n",
    "    CLASS = 4"
   ]
  },
  {
   "cell_type": "code",
   "execution_count": 58,
   "metadata": {
    "hidden": true
   },
   "outputs": [],
   "source": [
    "from abc import abstractmethod\n",
    "\n",
    "class Transform():\n",
    "    \n",
    "    def __init__(self, tfm_y=TfmType.NO, p=1, batch_lvl = False):\n",
    "        self.tfm_y,self.p,self.batch_lvl = tfm_y,p,batch_lvl\n",
    "    \n",
    "    def __call__(self, x, y):\n",
    "        x,y = ((self.transform(x),y) if self.tfm_y==TfmType.NO\n",
    "                else self.transform(x,y) if self.tfm_y in (TfmType.PIXEL, TfmType.CLASS)\n",
    "                else self.transform_coord(x,y))\n",
    "        return x, y\n",
    "    \n",
    "    def set_device(self, device):\n",
    "        if not self.batch_lvl: self.device = device\n",
    "    \n",
    "    def transform_coord(self, x, y):\n",
    "        if self.p == 1 or np.random.rand < self.p:\n",
    "            return self.transform(x),y\n",
    "\n",
    "    def transform(self, x, y=None):\n",
    "        if self.p == 1 or np.random.rand < self.p:\n",
    "            x = self.do_transform(x,False)\n",
    "            return (x, self.do_transform(y,True)) if y is not None else x\n",
    "        else: return x,y\n",
    "    \n",
    "    @abstractmethod\n",
    "    def do_transform(self, x, is_y): raise NotImplementedError\n",
    "    #In do_transform we can save a value (angle of a random rotation for instance) in self.save_for_y that will be used\n",
    "    #if is_y is True."
   ]
  },
  {
   "cell_type": "code",
   "execution_count": 60,
   "metadata": {
    "hidden": true
   },
   "outputs": [],
   "source": [
    "class ChannelOrder(Transform):\n",
    "    #If we use PIL for data augmentation, maybe the conversion to a numpy array should be handled here?\n",
    "    def __init__(self, tfm_y=TfmType.NO):\n",
    "        super().__init__(tfm_y=tfm_y)\n",
    "    \n",
    "    def do_transform(self, x, is_y):\n",
    "        if not is_y or self.tfm_y == TfmType.PIXEL: x = np.rollaxis(x, 2)\n",
    "        return x"
   ]
  },
  {
   "cell_type": "code",
   "execution_count": 61,
   "metadata": {
    "hidden": true
   },
   "outputs": [],
   "source": [
    "class Normalize(Transform):\n",
    "    \n",
    "    def __init__(self, means, stds, tfm_y=TfmType.NO):\n",
    "        self.means,self.stds = means,stds\n",
    "        super().__init__(tfm_y=tfm_y, batch_lvl=True)\n",
    "    \n",
    "    def set_device(self, device):\n",
    "        super().set_device(device)\n",
    "        if type(self.means) != torch.Tensor or not self.means.device == device:\n",
    "            self.means,self.stds = map(lambda x:torch.Tensor(x).to(device), (self.means, self.stds))\n",
    "    \n",
    "    def do_transform(self, x, is_y):\n",
    "        if not is_y or self.tfm_y == TfmType.PIXEL:\n",
    "            m, s = self.means[None,:,None,None].type_as(x), self.stds[None,:,None,None].type_as(x)\n",
    "            x = (x - m) / s\n",
    "        return x"
   ]
  },
  {
   "cell_type": "code",
   "execution_count": 62,
   "metadata": {
    "hidden": true
   },
   "outputs": [],
   "source": [
    "def compose(tfms, x, y):\n",
    "    for tfm in tfms: x,y = tfm(x,y)\n",
    "    return x,y"
   ]
  },
  {
   "cell_type": "code",
   "execution_count": 84,
   "metadata": {
    "hidden": true
   },
   "outputs": [],
   "source": [
    "def split_one_tfms(tfms):\n",
    "    ds_tfms = [tfm for tfm in tfms if not tfm.batch_lvl]\n",
    "    dl_tfms = [tfm for tfm in tfms if tfm.batch_lvl]\n",
    "    return ds_tfms,dl_tfms\n",
    "    \n",
    "def split_tfms(trn_tfms, val_tfms):\n",
    "    trn_ds_tfms, trn_dl_tfms = split_one_tfms(trn_tfms)\n",
    "    val_ds_tfms, val_dl_tfms = split_one_tfms(val_tfms)\n",
    "    return trn_ds_tfms, val_ds_tfms, trn_dl_tfms, val_dl_tfms"
   ]
  }
 ],
 "metadata": {
  "kernelspec": {
   "display_name": "Python 3",
   "language": "python",
   "name": "python3"
  },
  "language_info": {
   "codemirror_mode": {
    "name": "ipython",
    "version": 3
   },
   "file_extension": ".py",
   "mimetype": "text/x-python",
   "name": "python",
   "nbconvert_exporter": "python",
   "pygments_lexer": "ipython3",
   "version": "3.6.6"
  },
  "toc": {
   "colors": {
    "hover_highlight": "#DAA520",
    "navigate_num": "#000000",
    "navigate_text": "#333333",
    "running_highlight": "#FF0000",
    "selected_highlight": "#FFD700",
    "sidebar_border": "#EEEEEE",
    "wrapper_background": "#FFFFFF"
   },
   "moveMenuLeft": true,
   "nav_menu": {
    "height": "104px",
    "width": "251px"
   },
   "navigate_menu": true,
   "number_sections": true,
   "sideBar": true,
   "threshold": 4,
   "toc_cell": false,
   "toc_section_display": "block",
   "toc_window_display": false,
   "widenNotebook": false
  }
 },
 "nbformat": 4,
 "nbformat_minor": 2
}
