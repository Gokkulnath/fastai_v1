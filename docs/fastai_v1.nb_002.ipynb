{
 "cells": [
  {
   "cell_type": "markdown",
   "metadata": {},
   "source": [
    "# fastai_v1.nb_002"
   ]
  },
  {
   "cell_type": "markdown",
   "metadata": {},
   "source": [
    "Type an introduction of the package here."
   ]
  },
  {
   "cell_type": "markdown",
   "metadata": {},
   "source": [
    "- [brightness](#brightness)\n",
    "- [FakeTestClass](#FakeTestClass)\n",
    "  - [FakeTestClass.change_a](#FakeTestClass.change_a)\n",
    "  - [FakeTestClass.change_b](#FakeTestClass.change_b)\n",
    "  - [FakeTestClass.product](#FakeTestClass.product)\n",
    "  - [FakeTestClass.sum](#FakeTestClass.sum)\n",
    "- [FilesDataset](#FilesDataset)\n",
    "- [find_classes](#find_classes)\n",
    "- [get_image_files](#get_image_files)\n",
    "- [image2np](#image2np)\n",
    "- [pil2tensor](#pil2tensor)\n",
    "- [TfmType](#TfmType)\n"
   ]
  },
  {
   "cell_type": "code",
   "execution_count": 117,
   "metadata": {
    "tags": [
     "hidden"
    ]
   },
   "outputs": [],
   "source": [
    "from nbdoc import * "
   ]
  },
  {
   "cell_type": "code",
   "execution_count": 118,
   "metadata": {
    "tags": [
     "hidden"
    ]
   },
   "outputs": [
    {
     "data": {
      "text/markdown": [
       "<a id=brightness></a>**brightness** (-> TfmType.Lighting)\n",
       "\n",
       "Arguments:\n",
       "- **x**:\n",
       "- **change** (uniform):\n"
      ],
      "text/plain": [
       "<IPython.core.display.Markdown object>"
      ]
     },
     "metadata": {},
     "output_type": "display_data"
    }
   ],
   "source": [
    "show_doc_from_name('fastai_v1.nb_002','brightness')"
   ]
  },
  {
   "cell_type": "markdown",
   "metadata": {},
   "source": []
  },
  {
   "cell_type": "code",
   "execution_count": 119,
   "metadata": {
    "tags": [
     "hidden"
    ]
   },
   "outputs": [
    {
     "data": {
      "text/markdown": [
       "<a id=FakeTestClass></a>**FakeTestClass**\n",
       "\n",
       "Arguments:\n",
       "- **a** (int):\n",
       "- **b** (float), *default 0.5*:\n",
       "\n",
       "This is an example of string doc."
      ],
      "text/plain": [
       "<IPython.core.display.Markdown object>"
      ]
     },
     "metadata": {},
     "output_type": "display_data"
    }
   ],
   "source": [
    "show_doc_from_name('fastai_v1.nb_002','FakeTestClass')"
   ]
  },
  {
   "cell_type": "markdown",
   "metadata": {},
   "source": []
  },
  {
   "cell_type": "code",
   "execution_count": 120,
   "metadata": {
    "tags": [
     "hidden"
    ]
   },
   "outputs": [
    {
     "data": {
      "text/markdown": [
       "<a id=FakeTestClass.change_a></a>**FakeTestClass.change_a**\n",
       "\n",
       "Arguments:\n",
       "- **self**:\n",
       "- **x**:\n"
      ],
      "text/plain": [
       "<IPython.core.display.Markdown object>"
      ]
     },
     "metadata": {},
     "output_type": "display_data"
    }
   ],
   "source": [
    "show_doc_from_name('fastai_v1.nb_002','FakeTestClass.change_a')"
   ]
  },
  {
   "cell_type": "markdown",
   "metadata": {},
   "source": []
  },
  {
   "cell_type": "code",
   "execution_count": 121,
   "metadata": {
    "tags": [
     "hidden"
    ]
   },
   "outputs": [
    {
     "data": {
      "text/markdown": [
       "<a id=FakeTestClass.change_b></a>**FakeTestClass.change_b**\n",
       "\n",
       "Arguments:\n",
       "- **self**:\n",
       "- **x**:\n"
      ],
      "text/plain": [
       "<IPython.core.display.Markdown object>"
      ]
     },
     "metadata": {},
     "output_type": "display_data"
    }
   ],
   "source": [
    "show_doc_from_name('fastai_v1.nb_002','FakeTestClass.change_b')"
   ]
  },
  {
   "cell_type": "markdown",
   "metadata": {},
   "source": []
  },
  {
   "cell_type": "code",
   "execution_count": 122,
   "metadata": {
    "tags": [
     "hidden"
    ]
   },
   "outputs": [
    {
     "data": {
      "text/markdown": [
       "<a id=FakeTestClass.product></a>**FakeTestClass.product** (-> float)\n",
       "\n",
       "Arguments:\n",
       "- **self**:\n"
      ],
      "text/plain": [
       "<IPython.core.display.Markdown object>"
      ]
     },
     "metadata": {},
     "output_type": "display_data"
    }
   ],
   "source": [
    "show_doc_from_name('fastai_v1.nb_002','FakeTestClass.product')"
   ]
  },
  {
   "cell_type": "markdown",
   "metadata": {},
   "source": []
  },
  {
   "cell_type": "code",
   "execution_count": 123,
   "metadata": {
    "tags": [
     "hidden"
    ]
   },
   "outputs": [
    {
     "data": {
      "text/markdown": [
       "<a id=FakeTestClass.sum></a>**FakeTestClass.sum** (-> float)\n",
       "\n",
       "Arguments:\n",
       "- **self**:\n"
      ],
      "text/plain": [
       "<IPython.core.display.Markdown object>"
      ]
     },
     "metadata": {},
     "output_type": "display_data"
    }
   ],
   "source": [
    "show_doc_from_name('fastai_v1.nb_002','FakeTestClass.sum')"
   ]
  },
  {
   "cell_type": "markdown",
   "metadata": {},
   "source": []
  },
  {
   "cell_type": "code",
   "execution_count": 124,
   "metadata": {
    "tags": [
     "hidden"
    ]
   },
   "outputs": [
    {
     "data": {
      "text/markdown": [
       "<a id=FilesDataset></a>**FilesDataset**(subclass of <class 'torch.utils.data.dataset.Dataset'>)\n",
       "\n",
       "Arguments:\n",
       "- **folder**:\n",
       "- **classes**, *default None*:\n",
       "\n",
       "An abstract class representing a Dataset.\n",
       "\n",
       "All other datasets should subclass it. All subclasses should override\n",
       "``__len__``, that provides the size of the dataset, and ``__getitem__``,\n",
       "supporting integer indexing in range from 0 to len(self) exclusive."
      ],
      "text/plain": [
       "<IPython.core.display.Markdown object>"
      ]
     },
     "metadata": {},
     "output_type": "display_data"
    }
   ],
   "source": [
    "show_doc_from_name('fastai_v1.nb_002','FilesDataset')"
   ]
  },
  {
   "cell_type": "markdown",
   "metadata": {},
   "source": []
  },
  {
   "cell_type": "code",
   "execution_count": 125,
   "metadata": {
    "tags": [
     "hidden"
    ]
   },
   "outputs": [
    {
     "data": {
      "text/markdown": [
       "<a id=find_classes></a>**find_classes**\n",
       "\n",
       "Arguments:\n",
       "- **folder**:\n"
      ],
      "text/plain": [
       "<IPython.core.display.Markdown object>"
      ]
     },
     "metadata": {},
     "output_type": "display_data"
    }
   ],
   "source": [
    "show_doc_from_name('fastai_v1.nb_002','find_classes')"
   ]
  },
  {
   "cell_type": "markdown",
   "metadata": {},
   "source": []
  },
  {
   "cell_type": "code",
   "execution_count": 126,
   "metadata": {
    "tags": [
     "hidden"
    ]
   },
   "outputs": [
    {
     "data": {
      "text/markdown": [
       "<a id=get_image_files></a>**get_image_files**\n",
       "\n",
       "Arguments:\n",
       "- **c**:\n"
      ],
      "text/plain": [
       "<IPython.core.display.Markdown object>"
      ]
     },
     "metadata": {},
     "output_type": "display_data"
    }
   ],
   "source": [
    "show_doc_from_name('fastai_v1.nb_002','get_image_files')"
   ]
  },
  {
   "cell_type": "markdown",
   "metadata": {},
   "source": []
  },
  {
   "cell_type": "code",
   "execution_count": 127,
   "metadata": {
    "tags": [
     "hidden"
    ]
   },
   "outputs": [
    {
     "data": {
      "text/markdown": [
       "<a id=image2np></a>**image2np**\n",
       "\n",
       "Arguments:\n",
       "- **image**:\n"
      ],
      "text/plain": [
       "<IPython.core.display.Markdown object>"
      ]
     },
     "metadata": {},
     "output_type": "display_data"
    }
   ],
   "source": [
    "show_doc_from_name('fastai_v1.nb_002','image2np')"
   ]
  },
  {
   "cell_type": "markdown",
   "metadata": {},
   "source": []
  },
  {
   "cell_type": "code",
   "execution_count": 128,
   "metadata": {
    "tags": [
     "hidden"
    ]
   },
   "outputs": [
    {
     "data": {
      "text/markdown": [
       "<a id=pil2tensor></a>**pil2tensor**\n",
       "\n",
       "Arguments:\n",
       "- **image**:\n"
      ],
      "text/plain": [
       "<IPython.core.display.Markdown object>"
      ]
     },
     "metadata": {},
     "output_type": "display_data"
    }
   ],
   "source": [
    "show_doc_from_name('fastai_v1.nb_002','pil2tensor')"
   ]
  },
  {
   "cell_type": "markdown",
   "metadata": {},
   "source": []
  },
  {
   "cell_type": "code",
   "execution_count": 129,
   "metadata": {
    "tags": [
     "hidden"
    ]
   },
   "outputs": [
    {
     "data": {
      "text/markdown": [
       "<a id=TfmType></a>**TfmType** (enumerator class)\n",
       "\n",
       "Values:\n",
       "- **Lighting**:\n",
       "- **Coord**:\n",
       "- **Affine**:\n",
       "- **Pixel**:\n",
       "- **Final**:\n",
       "\n",
       "An enumeration."
      ],
      "text/plain": [
       "<IPython.core.display.Markdown object>"
      ]
     },
     "metadata": {},
     "output_type": "display_data"
    }
   ],
   "source": [
    "show_doc_from_name('fastai_v1.nb_002','TfmType')"
   ]
  },
  {
   "cell_type": "markdown",
   "metadata": {},
   "source": []
  }
 ],
 "metadata": {
  "kernelspec": {
   "display_name": "Python 3",
   "language": "python",
   "name": "python3"
  },
  "language_info": {
   "codemirror_mode": {
    "name": "ipython",
    "version": 3
   },
   "file_extension": ".py",
   "mimetype": "text/x-python",
   "name": "python",
   "nbconvert_exporter": "python",
   "pygments_lexer": "ipython3",
   "version": "3.6.6"
  }
 },
 "nbformat": 4,
 "nbformat_minor": 2
}
