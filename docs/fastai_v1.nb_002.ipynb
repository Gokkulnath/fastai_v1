{
 "cells": [
  {
   "cell_type": "markdown",
   "metadata": {},
   "source": [
    "# fastai_v1.nb_002"
   ]
  },
  {
   "cell_type": "markdown",
   "metadata": {},
   "source": [
    "Type an introduction of the package here."
   ]
  },
  {
   "cell_type": "markdown",
   "metadata": {},
   "source": [
    "**FakeTestClass**\n",
    "\n",
    "Arguments:\n",
    "- **a** (int):\n",
    "- **b** (float), *default 0.5*:\n",
    "\n",
    "Functions:\n",
    "- **sum** (-> float)\n",
    "- **product** (-> float)\n",
    "- **change_a**\n",
    "\n",
    "  Arguments:\n",
    "  - **x**:\n",
    "\n",
    "\n",
    "- **change_b**\n",
    "\n",
    "  Arguments:\n",
    "  - **x**:\n"
   ]
  },
  {
   "cell_type": "markdown",
   "metadata": {},
   "source": []
  },
  {
   "cell_type": "markdown",
   "metadata": {},
   "source": [
    "**FilesDataset** (subclass of <class 'torch.utils.data.dataset.Dataset'>)\n",
    "\n",
    "Arguments:\n",
    "- **folder**:\n",
    "- **classes**, *default None*:\n"
   ]
  },
  {
   "cell_type": "markdown",
   "metadata": {},
   "source": []
  },
  {
   "cell_type": "markdown",
   "metadata": {},
   "source": [
    "**TfmType** (enumerator class)\n",
    "\n",
    "Values:\n",
    "- **Lighting**:\n",
    "- **Coord**:\n",
    "- **Affine**:\n",
    "- **Pixel**:\n",
    "- **Final**:\n"
   ]
  },
  {
   "cell_type": "markdown",
   "metadata": {},
   "source": []
  },
  {
   "cell_type": "markdown",
   "metadata": {},
   "source": [
    "**affine_grid**\n",
    "\n",
    "Arguments:\n",
    "- **x**:\n",
    "- **matrix**:\n",
    "- **size**, *default None*:\n"
   ]
  },
  {
   "cell_type": "markdown",
   "metadata": {},
   "source": []
  },
  {
   "cell_type": "markdown",
   "metadata": {},
   "source": [
    "**affines_mat**\n",
    "\n",
    "Arguments:\n",
    "- **matrices**, *default None*:\n"
   ]
  },
  {
   "cell_type": "markdown",
   "metadata": {},
   "source": []
  },
  {
   "cell_type": "markdown",
   "metadata": {},
   "source": [
    "**apply_affine_tfm**\n",
    "\n",
    "Arguments:\n",
    "- **matrices**, *default None*:\n",
    "- **func**, *default None*:\n"
   ]
  },
  {
   "cell_type": "markdown",
   "metadata": {},
   "source": []
  },
  {
   "cell_type": "markdown",
   "metadata": {},
   "source": [
    "**apply_lighting_tfm**\n",
    "\n",
    "Arguments:\n",
    "- **func**:\n"
   ]
  },
  {
   "cell_type": "markdown",
   "metadata": {},
   "source": []
  },
  {
   "cell_type": "markdown",
   "metadata": {},
   "source": [
    "**brightness** (-> TfmType.Lighting) \n",
    "\n",
    "Arguments:\n",
    "- **x**:\n",
    "- **change** (uniform):\n"
   ]
  },
  {
   "cell_type": "markdown",
   "metadata": {},
   "source": []
  },
  {
   "cell_type": "markdown",
   "metadata": {},
   "source": [
    "**_inner**\n"
   ]
  },
  {
   "cell_type": "markdown",
   "metadata": {},
   "source": []
  },
  {
   "cell_type": "markdown",
   "metadata": {},
   "source": [
    "**contrast** (-> TfmType.Lighting) \n",
    "\n",
    "Arguments:\n",
    "- **x**:\n",
    "- **scale** (log_uniform):\n"
   ]
  },
  {
   "cell_type": "markdown",
   "metadata": {},
   "source": []
  },
  {
   "cell_type": "markdown",
   "metadata": {},
   "source": [
    "**_inner**\n"
   ]
  },
  {
   "cell_type": "markdown",
   "metadata": {},
   "source": []
  },
  {
   "cell_type": "markdown",
   "metadata": {},
   "source": [
    "**denormalize**\n",
    "\n",
    "Arguments:\n",
    "- **mean**:\n",
    "- **std**:\n",
    "- **x**:\n"
   ]
  },
  {
   "cell_type": "markdown",
   "metadata": {},
   "source": []
  },
  {
   "cell_type": "markdown",
   "metadata": {},
   "source": [
    "**do_affine**\n",
    "\n",
    "Arguments:\n",
    "- **img**:\n",
    "- **m**, *default None*:\n",
    "- **func**, *default None*:\n",
    "- **size**, *default None*:\n"
   ]
  },
  {
   "cell_type": "markdown",
   "metadata": {},
   "source": []
  },
  {
   "cell_type": "markdown",
   "metadata": {},
   "source": [
    "**eye_new**\n",
    "\n",
    "Arguments:\n",
    "- **x**:\n",
    "- **n**:\n"
   ]
  },
  {
   "cell_type": "markdown",
   "metadata": {},
   "source": []
  },
  {
   "cell_type": "markdown",
   "metadata": {},
   "source": [
    "**find_classes**\n",
    "\n",
    "Arguments:\n",
    "- **folder**:\n"
   ]
  },
  {
   "cell_type": "markdown",
   "metadata": {},
   "source": []
  },
  {
   "cell_type": "markdown",
   "metadata": {},
   "source": [
    "**flip_lr** (-> TfmType.Pixel) \n",
    "\n",
    "Arguments:\n",
    "- **x**:\n"
   ]
  },
  {
   "cell_type": "markdown",
   "metadata": {},
   "source": []
  },
  {
   "cell_type": "markdown",
   "metadata": {},
   "source": [
    "**_inner**\n"
   ]
  },
  {
   "cell_type": "markdown",
   "metadata": {},
   "source": []
  },
  {
   "cell_type": "markdown",
   "metadata": {},
   "source": [
    "**get_batch_stats**\n",
    "\n",
    "Arguments:\n",
    "- **dl**:\n"
   ]
  },
  {
   "cell_type": "markdown",
   "metadata": {},
   "source": []
  },
  {
   "cell_type": "markdown",
   "metadata": {},
   "source": [
    "**get_image_files**\n",
    "\n",
    "Arguments:\n",
    "- **c**:\n"
   ]
  },
  {
   "cell_type": "markdown",
   "metadata": {},
   "source": []
  },
  {
   "cell_type": "markdown",
   "metadata": {},
   "source": [
    "**grid_sample**\n",
    "\n",
    "Arguments:\n",
    "- **x**:\n",
    "- **coords**:\n",
    "- **mode**, *default bilinear*:\n",
    "- **padding_mode**, *default reflect*:\n"
   ]
  },
  {
   "cell_type": "markdown",
   "metadata": {},
   "source": []
  },
  {
   "cell_type": "markdown",
   "metadata": {},
   "source": [
    "**grid_sample_nearest**\n",
    "\n",
    "Arguments:\n",
    "- **input**:\n",
    "- **coords**:\n",
    "- **padding_mode**, *default zeros*:\n"
   ]
  },
  {
   "cell_type": "markdown",
   "metadata": {},
   "source": []
  },
  {
   "cell_type": "markdown",
   "metadata": {},
   "source": [
    "**image2np**\n",
    "\n",
    "Arguments:\n",
    "- **image**:\n"
   ]
  },
  {
   "cell_type": "markdown",
   "metadata": {},
   "source": []
  },
  {
   "cell_type": "markdown",
   "metadata": {},
   "source": [
    "**jitter** (-> TfmType.Coord) \n",
    "\n",
    "Arguments:\n",
    "- **x**:\n",
    "- **magnitude** (uniform):\n"
   ]
  },
  {
   "cell_type": "markdown",
   "metadata": {},
   "source": []
  },
  {
   "cell_type": "markdown",
   "metadata": {},
   "source": [
    "**_inner**\n"
   ]
  },
  {
   "cell_type": "markdown",
   "metadata": {},
   "source": []
  },
  {
   "cell_type": "markdown",
   "metadata": {},
   "source": [
    "**log_uniform**\n",
    "\n",
    "Arguments:\n",
    "- **low**:\n",
    "- **high**:\n",
    "- **size**, *default None*:\n"
   ]
  },
  {
   "cell_type": "markdown",
   "metadata": {},
   "source": []
  },
  {
   "cell_type": "markdown",
   "metadata": {},
   "source": [
    "**logit**\n",
    "\n",
    "Arguments:\n",
    "- **x**:\n"
   ]
  },
  {
   "cell_type": "markdown",
   "metadata": {},
   "source": []
  },
  {
   "cell_type": "markdown",
   "metadata": {},
   "source": [
    "**logit_**\n",
    "\n",
    "Arguments:\n",
    "- **x**:\n"
   ]
  },
  {
   "cell_type": "markdown",
   "metadata": {},
   "source": []
  },
  {
   "cell_type": "markdown",
   "metadata": {},
   "source": [
    "**make_p_affine**\n",
    "\n",
    "Arguments:\n",
    "- **func**:\n"
   ]
  },
  {
   "cell_type": "markdown",
   "metadata": {},
   "source": []
  },
  {
   "cell_type": "markdown",
   "metadata": {},
   "source": [
    "**make_p_func**\n",
    "\n",
    "Arguments:\n",
    "- **func**:\n"
   ]
  },
  {
   "cell_type": "markdown",
   "metadata": {},
   "source": []
  },
  {
   "cell_type": "markdown",
   "metadata": {},
   "source": [
    "**make_tfm_affine**\n",
    "\n",
    "Arguments:\n",
    "- **func**:\n"
   ]
  },
  {
   "cell_type": "markdown",
   "metadata": {},
   "source": []
  },
  {
   "cell_type": "markdown",
   "metadata": {},
   "source": [
    "**make_tfm_func**\n",
    "\n",
    "Arguments:\n",
    "- **func**:\n"
   ]
  },
  {
   "cell_type": "markdown",
   "metadata": {},
   "source": []
  },
  {
   "cell_type": "markdown",
   "metadata": {},
   "source": [
    "**<lambda>**\n",
    "\n",
    "Arguments:\n",
    "- **x**:\n"
   ]
  },
  {
   "cell_type": "markdown",
   "metadata": {},
   "source": []
  },
  {
   "cell_type": "markdown",
   "metadata": {},
   "source": [
    "**normalize**\n",
    "\n",
    "Arguments:\n",
    "- **mean**:\n",
    "- **std**:\n",
    "- **x**:\n"
   ]
  },
  {
   "cell_type": "markdown",
   "metadata": {},
   "source": []
  },
  {
   "cell_type": "markdown",
   "metadata": {},
   "source": [
    "**pil2tensor**\n",
    "\n",
    "Arguments:\n",
    "- **image**:\n"
   ]
  },
  {
   "cell_type": "markdown",
   "metadata": {},
   "source": []
  },
  {
   "cell_type": "markdown",
   "metadata": {},
   "source": [
    "**rand_bool**\n",
    "\n",
    "Arguments:\n",
    "- **p**, *default 1*:\n",
    "- **size**, *default None*:\n"
   ]
  },
  {
   "cell_type": "markdown",
   "metadata": {},
   "source": []
  },
  {
   "cell_type": "markdown",
   "metadata": {},
   "source": [
    "**randint**\n",
    "\n",
    "Arguments:\n",
    "- **low**:\n",
    "- **high**:\n",
    "- **size**, *default None*:\n"
   ]
  },
  {
   "cell_type": "markdown",
   "metadata": {},
   "source": []
  },
  {
   "cell_type": "markdown",
   "metadata": {},
   "source": [
    "**reg_affine**\n",
    "\n",
    "Arguments:\n",
    "- **func**:\n"
   ]
  },
  {
   "cell_type": "markdown",
   "metadata": {},
   "source": []
  },
  {
   "cell_type": "markdown",
   "metadata": {},
   "source": [
    "**reg_transform**\n",
    "\n",
    "Arguments:\n",
    "- **func**:\n"
   ]
  },
  {
   "cell_type": "markdown",
   "metadata": {},
   "source": []
  },
  {
   "cell_type": "markdown",
   "metadata": {},
   "source": [
    "**resolve_args**\n",
    "\n",
    "Arguments:\n",
    "- **func**:\n"
   ]
  },
  {
   "cell_type": "markdown",
   "metadata": {},
   "source": []
  },
  {
   "cell_type": "markdown",
   "metadata": {},
   "source": [
    "**resolve_tfms**\n",
    "\n",
    "Arguments:\n",
    "- **tfms**:\n"
   ]
  },
  {
   "cell_type": "markdown",
   "metadata": {},
   "source": []
  },
  {
   "cell_type": "markdown",
   "metadata": {},
   "source": [
    "**rotate** (-> TfmType.Affine) \n",
    "\n",
    "Arguments:\n",
    "- **degrees** (uniform):\n"
   ]
  },
  {
   "cell_type": "markdown",
   "metadata": {},
   "source": []
  },
  {
   "cell_type": "markdown",
   "metadata": {},
   "source": [
    "**_inner**\n"
   ]
  },
  {
   "cell_type": "markdown",
   "metadata": {},
   "source": []
  },
  {
   "cell_type": "markdown",
   "metadata": {},
   "source": [
    "**show_image**\n",
    "\n",
    "Arguments:\n",
    "- **img**:\n",
    "- **ax**, *default None*:\n",
    "- **figsize**, *default (3, 3)*:\n",
    "- **hide_axis**, *default True*:\n"
   ]
  },
  {
   "cell_type": "markdown",
   "metadata": {},
   "source": []
  },
  {
   "cell_type": "markdown",
   "metadata": {},
   "source": [
    "**show_image_batch**\n",
    "\n",
    "Arguments:\n",
    "- **dl**:\n",
    "- **classes**:\n",
    "- **rows**, *default None*:\n"
   ]
  },
  {
   "cell_type": "markdown",
   "metadata": {},
   "source": []
  },
  {
   "cell_type": "markdown",
   "metadata": {},
   "source": [
    "**show_images**\n",
    "\n",
    "Arguments:\n",
    "- **x**:\n",
    "- **y**:\n",
    "- **rows**:\n",
    "- **classes**:\n",
    "- **figsize**, *default (12, 15)*:\n"
   ]
  },
  {
   "cell_type": "markdown",
   "metadata": {},
   "source": []
  },
  {
   "cell_type": "markdown",
   "metadata": {},
   "source": [
    "**uniform**\n",
    "\n",
    "Arguments:\n",
    "- **low**, *default 0*:\n",
    "- **high**, *default 1*:\n",
    "- **size**, *default None*:\n"
   ]
  },
  {
   "cell_type": "markdown",
   "metadata": {},
   "source": []
  },
  {
   "cell_type": "markdown",
   "metadata": {},
   "source": [
    "**xy_transform**\n",
    "\n",
    "Arguments:\n",
    "- **x_tfm**, *default None*:\n",
    "- **y_tfm**, *default None*:\n"
   ]
  },
  {
   "cell_type": "markdown",
   "metadata": {},
   "source": []
  },
  {
   "cell_type": "markdown",
   "metadata": {},
   "source": [
    "**xy_transforms**\n",
    "\n",
    "Arguments:\n",
    "- **x_tfms**, *default None*:\n",
    "- **y_tfms**, *default None*:\n"
   ]
  },
  {
   "cell_type": "markdown",
   "metadata": {},
   "source": []
  },
  {
   "cell_type": "markdown",
   "metadata": {},
   "source": [
    "**zoom** (-> TfmType.Affine) \n",
    "\n",
    "Arguments:\n",
    "- **scale** (uniform):\n"
   ]
  },
  {
   "cell_type": "markdown",
   "metadata": {},
   "source": []
  },
  {
   "cell_type": "markdown",
   "metadata": {},
   "source": [
    "**_inner**\n"
   ]
  },
  {
   "cell_type": "markdown",
   "metadata": {},
   "source": []
  }
 ],
 "metadata": {
  "kernelspec": {
   "display_name": "Python 3",
   "language": "python",
   "name": "python3"
  },
  "language_info": {
   "codemirror_mode": {
    "name": "ipython",
    "version": 3
   },
   "file_extension": ".py",
   "mimetype": "text/x-python",
   "name": "python",
   "nbconvert_exporter": "python",
   "pygments_lexer": "ipython3",
   "version": "3.6.6"
  }
 },
 "nbformat": 4,
 "nbformat_minor": 2
}
