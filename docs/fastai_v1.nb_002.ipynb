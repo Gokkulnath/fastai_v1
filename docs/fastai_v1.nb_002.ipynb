{
 "cells": [
  {
   "cell_type": "markdown",
   "metadata": {},
   "source": [
    "# fastai_v1.nb_002"
   ]
  },
  {
   "cell_type": "markdown",
   "metadata": {},
   "source": [
    "Type an introduction of the package here."
   ]
  },
  {
   "cell_type": "code",
   "execution_count": 1,
   "metadata": {
    "hide_input": true
   },
   "outputs": [],
   "source": [
    "from nbdoc import * "
   ]
  },
  {
   "cell_type": "code",
   "execution_count": 2,
   "metadata": {
    "hide_input": true
   },
   "outputs": [
    {
     "data": {
      "text/markdown": [
       "- [affine_grid](#affine_grid)\n",
       "- [affines_mat](#affines_mat)\n",
       "- [brightness_tfm](#brightness_tfm)\n",
       "- [compose](#compose)\n",
       "- [contrast_tfm](#contrast_tfm)\n",
       "- [dict_groupby](#dict_groupby)\n",
       "- [FakeTestClass](#FakeTestClass)\n",
       "  - [FakeTestClass.sum](#FakeTestClass.sum)\n",
       "  - [FakeTestClass.prod](#FakeTestClass.prod)\n",
       "  - [FakeTestClass.set_a](#FakeTestClass.set_a)\n",
       "  - [FakeTestClass.set_b](#FakeTestClass.set_b)\n",
       "- [FilesDataset](#FilesDataset)\n",
       "- [find_classes](#find_classes)\n",
       "- [flip_lr_tfm](#flip_lr_tfm)\n",
       "- [get_default_args](#get_default_args)\n",
       "- [get_image_files](#get_image_files)\n",
       "- [grid_sample](#grid_sample)\n",
       "- [image2np](#image2np)\n",
       "- [jitter_tfm](#jitter_tfm)\n",
       "- [listify](#listify)\n",
       "- [log_uniform](#log_uniform)\n",
       "- [logit](#logit)\n",
       "- [logit_](#logit_)\n",
       "- [pil2tensor](#pil2tensor)\n",
       "- [rand_bool](#rand_bool)\n",
       "- [reg_affine](#reg_affine)\n",
       "- [reg_transform](#reg_transform)\n",
       "- [rotate_tfm](#rotate_tfm)\n",
       "- [show_image](#show_image)\n",
       "- [show_image_batch](#show_image_batch)\n",
       "- [show_images](#show_images)\n",
       "- [TfmType](#TfmType)\n",
       "- [uniform](#uniform)\n",
       "- [zoom_tfm](#zoom_tfm)\n"
      ],
      "text/plain": [
       "<IPython.core.display.Markdown object>"
      ]
     },
     "metadata": {},
     "output_type": "display_data"
    }
   ],
   "source": [
    "get_module_toc(\"fastai_v1.nb_002\")"
   ]
  },
  {
   "cell_type": "code",
   "execution_count": 3,
   "metadata": {
    "hide_input": true
   },
   "outputs": [
    {
     "data": {
      "text/markdown": [
       "<a id=affine_grid></a>**affine_grid**\n",
       "\n",
       "Arguments:\n",
       "- **x**\n",
       "- **matrix**\n",
       "- **size**, *default None*\n"
      ],
      "text/plain": [
       "<IPython.core.display.Markdown object>"
      ]
     },
     "metadata": {},
     "output_type": "display_data"
    }
   ],
   "source": [
    "show_doc_from_name('fastai_v1.nb_002','affine_grid')"
   ]
  },
  {
   "cell_type": "markdown",
   "metadata": {},
   "source": []
  },
  {
   "cell_type": "code",
   "execution_count": 4,
   "metadata": {
    "hide_input": true
   },
   "outputs": [
    {
     "data": {
      "text/markdown": [
       "<a id=affines_mat></a>**affines_mat**\n",
       "\n",
       "Arguments:\n",
       "- **matrices**, *default None*\n"
      ],
      "text/plain": [
       "<IPython.core.display.Markdown object>"
      ]
     },
     "metadata": {},
     "output_type": "display_data"
    }
   ],
   "source": [
    "show_doc_from_name('fastai_v1.nb_002','affines_mat')"
   ]
  },
  {
   "cell_type": "markdown",
   "metadata": {},
   "source": []
  },
  {
   "cell_type": "code",
   "execution_count": 5,
   "metadata": {
    "hide_input": true
   },
   "outputs": [
    {
     "data": {
      "text/markdown": [
       "<a id=brightness_tfm></a>**brightness_tfm**"
      ],
      "text/plain": [
       "<IPython.core.display.Markdown object>"
      ]
     },
     "metadata": {},
     "output_type": "display_data"
    }
   ],
   "source": [
    "show_doc_from_name('fastai_v1.nb_002','brightness_tfm')"
   ]
  },
  {
   "cell_type": "markdown",
   "metadata": {},
   "source": []
  },
  {
   "cell_type": "code",
   "execution_count": 6,
   "metadata": {
    "hide_input": true
   },
   "outputs": [
    {
     "data": {
      "text/markdown": [
       "<a id=compose></a>**compose**\n",
       "\n",
       "Arguments:\n",
       "- **funcs**\n"
      ],
      "text/plain": [
       "<IPython.core.display.Markdown object>"
      ]
     },
     "metadata": {},
     "output_type": "display_data"
    }
   ],
   "source": [
    "show_doc_from_name('fastai_v1.nb_002','compose')"
   ]
  },
  {
   "cell_type": "markdown",
   "metadata": {},
   "source": []
  },
  {
   "cell_type": "code",
   "execution_count": 7,
   "metadata": {
    "hide_input": true
   },
   "outputs": [
    {
     "data": {
      "text/markdown": [
       "<a id=contrast_tfm></a>**contrast_tfm**"
      ],
      "text/plain": [
       "<IPython.core.display.Markdown object>"
      ]
     },
     "metadata": {},
     "output_type": "display_data"
    }
   ],
   "source": [
    "show_doc_from_name('fastai_v1.nb_002','contrast_tfm')"
   ]
  },
  {
   "cell_type": "markdown",
   "metadata": {},
   "source": []
  },
  {
   "cell_type": "code",
   "execution_count": 8,
   "metadata": {
    "hide_input": true
   },
   "outputs": [
    {
     "data": {
      "text/markdown": [
       "<a id=dict_groupby></a>**dict_groupby**\n",
       "\n",
       "Arguments:\n",
       "- **iterable**\n",
       "- **key**, *default None*\n"
      ],
      "text/plain": [
       "<IPython.core.display.Markdown object>"
      ]
     },
     "metadata": {},
     "output_type": "display_data"
    }
   ],
   "source": [
    "show_doc_from_name('fastai_v1.nb_002','dict_groupby')"
   ]
  },
  {
   "cell_type": "markdown",
   "metadata": {},
   "source": []
  },
  {
   "cell_type": "code",
   "execution_count": 9,
   "metadata": {
    "hide_input": true
   },
   "outputs": [
    {
     "data": {
      "text/markdown": [
       "<a id=FakeTestClass></a>**FakeTestClass**\n",
       "\n",
       "Arguments:\n",
       "- **a** (int)\n",
       "- **b** (float), *default 2*\n",
       "\n",
       "This is the doc string of FakeTestClass."
      ],
      "text/plain": [
       "<IPython.core.display.Markdown object>"
      ]
     },
     "metadata": {},
     "output_type": "display_data"
    }
   ],
   "source": [
    "show_doc_from_name('fastai_v1.nb_002','FakeTestClass')"
   ]
  },
  {
   "cell_type": "markdown",
   "metadata": {},
   "source": []
  },
  {
   "cell_type": "code",
   "execution_count": 10,
   "metadata": {
    "hide_input": true
   },
   "outputs": [
    {
     "data": {
      "text/markdown": [
       "<a id=FakeTestClass.prod></a>**FakeTestClass.prod** (-> float)\n",
       "\n",
       "Arguments:\n",
       "- **self**\n"
      ],
      "text/plain": [
       "<IPython.core.display.Markdown object>"
      ]
     },
     "metadata": {},
     "output_type": "display_data"
    }
   ],
   "source": [
    "show_doc_from_name('fastai_v1.nb_002','FakeTestClass.prod')"
   ]
  },
  {
   "cell_type": "markdown",
   "metadata": {},
   "source": []
  },
  {
   "cell_type": "code",
   "execution_count": 11,
   "metadata": {
    "hide_input": true
   },
   "outputs": [
    {
     "data": {
      "text/markdown": [
       "<a id=FakeTestClass.set_a></a>**FakeTestClass.set_a**\n",
       "\n",
       "Arguments:\n",
       "- **self**\n",
       "- **x** (float)\n"
      ],
      "text/plain": [
       "<IPython.core.display.Markdown object>"
      ]
     },
     "metadata": {},
     "output_type": "display_data"
    }
   ],
   "source": [
    "show_doc_from_name('fastai_v1.nb_002','FakeTestClass.set_a')"
   ]
  },
  {
   "cell_type": "markdown",
   "metadata": {},
   "source": []
  },
  {
   "cell_type": "code",
   "execution_count": 12,
   "metadata": {
    "hide_input": true
   },
   "outputs": [
    {
     "data": {
      "text/markdown": [
       "<a id=FakeTestClass.set_b></a>**FakeTestClass.set_b**\n",
       "\n",
       "Arguments:\n",
       "- **self**\n",
       "- **x** (float)\n"
      ],
      "text/plain": [
       "<IPython.core.display.Markdown object>"
      ]
     },
     "metadata": {},
     "output_type": "display_data"
    }
   ],
   "source": [
    "show_doc_from_name('fastai_v1.nb_002','FakeTestClass.set_b')"
   ]
  },
  {
   "cell_type": "markdown",
   "metadata": {},
   "source": []
  },
  {
   "cell_type": "code",
   "execution_count": 13,
   "metadata": {
    "hide_input": true
   },
   "outputs": [
    {
     "data": {
      "text/markdown": [
       "<a id=FakeTestClass.sum></a>**FakeTestClass.sum** (-> float)\n",
       "\n",
       "Arguments:\n",
       "- **self**\n"
      ],
      "text/plain": [
       "<IPython.core.display.Markdown object>"
      ]
     },
     "metadata": {},
     "output_type": "display_data"
    }
   ],
   "source": [
    "show_doc_from_name('fastai_v1.nb_002','FakeTestClass.sum')"
   ]
  },
  {
   "cell_type": "markdown",
   "metadata": {},
   "source": []
  },
  {
   "cell_type": "code",
   "execution_count": 14,
   "metadata": {
    "hide_input": true
   },
   "outputs": [
    {
     "data": {
      "text/markdown": [
       "<a id=FilesDataset></a>**FilesDataset**(subclass of <class 'torch.utils.data.dataset.Dataset'>)\n",
       "\n",
       "Arguments:\n",
       "- **folder**\n",
       "- **classes**, *default None*\n",
       "\n",
       "An abstract class representing a Dataset.\n",
       "\n",
       "All other datasets should subclass it. All subclasses should override\n",
       "``__len__``, that provides the size of the dataset, and ``__getitem__``,\n",
       "supporting integer indexing in range from 0 to len(self) exclusive."
      ],
      "text/plain": [
       "<IPython.core.display.Markdown object>"
      ]
     },
     "metadata": {},
     "output_type": "display_data"
    }
   ],
   "source": [
    "show_doc_from_name('fastai_v1.nb_002','FilesDataset')"
   ]
  },
  {
   "cell_type": "markdown",
   "metadata": {},
   "source": []
  },
  {
   "cell_type": "code",
   "execution_count": 15,
   "metadata": {
    "hide_input": true
   },
   "outputs": [
    {
     "data": {
      "text/markdown": [
       "<a id=find_classes></a>**find_classes**\n",
       "\n",
       "Arguments:\n",
       "- **folder**\n"
      ],
      "text/plain": [
       "<IPython.core.display.Markdown object>"
      ]
     },
     "metadata": {},
     "output_type": "display_data"
    }
   ],
   "source": [
    "show_doc_from_name('fastai_v1.nb_002','find_classes')"
   ]
  },
  {
   "cell_type": "markdown",
   "metadata": {},
   "source": []
  },
  {
   "cell_type": "code",
   "execution_count": 16,
   "metadata": {
    "hide_input": true
   },
   "outputs": [
    {
     "data": {
      "text/markdown": [
       "<a id=flip_lr_tfm></a>**flip_lr_tfm**"
      ],
      "text/plain": [
       "<IPython.core.display.Markdown object>"
      ]
     },
     "metadata": {},
     "output_type": "display_data"
    }
   ],
   "source": [
    "show_doc_from_name('fastai_v1.nb_002','flip_lr_tfm')"
   ]
  },
  {
   "cell_type": "markdown",
   "metadata": {},
   "source": []
  },
  {
   "cell_type": "code",
   "execution_count": 17,
   "metadata": {
    "hide_input": true
   },
   "outputs": [
    {
     "data": {
      "text/markdown": [
       "<a id=get_default_args></a>**get_default_args**\n",
       "\n",
       "Arguments:\n",
       "- **func**\n"
      ],
      "text/plain": [
       "<IPython.core.display.Markdown object>"
      ]
     },
     "metadata": {},
     "output_type": "display_data"
    }
   ],
   "source": [
    "show_doc_from_name('fastai_v1.nb_002','get_default_args')"
   ]
  },
  {
   "cell_type": "markdown",
   "metadata": {},
   "source": []
  },
  {
   "cell_type": "code",
   "execution_count": 18,
   "metadata": {
    "hide_input": true
   },
   "outputs": [
    {
     "data": {
      "text/markdown": [
       "<a id=get_image_files></a>**get_image_files**\n",
       "\n",
       "Arguments:\n",
       "- **c**\n"
      ],
      "text/plain": [
       "<IPython.core.display.Markdown object>"
      ]
     },
     "metadata": {},
     "output_type": "display_data"
    }
   ],
   "source": [
    "show_doc_from_name('fastai_v1.nb_002','get_image_files')"
   ]
  },
  {
   "cell_type": "markdown",
   "metadata": {},
   "source": []
  },
  {
   "cell_type": "code",
   "execution_count": 19,
   "metadata": {
    "hide_input": true
   },
   "outputs": [
    {
     "data": {
      "text/markdown": [
       "<a id=grid_sample></a>**grid_sample**\n",
       "\n",
       "Arguments:\n",
       "- **x**\n",
       "- **coords**\n",
       "- **mode**, *default bilinear*\n",
       "- **padding_mode**, *default reflect*\n"
      ],
      "text/plain": [
       "<IPython.core.display.Markdown object>"
      ]
     },
     "metadata": {},
     "output_type": "display_data"
    }
   ],
   "source": [
    "show_doc_from_name('fastai_v1.nb_002','grid_sample')"
   ]
  },
  {
   "cell_type": "markdown",
   "metadata": {},
   "source": []
  },
  {
   "cell_type": "code",
   "execution_count": 20,
   "metadata": {
    "hide_input": true
   },
   "outputs": [
    {
     "data": {
      "text/markdown": [
       "<a id=image2np></a>**image2np**\n",
       "\n",
       "Arguments:\n",
       "- **image**\n"
      ],
      "text/plain": [
       "<IPython.core.display.Markdown object>"
      ]
     },
     "metadata": {},
     "output_type": "display_data"
    }
   ],
   "source": [
    "show_doc_from_name('fastai_v1.nb_002','image2np')"
   ]
  },
  {
   "cell_type": "markdown",
   "metadata": {},
   "source": []
  },
  {
   "cell_type": "code",
   "execution_count": 21,
   "metadata": {
    "hide_input": true
   },
   "outputs": [
    {
     "data": {
      "text/markdown": [
       "<a id=jitter_tfm></a>**jitter_tfm**"
      ],
      "text/plain": [
       "<IPython.core.display.Markdown object>"
      ]
     },
     "metadata": {},
     "output_type": "display_data"
    }
   ],
   "source": [
    "show_doc_from_name('fastai_v1.nb_002','jitter_tfm')"
   ]
  },
  {
   "cell_type": "markdown",
   "metadata": {},
   "source": []
  },
  {
   "cell_type": "code",
   "execution_count": 22,
   "metadata": {
    "hide_input": true
   },
   "outputs": [
    {
     "data": {
      "text/markdown": [
       "<a id=listify></a>**listify**\n",
       "\n",
       "Arguments:\n",
       "- **p**, *default None*\n",
       "- **q**, *default None*\n"
      ],
      "text/plain": [
       "<IPython.core.display.Markdown object>"
      ]
     },
     "metadata": {},
     "output_type": "display_data"
    }
   ],
   "source": [
    "show_doc_from_name('fastai_v1.nb_002','listify')"
   ]
  },
  {
   "cell_type": "markdown",
   "metadata": {},
   "source": []
  },
  {
   "cell_type": "code",
   "execution_count": 23,
   "metadata": {
    "hide_input": true
   },
   "outputs": [
    {
     "data": {
      "text/markdown": [
       "<a id=log_uniform></a>**log_uniform**\n",
       "\n",
       "Arguments:\n",
       "- **low**\n",
       "- **high**\n",
       "- **size**, *default None*\n"
      ],
      "text/plain": [
       "<IPython.core.display.Markdown object>"
      ]
     },
     "metadata": {},
     "output_type": "display_data"
    }
   ],
   "source": [
    "show_doc_from_name('fastai_v1.nb_002','log_uniform')"
   ]
  },
  {
   "cell_type": "markdown",
   "metadata": {},
   "source": []
  },
  {
   "cell_type": "code",
   "execution_count": 24,
   "metadata": {
    "hide_input": true
   },
   "outputs": [
    {
     "data": {
      "text/markdown": [
       "<a id=logit></a>**logit**\n",
       "\n",
       "Arguments:\n",
       "- **x**\n"
      ],
      "text/plain": [
       "<IPython.core.display.Markdown object>"
      ]
     },
     "metadata": {},
     "output_type": "display_data"
    }
   ],
   "source": [
    "show_doc_from_name('fastai_v1.nb_002','logit')"
   ]
  },
  {
   "cell_type": "markdown",
   "metadata": {},
   "source": []
  },
  {
   "cell_type": "code",
   "execution_count": 25,
   "metadata": {
    "hide_input": true
   },
   "outputs": [
    {
     "data": {
      "text/markdown": [
       "<a id=logit_></a>**logit_**\n",
       "\n",
       "Arguments:\n",
       "- **x**\n"
      ],
      "text/plain": [
       "<IPython.core.display.Markdown object>"
      ]
     },
     "metadata": {},
     "output_type": "display_data"
    }
   ],
   "source": [
    "show_doc_from_name('fastai_v1.nb_002','logit_')"
   ]
  },
  {
   "cell_type": "markdown",
   "metadata": {},
   "source": []
  },
  {
   "cell_type": "code",
   "execution_count": 26,
   "metadata": {
    "hide_input": true
   },
   "outputs": [
    {
     "data": {
      "text/markdown": [
       "<a id=pil2tensor></a>**pil2tensor**\n",
       "\n",
       "Arguments:\n",
       "- **image**\n"
      ],
      "text/plain": [
       "<IPython.core.display.Markdown object>"
      ]
     },
     "metadata": {},
     "output_type": "display_data"
    }
   ],
   "source": [
    "show_doc_from_name('fastai_v1.nb_002','pil2tensor')"
   ]
  },
  {
   "cell_type": "markdown",
   "metadata": {},
   "source": []
  },
  {
   "cell_type": "code",
   "execution_count": 27,
   "metadata": {
    "hide_input": true
   },
   "outputs": [
    {
     "data": {
      "text/markdown": [
       "<a id=rand_bool></a>**rand_bool**\n",
       "\n",
       "Arguments:\n",
       "- **p**\n",
       "- **size**, *default None*\n"
      ],
      "text/plain": [
       "<IPython.core.display.Markdown object>"
      ]
     },
     "metadata": {},
     "output_type": "display_data"
    }
   ],
   "source": [
    "show_doc_from_name('fastai_v1.nb_002','rand_bool')"
   ]
  },
  {
   "cell_type": "markdown",
   "metadata": {},
   "source": []
  },
  {
   "cell_type": "code",
   "execution_count": 28,
   "metadata": {
    "hide_input": true
   },
   "outputs": [
    {
     "data": {
      "text/markdown": [
       "<a id=reg_affine></a>**reg_affine**\n",
       "\n",
       "Arguments:\n",
       "- **func**\n"
      ],
      "text/plain": [
       "<IPython.core.display.Markdown object>"
      ]
     },
     "metadata": {},
     "output_type": "display_data"
    }
   ],
   "source": [
    "show_doc_from_name('fastai_v1.nb_002','reg_affine')"
   ]
  },
  {
   "cell_type": "markdown",
   "metadata": {},
   "source": []
  },
  {
   "cell_type": "code",
   "execution_count": 29,
   "metadata": {
    "hide_input": true
   },
   "outputs": [
    {
     "data": {
      "text/markdown": [
       "<a id=reg_transform></a>**reg_transform**\n",
       "\n",
       "Arguments:\n",
       "- **func**\n"
      ],
      "text/plain": [
       "<IPython.core.display.Markdown object>"
      ]
     },
     "metadata": {},
     "output_type": "display_data"
    }
   ],
   "source": [
    "show_doc_from_name('fastai_v1.nb_002','reg_transform')"
   ]
  },
  {
   "cell_type": "markdown",
   "metadata": {},
   "source": []
  },
  {
   "cell_type": "code",
   "execution_count": 30,
   "metadata": {
    "hide_input": true
   },
   "outputs": [
    {
     "data": {
      "text/markdown": [
       "<a id=rotate_tfm></a>**rotate_tfm**"
      ],
      "text/plain": [
       "<IPython.core.display.Markdown object>"
      ]
     },
     "metadata": {},
     "output_type": "display_data"
    }
   ],
   "source": [
    "show_doc_from_name('fastai_v1.nb_002','rotate_tfm')"
   ]
  },
  {
   "cell_type": "markdown",
   "metadata": {},
   "source": []
  },
  {
   "cell_type": "code",
   "execution_count": 31,
   "metadata": {
    "hide_input": true
   },
   "outputs": [
    {
     "data": {
      "text/markdown": [
       "<a id=show_image></a>**show_image**\n",
       "\n",
       "Arguments:\n",
       "- **img**\n",
       "- **ax**, *default None*\n",
       "- **figsize**, *default (3, 3)*\n",
       "- **hide_axis**, *default True*\n"
      ],
      "text/plain": [
       "<IPython.core.display.Markdown object>"
      ]
     },
     "metadata": {},
     "output_type": "display_data"
    }
   ],
   "source": [
    "show_doc_from_name('fastai_v1.nb_002','show_image')"
   ]
  },
  {
   "cell_type": "markdown",
   "metadata": {},
   "source": []
  },
  {
   "cell_type": "code",
   "execution_count": 32,
   "metadata": {
    "hide_input": true
   },
   "outputs": [
    {
     "data": {
      "text/markdown": [
       "<a id=show_image_batch></a>**show_image_batch**\n",
       "\n",
       "Arguments:\n",
       "- **dl**\n",
       "- **classes**\n",
       "- **rows**, *default None*\n",
       "- **figsize**, *default (12, 15)*\n"
      ],
      "text/plain": [
       "<IPython.core.display.Markdown object>"
      ]
     },
     "metadata": {},
     "output_type": "display_data"
    }
   ],
   "source": [
    "show_doc_from_name('fastai_v1.nb_002','show_image_batch')"
   ]
  },
  {
   "cell_type": "markdown",
   "metadata": {},
   "source": []
  },
  {
   "cell_type": "code",
   "execution_count": 33,
   "metadata": {
    "hide_input": true
   },
   "outputs": [
    {
     "data": {
      "text/markdown": [
       "<a id=show_images></a>**show_images**\n",
       "\n",
       "Arguments:\n",
       "- **x**\n",
       "- **y**\n",
       "- **rows**\n",
       "- **classes**\n",
       "- **figsize**, *default (9, 9)*\n"
      ],
      "text/plain": [
       "<IPython.core.display.Markdown object>"
      ]
     },
     "metadata": {},
     "output_type": "display_data"
    }
   ],
   "source": [
    "show_doc_from_name('fastai_v1.nb_002','show_images')"
   ]
  },
  {
   "cell_type": "markdown",
   "metadata": {},
   "source": []
  },
  {
   "cell_type": "code",
   "execution_count": 34,
   "metadata": {
    "hide_input": true
   },
   "outputs": [
    {
     "data": {
      "text/markdown": [
       "<a id=TfmType></a>**TfmType** (enumerator class)\n",
       "\n",
       "Values:\n",
       "- **Start**\n",
       "- **Affine**\n",
       "- **Coord**\n",
       "- **Pixel**\n",
       "- **Lighting**\n",
       "\n",
       "An enumeration."
      ],
      "text/plain": [
       "<IPython.core.display.Markdown object>"
      ]
     },
     "metadata": {},
     "output_type": "display_data"
    }
   ],
   "source": [
    "show_doc_from_name('fastai_v1.nb_002','TfmType')"
   ]
  },
  {
   "cell_type": "markdown",
   "metadata": {},
   "source": []
  },
  {
   "cell_type": "code",
   "execution_count": 35,
   "metadata": {
    "hide_input": true
   },
   "outputs": [
    {
     "data": {
      "text/markdown": [
       "<a id=uniform></a>**uniform**\n",
       "\n",
       "Arguments:\n",
       "- **low**\n",
       "- **high**\n",
       "- **size**, *default None*\n"
      ],
      "text/plain": [
       "<IPython.core.display.Markdown object>"
      ]
     },
     "metadata": {},
     "output_type": "display_data"
    }
   ],
   "source": [
    "show_doc_from_name('fastai_v1.nb_002','uniform')"
   ]
  },
  {
   "cell_type": "markdown",
   "metadata": {},
   "source": []
  },
  {
   "cell_type": "code",
   "execution_count": 36,
   "metadata": {
    "hide_input": true
   },
   "outputs": [
    {
     "data": {
      "text/markdown": [
       "<a id=zoom_tfm></a>**zoom_tfm**"
      ],
      "text/plain": [
       "<IPython.core.display.Markdown object>"
      ]
     },
     "metadata": {},
     "output_type": "display_data"
    }
   ],
   "source": [
    "show_doc_from_name('fastai_v1.nb_002','zoom_tfm')"
   ]
  },
  {
   "cell_type": "markdown",
   "metadata": {},
   "source": []
  }
 ],
 "metadata": {
  "kernelspec": {
   "display_name": "Python 3",
   "language": "python",
   "name": "python3"
  },
  "language_info": {
   "codemirror_mode": {
    "name": "ipython",
    "version": 3
   },
   "file_extension": ".py",
   "mimetype": "text/x-python",
   "name": "python",
   "nbconvert_exporter": "python",
   "pygments_lexer": "ipython3",
   "version": "3.6.6"
  }
 },
 "nbformat": 4,
 "nbformat_minor": 2
}
