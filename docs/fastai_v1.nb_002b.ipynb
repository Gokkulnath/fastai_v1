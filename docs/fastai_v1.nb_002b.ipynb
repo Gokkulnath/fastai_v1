{
 "cells": [
  {
   "cell_type": "markdown",
   "metadata": {},
   "source": [
    "# fastai_v1.nb_002b"
   ]
  },
  {
   "cell_type": "markdown",
   "metadata": {},
   "source": [
    "Type an introduction of the package here."
   ]
  },
  {
   "cell_type": "code",
   "execution_count": 1,
   "metadata": {
    "hide_input": true
   },
   "outputs": [],
   "source": [
    "from nbdoc import * "
   ]
  },
  {
   "cell_type": "code",
   "execution_count": 2,
   "metadata": {
    "hide_input": true
   },
   "outputs": [
    {
     "data": {
      "text/markdown": [
       "- [crop](#crop)\n",
       "- [DataBunch](#DataBunch)\n",
       "- [denormalize](#denormalize)\n",
       "- [normalize](#normalize)\n",
       "- [pad](#pad)\n",
       "- [TfmDataset](#TfmDataset)\n"
      ],
      "text/plain": [
       "<IPython.core.display.Markdown object>"
      ]
     },
     "metadata": {},
     "output_type": "display_data"
    }
   ],
   "source": [
    "get_module_toc(\"fastai_v1.nb_002b\")"
   ]
  },
  {
   "cell_type": "code",
   "execution_count": 3,
   "metadata": {
    "hide_input": true
   },
   "outputs": [
    {
     "data": {
      "text/markdown": [
       "<a id=crop></a>**crop** (-> TfmType.Pixel)\n",
       "\n",
       "Arguments:\n",
       "- **x**\n",
       "- **size**\n",
       "- **row_pct** (uniform)\n",
       "- **col_pct** (uniform)\n"
      ],
      "text/plain": [
       "<IPython.core.display.Markdown object>"
      ]
     },
     "metadata": {},
     "output_type": "display_data"
    }
   ],
   "source": [
    "show_doc_from_name('fastai_v1.nb_002b','crop')"
   ]
  },
  {
   "cell_type": "markdown",
   "metadata": {},
   "source": []
  },
  {
   "cell_type": "code",
   "execution_count": 4,
   "metadata": {
    "hide_input": true
   },
   "outputs": [
    {
     "data": {
      "text/markdown": [
       "<a id=DataBunch></a>**DataBunch**\n",
       "\n",
       "Arguments:\n",
       "- **train_ds**\n",
       "- **valid_ds**\n",
       "- **bs**, *default 64*\n",
       "- **device**, *default None*\n",
       "- **train_tfm**, *default None*\n",
       "- **valid_tfm**, *default None*\n",
       "- **num_workers**, *default 4*\n"
      ],
      "text/plain": [
       "<IPython.core.display.Markdown object>"
      ]
     },
     "metadata": {},
     "output_type": "display_data"
    }
   ],
   "source": [
    "show_doc_from_name('fastai_v1.nb_002b','DataBunch')"
   ]
  },
  {
   "cell_type": "markdown",
   "metadata": {},
   "source": []
  },
  {
   "cell_type": "code",
   "execution_count": 5,
   "metadata": {
    "hide_input": true
   },
   "outputs": [
    {
     "data": {
      "text/markdown": [
       "<a id=denormalize></a>**denormalize**\n",
       "\n",
       "Arguments:\n",
       "- **x**\n",
       "- **mean**\n",
       "- **std**\n"
      ],
      "text/plain": [
       "<IPython.core.display.Markdown object>"
      ]
     },
     "metadata": {},
     "output_type": "display_data"
    }
   ],
   "source": [
    "show_doc_from_name('fastai_v1.nb_002b','denormalize')"
   ]
  },
  {
   "cell_type": "markdown",
   "metadata": {},
   "source": []
  },
  {
   "cell_type": "code",
   "execution_count": 6,
   "metadata": {
    "hide_input": true
   },
   "outputs": [
    {
     "data": {
      "text/markdown": [
       "<a id=normalize></a>**normalize** (-> TfmType.Pixel)\n",
       "\n",
       "Arguments:\n",
       "- **x**\n",
       "- **mean**\n",
       "- **std**\n"
      ],
      "text/plain": [
       "<IPython.core.display.Markdown object>"
      ]
     },
     "metadata": {},
     "output_type": "display_data"
    }
   ],
   "source": [
    "show_doc_from_name('fastai_v1.nb_002b','normalize')"
   ]
  },
  {
   "cell_type": "markdown",
   "metadata": {},
   "source": []
  },
  {
   "cell_type": "code",
   "execution_count": 7,
   "metadata": {
    "hide_input": true
   },
   "outputs": [
    {
     "data": {
      "text/markdown": [
       "<a id=pad></a>**pad** (-> TfmType.Start)\n",
       "\n",
       "Arguments:\n",
       "- **x**\n",
       "- **padding**\n",
       "- **mode**, *default reflect*\n"
      ],
      "text/plain": [
       "<IPython.core.display.Markdown object>"
      ]
     },
     "metadata": {},
     "output_type": "display_data"
    }
   ],
   "source": [
    "show_doc_from_name('fastai_v1.nb_002b','pad')"
   ]
  },
  {
   "cell_type": "markdown",
   "metadata": {},
   "source": []
  },
  {
   "cell_type": "code",
   "execution_count": 8,
   "metadata": {
    "hide_input": true
   },
   "outputs": [
    {
     "data": {
      "text/markdown": [
       "<a id=TfmDataset></a>**TfmDataset**(subclass of <class 'torch.utils.data.dataset.Dataset'>) (-> None)\n",
       "\n",
       "Arguments:\n",
       "- **ds** (Dataset)\n",
       "- **tfms** (Collection), *default None*\n",
       "\n",
       "TfmDataset(ds:torch.utils.data.dataset.Dataset, tfms:Collection[Callable]=None)"
      ],
      "text/plain": [
       "<IPython.core.display.Markdown object>"
      ]
     },
     "metadata": {},
     "output_type": "display_data"
    }
   ],
   "source": [
    "show_doc_from_name('fastai_v1.nb_002b','TfmDataset')"
   ]
  },
  {
   "cell_type": "markdown",
   "metadata": {},
   "source": []
  }
 ],
 "metadata": {
  "kernelspec": {
   "display_name": "Python 3",
   "language": "python",
   "name": "python3"
  },
  "language_info": {
   "codemirror_mode": {
    "name": "ipython",
    "version": 3
   },
   "file_extension": ".py",
   "mimetype": "text/x-python",
   "name": "python",
   "nbconvert_exporter": "python",
   "pygments_lexer": "ipython3",
   "version": "3.6.6"
  }
 },
 "nbformat": 4,
 "nbformat_minor": 2
}
