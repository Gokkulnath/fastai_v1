{
 "cells": [
  {
   "cell_type": "code",
   "execution_count": null,
   "metadata": {},
   "outputs": [],
   "source": [
    "%load_ext autoreload\n",
    "%autoreload 2"
   ]
  },
  {
   "cell_type": "markdown",
   "metadata": {},
   "source": [
    "## Sidebar creation thingy"
   ]
  },
  {
   "cell_type": "markdown",
   "metadata": {},
   "source": [
    "Just a little tool to create the jekyll sidebar from a manually created dict. Here's the dict defining the structure:"
   ]
  },
  {
   "cell_type": "code",
   "execution_count": null,
   "metadata": {},
   "outputs": [],
   "source": [
    "test_d = {\n",
    "    'Core': {\n",
    "        'overview': 'overview.html',\n",
    "    },\n",
    "    'Training': {\n",
    "        'callbacks': {\n",
    "            'overview': 'callbacks.html',\n",
    "            'callbacks.rnn': 'callbacks.rnn.html',\n",
    "        },\n",
    "    },\n",
    "}"
   ]
  },
  {
   "cell_type": "code",
   "execution_count": null,
   "metadata": {},
   "outputs": [],
   "source": [
    "sidebar_d = {\n",
    "    'Core': {\n",
    "        'Overview': 'overview.html',\n",
    "        'core': 'core.html',\n",
    "        'torch_core': 'torch_core.html',\n",
    "        'imports': 'imports.html',\n",
    "        'data': 'data.html',\n",
    "        'layers': 'layers.html',\n",
    "        '': {\n",
    "            'models': {\n",
    "                'Overview': 'models.html',\n",
    "                'models.rnn': 'models.rnn.html',\n",
    "                'models.unet': 'models.unet.html'\n",
    "            }\n",
    "        }\n",
    "    },\n",
    "    'Training': {\n",
    "        'Overview': 'training.html',\n",
    "        'basic_train': 'basic_train.html',\n",
    "        'train': 'train.html',\n",
    "        'metrics': 'metrics.html',\n",
    "        'callback': 'callback.html',\n",
    "        '': {\n",
    "            'callbacks': {\n",
    "                'Overview': 'callbacks.html',\n",
    "                'HookCallback': 'callbacks.hooks.html',\n",
    "                'MixedPrecision': 'callbacks.fp16.html',\n",
    "                'OneCycleScheduler': 'callbacks.one_cycle.html',\n",
    "                'LRFinder': 'callbacks.lr_finder.html',\n",
    "                'MixUpCallback': 'callbacks.mixup.html',\n",
    "                'RNNTrainer': 'callbacks.rnn.html',\n",
    "                'GeneralScheduler': 'callbacks.general_sched.html',\n",
    "            }\n",
    "        },\n",
    "    },  \n",
    "    'Applications': {\n",
    "        'Overview': 'applications.html',\n",
    "        'colab': 'colab.html',\n",
    "        '': {\n",
    "            'vision': {\n",
    "                'Overview': 'vision.html',\n",
    "                'vision.learner': 'vision.learner.html',\n",
    "                'vision.transform': 'vision.transform.html',\n",
    "                'vision.image': 'vision.image.html',\n",
    "                'vision.data': 'vision.data.html',\n",
    "            }\n",
    "        },\n",
    "        'empty1': {\n",
    "            'text': {\n",
    "                'Overview': 'text.html',\n",
    "                'text.learner': 'text.learner.html',\n",
    "                'text.transform': 'text.transform.html',\n",
    "                'text.data': 'text.data.html',\n",
    "            },\n",
    "        },\n",
    "        'empty2': {\n",
    "            'tabular': {\n",
    "                'Overview': 'tabular.html',\n",
    "                'tabular.transform': 'tabular.transform.html',\n",
    "                'tabular.data': 'tabular.data.html',\n",
    "            },\n",
    "        },\n",
    "    },\n",
    "    'Doc authoring': {\n",
    "        'Overview': 'gen_doc.html',\n",
    "        'gen_doc.gen_notebooks': 'gen_doc.gen_notebooks.html',\n",
    "        'gen_doc.sgen_notebooks': 'gen_doc.sgen_notebooks.html',\n",
    "        'gen_doc.nbdoc': 'gen_doc.nbdoc.html',\n",
    "        'gen_doc.convert2html': 'gen_doc.convert2html.html',\n",
    "    },\n",
    "    'Library development': {\n",
    "        'Overview': 'developers.html',\n",
    "        'Typing': 'fastai_typing.html',\n",
    "        'Style guide': 'style.html',\n",
    "        'Abbreviation': 'abbr.html',\n",
    "    }\n",
    "}"
   ]
  },
  {
   "cell_type": "code",
   "execution_count": null,
   "metadata": {},
   "outputs": [],
   "source": [
    "import yaml\n",
    "\n",
    "def _leaf(k,v):\n",
    "    return {'title':k, 'url':v, 'output':'web'}\n",
    "\n",
    "_k_names = ['folders', 'folderitems', 'subfolders', 'subfolderitems']\n",
    "def _side_dict(title, data, level=0):\n",
    "    k_name = _k_names[level]\n",
    "    level += 1\n",
    "    res = [(_side_dict(k, v, level) if isinstance(v,dict) else _leaf(k,v))\n",
    "        for k,v in data.items()]\n",
    "    \n",
    "    return ({k_name:res} if not title\n",
    "            else res if title.startswith('empty')\n",
    "            else {'title': title, 'output':'web', k_name: res})"
   ]
  },
  {
   "cell_type": "code",
   "execution_count": null,
   "metadata": {},
   "outputs": [],
   "source": [
    "res = _side_dict('Sidebar', sidebar_d)\n",
    "res = {'entries': [res]}\n",
    "res_s = yaml.dump(res, default_flow_style=False)\n",
    "res_s = res_s.replace('- subfolders:', '  subfolders:').replace(' - - ', '   - ')"
   ]
  },
  {
   "cell_type": "code",
   "execution_count": null,
   "metadata": {},
   "outputs": [
    {
     "data": {
      "text/plain": [
       "4177"
      ]
     },
     "execution_count": null,
     "metadata": {},
     "output_type": "execute_result"
    }
   ],
   "source": [
    "open('../../docs/_data/sidebars/home_sidebar.yml', 'w').write(res_s)"
   ]
  },
  {
   "cell_type": "code",
   "execution_count": null,
   "metadata": {},
   "outputs": [],
   "source": []
  }
 ],
 "metadata": {
  "kernelspec": {
   "display_name": "Python 3",
   "language": "python",
   "name": "python3"
  }
 },
 "nbformat": 4,
 "nbformat_minor": 2
}
