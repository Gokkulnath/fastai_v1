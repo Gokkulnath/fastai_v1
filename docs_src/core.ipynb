{
 "cells": [
  {
   "cell_type": "markdown",
   "metadata": {},
   "source": "# core"
  },
  {
   "cell_type": "markdown",
   "metadata": {},
   "source": "Type an introduction of the package here."
  },
  {
   "cell_type": "code",
   "execution_count": null,
   "metadata": {
    "hide_input": true
   },
   "outputs": [],
   "source": "from fastai.gen_doc.nbdoc import *\nfrom fastai.core import * "
  },
  {
   "cell_type": "markdown",
   "metadata": {},
   "source": "### Global Variable Definitions:"
  },
  {
   "cell_type": "markdown",
   "metadata": {},
   "source": "`AnnealFunc = Callable[[Number,Number,float], Number]` <div style=\"text-align: right\"><a href=\"https://github.com/fastai/fastai_pytorch/blob/master/fastai/core.py#L6\">[source]</a></div>"
  },
  {
   "cell_type": "markdown",
   "metadata": {},
   "source": "`ArgStar = Collection[Any]` <div style=\"text-align: right\"><a href=\"https://github.com/fastai/fastai_pytorch/blob/master/fastai/core.py#L7\">[source]</a></div>"
  },
  {
   "cell_type": "markdown",
   "metadata": {},
   "source": "`BatchSamples = Collection[Tuple[Collection[int], int]]` <div style=\"text-align: right\"><a href=\"https://github.com/fastai/fastai_pytorch/blob/master/fastai/core.py#L8\">[source]</a></div>"
  },
  {
   "cell_type": "markdown",
   "metadata": {},
   "source": "`Classes = Collection[Any]` <div style=\"text-align: right\"><a href=\"https://github.com/fastai/fastai_pytorch/blob/master/fastai/core.py#L9\">[source]</a></div>"
  },
  {
   "cell_type": "markdown",
   "metadata": {},
   "source": "`FilePathList = Collection[Path]` <div style=\"text-align: right\"><a href=\"https://github.com/fastai/fastai_pytorch/blob/master/fastai/core.py#L10\">[source]</a></div>"
  },
  {
   "cell_type": "markdown",
   "metadata": {},
   "source": "`Floats = Union[float, Collection[float]]` <div style=\"text-align: right\"><a href=\"https://github.com/fastai/fastai_pytorch/blob/master/fastai/core.py#L11\">[source]</a></div>"
  },
  {
   "cell_type": "markdown",
   "metadata": {},
   "source": "`ImgLabel = str` <div style=\"text-align: right\"><a href=\"https://github.com/fastai/fastai_pytorch/blob/master/fastai/core.py#L12\">[source]</a></div>"
  },
  {
   "cell_type": "markdown",
   "metadata": {},
   "source": "`ImgLabels = Collection[ImgLabel]` <div style=\"text-align: right\"><a href=\"https://github.com/fastai/fastai_pytorch/blob/master/fastai/core.py#L13\">[source]</a></div>"
  },
  {
   "cell_type": "markdown",
   "metadata": {},
   "source": "`KWArgs = Dict[str,Any]` <div style=\"text-align: right\"><a href=\"https://github.com/fastai/fastai_pytorch/blob/master/fastai/core.py#L15\">[source]</a></div>"
  },
  {
   "cell_type": "markdown",
   "metadata": {},
   "source": "`KeyFunc = Callable[[int], int]` <div style=\"text-align: right\"><a href=\"https://github.com/fastai/fastai_pytorch/blob/master/fastai/core.py#L14\">[source]</a></div>"
  },
  {
   "cell_type": "markdown",
   "metadata": {},
   "source": "`ListOrItem = Union[Collection[Any],int,float,str]` <div style=\"text-align: right\"><a href=\"https://github.com/fastai/fastai_pytorch/blob/master/fastai/core.py#L16\">[source]</a></div>"
  },
  {
   "cell_type": "markdown",
   "metadata": {},
   "source": "`ListRules = Collection[Callable[[str],str]]` <div style=\"text-align: right\"><a href=\"https://github.com/fastai/fastai_pytorch/blob/master/fastai/core.py#L17\">[source]</a></div>"
  },
  {
   "cell_type": "markdown",
   "metadata": {},
   "source": "`ListSizes = Collection[Tuple[int,int]]` <div style=\"text-align: right\"><a href=\"https://github.com/fastai/fastai_pytorch/blob/master/fastai/core.py#L18\">[source]</a></div>"
  },
  {
   "cell_type": "markdown",
   "metadata": {},
   "source": "`NPArrayList = Collection[np.ndarray]` <div style=\"text-align: right\"><a href=\"https://github.com/fastai/fastai_pytorch/blob/master/fastai/core.py#L20\">[source]</a></div>"
  },
  {
   "cell_type": "markdown",
   "metadata": {},
   "source": "`NPArrayMask = np.ndarray` <div style=\"text-align: right\"><a href=\"https://github.com/fastai/fastai_pytorch/blob/master/fastai/core.py#L21\">[source]</a></div>"
  },
  {
   "cell_type": "markdown",
   "metadata": {},
   "source": "`NPArrayableList = Collection[Union[np.ndarray, list]]` <div style=\"text-align: right\"><a href=\"https://github.com/fastai/fastai_pytorch/blob/master/fastai/core.py#L19\">[source]</a></div>"
  },
  {
   "cell_type": "markdown",
   "metadata": {},
   "source": "`NPImage = np.ndarray` <div style=\"text-align: right\"><a href=\"https://github.com/fastai/fastai_pytorch/blob/master/fastai/core.py#L22\">[source]</a></div>"
  },
  {
   "cell_type": "markdown",
   "metadata": {},
   "source": "`OptDataFrame = Optional[DataFrame]` <div style=\"text-align: right\"><a href=\"https://github.com/fastai/fastai_pytorch/blob/master/fastai/core.py#L23\">[source]</a></div>"
  },
  {
   "cell_type": "markdown",
   "metadata": {},
   "source": "`OptListOrItem = Optional[ListOrItem]` <div style=\"text-align: right\"><a href=\"https://github.com/fastai/fastai_pytorch/blob/master/fastai/core.py#L24\">[source]</a></div>"
  },
  {
   "cell_type": "markdown",
   "metadata": {},
   "source": "`OptRange = Optional[Tuple[float,float]]` <div style=\"text-align: right\"><a href=\"https://github.com/fastai/fastai_pytorch/blob/master/fastai/core.py#L25\">[source]</a></div>"
  },
  {
   "cell_type": "markdown",
   "metadata": {},
   "source": "`OptStats = Optional[Tuple[np.ndarray, np.ndarray]]` <div style=\"text-align: right\"><a href=\"https://github.com/fastai/fastai_pytorch/blob/master/fastai/core.py#L27\">[source]</a></div>"
  },
  {
   "cell_type": "markdown",
   "metadata": {},
   "source": "`OptStrList = Optional[StrList]` <div style=\"text-align: right\"><a href=\"https://github.com/fastai/fastai_pytorch/blob/master/fastai/core.py#L38\">[source]</a></div>"
  },
  {
   "cell_type": "markdown",
   "metadata": {},
   "source": "`OptStrTuple = Optional[Tuple[str,str]]` <div style=\"text-align: right\"><a href=\"https://github.com/fastai/fastai_pytorch/blob/master/fastai/core.py#L26\">[source]</a></div>"
  },
  {
   "cell_type": "markdown",
   "metadata": {},
   "source": "`PBar = Union[MasterBar, ProgressBar]` <div style=\"text-align: right\"><a href=\"https://github.com/fastai/fastai_pytorch/blob/master/fastai/core.py#L29\">[source]</a></div>"
  },
  {
   "cell_type": "markdown",
   "metadata": {},
   "source": "`PathOrStr = Union[Path,str]` <div style=\"text-align: right\"><a href=\"https://github.com/fastai/fastai_pytorch/blob/master/fastai/core.py#L28\">[source]</a></div>"
  },
  {
   "cell_type": "markdown",
   "metadata": {},
   "source": "`Point=Tuple[float,float]` <div style=\"text-align: right\"><a href=\"https://github.com/fastai/fastai_pytorch/blob/master/fastai/core.py#L30\">[source]</a></div>"
  },
  {
   "cell_type": "markdown",
   "metadata": {},
   "source": "`Points=Collection[Point]` <div style=\"text-align: right\"><a href=\"https://github.com/fastai/fastai_pytorch/blob/master/fastai/core.py#L31\">[source]</a></div>"
  },
  {
   "cell_type": "markdown",
   "metadata": {},
   "source": "`Sizes = List[List[int]]` <div style=\"text-align: right\"><a href=\"https://github.com/fastai/fastai_pytorch/blob/master/fastai/core.py#L32\">[source]</a></div>"
  },
  {
   "cell_type": "markdown",
   "metadata": {},
   "source": "`SplitArrayList = List[Tuple[np.ndarray,np.ndarray]]` <div style=\"text-align: right\"><a href=\"https://github.com/fastai/fastai_pytorch/blob/master/fastai/core.py#L33\">[source]</a></div>"
  },
  {
   "cell_type": "markdown",
   "metadata": {},
   "source": "`StartOptEnd=Union[float,Tuple[float,float]]` <div style=\"text-align: right\"><a href=\"https://github.com/fastai/fastai_pytorch/blob/master/fastai/core.py#L34\">[source]</a></div>"
  },
  {
   "cell_type": "markdown",
   "metadata": {},
   "source": "`StrList = Collection[str]` <div style=\"text-align: right\"><a href=\"https://github.com/fastai/fastai_pytorch/blob/master/fastai/core.py#L35\">[source]</a></div>"
  },
  {
   "cell_type": "markdown",
   "metadata": {},
   "source": "`Tokens = Collection[Collection[str]]` <div style=\"text-align: right\"><a href=\"https://github.com/fastai/fastai_pytorch/blob/master/fastai/core.py#L36\">[source]</a></div>"
  },
  {
   "cell_type": "markdown",
   "metadata": {},
   "source": "`default_cpus = min(16, num_cpus())` <div style=\"text-align: right\"><a href=\"https://github.com/fastai/fastai_pytorch/blob/master/fastai/core.py#L45\">[source]</a></div>"
  },
  {
   "cell_type": "code",
   "execution_count": null,
   "metadata": {
    "hide_input": true
   },
   "outputs": [
    {
     "data": {
      "text/markdown": "### <a id=ItemBase></a><em>class</em> `ItemBase`()<div style=\"text-align: right\"><a href=\"https://github.com/fastai/fastai_pytorch/blob/master/fastai/core.py#L138\">[source]</a></div>\n\n\nAll transformable dataset items use this type",
      "text/plain": "<IPython.core.display.Markdown object>"
     },
     "metadata": {},
     "output_type": "display_data"
    }
   ],
   "source": "show_doc(ItemBase)"
  },
  {
   "cell_type": "markdown",
   "metadata": {},
   "source": "[`ItemBase`](/core.html#ItemBase)"
  },
  {
   "cell_type": "code",
   "execution_count": null,
   "metadata": {
    "hide_input": true
   },
   "outputs": [
    {
     "data": {
      "text/markdown": "#### <a id=arrays_split></a>`arrays_split`\n(<code>mask</code>:<code>ndarray</code>, <code>arrs</code>:<code>Collection</code>[<code>None</code>[<code>ndarray</code>, <code>list</code>]]) -> <code>List</code>[<code>Tuple</code>[<code>ndarray</code>, <code>ndarray</code>]]<div style=\"text-align: right\"><a href=\"https://github.com/fastai/fastai_pytorch/blob/master/fastai/core.py#L65\">[source]</a></div>\n\n\nGiven `arrs` is [a,b,...] and `mask`index - return[(a[mask],a[~mask]),(b[mask],b[~mask]),...]",
      "text/plain": "<IPython.core.display.Markdown object>"
     },
     "metadata": {},
     "output_type": "display_data"
    }
   ],
   "source": "show_doc(arrays_split)"
  },
  {
   "cell_type": "markdown",
   "metadata": {},
   "source": "[`arrays_split`](/core.html#arrays_split)"
  },
  {
   "cell_type": "code",
   "execution_count": null,
   "metadata": {
    "hide_input": true
   },
   "outputs": [
    {
     "data": {
      "text/markdown": "#### <a id=camel2snake></a>`camel2snake`(<code>name</code>:<code>str</code>) -> <code>str</code><div style=\"text-align: right\"><a href=\"https://github.com/fastai/fastai_pytorch/blob/master/fastai/core.py#L86\">[source]</a></div>",
      "text/plain": "<IPython.core.display.Markdown object>"
     },
     "metadata": {},
     "output_type": "display_data"
    }
   ],
   "source": "show_doc(camel2snake)"
  },
  {
   "cell_type": "markdown",
   "metadata": {},
   "source": "[`camel2snake`](/core.html#camel2snake)"
  },
  {
   "cell_type": "code",
   "execution_count": null,
   "metadata": {
    "hide_input": true
   },
   "outputs": [
    {
     "data": {
      "text/markdown": "#### <a id=even_mults></a>`even_mults`\n(<code>start</code>:<code>float</code>, <code>stop</code>:<code>float</code>, <code>n</code>:<code>int</code>) -> <code>ndarray</code><div style=\"text-align: right\"><a href=\"https://github.com/fastai/fastai_pytorch/blob/master/fastai/core.py#L90\">[source]</a></div>\n\n\nBuild evenly stepped schedule from start to stop in n steps",
      "text/plain": "<IPython.core.display.Markdown object>"
     },
     "metadata": {},
     "output_type": "display_data"
    }
   ],
   "source": "show_doc(even_mults)"
  },
  {
   "cell_type": "markdown",
   "metadata": {},
   "source": "[`even_mults`](/core.html#even_mults)"
  },
  {
   "cell_type": "code",
   "execution_count": null,
   "metadata": {
    "hide_input": true
   },
   "outputs": [
    {
     "data": {
      "text/markdown": "#### <a id=extract_kwargs></a>`extract_kwargs`\n(<code>names</code>:<code>Collection</code>[<code>str</code>], <code>kwargs</code>:<code>Dict</code>[<code>str</code>, <code>Any</code>])<div style=\"text-align: right\"><a href=\"https://github.com/fastai/fastai_pytorch/blob/master/fastai/core.py#L96\">[source]</a></div>\n\n\nExtracts the keys in names from the kwargs.",
      "text/plain": "<IPython.core.display.Markdown object>"
     },
     "metadata": {},
     "output_type": "display_data"
    }
   ],
   "source": "show_doc(extract_kwargs)"
  },
  {
   "cell_type": "markdown",
   "metadata": {},
   "source": "[`extract_kwargs`](/core.html#extract_kwargs)"
  },
  {
   "cell_type": "code",
   "execution_count": null,
   "metadata": {
    "hide_input": true
   },
   "outputs": [
    {
     "data": {
      "text/markdown": "#### <a id=find_classes></a>`find_classes`\n(<code>folder</code>:<code>Path</code>) -> <code>Collection</code>[<code>Path</code>]<div style=\"text-align: right\"><a href=\"https://github.com/fastai/fastai_pytorch/blob/master/fastai/core.py#L58\">[source]</a></div>\n\n\nReturn class subdirectories in imagenet style train `folder`",
      "text/plain": "<IPython.core.display.Markdown object>"
     },
     "metadata": {},
     "output_type": "display_data"
    }
   ],
   "source": "show_doc(find_classes)"
  },
  {
   "cell_type": "markdown",
   "metadata": {},
   "source": "[`find_classes`](/core.html#find_classes)"
  },
  {
   "cell_type": "code",
   "execution_count": null,
   "metadata": {
    "hide_input": true
   },
   "outputs": [
    {
     "data": {
      "text/markdown": "#### <a id=get_chunk_length></a>`get_chunk_length`\n(<code>csv_name</code>:<code>None</code>[<code>Path</code>, <code>str</code>], <code>chunksize</code>:<code>int</code>) -> <code>int</code><div style=\"text-align: right\"><a href=\"https://github.com/fastai/fastai_pytorch/blob/master/fastai/core.py#L113\">[source]</a></div>\n\n\nReads the number of chunks in a pandas <code>DataFrame</code>",
      "text/plain": "<IPython.core.display.Markdown object>"
     },
     "metadata": {},
     "output_type": "display_data"
    }
   ],
   "source": "show_doc(get_chunk_length)"
  },
  {
   "cell_type": "markdown",
   "metadata": {},
   "source": "[`get_chunk_length`](/core.html#get_chunk_length)"
  },
  {
   "cell_type": "code",
   "execution_count": null,
   "metadata": {
    "hide_input": true
   },
   "outputs": [
    {
     "data": {
      "text/markdown": "#### <a id=get_total_length></a>`get_total_length`\n(<code>csv_name</code>:<code>None</code>[<code>Path</code>, <code>str</code>], <code>chunksize</code>:<code>int</code>) -> <code>int</code><div style=\"text-align: right\"><a href=\"https://github.com/fastai/fastai_pytorch/blob/master/fastai/core.py#L120\">[source]</a></div>\n\n\nReads the the total length of a pandas <code>DataFrame</code>",
      "text/plain": "<IPython.core.display.Markdown object>"
     },
     "metadata": {},
     "output_type": "display_data"
    }
   ],
   "source": "show_doc(get_total_length)"
  },
  {
   "cell_type": "markdown",
   "metadata": {},
   "source": "[`get_total_length`](/core.html#get_total_length)"
  },
  {
   "cell_type": "code",
   "execution_count": null,
   "metadata": {
    "hide_input": true
   },
   "outputs": [
    {
     "data": {
      "text/markdown": "#### <a id=idx_dict></a>`idx_dict`(<code>a</code>)<div style=\"text-align: right\"><a href=\"https://github.com/fastai/fastai_pytorch/blob/master/fastai/core.py#L56\">[source]</a></div>",
      "text/plain": "<IPython.core.display.Markdown object>"
     },
     "metadata": {},
     "output_type": "display_data"
    }
   ],
   "source": "show_doc(idx_dict)"
  },
  {
   "cell_type": "markdown",
   "metadata": {},
   "source": "[`idx_dict`](/core.html#idx_dict)"
  },
  {
   "cell_type": "code",
   "execution_count": null,
   "metadata": {
    "hide_input": true
   },
   "outputs": [
    {
     "data": {
      "text/markdown": "#### <a id=ifnone></a>`ifnone`(<code>a</code>:<code>bool</code>, <code>b</code>:<code>Any</code>)<div style=\"text-align: right\"><a href=\"https://github.com/fastai/fastai_pytorch/blob/master/fastai/core.py#L51\">[source]</a></div>\n\n\n`a` if its not None, otherwise `b`",
      "text/plain": "<IPython.core.display.Markdown object>"
     },
     "metadata": {},
     "output_type": "display_data"
    }
   ],
   "source": "show_doc(ifnone)"
  },
  {
   "cell_type": "markdown",
   "metadata": {},
   "source": "[`ifnone`](/core.html#ifnone)"
  },
  {
   "cell_type": "code",
   "execution_count": null,
   "metadata": {
    "hide_input": true
   },
   "outputs": [
    {
     "data": {
      "text/markdown": "#### <a id=is_listy></a>`is_listy`(<code>x</code>:<code>Any</code>) -> <code>bool</code><div style=\"text-align: right\"><a href=\"https://github.com/fastai/fastai_pytorch/blob/master/fastai/core.py#L47\">[source]</a></div>",
      "text/plain": "<IPython.core.display.Markdown object>"
     },
     "metadata": {},
     "output_type": "display_data"
    }
   ],
   "source": "show_doc(is_listy)"
  },
  {
   "cell_type": "markdown",
   "metadata": {},
   "source": "[`is_listy`](/core.html#is_listy)"
  },
  {
   "cell_type": "code",
   "execution_count": null,
   "metadata": {
    "hide_input": true
   },
   "outputs": [
    {
     "data": {
      "text/markdown": "#### <a id=is_tuple></a>`is_tuple`(<code>x</code>:<code>Any</code>) -> <code>bool</code><div style=\"text-align: right\"><a href=\"https://github.com/fastai/fastai_pytorch/blob/master/fastai/core.py#L48\">[source]</a></div>",
      "text/plain": "<IPython.core.display.Markdown object>"
     },
     "metadata": {},
     "output_type": "display_data"
    }
   ],
   "source": "show_doc(is_tuple)"
  },
  {
   "cell_type": "markdown",
   "metadata": {},
   "source": "[`is_tuple`](/core.html#is_tuple)"
  },
  {
   "cell_type": "code",
   "execution_count": null,
   "metadata": {
    "hide_input": true
   },
   "outputs": [
    {
     "data": {
      "text/markdown": "#### <a id=listify></a>`listify`\n(<code>p</code>:<code>None</code>[<code>Collection</code>[<code>Any</code>], <code>int</code>, <code>float</code>, <code>str</code>, <code>NoneType</code>]=`None`, <code>q</code>:<code>None</code>[<code>Collection</code>[<code>Any</code>], <code>int</code>, <code>float</code>, <code>str</code>, <code>NoneType</code>]=`None`)<div style=\"text-align: right\"><a href=\"https://github.com/fastai/fastai_pytorch/blob/master/fastai/core.py#L75\">[source]</a></div>\n\n\nMakes `p` same length as `q`",
      "text/plain": "<IPython.core.display.Markdown object>"
     },
     "metadata": {},
     "output_type": "display_data"
    }
   ],
   "source": "show_doc(listify)"
  },
  {
   "cell_type": "markdown",
   "metadata": {},
   "source": "[`listify`](/core.html#listify)"
  },
  {
   "cell_type": "code",
   "execution_count": null,
   "metadata": {
    "hide_input": true
   },
   "outputs": [
    {
     "data": {
      "text/markdown": "#### <a id=maybe_copy></a>`maybe_copy`\n(<code>old_fnames</code>:<code>Collection</code>[<code>None</code>[<code>Path</code>, <code>str</code>]], <code>new_fnames</code>:<code>Collection</code>[<code>None</code>[<code>Path</code>, <code>str</code>]])<div style=\"text-align: right\"><a href=\"https://github.com/fastai/fastai_pytorch/blob/master/fastai/core.py#L127\">[source]</a></div>\n\n\nCopies the `old_fnames` to `new_fnames` location if new_fnames don't exist or are less recent.",
      "text/plain": "<IPython.core.display.Markdown object>"
     },
     "metadata": {},
     "output_type": "display_data"
    }
   ],
   "source": "show_doc(maybe_copy)"
  },
  {
   "cell_type": "markdown",
   "metadata": {},
   "source": "[`maybe_copy`](/core.html#maybe_copy)"
  },
  {
   "cell_type": "code",
   "execution_count": null,
   "metadata": {
    "hide_input": true
   },
   "outputs": [
    {
     "data": {
      "text/markdown": "#### <a id=noop></a>`noop`(<code>x</code>)<div style=\"text-align: right\"><a href=\"https://github.com/fastai/fastai_pytorch/blob/master/fastai/core.py#L49\">[source]</a></div>",
      "text/plain": "<IPython.core.display.Markdown object>"
     },
     "metadata": {},
     "output_type": "display_data"
    }
   ],
   "source": "show_doc(noop)"
  },
  {
   "cell_type": "markdown",
   "metadata": {},
   "source": "[`noop`](/core.html#noop)"
  },
  {
   "cell_type": "code",
   "execution_count": null,
   "metadata": {
    "hide_input": true
   },
   "outputs": [
    {
     "data": {
      "text/markdown": "#### <a id=num_cpus></a>`num_cpus`() -> <code>int</code><div style=\"text-align: right\"><a href=\"https://github.com/fastai/fastai_pytorch/blob/master/fastai/core.py#L40\">[source]</a></div>\n\n\nGet number of cpus",
      "text/plain": "<IPython.core.display.Markdown object>"
     },
     "metadata": {},
     "output_type": "display_data"
    }
   ],
   "source": "show_doc(num_cpus)"
  },
  {
   "cell_type": "markdown",
   "metadata": {},
   "source": "[`num_cpus`](/core.html#num_cpus)"
  },
  {
   "cell_type": "code",
   "execution_count": null,
   "metadata": {
    "hide_input": true
   },
   "outputs": [
    {
     "data": {
      "text/markdown": "#### <a id=partition></a>`partition`\n(<code>a</code>:<code>Collection</code>[<code>T_co</code>], <code>sz</code>:<code>int</code>) -> <code>List</code>[<code>Collection</code>[<code>T_co</code>]]<div style=\"text-align: right\"><a href=\"https://github.com/fastai/fastai_pytorch/blob/master/fastai/core.py#L105\">[source]</a></div>\n\n\nSplits iterables a in equal parts of size sz",
      "text/plain": "<IPython.core.display.Markdown object>"
     },
     "metadata": {},
     "output_type": "display_data"
    }
   ],
   "source": "show_doc(partition)"
  },
  {
   "cell_type": "markdown",
   "metadata": {},
   "source": "[`partition`](/core.html#partition)"
  },
  {
   "cell_type": "code",
   "execution_count": null,
   "metadata": {
    "hide_input": true
   },
   "outputs": [
    {
     "data": {
      "text/markdown": "#### <a id=partition_by_cores></a>`partition_by_cores`\n(<code>a</code>:<code>Collection</code>[<code>T_co</code>], <code>n_cpus</code>:<code>int</code>) -> <code>List</code>[<code>Collection</code>[<code>T_co</code>]]<div style=\"text-align: right\"><a href=\"https://github.com/fastai/fastai_pytorch/blob/master/fastai/core.py#L109\">[source]</a></div>\n\n\nSplit data equally among CPU cores",
      "text/plain": "<IPython.core.display.Markdown object>"
     },
     "metadata": {},
     "output_type": "display_data"
    }
   ],
   "source": "show_doc(partition_by_cores)"
  },
  {
   "cell_type": "markdown",
   "metadata": {},
   "source": "[`partition_by_cores`](/core.html#partition_by_cores)"
  },
  {
   "cell_type": "code",
   "execution_count": null,
   "metadata": {
    "hide_input": true
   },
   "outputs": [
    {
     "data": {
      "text/markdown": "#### <a id=random_split></a>`random_split`\n(<code>valid_pct</code>:<code>float</code>, <code>arrs</code>:<code>Collection</code>[<code>None</code>[<code>ndarray</code>, <code>list</code>]]) -> <code>List</code>[<code>Tuple</code>[<code>ndarray</code>, <code>ndarray</code>]]<div style=\"text-align: right\"><a href=\"https://github.com/fastai/fastai_pytorch/blob/master/fastai/core.py#L70\">[source]</a></div>\n\n\nRandomly `array_split` with `valid_pct` ratio. good for creating validation set.",
      "text/plain": "<IPython.core.display.Markdown object>"
     },
     "metadata": {},
     "output_type": "display_data"
    }
   ],
   "source": "show_doc(random_split)"
  },
  {
   "cell_type": "markdown",
   "metadata": {},
   "source": "[`random_split`](/core.html#random_split)"
  },
  {
   "cell_type": "code",
   "execution_count": null,
   "metadata": {
    "hide_input": true
   },
   "outputs": [
    {
     "data": {
      "text/markdown": "#### <a id=series2cat></a>`series2cat`(<code>df</code>:<code>DataFrame</code>, <code>col_names</code>)<div style=\"text-align: right\"><a href=\"https://github.com/fastai/fastai_pytorch/blob/master/fastai/core.py#L134\">[source]</a></div>\n\n\nCategorifies the columns in `df`.",
      "text/plain": "<IPython.core.display.Markdown object>"
     },
     "metadata": {},
     "output_type": "display_data"
    }
   ],
   "source": "show_doc(series2cat)"
  },
  {
   "cell_type": "markdown",
   "metadata": {},
   "source": "[`series2cat`](/core.html#series2cat)"
  },
  {
   "cell_type": "code",
   "execution_count": null,
   "metadata": {
    "hide_input": true
   },
   "outputs": [
    {
     "data": {
      "text/markdown": "#### <a id=uniqueify></a>`uniqueify`(<code>x</code>:<code>Series</code>) -> <code>List</code>[<code>Any</code>]<div style=\"text-align: right\"><a href=\"https://github.com/fastai/fastai_pytorch/blob/master/fastai/core.py#L55\">[source]</a></div>",
      "text/plain": "<IPython.core.display.Markdown object>"
     },
     "metadata": {},
     "output_type": "display_data"
    }
   ],
   "source": "show_doc(uniqueify)"
  },
  {
   "cell_type": "markdown",
   "metadata": {},
   "source": "[`uniqueify`](/core.html#uniqueify)"
  }
 ],
 "metadata": {
  "jekyll": {
   "summary": "`fastai.core` contains essential util functions to format and split data",
   "title": "core"
  },
  "kernelspec": {
   "display_name": "Python 3",
   "language": "python",
   "name": "python3"
  }
 },
 "nbformat": 4,
 "nbformat_minor": 2
}
