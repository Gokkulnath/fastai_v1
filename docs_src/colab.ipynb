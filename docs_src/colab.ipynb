{
 "cells": [
  {
   "cell_type": "markdown",
   "metadata": {},
   "source": "# colab"
  },
  {
   "cell_type": "markdown",
   "metadata": {},
   "source": "Type an introduction of the package here."
  },
  {
   "cell_type": "code",
   "execution_count": null,
   "metadata": {
    "hide_input": true
   },
   "outputs": [],
   "source": "from fastai.gen_doc.nbdoc import *\nfrom fastai.colab import * "
  },
  {
   "cell_type": "markdown",
   "metadata": {},
   "source": "### Global Variable Definitions:"
  },
  {
   "cell_type": "code",
   "execution_count": null,
   "metadata": {
    "hide_input": true
   },
   "outputs": [
    {
     "data": {
      "text/markdown": "### <a id=ColabFilteringDataset></a><em>class</em> `ColabFilteringDataset`\n(<code>user</code>:<code>Series</code>, <code>item</code>:<code>Series</code>, <code>ratings</code>:<code>DataFrame</code>) -> <code>NoneType</code> :: Inherits ([<code>DatasetBase</code>](fastai.data.html#DatasetBase))<div style=\"text-align: right\"><a href=\"https://github.com/fastai/fastai_pytorch/blob/master/fastai/colab.py#L9\">[source]</a></div>\n\n\nBase dataset for collaborative filtering",
      "text/plain": "<IPython.core.display.Markdown object>"
     },
     "metadata": {},
     "output_type": "display_data"
    }
   ],
   "source": "show_doc(ColabFilteringDataset)"
  },
  {
   "cell_type": "markdown",
   "metadata": {},
   "source": "[`ColabFilteringDataset`](/colab.html#ColabFilteringDataset)"
  },
  {
   "cell_type": "code",
   "execution_count": null,
   "metadata": {
    "hide_input": true
   },
   "outputs": [
    {
     "data": {
      "text/markdown": "#### <a id=from_csv></a>`from_csv`\n(<code>csv_name</code>:<code>str</code>, <code>kwargs</code>) -> <code>Tuple</code>[<code>str</code>, <code>str</code>]<div style=\"text-align: right\"><a href=\"https://github.com/fastai/fastai_pytorch/blob/master/fastai/colab.py#L47\">[source]</a></div>\n\n\nSplits a given table in a csv in a training and validation set",
      "text/plain": "<IPython.core.display.Markdown object>"
     },
     "metadata": {},
     "output_type": "display_data"
    }
   ],
   "source": "show_doc(ColabFilteringDataset.from_csv)"
  },
  {
   "cell_type": "markdown",
   "metadata": {},
   "source": "`ColabFilteringDataset.from_csv`"
  },
  {
   "cell_type": "code",
   "execution_count": null,
   "metadata": {
    "hide_input": true
   },
   "outputs": [
    {
     "data": {
      "text/markdown": "#### <a id=from_df></a>`from_df`\n(<code>rating_df</code>:<code>DataFrame</code>, <code>pct_val</code>:<code>float</code>=`0.2`, <code>user_name</code>:`Optional`[<code>str</code>]=`None`, <code>item_name</code>:`Optional`[<code>str</code>]=`None`, <code>rating_name</code>:`Optional`[<code>str</code>]=`None`) -> <code>Tuple</code>[<code>str</code>, <code>str</code>]<div style=\"text-align: right\"><a href=\"https://github.com/fastai/fastai_pytorch/blob/master/fastai/colab.py#L32\">[source]</a></div>\n\n\nSplits a given dataframe in a training and validation set",
      "text/plain": "<IPython.core.display.Markdown object>"
     },
     "metadata": {},
     "output_type": "display_data"
    }
   ],
   "source": "show_doc(ColabFilteringDataset.from_df)"
  },
  {
   "cell_type": "markdown",
   "metadata": {},
   "source": "`ColabFilteringDataset.from_df`"
  },
  {
   "cell_type": "code",
   "execution_count": null,
   "metadata": {
    "hide_input": true
   },
   "outputs": [
    {
     "data": {
      "text/markdown": "### <a id=EmbeddingDotBias></a><em>class</em> `EmbeddingDotBias`\n(<code>n_factors</code>:<code>int</code>, <code>n_users</code>:<code>int</code>, <code>n_items</code>:<code>int</code>, <code>min_score</code>:<code>float</code>=`None`, <code>max_score</code>:<code>float</code>=`None`) :: Inherits ([<code>Module</code>](https://pytorch.org/docs/stable/nn.html#torch.nn.Module))<div style=\"text-align: right\"><a href=\"https://github.com/fastai/fastai_pytorch/blob/master/fastai/colab.py#L53\">[source]</a></div>\n\n\nBase model for callaborative filtering",
      "text/plain": "<IPython.core.display.Markdown object>"
     },
     "metadata": {},
     "output_type": "display_data"
    }
   ],
   "source": "show_doc(EmbeddingDotBias)"
  },
  {
   "cell_type": "markdown",
   "metadata": {},
   "source": "[`EmbeddingDotBias`](/colab.html#EmbeddingDotBias)"
  },
  {
   "cell_type": "code",
   "execution_count": null,
   "metadata": {
    "hide_input": true
   },
   "outputs": [
    {
     "data": {
      "text/markdown": "#### <a id=forward></a>`forward`\n(<code>users</code>:<code>LongTensor</code>, <code>items</code>:<code>LongTensor</code>) -> <code>Tensor</code><div style=\"text-align: right\"><a href=\"https://github.com/fastai/fastai_pytorch/blob/master/fastai/colab.py#L62\">[source]</a></div>\n\n\nShould be overridden by all subclasses.\n\n.. note::\n    Although the recipe for forward pass needs to be defined within\n    this function, one should call the :class:`Module` instance afterwards\n    instead of this since the former takes care of running the\n    registered hooks while the latter silently ignores them.",
      "text/plain": "<IPython.core.display.Markdown object>"
     },
     "metadata": {},
     "output_type": "display_data"
    }
   ],
   "source": "show_doc(EmbeddingDotBias.forward)"
  },
  {
   "cell_type": "markdown",
   "metadata": {},
   "source": "`EmbeddingDotBias.forward`"
  },
  {
   "cell_type": "code",
   "execution_count": null,
   "metadata": {
    "hide_input": true
   },
   "outputs": [
    {
     "data": {
      "text/markdown": "#### <a id=get_collab_learner></a>`get_collab_learner`\n(<code>n_factors</code>:<code>int</code>, <code>data</code>:[<code>DataBunch</code>](fastai.data.html#DataBunch), <code>min_score</code>:<code>float</code>=`None`, <code>max_score</code>:<code>float</code>=`None`, <code>loss_fn</code>:<code>Callable</code>[<code>Tensor</code>, <code>Tensor</code>, <code>OneEltTensor</code>]=`<function mse_loss at 0x11bdebc80>`, <code>kwargs</code>) -> [<code>Learner</code>](fastai.basic_train.html#Learner)<div style=\"text-align: right\"><a href=\"https://github.com/fastai/fastai_pytorch/blob/master/fastai/colab.py#L68\">[source]</a></div>\n\n\nCreates a Learner for collaborative filtering",
      "text/plain": "<IPython.core.display.Markdown object>"
     },
     "metadata": {},
     "output_type": "display_data"
    }
   ],
   "source": "show_doc(get_collab_learner)"
  },
  {
   "cell_type": "markdown",
   "metadata": {},
   "source": "[`get_collab_learner`](/colab.html#get_collab_learner)"
  }
 ],
 "metadata": {
  "jekyll": {
   "summary": "Module support for Collaborative Filtering",
   "title": "colab"
  },
  "kernelspec": {
   "display_name": "Python 3",
   "language": "python",
   "name": "python3"
  }
 },
 "nbformat": 4,
 "nbformat_minor": 2
}
