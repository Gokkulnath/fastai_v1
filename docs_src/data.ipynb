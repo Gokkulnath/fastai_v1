{
 "cells": [
  {
   "cell_type": "markdown",
   "metadata": {},
   "source": "# data"
  },
  {
   "cell_type": "markdown",
   "metadata": {},
   "source": "Type an introduction of the package here."
  },
  {
   "cell_type": "code",
   "execution_count": null,
   "metadata": {
    "hide_input": true
   },
   "outputs": [],
   "source": "from fastai.gen_doc.nbdoc import *\nfrom fastai.data import * "
  },
  {
   "cell_type": "markdown",
   "metadata": {},
   "source": "### Global Variable Definitions:"
  },
  {
   "cell_type": "code",
   "execution_count": null,
   "metadata": {
    "hide_input": true
   },
   "outputs": [
    {
     "data": {
      "text/markdown": "### <a id=DataBunch></a><em>class</em> `DataBunch`\n(<code>train_dl</code>:[<code>DataLoader</code>](https://pytorch.org/docs/stable/data.html#torch.utils.data.DataLoader), <code>valid_dl</code>:[<code>DataLoader</code>](https://pytorch.org/docs/stable/data.html#torch.utils.data.DataLoader), <code>test_dl</code>:`Optional`[[<code>DataLoader</code>](https://pytorch.org/docs/stable/data.html#torch.utils.data.DataLoader)]=`None`, <code>device</code>:[<code>device</code>](https://pytorch.org/docs/stable/torch.html#torch.device)=`None`, <code>tfms</code>:`Optional`[<code>Collection</code>[<code>Callable</code>[]]]=`None`, <code>path</code>:<code>None</code>[<code>Path</code>, <code>str</code>]=`'.'`, <code>collate_fn</code>:<code>Callable</code>[]=`<function data_collate at 0x1a1a0c4598>`)<div style=\"text-align: right\"><a href=\"https://github.com/fastai/fastai_pytorch/blob/master/fastai/data.py#L56\">[source]</a></div>\n\n\nBind `train_dl`,`valid_dl` and`test_dl` to `device`. tfms are DL tfms (normalize). `path` is for models.",
      "text/plain": "<IPython.core.display.Markdown object>"
     },
     "metadata": {},
     "output_type": "display_data"
    }
   ],
   "source": "show_doc(DataBunch)"
  },
  {
   "cell_type": "markdown",
   "metadata": {},
   "source": "[`DataBunch`](/data.html#DataBunch)"
  },
  {
   "cell_type": "code",
   "execution_count": null,
   "metadata": {
    "hide_input": true
   },
   "outputs": [
    {
     "data": {
      "text/markdown": "#### <a id=_create_with_tfm></a>`_create_with_tfm`\n(<code>train_ds</code>, <code>valid_ds</code>, <code>test_ds</code>=`None`, <code>path</code>=`'.'`, <code>bs</code>=`64`, <code>ds_tfms</code>=`None`, <code>num_workers</code>=`8`, <code>tfms</code>=`None`, <code>device</code>=`None`, <code>size</code>=`None`, <code>kwargs</code>) -> <code>str</code><div style=\"text-align: right\"><a href=\"https://github.com/fastai/fastai_pytorch/blob/master/fastai/vision/data.py#L142\">[source]</a></div>\n\n\n[<code>DataBunch</code>](fastai.data.html#DataBunch) factory. `bs` batch size, `ds_tfms` for [<code>Dataset</code>](https://pytorch.org/docs/stable/data.html#torch.utils.data.Dataset), `tfms` for [<code>DataLoader</code>](https://pytorch.org/docs/stable/data.html#torch.utils.data.DataLoader)",
      "text/plain": "<IPython.core.display.Markdown object>"
     },
     "metadata": {},
     "output_type": "display_data"
    }
   ],
   "source": "show_doc(DataBunch.create)"
  },
  {
   "cell_type": "markdown",
   "metadata": {},
   "source": "`DataBunch.create`"
  },
  {
   "cell_type": "code",
   "execution_count": null,
   "metadata": {
    "hide_input": true
   },
   "outputs": [
    {
     "data": {
      "text/markdown": "#### <a id=holdout></a>`holdout`\n(<code>is_test</code>:<code>bool</code>=`False`) -> [<code>DeviceDataLoader</code>](fastai.data.html#DeviceDataLoader)<div style=\"text-align: right\"><a href=\"https://github.com/fastai/fastai_pytorch/blob/master/fastai/data.py#L80\">[source]</a></div>\n\n\nReturns correct holdout [<code>Dataset</code>](https://pytorch.org/docs/stable/data.html#torch.utils.data.Dataset) for test vs validation (`is_test`)",
      "text/plain": "<IPython.core.display.Markdown object>"
     },
     "metadata": {},
     "output_type": "display_data"
    }
   ],
   "source": "show_doc(DataBunch.holdout)"
  },
  {
   "cell_type": "markdown",
   "metadata": {},
   "source": "`DataBunch.holdout`"
  },
  {
   "cell_type": "code",
   "execution_count": null,
   "metadata": {
    "hide_input": true
   },
   "outputs": [],
   "source": "show_doc(DataBunch.labels_to_csv)"
  },
  {
   "cell_type": "markdown",
   "metadata": {},
   "source": ""
  },
  {
   "cell_type": "code",
   "execution_count": null,
   "metadata": {
    "hide_input": true
   },
   "outputs": [
    {
     "data": {
      "text/markdown": "### <a id=DatasetBase></a><em>class</em> `DatasetBase`() :: Inherits ([<code>Dataset</code>](https://pytorch.org/docs/stable/data.html#torch.utils.data.Dataset))<div style=\"text-align: right\"><a href=\"https://github.com/fastai/fastai_pytorch/blob/master/fastai/data.py#L5\">[source]</a></div>\n\n\nBase class for all fastai datasets",
      "text/plain": "<IPython.core.display.Markdown object>"
     },
     "metadata": {},
     "output_type": "display_data"
    }
   ],
   "source": "show_doc(DatasetBase)"
  },
  {
   "cell_type": "markdown",
   "metadata": {},
   "source": "[`DatasetBase`](/data.html#DatasetBase)"
  },
  {
   "cell_type": "code",
   "execution_count": null,
   "metadata": {
    "hide_input": true
   },
   "outputs": [
    {
     "data": {
      "text/markdown": "### <a id=DeviceDataLoader></a><em>class</em> `DeviceDataLoader`\n(<code>dl</code>:[<code>DataLoader</code>](https://pytorch.org/docs/stable/data.html#torch.utils.data.DataLoader), <code>device</code>:[<code>device</code>](https://pytorch.org/docs/stable/torch.html#torch.device), <code>tfms</code>:<code>List</code>[<code>Callable</code>[]]=`None`, <code>collate_fn</code>:<code>Callable</code>[]=`<function data_collate at 0x1a1a0c4598>`) -> <code>NoneType</code><div style=\"text-align: right\"><a href=\"https://github.com/fastai/fastai_pytorch/blob/master/fastai/data.py#L22\">[source]</a></div>\n\n\nBinds a [<code>DataLoader</code>](https://pytorch.org/docs/stable/data.html#torch.utils.data.DataLoader) to a `torch.device`",
      "text/plain": "<IPython.core.display.Markdown object>"
     },
     "metadata": {},
     "output_type": "display_data"
    }
   ],
   "source": "show_doc(DeviceDataLoader)"
  },
  {
   "cell_type": "markdown",
   "metadata": {},
   "source": "[`DeviceDataLoader`](/data.html#DeviceDataLoader)"
  },
  {
   "cell_type": "code",
   "execution_count": null,
   "metadata": {
    "hide_input": true
   },
   "outputs": [
    {
     "data": {
      "text/markdown": "#### <a id=add_tfm></a>`add_tfm`(<code>tfm</code>:<code>Callable</code>[]) -> <code>NoneType</code><div style=\"text-align: right\"><a href=\"https://github.com/fastai/fastai_pytorch/blob/master/fastai/data.py#L35\">[source]</a></div>",
      "text/plain": "<IPython.core.display.Markdown object>"
     },
     "metadata": {},
     "output_type": "display_data"
    }
   ],
   "source": "show_doc(DeviceDataLoader.add_tfm)"
  },
  {
   "cell_type": "markdown",
   "metadata": {},
   "source": "`DeviceDataLoader.add_tfm`"
  },
  {
   "cell_type": "code",
   "execution_count": null,
   "metadata": {
    "hide_input": true
   },
   "outputs": [
    {
     "data": {
      "text/markdown": "#### <a id=data_collate></a>`data_collate`\n(<code>batch</code>:<code>Collection</code>[<code>None</code>[<code>Tensor</code>, [<code>ItemBase</code>](fastai.core.html#ItemBase), <code>str</code>, <code>float</code>, <code>int</code>]]) -> <code>Tensor</code><div style=\"text-align: right\"><a href=\"https://github.com/fastai/fastai_pytorch/blob/master/fastai/torch_core.py#L55\">[source]</a></div>\n\n\nConvert `batch` items to tensor data",
      "text/plain": "<IPython.core.display.Markdown object>"
     },
     "metadata": {},
     "output_type": "display_data"
    }
   ],
   "source": "show_doc(DeviceDataLoader.collate_fn)"
  },
  {
   "cell_type": "markdown",
   "metadata": {},
   "source": "`DeviceDataLoader.collate_fn`"
  },
  {
   "cell_type": "code",
   "execution_count": null,
   "metadata": {
    "hide_input": true
   },
   "outputs": [
    {
     "data": {
      "text/markdown": "#### <a id=create></a>`create`\n(<code>dataset</code>:[<code>Dataset</code>](https://pytorch.org/docs/stable/data.html#torch.utils.data.Dataset), <code>bs</code>:<code>int</code>=`1`, <code>shuffle</code>:<code>bool</code>=`False`, <code>device</code>:[<code>device</code>](https://pytorch.org/docs/stable/torch.html#torch.device)=`device(type='cpu')`, <code>tfms</code>:<code>Collection</code>[<code>Callable</code>[]]=`None`, <code>num_workers</code>:<code>int</code>=`8`, <code>collate_fn</code>:<code>Callable</code>[]=`<function data_collate at 0x1a1a0c4598>`, <code>kwargs</code>:<code>Any</code>)<div style=\"text-align: right\"><a href=\"https://github.com/fastai/fastai_pytorch/blob/master/fastai/data.py#L49\">[source]</a></div>\n\n\nCreate DeviceDataLoader from `dataset` with `batch_size` and `shuffle`: processs using `num_workers`",
      "text/plain": "<IPython.core.display.Markdown object>"
     },
     "metadata": {},
     "output_type": "display_data"
    }
   ],
   "source": "show_doc(DeviceDataLoader.create)"
  },
  {
   "cell_type": "markdown",
   "metadata": {},
   "source": "`DeviceDataLoader.create`"
  },
  {
   "cell_type": "code",
   "execution_count": null,
   "metadata": {
    "hide_input": true
   },
   "outputs": [
    {
     "data": {
      "text/markdown": "#### <a id=proc_batch></a>`proc_batch`(<code>b</code>:<code>Tensor</code>) -> <code>Tensor</code><div style=\"text-align: right\"><a href=\"https://github.com/fastai/fastai_pytorch/blob/master/fastai/data.py#L38\">[source]</a></div>\n\n\nProces batch `b` of <code>Tensor</code>",
      "text/plain": "<IPython.core.display.Markdown object>"
     },
     "metadata": {},
     "output_type": "display_data"
    }
   ],
   "source": "show_doc(DeviceDataLoader.proc_batch)"
  },
  {
   "cell_type": "markdown",
   "metadata": {},
   "source": "`DeviceDataLoader.proc_batch`"
  },
  {
   "cell_type": "code",
   "execution_count": null,
   "metadata": {
    "hide_input": true
   },
   "outputs": [
    {
     "data": {
      "text/markdown": "#### <a id=remove_tfm></a>`remove_tfm`(<code>tfm</code>:<code>Callable</code>[]) -> <code>NoneType</code><div style=\"text-align: right\"><a href=\"https://github.com/fastai/fastai_pytorch/blob/master/fastai/data.py#L36\">[source]</a></div>",
      "text/plain": "<IPython.core.display.Markdown object>"
     },
     "metadata": {},
     "output_type": "display_data"
    }
   ],
   "source": "show_doc(DeviceDataLoader.remove_tfm)"
  },
  {
   "cell_type": "markdown",
   "metadata": {},
   "source": "`DeviceDataLoader.remove_tfm`"
  },
  {
   "cell_type": "code",
   "execution_count": null,
   "metadata": {
    "hide_input": true
   },
   "outputs": [
    {
     "data": {
      "text/markdown": "### <a id=LabelDataset></a><em>class</em> `LabelDataset`() :: Inherits ([<code>DatasetBase</code>](fastai.data.html#DatasetBase))<div style=\"text-align: right\"><a href=\"https://github.com/fastai/fastai_pytorch/blob/master/fastai/data.py#L14\">[source]</a></div>\n\n\nBase class for fastai datasets that do classification",
      "text/plain": "<IPython.core.display.Markdown object>"
     },
     "metadata": {},
     "output_type": "display_data"
    }
   ],
   "source": "show_doc(LabelDataset)"
  },
  {
   "cell_type": "markdown",
   "metadata": {},
   "source": "[`LabelDataset`](/data.html#LabelDataset)"
  }
 ],
 "metadata": {
  "jekyll": {
   "summary": "`fastai.data` loads and manages datasets with `DataBunch`",
   "title": "data"
  },
  "kernelspec": {
   "display_name": "Python 3",
   "language": "python",
   "name": "python3"
  }
 },
 "nbformat": 4,
 "nbformat_minor": 2
}
