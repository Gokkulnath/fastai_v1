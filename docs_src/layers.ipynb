{
 "cells": [
  {
   "cell_type": "markdown",
   "metadata": {},
   "source": "# layers"
  },
  {
   "cell_type": "markdown",
   "metadata": {},
   "source": "Type an introduction of the package here."
  },
  {
   "cell_type": "code",
   "execution_count": null,
   "metadata": {
    "hide_input": true
   },
   "outputs": [],
   "source": "from fastai.gen_doc.nbdoc import *\nfrom fastai.layers import * "
  },
  {
   "cell_type": "code",
   "execution_count": null,
   "metadata": {
    "hide_input": true
   },
   "outputs": [
    {
     "data": {
      "text/markdown": "### <a id=AdaptiveConcatPool2d></a><em>class</em> `AdaptiveConcatPool2d`\n(<code>sz</code>:`Optional`[<code>int</code>]=`None`) :: [<code>Module</code>](https://pytorch.org/docs/stable/nn.html#torch.nn.Module)<div style=\"text-align: right\"><a href=\"https://github.com/fastai/fastai_pytorch/blob/master/fastai/layers.py#L59\">[source]</a></div>\n\n\nLayer that concats `AdaptiveAvgPool2d` and `AdaptiveMaxPool2d`",
      "text/plain": "<IPython.core.display.Markdown object>"
     },
     "metadata": {},
     "output_type": "display_data"
    }
   ],
   "source": "show_doc(AdaptiveConcatPool2d)"
  },
  {
   "cell_type": "markdown",
   "metadata": {},
   "source": "[`AdaptiveConcatPool2d`](/layers.html#AdaptiveConcatPool2d)"
  },
  {
   "cell_type": "code",
   "execution_count": null,
   "metadata": {
    "hide_input": true
   },
   "outputs": [
    {
     "data": {
      "text/markdown": "#### <a id=forward></a>`forward`\n(<code>x</code>)<div style=\"text-align: right\"><a href=\"https://github.com/fastai/fastai_pytorch/blob/master/fastai/layers.py#L66\">[source]</a></div>\n\n\nShould be overridden by all subclasses.\n\n.. note::\n    Although the recipe for forward pass needs to be defined within\n    this function, one should call the :class:`Module` instance afterwards\n    instead of this since the former takes care of running the\n    registered hooks while the latter silently ignores them.",
      "text/plain": "<IPython.core.display.Markdown object>"
     },
     "metadata": {},
     "output_type": "display_data"
    }
   ],
   "source": "show_doc(AdaptiveConcatPool2d.forward)"
  },
  {
   "cell_type": "markdown",
   "metadata": {},
   "source": "`AdaptiveConcatPool2d.forward`"
  },
  {
   "cell_type": "code",
   "execution_count": null,
   "metadata": {
    "hide_input": true
   },
   "outputs": [
    {
     "data": {
      "text/markdown": "### <a id=CrossEntropyFlat></a><em>class</em> `CrossEntropyFlat`\n(<code>weight</code>=`None`, <code>size_average</code>=`None`, <code>ignore_index</code>=`-100`, <code>reduce</code>=`None`, <code>reduction</code>=`'elementwise_mean'`) :: [<code>CrossEntropyLoss</code>](https://pytorch.org/docs/stable/nn.html#torch.nn.CrossEntropyLoss)<div style=\"text-align: right\"><a href=\"https://github.com/fastai/fastai_pytorch/blob/master/fastai/layers.py#L92\">[source]</a></div>\n\n\nSame as `nn.CrossEntropyLoss`, but flattens input and target",
      "text/plain": "<IPython.core.display.Markdown object>"
     },
     "metadata": {},
     "output_type": "display_data"
    }
   ],
   "source": "show_doc(CrossEntropyFlat)"
  },
  {
   "cell_type": "markdown",
   "metadata": {},
   "source": "[`CrossEntropyFlat`](/layers.html#CrossEntropyFlat)"
  },
  {
   "cell_type": "code",
   "execution_count": null,
   "metadata": {
    "hide_input": true
   },
   "outputs": [
    {
     "data": {
      "text/markdown": "#### <a id=forward></a>`forward`\n(<code>input</code>:<code>Tensor</code>, <code>target</code>:<code>Tensor</code>) -> <code>OneEltTensor</code><div style=\"text-align: right\"><a href=\"https://github.com/fastai/fastai_pytorch/blob/master/fastai/layers.py#L94\">[source]</a></div>\n\n\nShould be overridden by all subclasses.\n\n.. note::\n    Although the recipe for forward pass needs to be defined within\n    this function, one should call the :class:`Module` instance afterwards\n    instead of this since the former takes care of running the\n    registered hooks while the latter silently ignores them.",
      "text/plain": "<IPython.core.display.Markdown object>"
     },
     "metadata": {},
     "output_type": "display_data"
    }
   ],
   "source": "show_doc(CrossEntropyFlat.forward)"
  },
  {
   "cell_type": "markdown",
   "metadata": {},
   "source": "`CrossEntropyFlat.forward`"
  },
  {
   "cell_type": "code",
   "execution_count": null,
   "metadata": {
    "hide_input": true
   },
   "outputs": [
    {
     "data": {
      "text/markdown": "### <a id=Debugger></a><em>class</em> `Debugger`\n() :: [<code>Module</code>](https://pytorch.org/docs/stable/nn.html#torch.nn.Module)<div style=\"text-align: right\"><a href=\"https://github.com/fastai/fastai_pytorch/blob/master/fastai/layers.py#L68\">[source]</a></div>\n\n\nA module to debug inside a model",
      "text/plain": "<IPython.core.display.Markdown object>"
     },
     "metadata": {},
     "output_type": "display_data"
    }
   ],
   "source": "show_doc(Debugger)"
  },
  {
   "cell_type": "markdown",
   "metadata": {},
   "source": "[`Debugger`](/layers.html#Debugger)"
  },
  {
   "cell_type": "code",
   "execution_count": null,
   "metadata": {
    "hide_input": true
   },
   "outputs": [
    {
     "data": {
      "text/markdown": "#### <a id=forward></a>`forward`\n(<code>x</code>:<code>Tensor</code>) -> <code>Tensor</code><div style=\"text-align: right\"><a href=\"https://github.com/fastai/fastai_pytorch/blob/master/fastai/layers.py#L70\">[source]</a></div>\n\n\nShould be overridden by all subclasses.\n\n.. note::\n    Although the recipe for forward pass needs to be defined within\n    this function, one should call the :class:`Module` instance afterwards\n    instead of this since the former takes care of running the\n    registered hooks while the latter silently ignores them.",
      "text/plain": "<IPython.core.display.Markdown object>"
     },
     "metadata": {},
     "output_type": "display_data"
    }
   ],
   "source": "show_doc(Debugger.forward)"
  },
  {
   "cell_type": "markdown",
   "metadata": {},
   "source": "`Debugger.forward`"
  },
  {
   "cell_type": "code",
   "execution_count": null,
   "metadata": {
    "hide_input": true
   },
   "outputs": [
    {
     "data": {
      "text/markdown": "#### <a id=Flatten></a>`Flatten`\n() -> <code>Tensor</code><div style=\"text-align: right\"><a href=\"https://github.com/fastai/fastai_pytorch/blob/master/fastai/layers.py#L20\">[source]</a></div>\n\n\nFlattens `x` to a single dimension, often used at the end of a model",
      "text/plain": "<IPython.core.display.Markdown object>"
     },
     "metadata": {},
     "output_type": "display_data"
    }
   ],
   "source": "show_doc(Flatten)"
  },
  {
   "cell_type": "markdown",
   "metadata": {},
   "source": "[`Flatten`](/layers.html#Flatten)"
  },
  {
   "cell_type": "code",
   "execution_count": null,
   "metadata": {
    "hide_input": true
   },
   "outputs": [
    {
     "data": {
      "text/markdown": "### <a id=Lambda></a><em>class</em> `Lambda`\n(<code>func</code>:<code>Callable</code>[<code>Tensor</code>, <code>Tensor</code>]) :: [<code>Module</code>](https://pytorch.org/docs/stable/nn.html#torch.nn.Module)<div style=\"text-align: right\"><a href=\"https://github.com/fastai/fastai_pytorch/blob/master/fastai/layers.py#L7\">[source]</a></div>\n\n\nAn easy way to create a pytorch layer for a simple `func`",
      "text/plain": "<IPython.core.display.Markdown object>"
     },
     "metadata": {},
     "output_type": "display_data"
    }
   ],
   "source": "show_doc(Lambda)"
  },
  {
   "cell_type": "markdown",
   "metadata": {},
   "source": "[`Lambda`](/layers.html#Lambda)"
  },
  {
   "cell_type": "code",
   "execution_count": null,
   "metadata": {
    "hide_input": true
   },
   "outputs": [
    {
     "data": {
      "text/markdown": "#### <a id=forward></a>`forward`\n(<code>x</code>)<div style=\"text-align: right\"><a href=\"https://github.com/fastai/fastai_pytorch/blob/master/fastai/layers.py#L14\">[source]</a></div>\n\n\nShould be overridden by all subclasses.\n\n.. note::\n    Although the recipe for forward pass needs to be defined within\n    this function, one should call the :class:`Module` instance afterwards\n    instead of this since the former takes care of running the\n    registered hooks while the latter silently ignores them.",
      "text/plain": "<IPython.core.display.Markdown object>"
     },
     "metadata": {},
     "output_type": "display_data"
    }
   ],
   "source": "show_doc(Lambda.forward)"
  },
  {
   "cell_type": "markdown",
   "metadata": {},
   "source": "`Lambda.forward`"
  },
  {
   "cell_type": "code",
   "execution_count": null,
   "metadata": {
    "hide_input": true
   },
   "outputs": [
    {
     "data": {
      "text/markdown": "#### <a id=PoolFlatten></a>`PoolFlatten`\n() -> [<code>Sequential</code>](https://pytorch.org/docs/stable/nn.html#torch.nn.Sequential)<div style=\"text-align: right\"><a href=\"https://github.com/fastai/fastai_pytorch/blob/master/fastai/layers.py#L24\">[source]</a></div>\n\n\nApply `nn.AdaptiveAvgPool2d` to `x` and then flatten the result",
      "text/plain": "<IPython.core.display.Markdown object>"
     },
     "metadata": {},
     "output_type": "display_data"
    }
   ],
   "source": "show_doc(PoolFlatten)"
  },
  {
   "cell_type": "markdown",
   "metadata": {},
   "source": "[`PoolFlatten`](/layers.html#PoolFlatten)"
  },
  {
   "cell_type": "code",
   "execution_count": null,
   "metadata": {
    "hide_input": true
   },
   "outputs": [
    {
     "data": {
      "text/markdown": "#### <a id=ResizeBatch></a>`ResizeBatch`\n(<code>size</code>:<code>int</code>) -> <code>Tensor</code><div style=\"text-align: right\"><a href=\"https://github.com/fastai/fastai_pytorch/blob/master/fastai/layers.py#L16\">[source]</a></div>\n\n\nLayer that resizes x to `size`, good for connecting mismatched layers",
      "text/plain": "<IPython.core.display.Markdown object>"
     },
     "metadata": {},
     "output_type": "display_data"
    }
   ],
   "source": "show_doc(ResizeBatch)"
  },
  {
   "cell_type": "markdown",
   "metadata": {},
   "source": "[`ResizeBatch`](/layers.html#ResizeBatch)"
  },
  {
   "cell_type": "code",
   "execution_count": null,
   "metadata": {
    "hide_input": true
   },
   "outputs": [
    {
     "data": {
      "text/markdown": "### <a id=StdUpsample></a><em>class</em> `StdUpsample`\n(<code>n_in</code>:<code>int</code>, <code>n_out</code>:<code>int</code>) :: [<code>Module</code>](https://pytorch.org/docs/stable/nn.html#torch.nn.Module)<div style=\"text-align: right\"><a href=\"https://github.com/fastai/fastai_pytorch/blob/master/fastai/layers.py#L74\">[source]</a></div>\n\n\nStandard upsample module",
      "text/plain": "<IPython.core.display.Markdown object>"
     },
     "metadata": {},
     "output_type": "display_data"
    }
   ],
   "source": "show_doc(StdUpsample)"
  },
  {
   "cell_type": "markdown",
   "metadata": {},
   "source": "[`StdUpsample`](/layers.html#StdUpsample)"
  },
  {
   "cell_type": "code",
   "execution_count": null,
   "metadata": {
    "hide_input": true
   },
   "outputs": [
    {
     "data": {
      "text/markdown": "#### <a id=forward></a>`forward`\n(<code>x</code>:<code>Tensor</code>) -> <code>Tensor</code><div style=\"text-align: right\"><a href=\"https://github.com/fastai/fastai_pytorch/blob/master/fastai/layers.py#L81\">[source]</a></div>\n\n\nShould be overridden by all subclasses.\n\n.. note::\n    Although the recipe for forward pass needs to be defined within\n    this function, one should call the :class:`Module` instance afterwards\n    instead of this since the former takes care of running the\n    registered hooks while the latter silently ignores them.",
      "text/plain": "<IPython.core.display.Markdown object>"
     },
     "metadata": {},
     "output_type": "display_data"
    }
   ],
   "source": "show_doc(StdUpsample.forward)"
  },
  {
   "cell_type": "markdown",
   "metadata": {},
   "source": "`StdUpsample.forward`"
  },
  {
   "cell_type": "code",
   "execution_count": null,
   "metadata": {
    "hide_input": true
   },
   "outputs": [
    {
     "data": {
      "text/markdown": "#### <a id=bn_drop_lin></a>`bn_drop_lin`\n(<code>n_in</code>:<code>int</code>, <code>n_out</code>:<code>int</code>, <code>bn</code>:<code>bool</code>=`True`, <code>p</code>:<code>float</code>=`0.0`, <code>actn</code>:`Optional`[[<code>Module</code>](https://pytorch.org/docs/stable/nn.html#torch.nn.Module)]=`None`)<div style=\"text-align: right\"><a href=\"https://github.com/fastai/fastai_pytorch/blob/master/fastai/layers.py#L28\">[source]</a></div>\n\n\n`n_in`->bn->dropout->linear(`n_in`,`n_out`)->`actn`",
      "text/plain": "<IPython.core.display.Markdown object>"
     },
     "metadata": {},
     "output_type": "display_data"
    }
   ],
   "source": "show_doc(bn_drop_lin)"
  },
  {
   "cell_type": "markdown",
   "metadata": {},
   "source": "[`bn_drop_lin`](/layers.html#bn_drop_lin)"
  },
  {
   "cell_type": "code",
   "execution_count": null,
   "metadata": {
    "hide_input": true
   },
   "outputs": [
    {
     "data": {
      "text/markdown": "#### <a id=conv2d></a>`conv2d`\n(<code>ni</code>:<code>int</code>, <code>nf</code>:<code>int</code>, <code>ks</code>:<code>int</code>=`3`, <code>stride</code>:<code>int</code>=`1`, <code>padding</code>:<code>int</code>=`None`, <code>bias</code>=`False`) -> [<code>Conv2d</code>](https://pytorch.org/docs/stable/nn.html#torch.nn.Conv2d)<div style=\"text-align: right\"><a href=\"https://github.com/fastai/fastai_pytorch/blob/master/fastai/layers.py#L36\">[source]</a></div>\n\n\nCreate `nn.Conv2d` layer: `ni` inputs, `nf` outputs, `ks` kernel size. `padding` defaults to `k//2`",
      "text/plain": "<IPython.core.display.Markdown object>"
     },
     "metadata": {},
     "output_type": "display_data"
    }
   ],
   "source": "show_doc(conv2d)"
  },
  {
   "cell_type": "markdown",
   "metadata": {},
   "source": "[`conv2d`](/layers.html#conv2d)"
  },
  {
   "cell_type": "code",
   "execution_count": null,
   "metadata": {
    "hide_input": true
   },
   "outputs": [
    {
     "data": {
      "text/markdown": "#### <a id=conv2d_relu></a>`conv2d_relu`\n(<code>ni</code>:<code>int</code>, <code>nf</code>:<code>int</code>, <code>ks</code>:<code>int</code>=`3`, <code>stride</code>:<code>int</code>=`1`, <code>padding</code>:<code>int</code>=`None`, <code>bn</code>:<code>bool</code>=`False`) -> [<code>Sequential</code>](https://pytorch.org/docs/stable/nn.html#torch.nn.Sequential)<div style=\"text-align: right\"><a href=\"https://github.com/fastai/fastai_pytorch/blob/master/fastai/layers.py#L48\">[source]</a></div>\n\n\nCreate a [<code>conv2d</code>](http://docs.fast.ai/layers.html#conv2d) layer with `nn.ReLU` activation and optional(`bn`) `nn.BatchNorm2d`",
      "text/plain": "<IPython.core.display.Markdown object>"
     },
     "metadata": {},
     "output_type": "display_data"
    }
   ],
   "source": "show_doc(conv2d_relu)"
  },
  {
   "cell_type": "markdown",
   "metadata": {},
   "source": "[`conv2d_relu`](/layers.html#conv2d_relu)"
  },
  {
   "cell_type": "code",
   "execution_count": null,
   "metadata": {
    "hide_input": true
   },
   "outputs": [
    {
     "data": {
      "text/markdown": "#### <a id=conv2d_trans></a>`conv2d_trans`\n(<code>ni</code>:<code>int</code>, <code>nf</code>:<code>int</code>, <code>ks</code>:<code>int</code>=`2`, <code>stride</code>:<code>int</code>=`2`, <code>padding</code>:<code>int</code>=`0`) -> [<code>ConvTranspose2d</code>](https://pytorch.org/docs/stable/nn.html#torch.nn.ConvTranspose2d)<div style=\"text-align: right\"><a href=\"https://github.com/fastai/fastai_pytorch/blob/master/fastai/layers.py#L55\">[source]</a></div>\n\n\nCreate `nn.nn.ConvTranspose2d` layer: `ni` inputs, `nf` outputs, `ks` kernel size. `padding` defaults to 0",
      "text/plain": "<IPython.core.display.Markdown object>"
     },
     "metadata": {},
     "output_type": "display_data"
    }
   ],
   "source": "show_doc(conv2d_trans)"
  },
  {
   "cell_type": "markdown",
   "metadata": {},
   "source": "[`conv2d_trans`](/layers.html#conv2d_trans)"
  },
  {
   "cell_type": "code",
   "execution_count": null,
   "metadata": {
    "hide_input": true
   },
   "outputs": [
    {
     "data": {
      "text/markdown": "#### <a id=conv_layer></a>`conv_layer`\n(<code>ni</code>:<code>int</code>, <code>nf</code>:<code>int</code>, <code>ks</code>:<code>int</code>=`3`, <code>stride</code>:<code>int</code>=`1`) -> [<code>Sequential</code>](https://pytorch.org/docs/stable/nn.html#torch.nn.Sequential)<div style=\"text-align: right\"><a href=\"https://github.com/fastai/fastai_pytorch/blob/master/fastai/layers.py#L41\">[source]</a></div>\n\n\nCreate Conv2d->BatchNorm2d->LeakyReLu layer: `ni` input, `nf` out filters, `ks` kernel, `stride`:stride",
      "text/plain": "<IPython.core.display.Markdown object>"
     },
     "metadata": {},
     "output_type": "display_data"
    }
   ],
   "source": "show_doc(conv_layer)"
  },
  {
   "cell_type": "markdown",
   "metadata": {},
   "source": "[`conv_layer`](/layers.html#conv_layer)"
  },
  {
   "cell_type": "code",
   "execution_count": null,
   "metadata": {
    "hide_input": true
   },
   "outputs": [
    {
     "data": {
      "text/markdown": "#### <a id=get_embedding></a>`get_embedding`\n(<code>ni</code>:<code>int</code>, <code>nf</code>:<code>int</code>) -> [<code>Module</code>](https://pytorch.org/docs/stable/nn.html#torch.nn.Module)<div style=\"text-align: right\"><a href=\"https://github.com/fastai/fastai_pytorch/blob/master/fastai/layers.py#L111\">[source]</a></div>\n\n\nCreates an embedding layer",
      "text/plain": "<IPython.core.display.Markdown object>"
     },
     "metadata": {},
     "output_type": "display_data"
    }
   ],
   "source": "show_doc(get_embedding)"
  },
  {
   "cell_type": "markdown",
   "metadata": {},
   "source": "[`get_embedding`](/layers.html#get_embedding)"
  },
  {
   "cell_type": "code",
   "execution_count": null,
   "metadata": {
    "hide_input": true
   },
   "outputs": [
    {
     "data": {
      "text/markdown": "#### <a id=simple_cnn></a>`simple_cnn`\n(<code>actns</code>:<code>Collection</code>[<code>int</code>], <code>kernel_szs</code>:<code>Collection</code>[<code>int</code>], <code>strides</code>:<code>Collection</code>[<code>int</code>]) -> [<code>Sequential</code>](https://pytorch.org/docs/stable/nn.html#torch.nn.Sequential)<div style=\"text-align: right\"><a href=\"https://github.com/fastai/fastai_pytorch/blob/master/fastai/layers.py#L98\">[source]</a></div>\n\n\nCNN with [<code>conv2d_relu</code>](http://docs.fast.ai/layers.html#conv2d_relu) layers defined by `actns`, `kernel_szs` and `strides`",
      "text/plain": "<IPython.core.display.Markdown object>"
     },
     "metadata": {},
     "output_type": "display_data"
    }
   ],
   "source": "show_doc(simple_cnn)"
  },
  {
   "cell_type": "markdown",
   "metadata": {},
   "source": "[`simple_cnn`](/layers.html#simple_cnn)"
  },
  {
   "cell_type": "code",
   "execution_count": null,
   "metadata": {
    "hide_input": true
   },
   "outputs": [
    {
     "data": {
      "text/markdown": "#### <a id=std_upsample_head></a>`std_upsample_head`\n(<code>c</code>, <code>nfs</code>:<code>Collection</code>[<code>int</code>]) -> [<code>Module</code>](https://pytorch.org/docs/stable/nn.html#torch.nn.Module)<div style=\"text-align: right\"><a href=\"https://github.com/fastai/fastai_pytorch/blob/master/fastai/layers.py#L84\">[source]</a></div>\n\n\nCreates a sequence of upsample layers",
      "text/plain": "<IPython.core.display.Markdown object>"
     },
     "metadata": {},
     "output_type": "display_data"
    }
   ],
   "source": "show_doc(std_upsample_head)"
  },
  {
   "cell_type": "markdown",
   "metadata": {},
   "source": "[`std_upsample_head`](/layers.html#std_upsample_head)"
  },
  {
   "cell_type": "code",
   "execution_count": null,
   "metadata": {
    "hide_input": true
   },
   "outputs": [
    {
     "data": {
      "text/markdown": "#### <a id=trunc_normal_></a>`trunc_normal_`\n(<code>x</code>:<code>Tensor</code>, <code>mean</code>:<code>float</code>=`0.0`, <code>std</code>:<code>float</code>=`1.0`) -> <code>Tensor</code><div style=\"text-align: right\"><a href=\"https://github.com/fastai/fastai_pytorch/blob/master/fastai/layers.py#L106\">[source]</a></div>\n\n\nTruncated normal initialization",
      "text/plain": "<IPython.core.display.Markdown object>"
     },
     "metadata": {},
     "output_type": "display_data"
    }
   ],
   "source": "show_doc(trunc_normal_)"
  },
  {
   "cell_type": "markdown",
   "metadata": {},
   "source": "[`trunc_normal_`](/layers.html#trunc_normal_)"
  }
 ],
 "metadata": {
  "jekyll": {
   "summary": "`fastai.layers` provides essential functions to building and modifying `model` architectures",
   "title": "layers"
  },
  "kernelspec": {
   "display_name": "Python 3",
   "language": "python",
   "name": "python3"
  }
 },
 "nbformat": 4,
 "nbformat_minor": 2
}
