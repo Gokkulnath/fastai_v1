{
 "cells": [
  {
   "cell_type": "markdown",
   "metadata": {},
   "source": "# models.rnn"
  },
  {
   "cell_type": "markdown",
   "metadata": {},
   "source": "Type an introduction of the package here. Links to relevant papers: [recurrent neural network](http://www.pnas.org/content/79/8/2554) [AWD LSTM](https://arxiv.org/pdf/1708.02182.pdf)"
  },
  {
   "cell_type": "code",
   "execution_count": null,
   "metadata": {
    "hide_input": true
   },
   "outputs": [],
   "source": "from fastai.gen_doc.nbdoc import *\nfrom fastai.models.rnn import * "
  },
  {
   "cell_type": "markdown",
   "metadata": {},
   "source": "### Global Variable Definitions:"
  },
  {
   "cell_type": "code",
   "execution_count": null,
   "metadata": {
    "hide_input": true
   },
   "outputs": [
    {
     "data": {
      "text/markdown": "### <a id=EmbeddingDropout></a><em>class</em> `EmbeddingDropout`\n(<code>emb</code>:[<code>Module</code>](https://pytorch.org/docs/stable/nn.html#torch.nn.Module), <code>embed_p</code>:<code>float</code>) :: Inherits ([<code>Module</code>](https://pytorch.org/docs/stable/nn.html#torch.nn.Module))<div style=\"text-align: right\"><a href=\"https://github.com/fastai/fastai_pytorch/blob/master/fastai/models/rnn.py#L50\">[source]</a></div>\n\n\nApplies dropout in the embedding layer by zeroing out some elements of the embedding vector.",
      "text/plain": "<IPython.core.display.Markdown object>"
     },
     "metadata": {},
     "output_type": "display_data"
    }
   ],
   "source": "show_doc(EmbeddingDropout)"
  },
  {
   "cell_type": "markdown",
   "metadata": {},
   "source": "[`EmbeddingDropout`](/models.rnn.html#EmbeddingDropout)"
  },
  {
   "cell_type": "code",
   "execution_count": null,
   "metadata": {
    "hide_input": true
   },
   "outputs": [
    {
     "data": {
      "text/markdown": "#### <a id=forward></a>`forward`\n(<code>words</code>:<code>LongTensor</code>, <code>scale</code>:`Optional`[<code>float</code>]=`None`) -> <code>Tensor</code><div style=\"text-align: right\"><a href=\"https://github.com/fastai/fastai_pytorch/blob/master/fastai/models/rnn.py#L59\">[source]</a></div>\n\n\nShould be overridden by all subclasses.\n\n.. note::\n    Although the recipe for forward pass needs to be defined within\n    this function, one should call the :class:`Module` instance afterwards\n    instead of this since the former takes care of running the\n    registered hooks while the latter silently ignores them.",
      "text/plain": "<IPython.core.display.Markdown object>"
     },
     "metadata": {},
     "output_type": "display_data"
    }
   ],
   "source": "show_doc(EmbeddingDropout.forward)"
  },
  {
   "cell_type": "markdown",
   "metadata": {},
   "source": "`EmbeddingDropout.forward`"
  },
  {
   "cell_type": "code",
   "execution_count": null,
   "metadata": {
    "hide_input": true
   },
   "outputs": [
    {
     "data": {
      "text/markdown": "### <a id=LinearDecoder></a><em>class</em> `LinearDecoder`\n(<code>n_out</code>:<code>int</code>, <code>n_hid</code>:<code>int</code>, <code>output_p</code>:<code>float</code>, <code>tie_encoder</code>:[<code>Module</code>](https://pytorch.org/docs/stable/nn.html#torch.nn.Module)=`None`, <code>bias</code>:<code>bool</code>=`True`) :: Inherits ([<code>Module</code>](https://pytorch.org/docs/stable/nn.html#torch.nn.Module))<div style=\"text-align: right\"><a href=\"https://github.com/fastai/fastai_pytorch/blob/master/fastai/models/rnn.py#L132\">[source]</a></div>\n\n\nTo go on top of a RNN_Core module",
      "text/plain": "<IPython.core.display.Markdown object>"
     },
     "metadata": {},
     "output_type": "display_data"
    }
   ],
   "source": "show_doc(LinearDecoder)"
  },
  {
   "cell_type": "markdown",
   "metadata": {},
   "source": "[`LinearDecoder`](/models.rnn.html#LinearDecoder)"
  },
  {
   "cell_type": "code",
   "execution_count": null,
   "metadata": {
    "hide_input": true
   },
   "outputs": [
    {
     "data": {
      "text/markdown": "#### <a id=forward></a>`forward`\n(<code>input</code>:<code>Tuple</code>[<code>Tensor</code>, <code>Tensor</code>]) -> <code>Tuple</code>[<code>Tensor</code>, <code>Tensor</code>, <code>Tensor</code>]<div style=\"text-align: right\"><a href=\"https://github.com/fastai/fastai_pytorch/blob/master/fastai/models/rnn.py#L145\">[source]</a></div>\n\n\nShould be overridden by all subclasses.\n\n.. note::\n    Although the recipe for forward pass needs to be defined within\n    this function, one should call the :class:`Module` instance afterwards\n    instead of this since the former takes care of running the\n    registered hooks while the latter silently ignores them.",
      "text/plain": "<IPython.core.display.Markdown object>"
     },
     "metadata": {},
     "output_type": "display_data"
    }
   ],
   "source": "show_doc(LinearDecoder.forward)"
  },
  {
   "cell_type": "markdown",
   "metadata": {},
   "source": "`LinearDecoder.forward`"
  },
  {
   "cell_type": "code",
   "execution_count": null,
   "metadata": {
    "hide_input": true
   },
   "outputs": [
    {
     "data": {
      "text/markdown": "### <a id=MultiBatchRNNCore></a><em>class</em> `MultiBatchRNNCore`\n(<code>bptt</code>:<code>int</code>, <code>max_seq</code>:<code>int</code>, <code>args</code>, <code>kwargs</code>) :: Inherits ([<code>RNNCore</code>](fastai.models.rnn.html#RNNCore))<div style=\"text-align: right\"><a href=\"https://github.com/fastai/fastai_pytorch/blob/master/fastai/models/rnn.py#L157\">[source]</a></div>\n\n\nCreates a RNNCore module that can process a full sentence.",
      "text/plain": "<IPython.core.display.Markdown object>"
     },
     "metadata": {},
     "output_type": "display_data"
    }
   ],
   "source": "show_doc(MultiBatchRNNCore)"
  },
  {
   "cell_type": "markdown",
   "metadata": {},
   "source": "[`MultiBatchRNNCore`](/models.rnn.html#MultiBatchRNNCore)"
  },
  {
   "cell_type": "code",
   "execution_count": null,
   "metadata": {
    "hide_input": true
   },
   "outputs": [
    {
     "data": {
      "text/markdown": "#### <a id=concat></a>`concat`\n(<code>arrs</code>:<code>Collection</code>[<code>Tensor</code>]) -> <code>Tensor</code><div style=\"text-align: right\"><a href=\"https://github.com/fastai/fastai_pytorch/blob/master/fastai/models/rnn.py#L164\">[source]</a></div>\n\n\nConcatenates the arrays along the batch dimension.",
      "text/plain": "<IPython.core.display.Markdown object>"
     },
     "metadata": {},
     "output_type": "display_data"
    }
   ],
   "source": "show_doc(MultiBatchRNNCore.concat)"
  },
  {
   "cell_type": "markdown",
   "metadata": {},
   "source": "`MultiBatchRNNCore.concat`"
  },
  {
   "cell_type": "code",
   "execution_count": null,
   "metadata": {
    "hide_input": true
   },
   "outputs": [
    {
     "data": {
      "text/markdown": "#### <a id=forward></a>`forward`\n(<code>input</code>:<code>LongTensor</code>) -> <code>Tuple</code>[<code>Tensor</code>, <code>Tensor</code>]<div style=\"text-align: right\"><a href=\"https://github.com/fastai/fastai_pytorch/blob/master/fastai/models/rnn.py#L168\">[source]</a></div>\n\n\nShould be overridden by all subclasses.\n\n.. note::\n    Although the recipe for forward pass needs to be defined within\n    this function, one should call the :class:`Module` instance afterwards\n    instead of this since the former takes care of running the\n    registered hooks while the latter silently ignores them.",
      "text/plain": "<IPython.core.display.Markdown object>"
     },
     "metadata": {},
     "output_type": "display_data"
    }
   ],
   "source": "show_doc(MultiBatchRNNCore.forward)"
  },
  {
   "cell_type": "markdown",
   "metadata": {},
   "source": "`MultiBatchRNNCore.forward`"
  },
  {
   "cell_type": "code",
   "execution_count": null,
   "metadata": {
    "hide_input": true
   },
   "outputs": [
    {
     "data": {
      "text/markdown": "### <a id=PoolingLinearClassifier></a><em>class</em> `PoolingLinearClassifier`\n(<code>layers</code>:<code>Collection</code>[<code>int</code>], <code>drops</code>:<code>Collection</code>[<code>float</code>]) :: Inherits ([<code>Module</code>](https://pytorch.org/docs/stable/nn.html#torch.nn.Module))<div style=\"text-align: right\"><a href=\"https://github.com/fastai/fastai_pytorch/blob/master/fastai/models/rnn.py#L179\">[source]</a></div>\n\n\nCreates a linear classifier with pooling.",
      "text/plain": "<IPython.core.display.Markdown object>"
     },
     "metadata": {},
     "output_type": "display_data"
    }
   ],
   "source": "show_doc(PoolingLinearClassifier)"
  },
  {
   "cell_type": "markdown",
   "metadata": {},
   "source": "[`PoolingLinearClassifier`](/models.rnn.html#PoolingLinearClassifier)"
  },
  {
   "cell_type": "code",
   "execution_count": null,
   "metadata": {
    "hide_input": true
   },
   "outputs": [
    {
     "data": {
      "text/markdown": "#### <a id=forward></a>`forward`\n(<code>input</code>:<code>Tuple</code>[<code>Tensor</code>, <code>Tensor</code>]) -> <code>Tuple</code>[<code>Tensor</code>, <code>Tensor</code>, <code>Tensor</code>]<div style=\"text-align: right\"><a href=\"https://github.com/fastai/fastai_pytorch/blob/master/fastai/models/rnn.py#L195\">[source]</a></div>\n\n\nShould be overridden by all subclasses.\n\n.. note::\n    Although the recipe for forward pass needs to be defined within\n    this function, one should call the :class:`Module` instance afterwards\n    instead of this since the former takes care of running the\n    registered hooks while the latter silently ignores them.",
      "text/plain": "<IPython.core.display.Markdown object>"
     },
     "metadata": {},
     "output_type": "display_data"
    }
   ],
   "source": "show_doc(PoolingLinearClassifier.forward)"
  },
  {
   "cell_type": "markdown",
   "metadata": {},
   "source": "`PoolingLinearClassifier.forward`"
  },
  {
   "cell_type": "code",
   "execution_count": null,
   "metadata": {
    "hide_input": true
   },
   "outputs": [
    {
     "data": {
      "text/markdown": "#### <a id=pool></a>`pool`\n(<code>x</code>:<code>Tensor</code>, <code>bs</code>:<code>int</code>, <code>is_max</code>:<code>bool</code>)<div style=\"text-align: right\"><a href=\"https://github.com/fastai/fastai_pytorch/blob/master/fastai/models/rnn.py#L190\">[source]</a></div>\n\n\nPools the tensor along the seq_len dimension.",
      "text/plain": "<IPython.core.display.Markdown object>"
     },
     "metadata": {},
     "output_type": "display_data"
    }
   ],
   "source": "show_doc(PoolingLinearClassifier.pool)"
  },
  {
   "cell_type": "markdown",
   "metadata": {},
   "source": "`PoolingLinearClassifier.pool`"
  },
  {
   "cell_type": "code",
   "execution_count": null,
   "metadata": {
    "hide_input": true
   },
   "outputs": [
    {
     "data": {
      "text/markdown": "### <a id=RNNCore></a><em>class</em> `RNNCore`\n(<code>vocab_sz</code>:<code>int</code>, <code>emb_sz</code>:<code>int</code>, <code>n_hid</code>:<code>int</code>, <code>n_layers</code>:<code>int</code>, <code>pad_token</code>:<code>int</code>, <code>bidir</code>:<code>bool</code>=`False`, <code>hidden_p</code>:<code>float</code>=`0.2`, <code>input_p</code>:<code>float</code>=`0.6`, <code>embed_p</code>:<code>float</code>=`0.1`, <code>weight_p</code>:<code>float</code>=`0.5`, <code>qrnn</code>:<code>bool</code>=`False`) :: Inherits ([<code>Module</code>](https://pytorch.org/docs/stable/nn.html#torch.nn.Module))<div style=\"text-align: right\"><a href=\"https://github.com/fastai/fastai_pytorch/blob/master/fastai/models/rnn.py#L73\">[source]</a></div>\n\n\nAWD-LSTM/QRNN inspired by https://arxiv.org/abs/1708.02182",
      "text/plain": "<IPython.core.display.Markdown object>"
     },
     "metadata": {},
     "output_type": "display_data"
    }
   ],
   "source": "show_doc(RNNCore)"
  },
  {
   "cell_type": "markdown",
   "metadata": {},
   "source": "[`RNNCore`](/models.rnn.html#RNNCore)"
  },
  {
   "cell_type": "code",
   "execution_count": null,
   "metadata": {
    "hide_input": true
   },
   "outputs": [
    {
     "data": {
      "text/markdown": "#### <a id=forward></a>`forward`\n(<code>input</code>:<code>LongTensor</code>) -> <code>Tuple</code>[<code>Tensor</code>, <code>Tensor</code>]<div style=\"text-align: right\"><a href=\"https://github.com/fastai/fastai_pytorch/blob/master/fastai/models/rnn.py#L104\">[source]</a></div>\n\n\nShould be overridden by all subclasses.\n\n.. note::\n    Although the recipe for forward pass needs to be defined within\n    this function, one should call the :class:`Module` instance afterwards\n    instead of this since the former takes care of running the\n    registered hooks while the latter silently ignores them.",
      "text/plain": "<IPython.core.display.Markdown object>"
     },
     "metadata": {},
     "output_type": "display_data"
    }
   ],
   "source": "show_doc(RNNCore.forward)"
  },
  {
   "cell_type": "markdown",
   "metadata": {},
   "source": "`RNNCore.forward`"
  },
  {
   "cell_type": "code",
   "execution_count": null,
   "metadata": {
    "hide_input": true
   },
   "outputs": [
    {
     "data": {
      "text/markdown": "#### <a id=one_hidden></a>`one_hidden`(<code>l</code>:<code>int</code>) -> <code>Tensor</code><div style=\"text-align: right\"><a href=\"https://github.com/fastai/fastai_pytorch/blob/master/fastai/models/rnn.py#L120\">[source]</a></div>\n\n\nReturns one hidden state",
      "text/plain": "<IPython.core.display.Markdown object>"
     },
     "metadata": {},
     "output_type": "display_data"
    }
   ],
   "source": "show_doc(RNNCore.one_hidden)"
  },
  {
   "cell_type": "markdown",
   "metadata": {},
   "source": "`RNNCore.one_hidden`"
  },
  {
   "cell_type": "code",
   "execution_count": null,
   "metadata": {
    "hide_input": true
   },
   "outputs": [
    {
     "data": {
      "text/markdown": "#### <a id=reset></a>`reset`()<div style=\"text-align: right\"><a href=\"https://github.com/fastai/fastai_pytorch/blob/master/fastai/models/rnn.py#L125\">[source]</a></div>\n\n\nResets the hidden states",
      "text/plain": "<IPython.core.display.Markdown object>"
     },
     "metadata": {},
     "output_type": "display_data"
    }
   ],
   "source": "show_doc(RNNCore.reset)"
  },
  {
   "cell_type": "markdown",
   "metadata": {},
   "source": "`RNNCore.reset`"
  },
  {
   "cell_type": "code",
   "execution_count": null,
   "metadata": {
    "hide_input": true
   },
   "outputs": [
    {
     "data": {
      "text/markdown": "### <a id=RNNDropout></a><em>class</em> `RNNDropout`(<code>p</code>:<code>float</code>=`0.5`) :: Inherits ([<code>Module</code>](https://pytorch.org/docs/stable/nn.html#torch.nn.Module))<div style=\"text-align: right\"><a href=\"https://github.com/fastai/fastai_pytorch/blob/master/fastai/models/rnn.py#L11\">[source]</a></div>\n\n\nDropout that is consistent on the seq_len dimension",
      "text/plain": "<IPython.core.display.Markdown object>"
     },
     "metadata": {},
     "output_type": "display_data"
    }
   ],
   "source": "show_doc(RNNDropout)"
  },
  {
   "cell_type": "markdown",
   "metadata": {},
   "source": "[`RNNDropout`](/models.rnn.html#RNNDropout)"
  },
  {
   "cell_type": "code",
   "execution_count": null,
   "metadata": {
    "hide_input": true
   },
   "outputs": [
    {
     "data": {
      "text/markdown": "#### <a id=forward></a>`forward`(<code>x</code>:<code>Tensor</code>) -> <code>Tensor</code><div style=\"text-align: right\"><a href=\"https://github.com/fastai/fastai_pytorch/blob/master/fastai/models/rnn.py#L18\">[source]</a></div>\n\n\nShould be overridden by all subclasses.\n\n.. note::\n    Although the recipe for forward pass needs to be defined within\n    this function, one should call the :class:`Module` instance afterwards\n    instead of this since the former takes care of running the\n    registered hooks while the latter silently ignores them.",
      "text/plain": "<IPython.core.display.Markdown object>"
     },
     "metadata": {},
     "output_type": "display_data"
    }
   ],
   "source": "show_doc(RNNDropout.forward)"
  },
  {
   "cell_type": "markdown",
   "metadata": {},
   "source": "`RNNDropout.forward`"
  },
  {
   "cell_type": "code",
   "execution_count": null,
   "metadata": {
    "hide_input": true
   },
   "outputs": [
    {
     "data": {
      "text/markdown": "### <a id=SequentialRNN></a><em>class</em> `SequentialRNN`(<code>args</code>) :: Inherits ([<code>Sequential</code>](https://pytorch.org/docs/stable/nn.html#torch.nn.Sequential))<div style=\"text-align: right\"><a href=\"https://github.com/fastai/fastai_pytorch/blob/master/fastai/models/rnn.py#L151\">[source]</a></div>\n\n\nA sequential module that passes the reset call to its children.",
      "text/plain": "<IPython.core.display.Markdown object>"
     },
     "metadata": {},
     "output_type": "display_data"
    }
   ],
   "source": "show_doc(SequentialRNN)"
  },
  {
   "cell_type": "markdown",
   "metadata": {},
   "source": "[`SequentialRNN`](/models.rnn.html#SequentialRNN)"
  },
  {
   "cell_type": "code",
   "execution_count": null,
   "metadata": {
    "hide_input": true
   },
   "outputs": [
    {
     "data": {
      "text/markdown": "#### <a id=reset></a>`reset`()<div style=\"text-align: right\"><a href=\"https://github.com/fastai/fastai_pytorch/blob/master/fastai/models/rnn.py#L153\">[source]</a></div>",
      "text/plain": "<IPython.core.display.Markdown object>"
     },
     "metadata": {},
     "output_type": "display_data"
    }
   ],
   "source": "show_doc(SequentialRNN.reset)"
  },
  {
   "cell_type": "markdown",
   "metadata": {},
   "source": "`SequentialRNN.reset`"
  },
  {
   "cell_type": "code",
   "execution_count": null,
   "metadata": {
    "hide_input": true
   },
   "outputs": [
    {
     "data": {
      "text/markdown": "### <a id=WeightDropout></a><em>class</em> `WeightDropout`\n(<code>module</code>:[<code>Module</code>](https://pytorch.org/docs/stable/nn.html#torch.nn.Module), <code>weight_p</code>:<code>float</code>, <code>layer_names</code>:<code>Collection</code>[<code>str</code>]=`['weight_hh_l0']`) :: Inherits ([<code>Module</code>](https://pytorch.org/docs/stable/nn.html#torch.nn.Module))<div style=\"text-align: right\"><a href=\"https://github.com/fastai/fastai_pytorch/blob/master/fastai/models/rnn.py#L23\">[source]</a></div>\n\n\nA module that warps another layer in which some weights will be replaced by 0 during training.",
      "text/plain": "<IPython.core.display.Markdown object>"
     },
     "metadata": {},
     "output_type": "display_data"
    }
   ],
   "source": "show_doc(WeightDropout)"
  },
  {
   "cell_type": "markdown",
   "metadata": {},
   "source": "[`WeightDropout`](/models.rnn.html#WeightDropout)"
  },
  {
   "cell_type": "code",
   "execution_count": null,
   "metadata": {
    "hide_input": true
   },
   "outputs": [
    {
     "data": {
      "text/markdown": "#### <a id=_setweights></a>`_setweights`()<div style=\"text-align: right\"><a href=\"https://github.com/fastai/fastai_pytorch/blob/master/fastai/models/rnn.py#L34\">[source]</a></div>\n\n\nApplies dropout to the raw weights",
      "text/plain": "<IPython.core.display.Markdown object>"
     },
     "metadata": {},
     "output_type": "display_data"
    }
   ],
   "source": "show_doc(WeightDropout._setweights)"
  },
  {
   "cell_type": "markdown",
   "metadata": {},
   "source": "`WeightDropout._setweights`"
  },
  {
   "cell_type": "code",
   "execution_count": null,
   "metadata": {
    "hide_input": true
   },
   "outputs": [
    {
     "data": {
      "text/markdown": "#### <a id=forward></a>`forward`(<code>args</code>:<code>Collection</code>[<code>Any</code>])<div style=\"text-align: right\"><a href=\"https://github.com/fastai/fastai_pytorch/blob/master/fastai/models/rnn.py#L40\">[source]</a></div>\n\n\nShould be overridden by all subclasses.\n\n.. note::\n    Although the recipe for forward pass needs to be defined within\n    this function, one should call the :class:`Module` instance afterwards\n    instead of this since the former takes care of running the\n    registered hooks while the latter silently ignores them.",
      "text/plain": "<IPython.core.display.Markdown object>"
     },
     "metadata": {},
     "output_type": "display_data"
    }
   ],
   "source": "show_doc(WeightDropout.forward)"
  },
  {
   "cell_type": "markdown",
   "metadata": {},
   "source": "`WeightDropout.forward`"
  },
  {
   "cell_type": "code",
   "execution_count": null,
   "metadata": {
    "hide_input": true
   },
   "outputs": [
    {
     "data": {
      "text/markdown": "#### <a id=reset></a>`reset`()<div style=\"text-align: right\"><a href=\"https://github.com/fastai/fastai_pytorch/blob/master/fastai/models/rnn.py#L47\">[source]</a></div>",
      "text/plain": "<IPython.core.display.Markdown object>"
     },
     "metadata": {},
     "output_type": "display_data"
    }
   ],
   "source": "show_doc(WeightDropout.reset)"
  },
  {
   "cell_type": "markdown",
   "metadata": {},
   "source": "`WeightDropout.reset`"
  },
  {
   "cell_type": "code",
   "execution_count": null,
   "metadata": {
    "hide_input": true
   },
   "outputs": [
    {
     "data": {
      "text/markdown": "#### <a id=dropout_mask></a>`dropout_mask`\n(<code>x</code>:<code>Tensor</code>, <code>sz</code>:<code>Collection</code>[<code>int</code>], <code>p</code>:<code>float</code>)<div style=\"text-align: right\"><a href=\"https://github.com/fastai/fastai_pytorch/blob/master/fastai/models/rnn.py#L7\">[source]</a></div>\n\n\nReturns a dropout mask of the same type as x, size sz, with probability p to cancel an element.",
      "text/plain": "<IPython.core.display.Markdown object>"
     },
     "metadata": {},
     "output_type": "display_data"
    }
   ],
   "source": "show_doc(dropout_mask)"
  },
  {
   "cell_type": "markdown",
   "metadata": {},
   "source": "[`dropout_mask`](/models.rnn.html#dropout_mask)"
  },
  {
   "cell_type": "code",
   "execution_count": null,
   "metadata": {
    "hide_input": true
   },
   "outputs": [
    {
     "data": {
      "text/markdown": "#### <a id=get_language_model></a>`get_language_model`\n(<code>vocab_sz</code>:<code>int</code>, <code>emb_sz</code>:<code>int</code>, <code>n_hid</code>:<code>int</code>, <code>n_layers</code>:<code>int</code>, <code>pad_token</code>:<code>int</code>, <code>tie_weights</code>:<code>bool</code>=`True`, <code>qrnn</code>:<code>bool</code>=`False`, <code>bias</code>:<code>bool</code>=`True`, <code>output_p</code>:<code>float</code>=`0.4`, <code>hidden_p</code>:<code>float</code>=`0.2`, <code>input_p</code>:<code>float</code>=`0.6`, <code>embed_p</code>:<code>float</code>=`0.1`, <code>weight_p</code>:<code>float</code>=`0.5`) -> [<code>Module</code>](https://pytorch.org/docs/stable/nn.html#torch.nn.Module)<div style=\"text-align: right\"><a href=\"https://github.com/fastai/fastai_pytorch/blob/master/fastai/models/rnn.py#L205\">[source]</a></div>\n\n\nTo create a full AWD-LSTM",
      "text/plain": "<IPython.core.display.Markdown object>"
     },
     "metadata": {},
     "output_type": "display_data"
    }
   ],
   "source": "show_doc(get_language_model)"
  },
  {
   "cell_type": "markdown",
   "metadata": {},
   "source": "[`get_language_model`](/models.rnn.html#get_language_model)"
  },
  {
   "cell_type": "code",
   "execution_count": null,
   "metadata": {
    "hide_input": true
   },
   "outputs": [
    {
     "data": {
      "text/markdown": "#### <a id=get_rnn_classifier></a>`get_rnn_classifier`\n(<code>bptt</code>:<code>int</code>, <code>max_seq</code>:<code>int</code>, <code>n_class</code>:<code>int</code>, <code>vocab_sz</code>:<code>int</code>, <code>emb_sz</code>:<code>int</code>, <code>n_hid</code>:<code>int</code>, <code>n_layers</code>:<code>int</code>, <code>pad_token</code>:<code>int</code>, <code>layers</code>:<code>Collection</code>[<code>int</code>], <code>drops</code>:<code>Collection</code>[<code>float</code>], <code>bidir</code>:<code>bool</code>=`False`, <code>qrnn</code>:<code>bool</code>=`False`, <code>hidden_p</code>:<code>float</code>=`0.2`, <code>input_p</code>:<code>float</code>=`0.6`, <code>embed_p</code>:<code>float</code>=`0.1`, <code>weight_p</code>:<code>float</code>=`0.5`) -> [<code>Module</code>](https://pytorch.org/docs/stable/nn.html#torch.nn.Module)<div style=\"text-align: right\"><a href=\"https://github.com/fastai/fastai_pytorch/blob/master/fastai/models/rnn.py#L214\">[source]</a></div>\n\n\nCreates a RNN classifier model",
      "text/plain": "<IPython.core.display.Markdown object>"
     },
     "metadata": {},
     "output_type": "display_data"
    }
   ],
   "source": "show_doc(get_rnn_classifier)"
  },
  {
   "cell_type": "markdown",
   "metadata": {},
   "source": "[`get_rnn_classifier`](/models.rnn.html#get_rnn_classifier)"
  },
  {
   "cell_type": "code",
   "execution_count": null,
   "metadata": {
    "hide_input": true
   },
   "outputs": [
    {
     "data": {
      "text/markdown": "#### <a id=repackage_var></a>`repackage_var`\n(<code>h</code>:<code>None</code>[<code>Tensor</code>, <code>Collection</code>[<code>str</code>]]) -> <code>None</code>[<code>Tensor</code>, <code>Collection</code>[<code>str</code>]]<div style=\"text-align: right\"><a href=\"https://github.com/fastai/fastai_pytorch/blob/master/fastai/models/rnn.py#L69\">[source]</a></div>\n\n\nDetaches h from its history.",
      "text/plain": "<IPython.core.display.Markdown object>"
     },
     "metadata": {},
     "output_type": "display_data"
    }
   ],
   "source": "show_doc(repackage_var)"
  },
  {
   "cell_type": "markdown",
   "metadata": {},
   "source": "[`repackage_var`](/models.rnn.html#repackage_var)"
  }
 ],
 "metadata": {
  "jekyll": {
   "title": "models.rnn"
  },
  "kernelspec": {
   "display_name": "Python 3",
   "language": "python",
   "name": "python3"
  }
 },
 "nbformat": 4,
 "nbformat_minor": 2
}
