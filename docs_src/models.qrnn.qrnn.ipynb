{
 "cells": [
  {
   "cell_type": "markdown",
   "metadata": {},
   "source": "# models.qrnn.qrnn"
  },
  {
   "cell_type": "markdown",
   "metadata": {},
   "source": "Type an introduction of the package here."
  },
  {
   "cell_type": "code",
   "execution_count": null,
   "metadata": {
    "hide_input": true
   },
   "outputs": [],
   "source": "from fastai.gen_doc.nbdoc import *\nfrom fastai.models.qrnn.qrnn import * "
  },
  {
   "cell_type": "code",
   "execution_count": null,
   "metadata": {
    "hide_input": true
   },
   "outputs": [
    {
     "data": {
      "text/markdown": "### <a id=QRNN></a><em>class</em> `QRNN`\n(<code>input_size</code>, <code>hidden_size</code>, <code>num_layers</code>=`1`, <code>bias</code>=`True`, <code>batch_first</code>=`False`, <code>dropout</code>=`0`, <code>bidirectional</code>=`False`, <code>layers</code>=`None`, <code>kwargs</code>) :: Inherits ([<code>Module</code>](https://pytorch.org/docs/stable/nn.html#torch.nn.Module))<div style=\"text-align: right\"><a href=\"https://github.com/fastai/fastai_pytorch/blob/master/fastai/models/qrnn/qrnn.py#L114\">[source]</a></div>\n\n\nArgs:\n    input_size: The number of expected features in the input x.\n    hidden_size: The number of features in the hidden state h. If not specified, the input size is used.\n    num_layers: The number of QRNN layers to produce.\n    layers: List of preconstructed QRNN layers to use for the QRNN module (optional).\n    save_prev_x: Whether to store previous inputs for use in future convolutional windows (i.e. for a continuing sequence such as in language modeling). If true, you must call reset to remove cached previous values of x. Default: False.\n    window: Defines the size of the convolutional window (how many previous tokens to look when computing the QRNN values). Supports 1 and 2. Default: 1.\n    zoneout: Whether to apply zoneout (i.e. failing to update elements in the hidden state) to the hidden state updates. Default: 0.\n    output_gate: If True, performs QRNN-fo (applying an output gate to the output). If False, performs QRNN-f. Default: True.\n    use_cuda: If True, uses fast custom CUDA kernel. If False, uses naive for loop. Default: True.\n\nInputs: X, hidden\n    - X (seq_len, batch, input_size): tensor containing the features of the input sequence.\n    - hidden (layers, batch, hidden_size): tensor containing the initial hidden state for the QRNN.\n\nOutputs: output, h_n\n    - output (seq_len, batch, hidden_size): tensor containing the output of the QRNN for each timestep.\n    - h_n (layers, batch, hidden_size): tensor containing the hidden state for t=seq_len",
      "text/plain": "<IPython.core.display.Markdown object>"
     },
     "metadata": {},
     "output_type": "display_data"
    }
   ],
   "source": "show_doc(QRNN)"
  },
  {
   "cell_type": "markdown",
   "metadata": {},
   "source": "[<code>QRNN</code>](http://docs.fast.ai/models.qrnn.qrnn.html#QRNN)"
  },
  {
   "cell_type": "code",
   "execution_count": null,
   "metadata": {
    "hide_input": true
   },
   "outputs": [
    {
     "data": {
      "text/markdown": "#### <a id=forward></a>`forward`(<code>input</code>, <code>hidden</code>=`None`)<div style=\"text-align: right\"><a href=\"https://github.com/fastai/fastai_pytorch/blob/master/fastai/models/qrnn/qrnn.py#L160\">[source]</a></div>\n\n\nShould be overridden by all subclasses.\n\n.. note::\n    Although the recipe for forward pass needs to be defined within\n    this function, one should call the :class:`Module` instance afterwards\n    instead of this since the former takes care of running the\n    registered hooks while the latter silently ignores them.",
      "text/plain": "<IPython.core.display.Markdown object>"
     },
     "metadata": {},
     "output_type": "display_data"
    }
   ],
   "source": "show_doc(QRNN.forward)"
  },
  {
   "cell_type": "markdown",
   "metadata": {},
   "source": "`QRNN.forward`"
  },
  {
   "cell_type": "code",
   "execution_count": null,
   "metadata": {
    "hide_input": true
   },
   "outputs": [
    {
     "data": {
      "text/markdown": "#### <a id=reset></a>`reset`()<div style=\"text-align: right\"><a href=\"https://github.com/fastai/fastai_pytorch/blob/master/fastai/models/qrnn/qrnn.py#L156\">[source]</a></div>\n\n\nIf your convolutional window is greater than 1, you must reset at the beginning of each new sequence",
      "text/plain": "<IPython.core.display.Markdown object>"
     },
     "metadata": {},
     "output_type": "display_data"
    }
   ],
   "source": "show_doc(QRNN.reset)"
  },
  {
   "cell_type": "markdown",
   "metadata": {},
   "source": "`QRNN.reset`"
  },
  {
   "cell_type": "code",
   "execution_count": null,
   "metadata": {
    "hide_input": true
   },
   "outputs": [
    {
     "data": {
      "text/markdown": "### <a id=QRNNLayer></a><em>class</em> `QRNNLayer`\n(<code>input_size</code>, <code>hidden_size</code>=`None`, <code>save_prev_x</code>=`False`, <code>zoneout</code>=`0`, <code>window</code>=`1`, <code>output_gate</code>=`True`, <code>use_cuda</code>=`True`) :: Inherits ([<code>Module</code>](https://pytorch.org/docs/stable/nn.html#torch.nn.Module))<div style=\"text-align: right\"><a href=\"https://github.com/fastai/fastai_pytorch/blob/master/fastai/models/qrnn/qrnn.py#L11\">[source]</a></div>\n\n\nArgs:\n    input_size: The number of expected features in the input x.\n    hidden_size: The number of features in the hidden state h. If not specified, the input size is used.\n    save_prev_x: Whether to store previous inputs for use in future convolutional windows (i.e. for a continuing sequence such as in language modeling). If true, you must call reset to remove cached previous values of x. Default: False.\n    window: Defines the size of the convolutional window (how many previous tokens to look when computing the QRNN values). Supports 1 and 2. Default: 1.\n    zoneout: Whether to apply zoneout (i.e. failing to update elements in the hidden state) to the hidden state updates. Default: 0.\n    output_gate: If True, performs QRNN-fo (applying an output gate to the output). If False, performs QRNN-f. Default: True.\n    use_cuda: If True, uses fast custom CUDA kernel. If False, uses naive for loop. Default: True.\n\nInputs: X, hidden\n    - X (seq_len, batch, input_size): tensor containing the features of the input sequence.\n    - hidden (batch, hidden_size): tensor containing the initial hidden state for the QRNN.\n\nOutputs: output, h_n\n    - output (seq_len, batch, hidden_size): tensor containing the output of the QRNN for each timestep.\n    - h_n (batch, hidden_size): tensor containing the hidden state for t=seq_len",
      "text/plain": "<IPython.core.display.Markdown object>"
     },
     "metadata": {},
     "output_type": "display_data"
    }
   ],
   "source": "show_doc(QRNNLayer)"
  },
  {
   "cell_type": "markdown",
   "metadata": {},
   "source": "[<code>QRNNLayer</code>](http://docs.fast.ai/models.qrnn.qrnn.html#QRNNLayer)"
  },
  {
   "cell_type": "code",
   "execution_count": null,
   "metadata": {
    "hide_input": true
   },
   "outputs": [
    {
     "data": {
      "text/markdown": "#### <a id=forward></a>`forward`(<code>X</code>, <code>hidden</code>=`None`)<div style=\"text-align: right\"><a href=\"https://github.com/fastai/fastai_pytorch/blob/master/fastai/models/qrnn/qrnn.py#L52\">[source]</a></div>\n\n\nShould be overridden by all subclasses.\n\n.. note::\n    Although the recipe for forward pass needs to be defined within\n    this function, one should call the :class:`Module` instance afterwards\n    instead of this since the former takes care of running the\n    registered hooks while the latter silently ignores them.",
      "text/plain": "<IPython.core.display.Markdown object>"
     },
     "metadata": {},
     "output_type": "display_data"
    }
   ],
   "source": "show_doc(QRNNLayer.forward)"
  },
  {
   "cell_type": "markdown",
   "metadata": {},
   "source": "`QRNNLayer.forward`"
  },
  {
   "cell_type": "code",
   "execution_count": null,
   "metadata": {
    "hide_input": true
   },
   "outputs": [
    {
     "data": {
      "text/markdown": "#### <a id=reset></a>`reset`()<div style=\"text-align: right\"><a href=\"https://github.com/fastai/fastai_pytorch/blob/master/fastai/models/qrnn/qrnn.py#L48\">[source]</a></div>",
      "text/plain": "<IPython.core.display.Markdown object>"
     },
     "metadata": {},
     "output_type": "display_data"
    }
   ],
   "source": "show_doc(QRNNLayer.reset)"
  },
  {
   "cell_type": "markdown",
   "metadata": {},
   "source": "`QRNNLayer.reset`"
  }
 ],
 "metadata": {
  "kernelspec": {
   "display_name": "Python 3",
   "language": "python",
   "name": "python3"
  }
 },
 "nbformat": 4,
 "nbformat_minor": 2
}
