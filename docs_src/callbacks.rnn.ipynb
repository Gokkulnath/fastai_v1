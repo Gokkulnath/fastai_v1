{
 "cells": [
  {
   "cell_type": "markdown",
   "metadata": {},
   "source": "# callbacks.rnn"
  },
  {
   "cell_type": "markdown",
   "metadata": {},
   "source": "Type an introduction of the package here."
  },
  {
   "cell_type": "code",
   "execution_count": null,
   "metadata": {
    "hide_input": true
   },
   "outputs": [],
   "source": "from fastai.gen_doc.nbdoc import *\nfrom fastai.callbacks.rnn import * "
  },
  {
   "cell_type": "markdown",
   "metadata": {},
   "source": "### Global Variable Definitions:"
  },
  {
   "cell_type": "code",
   "execution_count": null,
   "metadata": {
    "hide_input": true
   },
   "outputs": [
    {
     "data": {
      "text/markdown": "### <a id=RNNTrainer></a><em>class</em> `RNNTrainer`\n(<code>learn</code>:[<code>Learner</code>](fastai.basic_train.html#Learner), <code>bptt</code>:<code>int</code>, <code>alpha</code>:<code>float</code>=`0.0`, <code>beta</code>:<code>float</code>=`0.0`, <code>adjust</code>:<code>bool</code>=`True`) -> <code>NoneType</code> :: Inherits ([<code>Callback</code>](fastai.callback.html#Callback))<div style=\"text-align: right\"><a href=\"https://github.com/fastai/fastai_pytorch/blob/master/fastai/callbacks/rnn.py#L8\">[source]</a></div>\n\n\n[<code>Callback</code>](fastai.callback.html#Callback) that regroups lr adjustment to seq_len, AR and TAR",
      "text/plain": "<IPython.core.display.Markdown object>"
     },
     "metadata": {},
     "output_type": "display_data"
    }
   ],
   "source": "show_doc(RNNTrainer)"
  },
  {
   "cell_type": "markdown",
   "metadata": {},
   "source": "[`RNNTrainer`](/callbacks.rnn.html#RNNTrainer)"
  },
  {
   "cell_type": "code",
   "execution_count": null,
   "metadata": {
    "hide_input": true
   },
   "outputs": [
    {
     "data": {
      "text/markdown": "#### <a id=on_backward_begin></a>`on_backward_begin`\n(<code>last_loss</code>:<code>OneEltTensor</code>, <code>last_input</code>:<code>Tensor</code>, <code>last_output</code>:<code>Tensor</code>, <code>kwargs</code>)<div style=\"text-align: right\"><a href=\"https://github.com/fastai/fastai_pytorch/blob/master/fastai/callbacks/rnn.py#L21\">[source]</a></div>\n\n\nReturns the loss (which can allow us to modify it, for instance for reg functions)",
      "text/plain": "<IPython.core.display.Markdown object>"
     },
     "metadata": {},
     "output_type": "display_data"
    }
   ],
   "source": "show_doc(RNNTrainer.on_backward_begin)"
  },
  {
   "cell_type": "markdown",
   "metadata": {},
   "source": "`RNNTrainer.on_backward_begin`"
  },
  {
   "cell_type": "code",
   "execution_count": null,
   "metadata": {
    "hide_input": true
   },
   "outputs": [
    {
     "data": {
      "text/markdown": "#### <a id=on_loss_begin></a>`on_loss_begin`\n(<code>last_output</code>:<code>Tuple</code>[<code>Tensor</code>, <code>Tensor</code>, <code>Tensor</code>], <code>kwargs</code>)<div style=\"text-align: right\"><a href=\"https://github.com/fastai/fastai_pytorch/blob/master/fastai/callbacks/rnn.py#L16\">[source]</a></div>\n\n\nCalled after forward pass but before loss has been computed. Returns the output (which can allow us to modify it)",
      "text/plain": "<IPython.core.display.Markdown object>"
     },
     "metadata": {},
     "output_type": "display_data"
    }
   ],
   "source": "show_doc(RNNTrainer.on_loss_begin)"
  },
  {
   "cell_type": "markdown",
   "metadata": {},
   "source": "`RNNTrainer.on_loss_begin`"
  }
 ],
 "metadata": {
  "jekyll": {
   "summary": "Regroups lr adjustment to seq_len, AR and TAR",
   "title": "callbacks.rnn"
  },
  "kernelspec": {
   "display_name": "Python 3",
   "language": "python",
   "name": "python3"
  }
 },
 "nbformat": 4,
 "nbformat_minor": 2
}
