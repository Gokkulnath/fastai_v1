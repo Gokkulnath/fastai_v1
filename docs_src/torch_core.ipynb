{
 "cells": [
  {
   "cell_type": "markdown",
   "metadata": {},
   "source": "# torch_core"
  },
  {
   "cell_type": "markdown",
   "metadata": {},
   "source": "Type an introduction of the package here."
  },
  {
   "cell_type": "code",
   "execution_count": null,
   "metadata": {
    "hide_input": true
   },
   "outputs": [],
   "source": "from fastai.gen_doc.nbdoc import *\nfrom fastai.torch_core import * "
  },
  {
   "cell_type": "markdown",
   "metadata": {},
   "source": "### Global Variable Definitions:"
  },
  {
   "cell_type": "markdown",
   "metadata": {},
   "source": "`AdamW = partial(optim.Adam, betas=(0.9,0.99))` <div style=\"text-align: right\"><a href=\"https://github.com/fastai/fastai_pytorch/blob/master/fastai/torch_core.py#L43\">[source]</a></div>"
  },
  {
   "cell_type": "markdown",
   "metadata": {},
   "source": "`AffineFunc = Callable[[KWArgs], AffineMatrix]` <div style=\"text-align: right\"><a href=\"https://github.com/fastai/fastai_pytorch/blob/master/fastai/torch_core.py#L26\">[source]</a></div>"
  },
  {
   "cell_type": "markdown",
   "metadata": {},
   "source": "`AffineMatrix = Tensor` <div style=\"text-align: right\"><a href=\"https://github.com/fastai/fastai_pytorch/blob/master/fastai/torch_core.py#L4\">[source]</a></div>"
  },
  {
   "cell_type": "markdown",
   "metadata": {},
   "source": "`BoolOrTensor = Union[bool,Tensor]` <div style=\"text-align: right\"><a href=\"https://github.com/fastai/fastai_pytorch/blob/master/fastai/torch_core.py#L5\">[source]</a></div>"
  },
  {
   "cell_type": "markdown",
   "metadata": {},
   "source": "`CoordFunc = Callable[[FlowField, TensorImageSize, ArgStar, KWArgs], LogitTensorImage]` <div style=\"text-align: right\"><a href=\"https://github.com/fastai/fastai_pytorch/blob/master/fastai/torch_core.py#L38\">[source]</a></div>"
  },
  {
   "cell_type": "markdown",
   "metadata": {},
   "source": "`FloatOrTensor = Union[float,Tensor]` <div style=\"text-align: right\"><a href=\"https://github.com/fastai/fastai_pytorch/blob/master/fastai/torch_core.py#L6\">[source]</a></div>"
  },
  {
   "cell_type": "markdown",
   "metadata": {},
   "source": "`FlowField = Tensor` <div style=\"text-align: right\"><a href=\"https://github.com/fastai/fastai_pytorch/blob/master/fastai/torch_core.py#L7\">[source]</a></div>"
  },
  {
   "cell_type": "markdown",
   "metadata": {},
   "source": "`HookFunc = Callable[[Model, Tensors, Tensors], Any]` <div style=\"text-align: right\"><a href=\"https://github.com/fastai/fastai_pytorch/blob/master/fastai/torch_core.py#L27\">[source]</a></div>"
  },
  {
   "cell_type": "markdown",
   "metadata": {},
   "source": "`ItemsList = Collection[Union[Tensor,ItemBase,'ItemsList',float,int]]` <div style=\"text-align: right\"><a href=\"https://github.com/fastai/fastai_pytorch/blob/master/fastai/torch_core.py#L9\">[source]</a></div>"
  },
  {
   "cell_type": "markdown",
   "metadata": {},
   "source": "`LambdaFunc = Callable[[Tensor],Tensor]` <div style=\"text-align: right\"><a href=\"https://github.com/fastai/fastai_pytorch/blob/master/fastai/torch_core.py#L10\">[source]</a></div>"
  },
  {
   "cell_type": "markdown",
   "metadata": {},
   "source": "`LayerFunc = Callable[[nn.Module],None]` <div style=\"text-align: right\"><a href=\"https://github.com/fastai/fastai_pytorch/blob/master/fastai/torch_core.py#L11\">[source]</a></div>"
  },
  {
   "cell_type": "markdown",
   "metadata": {},
   "source": "`LightingFunc = Callable[[LogitTensorImage, ArgStar, KWArgs], LogitTensorImage]` <div style=\"text-align: right\"><a href=\"https://github.com/fastai/fastai_pytorch/blob/master/fastai/torch_core.py#L39\">[source]</a></div>"
  },
  {
   "cell_type": "markdown",
   "metadata": {},
   "source": "`LogitTensorImage = TensorImage` <div style=\"text-align: right\"><a href=\"https://github.com/fastai/fastai_pytorch/blob/master/fastai/torch_core.py#L28\">[source]</a></div>"
  },
  {
   "cell_type": "markdown",
   "metadata": {},
   "source": "`LossFunction = Callable[[Tensor, Tensor], Rank0Tensor]` <div style=\"text-align: right\"><a href=\"https://github.com/fastai/fastai_pytorch/blob/master/fastai/torch_core.py#L29\">[source]</a></div>"
  },
  {
   "cell_type": "markdown",
   "metadata": {},
   "source": "`MetricFunc = Callable[[Tensor,Tensor],TensorOrNumber]` <div style=\"text-align: right\"><a href=\"https://github.com/fastai/fastai_pytorch/blob/master/fastai/torch_core.py#L30\">[source]</a></div>"
  },
  {
   "cell_type": "markdown",
   "metadata": {},
   "source": "`MetricFuncList = Collection[MetricFunc]` <div style=\"text-align: right\"><a href=\"https://github.com/fastai/fastai_pytorch/blob/master/fastai/torch_core.py#L31\">[source]</a></div>"
  },
  {
   "cell_type": "markdown",
   "metadata": {},
   "source": "`MetricsList = Collection[TensorOrNumber]` <div style=\"text-align: right\"><a href=\"https://github.com/fastai/fastai_pytorch/blob/master/fastai/torch_core.py#L32\">[source]</a></div>"
  },
  {
   "cell_type": "markdown",
   "metadata": {},
   "source": "`Model = nn.Module` <div style=\"text-align: right\"><a href=\"https://github.com/fastai/fastai_pytorch/blob/master/fastai/torch_core.py#L12\">[source]</a></div>"
  },
  {
   "cell_type": "markdown",
   "metadata": {},
   "source": "`ModuleList = Collection[nn.Module]` <div style=\"text-align: right\"><a href=\"https://github.com/fastai/fastai_pytorch/blob/master/fastai/torch_core.py#L13\">[source]</a></div>"
  },
  {
   "cell_type": "markdown",
   "metadata": {},
   "source": "`OptLossFunc = Optional[LossFunction]` <div style=\"text-align: right\"><a href=\"https://github.com/fastai/fastai_pytorch/blob/master/fastai/torch_core.py#L33\">[source]</a></div>"
  },
  {
   "cell_type": "markdown",
   "metadata": {},
   "source": "`OptMetrics = Optional[MetricsList]` <div style=\"text-align: right\"><a href=\"https://github.com/fastai/fastai_pytorch/blob/master/fastai/torch_core.py#L34\">[source]</a></div>"
  },
  {
   "cell_type": "markdown",
   "metadata": {},
   "source": "`OptOptimizer = Optional[optim.Optimizer]` <div style=\"text-align: right\"><a href=\"https://github.com/fastai/fastai_pytorch/blob/master/fastai/torch_core.py#L14\">[source]</a></div>"
  },
  {
   "cell_type": "markdown",
   "metadata": {},
   "source": "`OptSplitFunc = Optional[SplitFunc]` <div style=\"text-align: right\"><a href=\"https://github.com/fastai/fastai_pytorch/blob/master/fastai/torch_core.py#L35\">[source]</a></div>"
  },
  {
   "cell_type": "markdown",
   "metadata": {},
   "source": "`ParamList = Collection[nn.Parameter]` <div style=\"text-align: right\"><a href=\"https://github.com/fastai/fastai_pytorch/blob/master/fastai/torch_core.py#L15\">[source]</a></div>"
  },
  {
   "cell_type": "markdown",
   "metadata": {},
   "source": "`PixelFunc = Callable[[TensorImage, ArgStar, KWArgs], TensorImage]` <div style=\"text-align: right\"><a href=\"https://github.com/fastai/fastai_pytorch/blob/master/fastai/torch_core.py#L36\">[source]</a></div>"
  },
  {
   "cell_type": "markdown",
   "metadata": {},
   "source": "`Rank0Tensor = NewType('OneEltTensor', Tensor)` <div style=\"text-align: right\"><a href=\"https://github.com/fastai/fastai_pytorch/blob/master/fastai/torch_core.py#L16\">[source]</a></div>"
  },
  {
   "cell_type": "markdown",
   "metadata": {},
   "source": "`SplitFunc = Callable[[Model], List[Model]]` <div style=\"text-align: right\"><a href=\"https://github.com/fastai/fastai_pytorch/blob/master/fastai/torch_core.py#L17\">[source]</a></div>"
  },
  {
   "cell_type": "markdown",
   "metadata": {},
   "source": "`SplitFuncOrIdxList = Union[Callable, Collection[ModuleList]]` <div style=\"text-align: right\"><a href=\"https://github.com/fastai/fastai_pytorch/blob/master/fastai/torch_core.py#L18\">[source]</a></div>"
  },
  {
   "cell_type": "markdown",
   "metadata": {},
   "source": "`TensorImage = Tensor` <div style=\"text-align: right\"><a href=\"https://github.com/fastai/fastai_pytorch/blob/master/fastai/torch_core.py#L21\">[source]</a></div>"
  },
  {
   "cell_type": "markdown",
   "metadata": {},
   "source": "`TensorImageSize = Tuple[int,int,int]` <div style=\"text-align: right\"><a href=\"https://github.com/fastai/fastai_pytorch/blob/master/fastai/torch_core.py#L22\">[source]</a></div>"
  },
  {
   "cell_type": "markdown",
   "metadata": {},
   "source": "`TensorOrNumList = Collection[TensorOrNumber]` <div style=\"text-align: right\"><a href=\"https://github.com/fastai/fastai_pytorch/blob/master/fastai/torch_core.py#L20\">[source]</a></div>"
  },
  {
   "cell_type": "markdown",
   "metadata": {},
   "source": "`TensorOrNumber = Union[Tensor,Number]` <div style=\"text-align: right\"><a href=\"https://github.com/fastai/fastai_pytorch/blob/master/fastai/torch_core.py#L19\">[source]</a></div>"
  },
  {
   "cell_type": "markdown",
   "metadata": {},
   "source": "`Tensors = Union[Tensor, Collection['Tensors']]` <div style=\"text-align: right\"><a href=\"https://github.com/fastai/fastai_pytorch/blob/master/fastai/torch_core.py#L23\">[source]</a></div>"
  },
  {
   "cell_type": "markdown",
   "metadata": {},
   "source": "`Weights = Dict[str,Tensor]` <div style=\"text-align: right\"><a href=\"https://github.com/fastai/fastai_pytorch/blob/master/fastai/torch_core.py#L24\">[source]</a></div>"
  },
  {
   "cell_type": "markdown",
   "metadata": {},
   "source": "`bn_types = (nn.BatchNorm1d, nn.BatchNorm2d, nn.BatchNorm3d)` <div style=\"text-align: right\"><a href=\"https://github.com/fastai/fastai_pytorch/blob/master/fastai/torch_core.py#L41\">[source]</a></div>"
  },
  {
   "cell_type": "markdown",
   "metadata": {},
   "source": "`default_device = torch.device('cuda') if torch.cuda.is_available() else torch.device('cpu')` <div style=\"text-align: right\"><a href=\"https://github.com/fastai/fastai_pytorch/blob/master/fastai/torch_core.py#L42\">[source]</a></div>"
  },
  {
   "cell_type": "markdown",
   "metadata": {},
   "source": "`flatten_model=lambda l: sum(map(flatten_model,l.children()),[]) if num_children(l) else [l]` <div style=\"text-align: right\"><a href=\"https://github.com/fastai/fastai_pytorch/blob/master/fastai/torch_core.py#L84\">[source]</a></div>"
  },
  {
   "cell_type": "code",
   "execution_count": null,
   "metadata": {
    "hide_input": true
   },
   "outputs": [
    {
     "data": {
      "text/markdown": "#### <a id=apply_init></a>`apply_init`\n(<code>m</code>, <code>init_fn</code>:`Optional`[[<code>Module</code>](https://pytorch.org/docs/stable/nn.html#torch.nn.Module)])<div style=\"text-align: right\"><a href=\"https://github.com/fastai/fastai_pytorch/blob/master/fastai/torch_core.py#L147\">[source]</a></div>\n\n\nInitialize all non-batchnorm layers of model with `init_fn`",
      "text/plain": "<IPython.core.display.Markdown object>"
     },
     "metadata": {},
     "output_type": "display_data"
    }
   ],
   "source": "show_doc(apply_init)"
  },
  {
   "cell_type": "markdown",
   "metadata": {},
   "source": "[`apply_init`](/torch_core.html#apply_init)"
  },
  {
   "cell_type": "code",
   "execution_count": null,
   "metadata": {
    "hide_input": true
   },
   "outputs": [
    {
     "data": {
      "text/markdown": "#### <a id=apply_leaf></a>`apply_leaf`\n(<code>m</code>:[<code>Module</code>](https://pytorch.org/docs/stable/nn.html#torch.nn.Module), <code>f</code>:`Optional`[[<code>Module</code>](https://pytorch.org/docs/stable/nn.html#torch.nn.Module)])<div style=\"text-align: right\"><a href=\"https://github.com/fastai/fastai_pytorch/blob/master/fastai/torch_core.py#L141\">[source]</a></div>\n\n\nApply `f` to children of m",
      "text/plain": "<IPython.core.display.Markdown object>"
     },
     "metadata": {},
     "output_type": "display_data"
    }
   ],
   "source": "show_doc(apply_leaf)"
  },
  {
   "cell_type": "markdown",
   "metadata": {},
   "source": "[`apply_leaf`](/torch_core.html#apply_leaf)"
  },
  {
   "cell_type": "code",
   "execution_count": null,
   "metadata": {
    "hide_input": true
   },
   "outputs": [
    {
     "data": {
      "text/markdown": "#### <a id=bn2float></a>`bn2float`\n(<code>module</code>:[<code>Module</code>](https://pytorch.org/docs/stable/nn.html#torch.nn.Module)) -> [<code>Module</code>](https://pytorch.org/docs/stable/nn.html#torch.nn.Module)<div style=\"text-align: right\"><a href=\"https://github.com/fastai/fastai_pytorch/blob/master/fastai/torch_core.py#L125\">[source]</a></div>\n\n\nIf a module is batchnorm don't use half precision",
      "text/plain": "<IPython.core.display.Markdown object>"
     },
     "metadata": {},
     "output_type": "display_data"
    }
   ],
   "source": "show_doc(bn2float)"
  },
  {
   "cell_type": "markdown",
   "metadata": {},
   "source": "[`bn2float`](/torch_core.html#bn2float)"
  },
  {
   "cell_type": "code",
   "execution_count": null,
   "metadata": {
    "hide_input": true
   },
   "outputs": [
    {
     "data": {
      "text/markdown": "#### <a id=calc_loss></a>`calc_loss`\n(<code>y_pred</code>:<code>Tensor</code>, <code>y_true</code>:<code>Tensor</code>, <code>loss_class</code>:<code>type</code>=`<class 'torch.nn.modules.loss.CrossEntropyLoss'>`)<div style=\"text-align: right\"><a href=\"https://github.com/fastai/fastai_pytorch/blob/master/fastai/torch_core.py#L157\">[source]</a></div>\n\n\nCalculate loss between `y_pred` and `y_true` using `loss_class`",
      "text/plain": "<IPython.core.display.Markdown object>"
     },
     "metadata": {},
     "output_type": "display_data"
    }
   ],
   "source": "show_doc(calc_loss)"
  },
  {
   "cell_type": "markdown",
   "metadata": {},
   "source": "[`calc_loss`](/torch_core.html#calc_loss)"
  },
  {
   "cell_type": "code",
   "execution_count": null,
   "metadata": {
    "hide_input": true
   },
   "outputs": [
    {
     "data": {
      "text/markdown": "#### <a id=children></a>`children`\n(<code>m</code>:[<code>Module</code>](https://pytorch.org/docs/stable/nn.html#torch.nn.Module)) -> <code>Collection</code>[[<code>Module</code>](https://pytorch.org/docs/stable/nn.html#torch.nn.Module)]<div style=\"text-align: right\"><a href=\"https://github.com/fastai/fastai_pytorch/blob/master/fastai/torch_core.py#L71\">[source]</a></div>\n\n\nGet children of module",
      "text/plain": "<IPython.core.display.Markdown object>"
     },
     "metadata": {},
     "output_type": "display_data"
    }
   ],
   "source": "show_doc(children)"
  },
  {
   "cell_type": "markdown",
   "metadata": {},
   "source": "[`children`](/torch_core.html#children)"
  },
  {
   "cell_type": "code",
   "execution_count": null,
   "metadata": {
    "hide_input": true
   },
   "outputs": [
    {
     "data": {
      "text/markdown": "#### <a id=cond_init></a>`cond_init`\n(<code>m</code>:[<code>Module</code>](https://pytorch.org/docs/stable/nn.html#torch.nn.Module), <code>init_fn</code>:`Optional`[[<code>Module</code>](https://pytorch.org/docs/stable/nn.html#torch.nn.Module)])<div style=\"text-align: right\"><a href=\"https://github.com/fastai/fastai_pytorch/blob/master/fastai/torch_core.py#L135\">[source]</a></div>\n\n\nInitialize the non-batchnorm layers",
      "text/plain": "<IPython.core.display.Markdown object>"
     },
     "metadata": {},
     "output_type": "display_data"
    }
   ],
   "source": "show_doc(cond_init)"
  },
  {
   "cell_type": "markdown",
   "metadata": {},
   "source": "[`cond_init`](/torch_core.html#cond_init)"
  },
  {
   "cell_type": "code",
   "execution_count": null,
   "metadata": {
    "hide_input": true
   },
   "outputs": [
    {
     "data": {
      "text/markdown": "#### <a id=data_collate></a>`data_collate`\n(<code>batch</code>:<code>Collection</code>[<code>None</code>[<code>Tensor</code>, [<code>ItemBase</code>](fastai.core.html#ItemBase), <code>str</code>, <code>float</code>, <code>int</code>]]) -> <code>Tensor</code><div style=\"text-align: right\"><a href=\"https://github.com/fastai/fastai_pytorch/blob/master/fastai/torch_core.py#L55\">[source]</a></div>\n\n\nConvert `batch` items to tensor data",
      "text/plain": "<IPython.core.display.Markdown object>"
     },
     "metadata": {},
     "output_type": "display_data"
    }
   ],
   "source": "show_doc(data_collate)"
  },
  {
   "cell_type": "markdown",
   "metadata": {},
   "source": "[`data_collate`](/torch_core.html#data_collate)"
  },
  {
   "cell_type": "code",
   "execution_count": null,
   "metadata": {
    "hide_input": true
   },
   "outputs": [
    {
     "data": {
      "text/markdown": "#### <a id=first_layer></a>`first_layer`\n(<code>m</code>:[<code>Module</code>](https://pytorch.org/docs/stable/nn.html#torch.nn.Module)) -> [<code>Module</code>](https://pytorch.org/docs/stable/nn.html#torch.nn.Module)<div style=\"text-align: right\"><a href=\"https://github.com/fastai/fastai_pytorch/blob/master/fastai/torch_core.py#L84\">[source]</a></div>\n\n\nRetrieve first layer in a module",
      "text/plain": "<IPython.core.display.Markdown object>"
     },
     "metadata": {},
     "output_type": "display_data"
    }
   ],
   "source": "show_doc(first_layer)"
  },
  {
   "cell_type": "markdown",
   "metadata": {},
   "source": "[`first_layer`](/torch_core.html#first_layer)"
  },
  {
   "cell_type": "code",
   "execution_count": null,
   "metadata": {
    "hide_input": true
   },
   "outputs": [
    {
     "data": {
      "text/markdown": "#### <a id=<lambda>></a>`<lambda>`(<code>l</code>)<div style=\"text-align: right\"><a href=\"https://github.com/fastai/fastai_pytorch/blob/master/fastai/torch_core.py#L83\">[source]</a></div>",
      "text/plain": "<IPython.core.display.Markdown object>"
     },
     "metadata": {},
     "output_type": "display_data"
    }
   ],
   "source": "show_doc(flatten_model)"
  },
  {
   "cell_type": "markdown",
   "metadata": {},
   "source": "[<code><lambda></code>](fastai.torch_core.html#<lambda>)"
  },
  {
   "cell_type": "code",
   "execution_count": null,
   "metadata": {
    "hide_input": true
   },
   "outputs": [
    {
     "data": {
      "text/markdown": "#### <a id=in_channels></a>`in_channels`\n(<code>m</code>:[<code>Module</code>](https://pytorch.org/docs/stable/nn.html#torch.nn.Module)) -> <code>List</code>[<code>int</code>]<div style=\"text-align: right\"><a href=\"https://github.com/fastai/fastai_pytorch/blob/master/fastai/torch_core.py#L151\">[source]</a></div>\n\n\nReturns the shape of the first weight layer",
      "text/plain": "<IPython.core.display.Markdown object>"
     },
     "metadata": {},
     "output_type": "display_data"
    }
   ],
   "source": "show_doc(in_channels)"
  },
  {
   "cell_type": "markdown",
   "metadata": {},
   "source": "[`in_channels`](/torch_core.html#in_channels)"
  },
  {
   "cell_type": "code",
   "execution_count": null,
   "metadata": {
    "hide_input": true
   },
   "outputs": [
    {
     "data": {
      "text/markdown": "#### <a id=model2half></a>`model2half`\n(<code>model</code>:[<code>Module</code>](https://pytorch.org/docs/stable/nn.html#torch.nn.Module)) -> [<code>Module</code>](https://pytorch.org/docs/stable/nn.html#torch.nn.Module)<div style=\"text-align: right\"><a href=\"https://github.com/fastai/fastai_pytorch/blob/master/fastai/torch_core.py#L131\">[source]</a></div>\n\n\nConverts the model to half precision except the batchnorm layers",
      "text/plain": "<IPython.core.display.Markdown object>"
     },
     "metadata": {},
     "output_type": "display_data"
    }
   ],
   "source": "show_doc(model2half)"
  },
  {
   "cell_type": "markdown",
   "metadata": {},
   "source": "[`model2half`](/torch_core.html#model2half)"
  },
  {
   "cell_type": "code",
   "execution_count": null,
   "metadata": {
    "hide_input": true
   },
   "outputs": [
    {
     "data": {
      "text/markdown": "#### <a id=num_children></a>`num_children`\n(<code>m</code>:[<code>Module</code>](https://pytorch.org/docs/stable/nn.html#torch.nn.Module)) -> <code>int</code><div style=\"text-align: right\"><a href=\"https://github.com/fastai/fastai_pytorch/blob/master/fastai/torch_core.py#L75\">[source]</a></div>\n\n\nGet number of child modules in module",
      "text/plain": "<IPython.core.display.Markdown object>"
     },
     "metadata": {},
     "output_type": "display_data"
    }
   ],
   "source": "show_doc(num_children)"
  },
  {
   "cell_type": "markdown",
   "metadata": {},
   "source": "[`num_children`](/torch_core.html#num_children)"
  },
  {
   "cell_type": "code",
   "execution_count": null,
   "metadata": {
    "hide_input": true
   },
   "outputs": [
    {
     "data": {
      "text/markdown": "#### <a id=range_children></a>`range_children`\n(<code>m</code>:[<code>Module</code>](https://pytorch.org/docs/stable/nn.html#torch.nn.Module)) -> <code>Iterator</code>[<code>int</code>]<div style=\"text-align: right\"><a href=\"https://github.com/fastai/fastai_pytorch/blob/master/fastai/torch_core.py#L79\">[source]</a></div>\n\n\nReturn iterator of len of children of m",
      "text/plain": "<IPython.core.display.Markdown object>"
     },
     "metadata": {},
     "output_type": "display_data"
    }
   ],
   "source": "show_doc(range_children)"
  },
  {
   "cell_type": "markdown",
   "metadata": {},
   "source": "[`range_children`](/torch_core.html#range_children)"
  },
  {
   "cell_type": "code",
   "execution_count": null,
   "metadata": {
    "hide_input": true
   },
   "outputs": [
    {
     "data": {
      "text/markdown": "#### <a id=requires_grad></a>`requires_grad`\n(<code>l</code>:[<code>Module</code>](https://pytorch.org/docs/stable/nn.html#torch.nn.Module), <code>b</code>:`Optional`[<code>bool</code>]=`None`) -> `Optional`[<code>bool</code>]<div style=\"text-align: right\"><a href=\"https://github.com/fastai/fastai_pytorch/blob/master/fastai/torch_core.py#L59\">[source]</a></div>\n\n\nIf b is not set requires_grad on all params in l, else return requires_grad of first param",
      "text/plain": "<IPython.core.display.Markdown object>"
     },
     "metadata": {},
     "output_type": "display_data"
    }
   ],
   "source": "show_doc(requires_grad)"
  },
  {
   "cell_type": "markdown",
   "metadata": {},
   "source": "[`requires_grad`](/torch_core.html#requires_grad)"
  },
  {
   "cell_type": "code",
   "execution_count": null,
   "metadata": {
    "hide_input": true
   },
   "outputs": [
    {
     "data": {
      "text/markdown": "#### <a id=set_bn_eval></a>`set_bn_eval`\n(<code>m</code>:[<code>Module</code>](https://pytorch.org/docs/stable/nn.html#torch.nn.Module)) -> <code>NoneType</code><div style=\"text-align: right\"><a href=\"https://github.com/fastai/fastai_pytorch/blob/master/fastai/torch_core.py#L114\">[source]</a></div>\n\n\nSet bn layers in eval mode for all recursive children of m",
      "text/plain": "<IPython.core.display.Markdown object>"
     },
     "metadata": {},
     "output_type": "display_data"
    }
   ],
   "source": "show_doc(set_bn_eval)"
  },
  {
   "cell_type": "markdown",
   "metadata": {},
   "source": "[`set_bn_eval`](/torch_core.html#set_bn_eval)"
  },
  {
   "cell_type": "code",
   "execution_count": null,
   "metadata": {
    "hide_input": true
   },
   "outputs": [
    {
     "data": {
      "text/markdown": "#### <a id=split_bn_bias></a>`split_bn_bias`\n(<code>layer_groups</code>:<code>Collection</code>[[<code>Module</code>](https://pytorch.org/docs/stable/nn.html#torch.nn.Module)]) -> <code>Collection</code>[[<code>Module</code>](https://pytorch.org/docs/stable/nn.html#torch.nn.Module)]<div style=\"text-align: right\"><a href=\"https://github.com/fastai/fastai_pytorch/blob/master/fastai/torch_core.py#L103\">[source]</a></div>\n\n\nSort each layer in  `layer_groups` into batchnorm (<code>tuple</code>) and non-batchnorm groups",
      "text/plain": "<IPython.core.display.Markdown object>"
     },
     "metadata": {},
     "output_type": "display_data"
    }
   ],
   "source": "show_doc(split_bn_bias)"
  },
  {
   "cell_type": "markdown",
   "metadata": {},
   "source": "[`split_bn_bias`](/torch_core.html#split_bn_bias)"
  },
  {
   "cell_type": "code",
   "execution_count": null,
   "metadata": {
    "hide_input": true
   },
   "outputs": [
    {
     "data": {
      "text/markdown": "#### <a id=split_model></a>`split_model`\n(<code>model</code>:[<code>Module</code>](https://pytorch.org/docs/stable/nn.html#torch.nn.Module), <code>splits</code>:<code>Collection</code>[<code>Collection</code>[[<code>Module</code>](https://pytorch.org/docs/stable/nn.html#torch.nn.Module)]], <code>want_idxs</code>:<code>bool</code>=`False`)<div style=\"text-align: right\"><a href=\"https://github.com/fastai/fastai_pytorch/blob/master/fastai/torch_core.py#L95\">[source]</a></div>\n\n\nSplit the model according to the layers in [splits]",
      "text/plain": "<IPython.core.display.Markdown object>"
     },
     "metadata": {},
     "output_type": "display_data"
    }
   ],
   "source": "show_doc(split_model)"
  },
  {
   "cell_type": "markdown",
   "metadata": {},
   "source": "[`split_model`](/torch_core.html#split_model)"
  },
  {
   "cell_type": "code",
   "execution_count": null,
   "metadata": {
    "hide_input": true
   },
   "outputs": [
    {
     "data": {
      "text/markdown": "#### <a id=split_model_idx></a>`split_model_idx`\n(<code>model</code>:[<code>Module</code>](https://pytorch.org/docs/stable/nn.html#torch.nn.Module), <code>idxs</code>:<code>Collection</code>[<code>int</code>]) -> <code>Collection</code>[[<code>Module</code>](https://pytorch.org/docs/stable/nn.html#torch.nn.Module)]<div style=\"text-align: right\"><a href=\"https://github.com/fastai/fastai_pytorch/blob/master/fastai/torch_core.py#L88\">[source]</a></div>\n\n\nSplit the model according to the indices in [idxs]",
      "text/plain": "<IPython.core.display.Markdown object>"
     },
     "metadata": {},
     "output_type": "display_data"
    }
   ],
   "source": "show_doc(split_model_idx)"
  },
  {
   "cell_type": "markdown",
   "metadata": {},
   "source": "[`split_model_idx`](/torch_core.html#split_model_idx)"
  },
  {
   "cell_type": "code",
   "execution_count": null,
   "metadata": {
    "hide_input": true
   },
   "outputs": [
    {
     "data": {
      "text/markdown": "#### <a id=to_data></a>`to_data`\n(<code>b</code>:<code>Collection</code>[<code>None</code>[<code>Tensor</code>, [<code>ItemBase</code>](fastai.core.html#ItemBase), <code>str</code>, <code>float</code>, <code>int</code>]])<div style=\"text-align: right\"><a href=\"https://github.com/fastai/fastai_pytorch/blob/master/fastai/torch_core.py#L44\">[source]</a></div>\n\n\nRecursively maps lists of items to their wrapped data",
      "text/plain": "<IPython.core.display.Markdown object>"
     },
     "metadata": {},
     "output_type": "display_data"
    }
   ],
   "source": "show_doc(to_data)"
  },
  {
   "cell_type": "markdown",
   "metadata": {},
   "source": "[`to_data`](/torch_core.html#to_data)"
  },
  {
   "cell_type": "code",
   "execution_count": null,
   "metadata": {
    "hide_input": true
   },
   "outputs": [
    {
     "data": {
      "text/markdown": "#### <a id=to_device></a>`to_device`\n(<code>b</code>:<code>None</code>[<code>Tensor</code>, <code>Collection</code>[<code>str</code>]], <code>device</code>:[<code>device</code>](https://pytorch.org/docs/stable/torch.html#torch.device))<div style=\"text-align: right\"><a href=\"https://github.com/fastai/fastai_pytorch/blob/master/fastai/torch_core.py#L49\">[source]</a></div>\n\n\nEnsure `b` is on `device`",
      "text/plain": "<IPython.core.display.Markdown object>"
     },
     "metadata": {},
     "output_type": "display_data"
    }
   ],
   "source": "show_doc(to_device)"
  },
  {
   "cell_type": "markdown",
   "metadata": {},
   "source": "[`to_device`](/torch_core.html#to_device)"
  },
  {
   "cell_type": "code",
   "execution_count": null,
   "metadata": {
    "hide_input": true
   },
   "outputs": [
    {
     "data": {
      "text/markdown": "#### <a id=to_half></a>`to_half`\n(<code>b</code>:<code>Collection</code>[<code>Tensor</code>]) -> <code>Collection</code>[<code>Tensor</code>]<div style=\"text-align: right\"><a href=\"https://github.com/fastai/fastai_pytorch/blob/master/fastai/torch_core.py#L121\">[source]</a></div>\n\n\n[x,y] -> [x.half(),y] (half precision)",
      "text/plain": "<IPython.core.display.Markdown object>"
     },
     "metadata": {},
     "output_type": "display_data"
    }
   ],
   "source": "show_doc(to_half)"
  },
  {
   "cell_type": "markdown",
   "metadata": {},
   "source": "[`to_half`](/torch_core.html#to_half)"
  },
  {
   "cell_type": "code",
   "execution_count": null,
   "metadata": {
    "hide_input": true
   },
   "outputs": [
    {
     "data": {
      "text/markdown": "#### <a id=trainable_params></a>`trainable_params`\n(<code>m</code>:[<code>Module</code>](https://pytorch.org/docs/stable/nn.html#torch.nn.Module)) -> <code>Collection</code>[[<code>Parameter</code>](https://pytorch.org/docs/stable/nn.html#torch.nn.Parameter)]<div style=\"text-align: right\"><a href=\"https://github.com/fastai/fastai_pytorch/blob/master/fastai/torch_core.py#L66\">[source]</a></div>\n\n\nReturn list of trainable params in `m`",
      "text/plain": "<IPython.core.display.Markdown object>"
     },
     "metadata": {},
     "output_type": "display_data"
    }
   ],
   "source": "show_doc(trainable_params)"
  },
  {
   "cell_type": "markdown",
   "metadata": {},
   "source": "[`trainable_params`](/torch_core.html#trainable_params)"
  },
  {
   "cell_type": "markdown",
   "metadata": {},
   "source": "`IntOrTensor = Union[int,Tensor]` <div style=\"text-align: right\"><a href=\"https://github.com/fastai/fastai_pytorch/blob/master/fastai/torch_core.py#L8\">[source]</a></div>"
  }
 ],
 "metadata": {
  "jekyll": {
   "summary": "Utility functions to help deal with tensors",
   "title": "torch_core"
  },
  "kernelspec": {
   "display_name": "Python 3",
   "language": "python",
   "name": "python3"
  }
 },
 "nbformat": 4,
 "nbformat_minor": 2
}
