{
 "cells": [
  {
   "cell_type": "markdown",
   "metadata": {},
   "source": "# tta"
  },
  {
   "cell_type": "markdown",
   "metadata": {},
   "source": "Type an introduction of the package here."
  },
  {
   "cell_type": "code",
   "execution_count": null,
   "metadata": {
    "hide_input": true
   },
   "outputs": [],
   "source": "from fastai.gen_doc.nbdoc import *\nfrom fastai.tta import * "
  },
  {
   "cell_type": "markdown",
   "metadata": {},
   "source": "### Global Variable Definitions:"
  },
  {
   "cell_type": "code",
   "execution_count": null,
   "metadata": {
    "hide_input": true
   },
   "outputs": [
    {
     "data": {
      "text/markdown": "#### <a id=get_preds></a>`get_preds`\n(<code>model</code>:[<code>Module</code>](https://pytorch.org/docs/stable/nn.html#torch.nn.Module), <code>dl</code>:[<code>DataLoader</code>](https://pytorch.org/docs/stable/data.html#torch.utils.data.DataLoader), <code>pbar</code>:<code>None</code>[<code>MasterBar</code>, <code>ProgressBar</code>, <code>NoneType</code>]=`None`) -> <code>List</code>[<code>Tensor</code>]<div style=\"text-align: right\"><a href=\"https://github.com/fastai/fastai_pytorch/blob/master/fastai/tta.py#L13\">[source]</a></div>\n\n\nPredicts the output of the elements in the dataloader",
      "text/plain": "<IPython.core.display.Markdown object>"
     },
     "metadata": {},
     "output_type": "display_data"
    }
   ],
   "source": "show_doc(get_preds)"
  },
  {
   "cell_type": "markdown",
   "metadata": {},
   "source": "[`get_preds`](/tta.html#get_preds)"
  },
  {
   "cell_type": "code",
   "execution_count": null,
   "metadata": {
    "hide_input": true
   },
   "outputs": [
    {
     "data": {
      "text/markdown": "#### <a id=pred_batch></a>`pred_batch`\n(<code>learn</code>:[<code>Learner</code>](fastai.basic_train.html#Learner), <code>is_valid</code>:<code>bool</code>=`True`) -> <code>Tuple</code>[<code>None</code>[<code>Tensor</code>, <code>Collection</code>[<code>str</code>]], <code>None</code>[<code>Tensor</code>, <code>Collection</code>[<code>str</code>]], <code>None</code>[<code>Tensor</code>, <code>Collection</code>[<code>str</code>]]]<div style=\"text-align: right\"><a href=\"https://github.com/fastai/fastai_pytorch/blob/master/fastai/tta.py#L7\">[source]</a></div>\n\n\nReturns input, target and output of the model on a batch",
      "text/plain": "<IPython.core.display.Markdown object>"
     },
     "metadata": {},
     "output_type": "display_data"
    }
   ],
   "source": "show_doc(pred_batch)"
  },
  {
   "cell_type": "markdown",
   "metadata": {},
   "source": "[`pred_batch`](/tta.html#pred_batch)"
  }
 ],
 "metadata": {
  "jekyll": {
   "summary": "Module brings TTA (Test Time Functionality) to the `Learner` class. Use `learner.TTA()` instead",
   "title": "tta"
  },
  "kernelspec": {
   "display_name": "Python 3",
   "language": "python",
   "name": "python3"
  }
 },
 "nbformat": 4,
 "nbformat_minor": 2
}
