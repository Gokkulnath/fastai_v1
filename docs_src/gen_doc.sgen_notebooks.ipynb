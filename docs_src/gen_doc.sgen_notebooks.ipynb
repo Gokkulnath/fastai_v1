{
 "cells": [
  {
   "cell_type": "markdown",
   "metadata": {},
   "source": [
    "# gen_doc.sgen_notebooks"
   ]
  },
  {
   "cell_type": "markdown",
   "metadata": {},
   "source": [
    "Type an introduction of the package here."
   ]
  },
  {
   "cell_type": "code",
   "execution_count": null,
   "metadata": {
    "hide_input": true
   },
   "outputs": [],
   "source": [
    "from fastai.gen_doc.nbdoc import *\n",
    "from fastai.gen_doc.sgen_notebooks import * "
   ]
  },
  {
   "cell_type": "code",
   "execution_count": null,
   "metadata": {
    "hide_input": true
   },
   "outputs": [],
   "source": [
    "show_doc(update_notebooks)"
   ]
  },
  {
   "cell_type": "markdown",
   "metadata": {},
   "source": [
    "[<code>update_notebooks</code>](http://docs.fast.ai/gen_doc.sgen_notebooks.html#update_notebooks)"
   ]
  },
  {
   "cell_type": "markdown",
   "metadata": {},
   "source": [
    "### Updating docs from within notebook:"
   ]
  },
  {
   "cell_type": "markdown",
   "metadata": {},
   "source": [
    "[<code>update_notebooks</code>](http://docs.fast.ai/gen_doc.sgen_notebooks.html#update_notebooks) can be run from the notebook. \n",
    "\n",
    "Default updates all notebooks in the fastai folder:\n",
    "```python\n",
    "update_notebooks()\n",
    "```\n",
    "\n",
    "To update specific python file only + html also:\n",
    "```python\n",
    "update_notebooks('../fastai/gen_doc/nbdoc.py', update_html=True, create_missing=True)\n",
    "```"
   ]
  },
  {
   "cell_type": "markdown",
   "metadata": {},
   "source": [
    "### Updating notebooks from script:"
   ]
  },
  {
   "cell_type": "markdown",
   "metadata": {},
   "source": [
    "[<code>update_notebooks</code>](http://docs.fast.ai/gen_doc.sgen_notebooks.html#update_notebooks) can be run as a script for convenience. \n",
    "\n",
    "Default updates all notebooks in the fastai folder:\n",
    "```bash\n",
    "python fastai/gen_doc/sgen_notebooks.py\n",
    "```\n",
    "Or from the tools folder\n",
    "```bash\n",
    "python tools/sgen_notebooks.py\n",
    "```\n",
    "\n",
    "\n",
    "To update specific python file only and html:\n",
    "```bash\n",
    "python fastai/gen_doc/sgen_notebooks.py fastai/vision/transform.py --update_html=True --create-missing=True\n",
    "```\n",
    "\n",
    "\n",
    "To link docs with no accompanying modules:\n",
    "```bash\n",
    "python tools/sgen_notebooks.py docs_src/index.ipynb --update_html=True --update_nb_links=True\n",
    "```"
   ]
  }
 ],
 "metadata": {
  "jekyll": {
   "summary": "Script to generate notebooks and update html",
   "title": "gen_doc.sgen_notebooks"
  },
  "kernelspec": {
   "display_name": "Python 3",
   "language": "python",
   "name": "python3"
  }
 },
 "nbformat": 4,
 "nbformat_minor": 2
}
