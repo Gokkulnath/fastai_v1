{
 "cells": [
  {
   "cell_type": "markdown",
   "metadata": {},
   "source": "# How to contribute to jupyter notebooks"
  },
  {
   "cell_type": "code",
   "execution_count": null,
   "metadata": {
    "hide_input": true
   },
   "outputs": [],
   "source": "from fastai.gen_doc.nbdoc import *\nfrom fastai.gen_doc import * "
  },
  {
   "cell_type": "markdown",
   "metadata": {},
   "source": "The documentation is built from notebooks in `docs_src/`. Follow the steps below to build documentation. For more information about generating and authoring notebooks, see [<code>fastai.gen_doc.gen_notebooks</code>](http://docs.fast.ai/gen_doc.gen_notebooks.html#fastai.gen_doc.gen_notebooks)."
  },
  {
   "cell_type": "markdown",
   "metadata": {},
   "source": "## Modules"
  },
  {
   "cell_type": "markdown",
   "metadata": {},
   "source": "### [<code>fastai.gen_doc.gen_notebooks</code>](http://docs.fast.ai/gen_doc.gen_notebooks.html#fastai.gen_doc.gen_notebooks)"
  },
  {
   "cell_type": "markdown",
   "metadata": {},
   "source": "Generate and update notebook skeletons automatically from modules. Includes an overview of the whole authoring process."
  },
  {
   "cell_type": "markdown",
   "metadata": {},
   "source": "### [<code>fastai.gen_doc.convert2html</code>](http://docs.fast.ai/gen_doc.convert2html.html#fastai.gen_doc.convert2html)"
  },
  {
   "cell_type": "markdown",
   "metadata": {},
   "source": "Create HTML (jekyll) docs from notebooks."
  },
  {
   "cell_type": "markdown",
   "metadata": {},
   "source": "### [<code>fastai.gen_doc.nbdoc</code>](http://docs.fast.ai/gen_doc.nbdoc.html#fastai.gen_doc.nbdoc)"
  },
  {
   "cell_type": "markdown",
   "metadata": {},
   "source": "Underlying documentation functions; most important is [`show_doc`](/gen_doc.nbdoc.html#show_doc)."
  },
  {
   "cell_type": "markdown",
   "metadata": {},
   "source": "### [<code>fastai.gen_doc.sgen_notebooks</code>](http://docs.fast.ai/gen_doc.sgen_notebooks.html#fastai.gen_doc.sgen_notebooks)"
  },
  {
   "cell_type": "markdown",
   "metadata": {},
   "source": "Script to generate or update documentation using [<code>fastai.gen_doc.gen_notebooks</code>](http://docs.fast.ai/gen_doc.gen_notebooks.html#fastai.gen_doc.gen_notebooks) functions."
  },
  {
   "cell_type": "markdown",
   "metadata": {},
   "source": "## Process for building docs"
  },
  {
   "cell_type": "markdown",
   "metadata": {},
   "source": "### Validate any notebooks you're contributing to"
  },
  {
   "cell_type": "markdown",
   "metadata": {},
   "source": "* When you are done working on a notebook improvement, if you were using a text editor to make  changed, please, make sure to validate that notebook's format, by simply loading it in the jupyter notebook.\n\nAlternatively, you could use a CLI JSON validation tool, e.g. [jsonlint](https://jsonlint.com/):\n\n    jsonlint-php example.ipynb\n\nbut it's second best, since you may have a valid JSON, but invalid notebook format, as the latter has extra requirements on which fields are valid and which are not."
  },
  {
   "cell_type": "markdown",
   "metadata": {},
   "source": "### Things to Run After git clone"
  },
  {
   "cell_type": "markdown",
   "metadata": {},
   "source": "Make sure you follow this recipe:\n\n    git clone https://github.com/fastai/fastai_pytorch\n    cd fastai_pytorch\n    tools/run-after-git-clone\n\nThis will take care of everything that is explained in the following two sections. That is `tools/run-after-git-clone` will execute the scripts that are explained individually below. You still need to know what they do, but you need to execute just one script.\n\nNote: windows users, not using bash emulation, will need to invoke the command as:\n\n    python tools\\run-after-git-clone"
  },
  {
   "cell_type": "markdown",
   "metadata": {},
   "source": "#### after-git-clone #1: a mandatory notebook strip out"
  },
  {
   "cell_type": "markdown",
   "metadata": {},
   "source": "Currently we only store `source` code cells under git (and a few extra fields for documentation notebooks). If you would like to commit or submit a PR, you need to confirm to that standard.\n\nThis is done automatically during `diff`/`commit` git operations, but you need to configure your local repository once to activate that instrumentation.\n\nTherefore, your developing process will always start with:\n\n    tools/trust-origin-git-config\n\nThe last command tells git to invoke configuration stored in `fastai_pytorch/.gitconfig`, so your `git diff` and `git commit` invocations for this particular repository will now go via `tools/fastai-nbstripout` which will do all the work for you.\n\nYou don't need to run it if you run:\n\n    tools/run-after-git-clone\n\nIf you skip this configuration your commit/PR involving notebooks will not be accepted, since it'll carry in it many JSON bits which we don't want in the git repository. Those unwanted bits create collisions and lead to unnecessarily complicated and time wasting merge activities. So please do not skip this step.\n\nNote: we can't make this happen automatically, since git will ignore a repository-stored `.gitconfig` for security reasons, unless a user will tell git to use it (and thus trust it).\n\nIf you'd like to check whether you already trusted git with using `fastai_pytorch/.gitconfig` please look inside `fastai_pytorch/.git/config`, which should have this entry:\n\n    [include]\n            path = ../.gitconfig\n\nor alternatively run:\n\n    tools/trust-origin-git-config -t"
  },
  {
   "cell_type": "markdown",
   "metadata": {},
   "source": "#### after-git-clone #2: automatically updating doc notebooks to be trusted on git pull"
  },
  {
   "cell_type": "markdown",
   "metadata": {},
   "source": "We want the doc notebooks to be already trusted when you load them in `jupyter notebook`, so this script which should be run once upon `git clone`, will install a `git` `post-merge` hook into your local check out.\n\nThe installed hook will be executed by git automatically at the end of `git pull` only if it triggered an actual merge event and that the latter was successful.\n\nTo trust run:\n\n    tools/trust-doc-nbs-install-hook\n\nYou don't need to run it if you run:\n\n    tools/run-after-git-clone\n\nTo distrust run:\n\n    rm .git/hooks/post-merge"
  },
  {
   "cell_type": "code",
   "execution_count": null,
   "metadata": {},
   "outputs": [],
   "source": ""
  }
 ],
 "metadata": {
  "kernelspec": {
   "display_name": "Python 3",
   "language": "python",
   "name": "python3"
  }
 },
 "nbformat": 4,
 "nbformat_minor": 2
}
